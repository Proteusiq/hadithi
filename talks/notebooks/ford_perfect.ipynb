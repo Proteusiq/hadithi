{
 "cells": [
  {
   "attachments": {},
   "cell_type": "markdown",
   "metadata": {},
   "source": [
    "_Sometimes if you receive an answer, the question might be taken away._\n",
    "> - Douglas Adams"
   ]
  },
  {
   "attachments": {},
   "cell_type": "markdown",
   "metadata": {},
   "source": [
    "# EDA\n",
    "```sh\n",
    "requirements.txt\n",
    "    plotly\n",
    "    statsmodel\n",
    "```"
   ]
  },
  {
   "cell_type": "code",
   "execution_count": 1,
   "metadata": {},
   "outputs": [],
   "source": [
    "import pandas as pd"
   ]
  },
  {
   "cell_type": "code",
   "execution_count": null,
   "metadata": {},
   "outputs": [],
   "source": [
    "pd.options.plotting.backend = \"plotly\"\n",
    "# Not knowing about education\n",
    "\n",
    "\n",
    "dataf = pd.read_csv(\"simpsons_paradox.csv\", \n",
    "                    usecols=[\"Salary\", \"Neuroticism\"])\n",
    "dataf.sample(5)\n",
    "\n",
    "# Neuroticism:  tendency toward anxiety, depression, self-doubt, and other negative feelings."
   ]
  },
  {
   "cell_type": "code",
   "execution_count": null,
   "metadata": {},
   "outputs": [],
   "source": [
    "(dataf\n",
    "  .sample(800, random_state=42)\n",
    "  .plot(kind=\"scatter\", x=\"Salary\", y=\"Neuroticism\",\n",
    "        title=\"Simpsons Paradox\",)\n",
    ")"
   ]
  },
  {
   "cell_type": "code",
   "execution_count": null,
   "metadata": {},
   "outputs": [],
   "source": [
    "(dataf\n",
    "  .sample(1200, random_state=42)\n",
    "  .plot(kind=\"scatter\", x=\"Salary\", y=\"Neuroticism\",\n",
    "        title=\"Simpsons Paradox\",\n",
    "        trendline=\"ols\",\n",
    "        )\n",
    ")"
   ]
  },
  {
   "cell_type": "code",
   "execution_count": null,
   "metadata": {},
   "outputs": [],
   "source": [
    "dataf = pd.read_csv(\"simpsons_paradox.csv\", \n",
    "                    usecols=[\"Salary\", \"Neuroticism\", \"Education\"])\n",
    "dataf.sample(5, random_state=42)"
   ]
  },
  {
   "cell_type": "code",
   "execution_count": null,
   "metadata": {},
   "outputs": [],
   "source": [
    "(dataf\n",
    "  .sample(1200, random_state=42)\n",
    "  .plot(kind=\"scatter\", x=\"Salary\", y=\"Neuroticism\",\n",
    "        title=\"Simpsons Paradox\",\n",
    "        color=\"Education\",\n",
    "        trendline=\"ols\",\n",
    "        trendline_scope=\"overall\", \n",
    "        trendline_color_override=\"blue\",\n",
    "        )\n",
    ")"
   ]
  },
  {
   "cell_type": "code",
   "execution_count": null,
   "metadata": {},
   "outputs": [],
   "source": [
    "(dataf\n",
    "  .sample(1200, random_state=42)\n",
    "  .plot(kind=\"scatter\", x=\"Salary\", y=\"Neuroticism\",\n",
    "        title=\"Simpsons Paradox\",\n",
    "        color=\"Education\",\n",
    "        trendline=\"ols\",\n",
    "        )\n",
    ")"
   ]
  },
  {
   "attachments": {},
   "cell_type": "markdown",
   "metadata": {},
   "source": [
    "Models:\n",
    "    Regression (Frequentist) + Bayesian (Probabilistic) \n",
    "    \n",
    "Metrics:\n",
    "    Mean Absolute Error\n",
    "    Mean Squared Error\n",
    "__\n",
    "    Classification Accuracy\n",
    "    Logarithmic Loss\n",
    "    Confusion Matrix\n",
    "    Area under Curve\n",
    "    F1 Score"
   ]
  },
  {
   "attachments": {},
   "cell_type": "markdown",
   "metadata": {},
   "source": [
    "Further:\n",
    "\n",
    "- [Plotly + Modelling](https://plotly.com/python/linear-fits/)\n",
    "- [Simpsons Paradox](https://plato.stanford.edu/entries/paradox-simpson/) "
   ]
  }
 ],
 "metadata": {
  "kernelspec": {
   "display_name": "eda",
   "language": "python",
   "name": "eda"
  },
  "language_info": {
   "codemirror_mode": {
    "name": "ipython",
    "version": 3
   },
   "file_extension": ".py",
   "mimetype": "text/x-python",
   "name": "python",
   "nbconvert_exporter": "python",
   "pygments_lexer": "ipython3",
   "version": "3.10.6"
  },
  "orig_nbformat": 4
 },
 "nbformat": 4,
 "nbformat_minor": 2
}
