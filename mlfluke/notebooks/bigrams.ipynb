{
 "cells": [
  {
   "cell_type": "code",
   "execution_count": 1,
   "id": "1e7a6a64-425b-48a6-91cf-fa5fbea35080",
   "metadata": {},
   "outputs": [],
   "source": [
    "from collections import Counter\n",
    "from more_itertools import windowed, replace, value_chain"
   ]
  },
  {
   "cell_type": "code",
   "execution_count": 2,
   "id": "16fbbff9-cfb0-468c-8b45-7b3c6912c58d",
   "metadata": {},
   "outputs": [
    {
     "data": {
      "text/plain": [
       "[['this', 'is', 'new', 'york', 'baby', 'again!'],\n",
       " ['new', 'york', 'and', 'baby', 'again!']]"
      ]
     },
     "execution_count": 2,
     "metadata": {},
     "output_type": "execute_result"
    }
   ],
   "source": [
    "sentences = [\"this is new york baby again!\".split(), \n",
    "             \"new york and baby again!\".split()]\n",
    "sentences"
   ]
  },
  {
   "cell_type": "code",
   "execution_count": 3,
   "id": "715b8ce6-f2ab-4562-85ed-76ca4e166071",
   "metadata": {},
   "outputs": [],
   "source": [
    "threshold = 2\n",
    "window_size = 2"
   ]
  },
  {
   "cell_type": "code",
   "execution_count": 4,
   "id": "ddbae273-63ea-430e-b0c1-4f9c09a77916",
   "metadata": {},
   "outputs": [
    {
     "data": {
      "text/plain": [
       "[('new_york', 2),\n",
       " ('baby_again!', 2),\n",
       " ('this_is', 1),\n",
       " ('is_new', 1),\n",
       " ('york_baby', 1),\n",
       " ('again!_new', 1),\n",
       " ('york_and', 1),\n",
       " ('and_baby', 1)]"
      ]
     },
     "execution_count": 4,
     "metadata": {},
     "output_type": "execute_result"
    }
   ],
   "source": [
    "count = Counter('_'.join(t) for t in windowed(value_chain(*sentences), window_size))\n",
    "count.most_common()"
   ]
  },
  {
   "cell_type": "code",
   "execution_count": 10,
   "id": "6eb8e84b-eea5-461e-bde0-ca6711bf0cc1",
   "metadata": {},
   "outputs": [
    {
     "data": {
      "text/plain": [
       "{('new', 'york'): 'new_york', ('baby', 'again!'): 'baby_again!'}"
      ]
     },
     "execution_count": 10,
     "metadata": {},
     "output_type": "execute_result"
    }
   ],
   "source": [
    "# our model\n",
    "bigrams = (t for t, c in count.most_common() if c >= threshold)\n",
    "bigrams_mapper = {tuple(t.split(\"_\")):t for t in bigrams}\n",
    "bigrams_mapper"
   ]
  },
  {
   "cell_type": "code",
   "execution_count": 17,
   "id": "f8c982d0-a556-41df-b0ef-f4e17459d255",
   "metadata": {},
   "outputs": [],
   "source": [
    "# our predict function\n",
    "def replacer(sentence):\n",
    "    # smart replacer\n",
    "    # place for improvement\n",
    "    \n",
    "    for key, value in bigrams_mapper.items():\n",
    "        pred = lambda *args: args == key  \n",
    "        substitutes = [value]\n",
    "        \n",
    "        sentence = [t for t in replace(sentence, pred, substitutes, window_size=window_size)]\n",
    "    return sentence"
   ]
  },
  {
   "cell_type": "code",
   "execution_count": 18,
   "id": "c7f41b67-f6bb-4224-a89e-2d40496fca68",
   "metadata": {},
   "outputs": [],
   "source": [
    "new_sentences = map(replacer, sentences)"
   ]
  },
  {
   "cell_type": "code",
   "execution_count": 19,
   "id": "85e19288-11c2-4cbe-aaed-791de42537cb",
   "metadata": {},
   "outputs": [
    {
     "data": {
      "text/plain": [
       "[['this', 'is', 'new_york', 'baby_again!'], ['new_york', 'and', 'baby_again!']]"
      ]
     },
     "execution_count": 19,
     "metadata": {},
     "output_type": "execute_result"
    }
   ],
   "source": [
    "[s for s in new_sentences]"
   ]
  },
  {
   "cell_type": "code",
   "execution_count": null,
   "id": "7f3d0e10-a81f-4f31-9857-a77bd527fe70",
   "metadata": {},
   "outputs": [],
   "source": []
  }
 ],
 "metadata": {
  "kernelspec": {
   "display_name": "eda",
   "language": "python",
   "name": "eda"
  },
  "language_info": {
   "codemirror_mode": {
    "name": "ipython",
    "version": 3
   },
   "file_extension": ".py",
   "mimetype": "text/x-python",
   "name": "python",
   "nbconvert_exporter": "python",
   "pygments_lexer": "ipython3",
   "version": "3.10.6"
  }
 },
 "nbformat": 4,
 "nbformat_minor": 5
}
