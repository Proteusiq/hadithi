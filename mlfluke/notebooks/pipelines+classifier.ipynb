{
 "cells": [
  {
   "cell_type": "markdown",
   "metadata": {},
   "source": [
    "# Role of Features in ML Flukes"
   ]
  },
  {
   "cell_type": "code",
   "execution_count": 15,
   "metadata": {},
   "outputs": [
    {
     "name": "stdout",
     "output_type": "stream",
     "text": [
      "Author: Prayson W. Daniel\n",
      "\n",
      "Last updated: 2022-03-21T15:20:40.759393+01:00\n",
      "\n",
      "Python implementation: CPython\n",
      "Python version       : 3.8.12\n",
      "IPython version      : 8.0.1\n",
      "\n",
      "pandas      : 1.4.0\n",
      "numpy       : 1.22.2\n",
      "matplotlib  : 3.5.1\n",
      "scikit-learn: 1.0.2\n",
      "transformers: not installed\n",
      "plotly      : 5.6.0\n",
      "jinja2      : not installed\n",
      "\n",
      "Compiler    : GCC 9.3.0\n",
      "OS          : Linux\n",
      "Release     : 5.10.16.3-microsoft-standard-WSL2\n",
      "Machine     : x86_64\n",
      "Processor   : x86_64\n",
      "CPU cores   : 12\n",
      "Architecture: 64bit\n",
      "\n"
     ]
    }
   ],
   "source": [
    "%reload_ext watermark\n",
    "%watermark -uniz --author \"Prayson W. Daniel\" -vm -p pandas,numpy,matplotlib,scikit-learn,transformers,plotly,jinja2"
   ]
  },
  {
   "cell_type": "code",
   "execution_count": 3,
   "metadata": {
    "tags": []
   },
   "outputs": [],
   "source": [
    "class color:\n",
    "    PURPLE = '\\033[95m'\n",
    "    CYAN = '\\033[96m'\n",
    "    DARKCYAN = '\\033[36m'\n",
    "    BLUE = '\\033[94m'\n",
    "    GREEN = '\\033[92m'\n",
    "    YELLOW = '\\033[93m'\n",
    "    RED = '\\033[91m'\n",
    "    BOLD = '\\033[1m'\n",
    "    UNDERLINE = '\\033[4m'\n",
    "    END = '\\033[0m'"
   ]
  },
  {
   "cell_type": "code",
   "execution_count": 4,
   "metadata": {},
   "outputs": [],
   "source": [
    "import numpy as np\n",
    "import pandas as pd"
   ]
  },
  {
   "cell_type": "code",
   "execution_count": 11,
   "metadata": {},
   "outputs": [],
   "source": [
    "pd.options.plotting.backend = \"plotly\"\n",
    "DATA_URI = \"https://raw.githubusercontent.com/AlessandroGianfelici/danish_reviews_dataset/master/raw_data.txt\""
   ]
  },
  {
   "cell_type": "code",
   "execution_count": 12,
   "metadata": {},
   "outputs": [
    {
     "data": {
      "text/html": [
       "<div>\n",
       "<style scoped>\n",
       "    .dataframe tbody tr th:only-of-type {\n",
       "        vertical-align: middle;\n",
       "    }\n",
       "\n",
       "    .dataframe tbody tr th {\n",
       "        vertical-align: top;\n",
       "    }\n",
       "\n",
       "    .dataframe thead th {\n",
       "        text-align: right;\n",
       "    }\n",
       "</style>\n",
       "<table border=\"1\" class=\"dataframe\">\n",
       "  <thead>\n",
       "    <tr style=\"text-align: right;\">\n",
       "      <th></th>\n",
       "      <th>review_text</th>\n",
       "      <th>review_stars</th>\n",
       "    </tr>\n",
       "  </thead>\n",
       "  <tbody>\n",
       "    <tr>\n",
       "      <th>8274</th>\n",
       "      <td>Lyn hurtigt, effektivt og flot resultat</td>\n",
       "      <td>5</td>\n",
       "    </tr>\n",
       "    <tr>\n",
       "      <th>31870</th>\n",
       "      <td>Selv brændt plastikhår er bedre kvalitet end deres \"ægte luksus remy extensions\".\\n\\nJeg skriver for at brokke mig, da jeg har været extensions bruger igennem 8 år &amp; kun 1 gang før har oplevet så dårlig kvalitet som denne. Forrige leverandør jeg modtog sending fra beklagede selvfølgelig meget &amp; sendte en ny sending uden beregning, som var langt bedre. \\n\\nMEN PHURE DERIMOD begynder at skyde skylden på mig, hvordan jeg behandler håret mv. Når jeg pænt forklarer at jeg altså er uddannet frisør, selv har påsat extensions i min frisørsalon &amp; været extensions bruger igennem 8 år &amp; derfor godt ved hvordan man bør passe &amp; pleje extensions, stopper de så med at svare.\\n\\nJeg kunne inden steder i mine mails finde et ordrenummer jeg kunne referere til heller. Jeg sidder nu med en stor gang plastikkrus, som jeg har betalt 1.200 Kr. for &amp; som jeg hver dag skal bruge oceaner af tid på, for at det kan se nogenlunde anstændigt ud. \\n\\nVirkelig dårlig service!</td>\n",
       "      <td>1</td>\n",
       "    </tr>\n",
       "    <tr>\n",
       "      <th>16862</th>\n",
       "      <td>Fremragende.</td>\n",
       "      <td>5</td>\n",
       "    </tr>\n",
       "  </tbody>\n",
       "</table>\n",
       "</div>"
      ],
      "text/plain": [
       "                                                                                                                                                                                                                                                                                                                                                                                                                                                                                                                                                                                                                                                                                                                                                                                                                                                                                                                                                                                          review_text  \\\n",
       "8274                                                                                                                                                                                                                                                                                                                                                                                                                                                                                                                                                                                                                                                                                                                                                                                                                                                                                                                                                          Lyn hurtigt, effektivt og flot resultat   \n",
       "31870  Selv brændt plastikhår er bedre kvalitet end deres \"ægte luksus remy extensions\".\\n\\nJeg skriver for at brokke mig, da jeg har været extensions bruger igennem 8 år & kun 1 gang før har oplevet så dårlig kvalitet som denne. Forrige leverandør jeg modtog sending fra beklagede selvfølgelig meget & sendte en ny sending uden beregning, som var langt bedre. \\n\\nMEN PHURE DERIMOD begynder at skyde skylden på mig, hvordan jeg behandler håret mv. Når jeg pænt forklarer at jeg altså er uddannet frisør, selv har påsat extensions i min frisørsalon & været extensions bruger igennem 8 år & derfor godt ved hvordan man bør passe & pleje extensions, stopper de så med at svare.\\n\\nJeg kunne inden steder i mine mails finde et ordrenummer jeg kunne referere til heller. Jeg sidder nu med en stor gang plastikkrus, som jeg har betalt 1.200 Kr. for & som jeg hver dag skal bruge oceaner af tid på, for at det kan se nogenlunde anstændigt ud. \\n\\nVirkelig dårlig service!   \n",
       "16862                                                                                                                                                                                                                                                                                                                                                                                                                                                                                                                                                                                                                                                                                                                                                                                                                                                                                                                                                                                    Fremragende.   \n",
       "\n",
       "       review_stars  \n",
       "8274              5  \n",
       "31870             1  \n",
       "16862             5  "
      ]
     },
     "metadata": {},
     "output_type": "display_data"
    }
   ],
   "source": [
    "dataf = pd.read_csv(DATA_URI, usecols=[\"review_text\", \"review_stars\"])\n",
    "\n",
    "with pd.option_context('display.max_colwidth', None):\n",
    "  display(dataf.sample(3, random_state=666))\n"
   ]
  },
  {
   "cell_type": "code",
   "execution_count": 33,
   "metadata": {},
   "outputs": [
    {
     "data": {
      "text/plain": [
       "{'selector': 'caption',\n",
       " 'props': [('text-align', 'center'),\n",
       "  ('font-size', '120%'),\n",
       "  ('color', 'black')]}"
      ]
     },
     "execution_count": 33,
     "metadata": {},
     "output_type": "execute_result"
    }
   ],
   "source": [
    "dict(selector=\"caption\", \n",
    "    props=[(\"text-align\", \"center\"),\n",
    "    (\"font-size\", \"120%\"),\n",
    "    (\"color\", 'black')])"
   ]
  },
  {
   "cell_type": "code",
   "execution_count": 63,
   "metadata": {},
   "outputs": [],
   "source": [
    "def make_pretty(styler):\n",
    "    styler.set_caption(\"Positivity of Danish Reviewers\")\n",
    "    styler.background_gradient(axis=None, vmin=100, vmax=30000, cmap=\"YlGnBu\")\n",
    "    styler.set_table_styles([\n",
    "            {'selector': 'th.col_heading', 'props': 'text-align: center;'},\n",
    "            {'selector': 'th.col_heading.level0', 'props': 'font-size: 1.5em;'},\n",
    "            {'selector': 'td', 'props': 'text-align: center; font-weight: bold;'},\n",
    "            {'selector': 'caption',\n",
    "             'props': 'caption-side: bottom; font-size:0.95em;'},\n",
    "            ], overwrite=False)\n",
    "    \n",
    "    return styler"
   ]
  },
  {
   "cell_type": "code",
   "execution_count": 64,
   "metadata": {},
   "outputs": [
    {
     "data": {
      "text/html": [
       "<style type=\"text/css\">\n",
       "#T_2f003 th.col_heading {\n",
       "  text-align: center;\n",
       "}\n",
       "#T_2f003 th.col_heading.level0 {\n",
       "  font-size: 1.5em;\n",
       "}\n",
       "#T_2f003 td {\n",
       "  text-align: center;\n",
       "  font-weight: bold;\n",
       "}\n",
       "#T_2f003 caption {\n",
       "  caption-side: bottom;\n",
       "  font-size: 0.95em;\n",
       "}\n",
       "#T_2f003_row0_col0 {\n",
       "  background-color: #172978;\n",
       "  color: #f1f1f1;\n",
       "}\n",
       "#T_2f003_row1_col0 {\n",
       "  background-color: #b7e3b6;\n",
       "  color: #000000;\n",
       "}\n",
       "#T_2f003_row2_col0 {\n",
       "  background-color: #f0f9b8;\n",
       "  color: #000000;\n",
       "}\n",
       "#T_2f003_row3_col0 {\n",
       "  background-color: #f9fdcb;\n",
       "  color: #000000;\n",
       "}\n",
       "#T_2f003_row4_col0 {\n",
       "  background-color: #fafdce;\n",
       "  color: #000000;\n",
       "}\n",
       "</style>\n",
       "<table id=\"T_2f003\">\n",
       "  <caption>Positivity of Danish Reviewers</caption>\n",
       "  <thead>\n",
       "    <tr>\n",
       "      <th class=\"blank level0\" >&nbsp;</th>\n",
       "      <th id=\"T_2f003_level0_col0\" class=\"col_heading level0 col0\" >Reviews Count</th>\n",
       "    </tr>\n",
       "    <tr>\n",
       "      <th class=\"index_name level0\" >review_stars</th>\n",
       "      <th class=\"blank col0\" >&nbsp;</th>\n",
       "    </tr>\n",
       "  </thead>\n",
       "  <tbody>\n",
       "    <tr>\n",
       "      <th id=\"T_2f003_level0_row0\" class=\"row_heading level0 row0\" >5</th>\n",
       "      <td id=\"T_2f003_row0_col0\" class=\"data row0 col0\" >27945</td>\n",
       "    </tr>\n",
       "    <tr>\n",
       "      <th id=\"T_2f003_level0_row1\" class=\"row_heading level0 row1\" >1</th>\n",
       "      <td id=\"T_2f003_row1_col0\" class=\"data row1 col0\" >8437</td>\n",
       "    </tr>\n",
       "    <tr>\n",
       "      <th id=\"T_2f003_level0_row2\" class=\"row_heading level0 row2\" >4</th>\n",
       "      <td id=\"T_2f003_row2_col0\" class=\"data row2 col0\" >3170</td>\n",
       "    </tr>\n",
       "    <tr>\n",
       "      <th id=\"T_2f003_level0_row3\" class=\"row_heading level0 row3\" >2</th>\n",
       "      <td id=\"T_2f003_row3_col0\" class=\"data row3 col0\" >1428</td>\n",
       "    </tr>\n",
       "    <tr>\n",
       "      <th id=\"T_2f003_level0_row4\" class=\"row_heading level0 row4\" >3</th>\n",
       "      <td id=\"T_2f003_row4_col0\" class=\"data row4 col0\" >1172</td>\n",
       "    </tr>\n",
       "  </tbody>\n",
       "</table>\n"
      ],
      "text/plain": [
       "<pandas.io.formats.style.Styler at 0x7fb3219a9f10>"
      ]
     },
     "execution_count": 64,
     "metadata": {},
     "output_type": "execute_result"
    }
   ],
   "source": [
    "(\n",
    "    dataf\n",
    "     .groupby(by=[\"review_stars\"])\n",
    "     .nunique()\n",
    "     .sort_values(by=\"review_text\", ascending=False)\n",
    "     .rename(columns={\"review_text\": \"Reviews Count\"})\n",
    "     .style.pipe(make_pretty)\n",
    ")"
   ]
  },
  {
   "cell_type": "code",
   "execution_count": 111,
   "metadata": {},
   "outputs": [
    {
     "data": {
      "text/html": [
       "<style type=\"text/css\">\n",
       "#T_adb40_row0_col1, #T_adb40_row1_col1, #T_adb40_row3_col1, #T_adb40_row5_col1, #T_adb40_row6_col1, #T_adb40_row7_col1, #T_adb40_row8_col1, #T_adb40_row9_col1 {\n",
       "  background-color: green;\n",
       "  opacity: 0.7;\n",
       "  font-weight: bold;\n",
       "}\n",
       "#T_adb40_row2_col1, #T_adb40_row4_col1 {\n",
       "  background-color: darkred;\n",
       "  opacity: 0.7;\n",
       "  font-weight: bold;\n",
       "}\n",
       "</style>\n",
       "<table id=\"T_adb40\">\n",
       "  <caption>Positive | Negative</caption>\n",
       "  <thead>\n",
       "    <tr>\n",
       "      <th class=\"blank level0\" >&nbsp;</th>\n",
       "      <th id=\"T_adb40_level0_col0\" class=\"col_heading level0 col0\" >review_text</th>\n",
       "      <th id=\"T_adb40_level0_col1\" class=\"col_heading level0 col1\" >review_stars</th>\n",
       "      <th id=\"T_adb40_level0_col2\" class=\"col_heading level0 col2\" >sentiment</th>\n",
       "    </tr>\n",
       "  </thead>\n",
       "  <tbody>\n",
       "    <tr>\n",
       "      <th id=\"T_adb40_level0_row0\" class=\"row_heading level0 row0\" >19150</th>\n",
       "      <td id=\"T_adb40_row0_col0\" class=\"data row0 col0\" >Dejligt man kan købe den rigtig størrelse når nu ikke de kan købes i butikkerne. \n",
       "Ordrenr. 246172 (Mht gratis kondomer. Så send kun hvis det er samme størrelse som ordre. Ellers er det spild og vil skade miljøet med transport osv mere end de vil gøre gavn)</td>\n",
       "      <td id=\"T_adb40_row0_col1\" class=\"data row0 col1\" >5</td>\n",
       "      <td id=\"T_adb40_row0_col2\" class=\"data row0 col2\" >1</td>\n",
       "    </tr>\n",
       "    <tr>\n",
       "      <th id=\"T_adb40_level0_row1\" class=\"row_heading level0 row1\" >6194</th>\n",
       "      <td id=\"T_adb40_row1_col0\" class=\"data row1 col0\" >nem hjemmeside, gode priser og hurtig levering</td>\n",
       "      <td id=\"T_adb40_row1_col1\" class=\"data row1 col1\" >5</td>\n",
       "      <td id=\"T_adb40_row1_col2\" class=\"data row1 col2\" >1</td>\n",
       "    </tr>\n",
       "    <tr>\n",
       "      <th id=\"T_adb40_level0_row2\" class=\"row_heading level0 row2\" >35684</th>\n",
       "      <td id=\"T_adb40_row2_col0\" class=\"data row2 col0\" >Har købt nærmest alt indenfor Bitz, da vi synes det er et enormt smukt stel. Men nu var vi oplevet at vores ildfaste fad flækkede efter ovn, altså alm. 200 grader. Fadet flækkede midt over. Burde ikke ske, når det er robust og ildfast. Nu er endnu 2 frokosttallekener også flækket og vi gider simpelthen ikke at købe mere, når det blot flækker af enten ovn eller opvaskemaskine. Super ærgerligt! Men vil absolut ikke anbefale nogen at købe Bitz.</td>\n",
       "      <td id=\"T_adb40_row2_col1\" class=\"data row2 col1\" >1</td>\n",
       "      <td id=\"T_adb40_row2_col2\" class=\"data row2 col2\" >0</td>\n",
       "    </tr>\n",
       "    <tr>\n",
       "      <th id=\"T_adb40_level0_row3\" class=\"row_heading level0 row3\" >27361</th>\n",
       "      <td id=\"T_adb40_row3_col0\" class=\"data row3 col0\" >Det var lige i skabet uden problemer. Super service.</td>\n",
       "      <td id=\"T_adb40_row3_col1\" class=\"data row3 col1\" >5</td>\n",
       "      <td id=\"T_adb40_row3_col2\" class=\"data row3 col2\" >1</td>\n",
       "    </tr>\n",
       "    <tr>\n",
       "      <th id=\"T_adb40_level0_row4\" class=\"row_heading level0 row4\" >35906</th>\n",
       "      <td id=\"T_adb40_row4_col0\" class=\"data row4 col0\" >På forsiden af ugens reklame kunne man se at der var tilbud på et 40\" Philips TV \" Spar 1000 kr\"  \" Max 1 pr. kunde \"\r\n",
       "I butikken har det fået en anden lyd- nu er besparelsen 300 kr - og ingen begrænsning .\r\n",
       "Nå, vi fandt et LG 47 tommer til 3899,- . Heldigvis checkede vi Elgigantens hjemmeside . Her kan man få det samme tv for 3500 ,- frit leveret .\r\n",
       "\r\n",
       "Vi skulle også kigge på nogle baderumsmøbler .\r\n",
       "Store plakater med \" 50% rabat på alle baderumsmiljøer \"\r\n",
       "Ingen af de udstillede modeller var prismærkede , men udstyret med et skilt om at de kun kunne købes på bolkas hjemmeside .\r\n",
       "Problemet var så at hjemmesiden meddelte at den ikke fungerede pga. opdatering - og man kunne hverken se eller købe baderumsmøbler .\r\n",
       "\r\n",
       "På de betingelser kunne de lige så godt slge med 100% rabat .\r\n",
       "\r\n",
       "Desværre har vi haft lignende oplevelser med BIlka tidligere - så besøgene er blevet færre med årene . Nu holder de så helt op !!!</td>\n",
       "      <td id=\"T_adb40_row4_col1\" class=\"data row4 col1\" >2</td>\n",
       "      <td id=\"T_adb40_row4_col2\" class=\"data row4 col2\" >0</td>\n",
       "    </tr>\n",
       "    <tr>\n",
       "      <th id=\"T_adb40_level0_row5\" class=\"row_heading level0 row5\" >21593</th>\n",
       "      <td id=\"T_adb40_row5_col0\" class=\"data row5 col0\" >cpsms.dk leverer virkelig varen til en rigtig god pris. Jeg benyttede også deres kundeservice, hvor der var venlig hjælp og resolut svar på mit spørgsmål.\r\n",
       "Kan uden forbehold anbefale cpsms.dk.</td>\n",
       "      <td id=\"T_adb40_row5_col1\" class=\"data row5 col1\" >5</td>\n",
       "      <td id=\"T_adb40_row5_col2\" class=\"data row5 col2\" >1</td>\n",
       "    </tr>\n",
       "    <tr>\n",
       "      <th id=\"T_adb40_level0_row6\" class=\"row_heading level0 row6\" >26842</th>\n",
       "      <td id=\"T_adb40_row6_col0\" class=\"data row6 col0\" >Det let at bestille og det hele godkendt inden et døgn om så det var søndag</td>\n",
       "      <td id=\"T_adb40_row6_col1\" class=\"data row6 col1\" >5</td>\n",
       "      <td id=\"T_adb40_row6_col2\" class=\"data row6 col2\" >1</td>\n",
       "    </tr>\n",
       "    <tr>\n",
       "      <th id=\"T_adb40_level0_row7\" class=\"row_heading level0 row7\" >14782</th>\n",
       "      <td id=\"T_adb40_row7_col0\" class=\"data row7 col0\" >Super service og en rigtig god snak</td>\n",
       "      <td id=\"T_adb40_row7_col1\" class=\"data row7 col1\" >5</td>\n",
       "      <td id=\"T_adb40_row7_col2\" class=\"data row7 col2\" >1</td>\n",
       "    </tr>\n",
       "    <tr>\n",
       "      <th id=\"T_adb40_level0_row8\" class=\"row_heading level0 row8\" >11878</th>\n",
       "      <td id=\"T_adb40_row8_col0\" class=\"data row8 col0\" >God service og hurtig levering,  jeg er fuldtilfreds.</td>\n",
       "      <td id=\"T_adb40_row8_col1\" class=\"data row8 col1\" >5</td>\n",
       "      <td id=\"T_adb40_row8_col2\" class=\"data row8 col2\" >1</td>\n",
       "    </tr>\n",
       "    <tr>\n",
       "      <th id=\"T_adb40_level0_row9\" class=\"row_heading level0 row9\" >6237</th>\n",
       "      <td id=\"T_adb40_row9_col0\" class=\"data row9 col0\" >Top glasses fast delivery</td>\n",
       "      <td id=\"T_adb40_row9_col1\" class=\"data row9 col1\" >5</td>\n",
       "      <td id=\"T_adb40_row9_col2\" class=\"data row9 col2\" >1</td>\n",
       "    </tr>\n",
       "  </tbody>\n",
       "</table>\n"
      ],
      "text/plain": [
       "<pandas.io.formats.style.Styler at 0x7fb31ee53f10>"
      ]
     },
     "execution_count": 111,
     "metadata": {},
     "output_type": "execute_result"
    }
   ],
   "source": [
    "def highlight_colors(data, color, other_color=None):\n",
    "    if other_color:\n",
    "        other_color = f\"background-color: {other_color}; opacity: 0.7; font-weight: bold;\"\n",
    "        \n",
    "    return np.where(data > 3, \n",
    "                    f\"background-color: {color}; opacity: 0.7; font-weight: bold;\" ,\n",
    "                    other_color)\n",
    "\n",
    "\n",
    "def sentiment_pretty(styler):\n",
    "    styler.set_caption(\"Positive | Negative\")\n",
    "    styler.apply(highlight_colors, \n",
    "                 color=\"green\", \n",
    "                 other_color=\"darkred\",\n",
    "                 subset=[\"review_stars\",])\n",
    "\n",
    "    return styler\n",
    "\n",
    "\n",
    "\n",
    "\n",
    "(\n",
    "    dataf\n",
    "     .assign(sentiment = np.where(dataf[\"review_stars\"].gt(3), 1, 0))\n",
    "     .sample(10, random_state=42)\n",
    "     .style.pipe(sentiment_pretty)\n",
    ")"
   ]
  },
  {
   "cell_type": "code",
   "execution_count": 112,
   "metadata": {},
   "outputs": [],
   "source": [
    "datat = (\n",
    "            dataf\n",
    "             .assign(sentiment = np.where(dataf[\"review_stars\"].gt(3), 1, 0))\n",
    "             # .sample(10, random_state=42)\n",
    "    )"
   ]
  },
  {
   "cell_type": "code",
   "execution_count": 113,
   "metadata": {},
   "outputs": [
    {
     "data": {
      "text/plain": [
       "Int64Index([19150,  6194, 35684, 27361, 35906, 21593, 26842, 14782, 11878,\n",
       "             6237,  6366,  3933, 29534, 18636, 37134, 24775, 37485, 40922,\n",
       "             7175, 41691, 27394, 43722, 41440,  9060, 33017, 37800,  6234,\n",
       "            33131,  6244, 31033, 18094, 18491,   343, 11029, 33301, 19858,\n",
       "             8541, 33348, 38990, 43832,   884,  2189, 33357, 42644, 11260,\n",
       "            39990, 32610,  2746, 35265, 23420, 17792,   116, 13267, 42476,\n",
       "            33393, 23068, 33157, 14600, 42026, 13956, 27984, 18578, 21954,\n",
       "            12824, 11601, 24128, 31151, 22795, 37287, 14831, 32553, 15220,\n",
       "            39947, 38222,  5525, 43567, 36585, 29395, 20196, 34174, 16504,\n",
       "            12006, 23679,  4165,  4859,  3858, 19227, 32277, 23076, 26084,\n",
       "             1673,  9162, 25704, 43924, 30777, 30827, 40119, 18237, 41948,\n",
       "            17649],\n",
       "           dtype='int64')"
      ]
     },
     "execution_count": 113,
     "metadata": {},
     "output_type": "execute_result"
    }
   ],
   "source": [
    "RANDOM_STATE = 42\n",
    "(datat\n",
    "     .assign(sentiment = np.where(dataf[\"review_stars\"].gt(3), 1, 0))\n",
    "     .sample(100, random_state=RANDOM_STATE)\n",
    "     .index\n",
    ")"
   ]
  },
  {
   "cell_type": "code",
   "execution_count": 114,
   "metadata": {},
   "outputs": [],
   "source": [
    "test_data_index = (datat\n",
    "     .sample(100, random_state=RANDOM_STATE)\n",
    "     .index\n",
    ")"
   ]
  },
  {
   "cell_type": "code",
   "execution_count": 115,
   "metadata": {},
   "outputs": [],
   "source": [
    "validation_data = datat.loc[test_data_index]"
   ]
  },
  {
   "cell_type": "code",
   "execution_count": 116,
   "metadata": {},
   "outputs": [
    {
     "data": {
      "text/html": [
       "<div>\n",
       "<style scoped>\n",
       "    .dataframe tbody tr th:only-of-type {\n",
       "        vertical-align: middle;\n",
       "    }\n",
       "\n",
       "    .dataframe tbody tr th {\n",
       "        vertical-align: top;\n",
       "    }\n",
       "\n",
       "    .dataframe thead th {\n",
       "        text-align: right;\n",
       "    }\n",
       "</style>\n",
       "<table border=\"1\" class=\"dataframe\">\n",
       "  <thead>\n",
       "    <tr style=\"text-align: right;\">\n",
       "      <th></th>\n",
       "      <th>review_text</th>\n",
       "      <th>review_stars</th>\n",
       "      <th>sentiment</th>\n",
       "    </tr>\n",
       "  </thead>\n",
       "  <tbody>\n",
       "    <tr>\n",
       "      <th>10708</th>\n",
       "      <td>3. gang jeg leaser hos BMC. Intet negativt at ...</td>\n",
       "      <td>5</td>\n",
       "      <td>1</td>\n",
       "    </tr>\n",
       "    <tr>\n",
       "      <th>8164</th>\n",
       "      <td>Har ringet til jer 5 gange INDE i telefon tide...</td>\n",
       "      <td>4</td>\n",
       "      <td>1</td>\n",
       "    </tr>\n",
       "    <tr>\n",
       "      <th>19599</th>\n",
       "      <td>Vi har aldrig problemer med noget af det YouSe...</td>\n",
       "      <td>5</td>\n",
       "      <td>1</td>\n",
       "    </tr>\n",
       "    <tr>\n",
       "      <th>2533</th>\n",
       "      <td>Fuldt ud tilfreds!\\n\\nJeg har bestilt varer he...</td>\n",
       "      <td>5</td>\n",
       "      <td>1</td>\n",
       "    </tr>\n",
       "    <tr>\n",
       "      <th>25833</th>\n",
       "      <td>Vældigt god oplevelse med indlyttende og dygti...</td>\n",
       "      <td>5</td>\n",
       "      <td>1</td>\n",
       "    </tr>\n",
       "  </tbody>\n",
       "</table>\n",
       "</div>"
      ],
      "text/plain": [
       "                                             review_text  review_stars  \\\n",
       "10708  3. gang jeg leaser hos BMC. Intet negativt at ...             5   \n",
       "8164   Har ringet til jer 5 gange INDE i telefon tide...             4   \n",
       "19599  Vi har aldrig problemer med noget af det YouSe...             5   \n",
       "2533   Fuldt ud tilfreds!\\n\\nJeg har bestilt varer he...             5   \n",
       "25833  Vældigt god oplevelse med indlyttende og dygti...             5   \n",
       "\n",
       "       sentiment  \n",
       "10708          1  \n",
       "8164           1  \n",
       "19599          1  \n",
       "2533           1  \n",
       "25833          1  "
      ]
     },
     "execution_count": 116,
     "metadata": {},
     "output_type": "execute_result"
    }
   ],
   "source": [
    "data = datat[~datat.index.isin(test_data_index)]\n",
    "\n",
    "data.sample(5, random_state=42)"
   ]
  },
  {
   "cell_type": "code",
   "execution_count": 117,
   "metadata": {},
   "outputs": [
    {
     "data": {
      "text/html": [
       "<div>\n",
       "<style scoped>\n",
       "    .dataframe tbody tr th:only-of-type {\n",
       "        vertical-align: middle;\n",
       "    }\n",
       "\n",
       "    .dataframe tbody tr th {\n",
       "        vertical-align: top;\n",
       "    }\n",
       "\n",
       "    .dataframe thead th {\n",
       "        text-align: right;\n",
       "    }\n",
       "</style>\n",
       "<table border=\"1\" class=\"dataframe\">\n",
       "  <thead>\n",
       "    <tr style=\"text-align: right;\">\n",
       "      <th></th>\n",
       "      <th>observations</th>\n",
       "    </tr>\n",
       "    <tr>\n",
       "      <th>sentiment</th>\n",
       "      <th></th>\n",
       "    </tr>\n",
       "  </thead>\n",
       "  <tbody>\n",
       "    <tr>\n",
       "      <th>positive</th>\n",
       "      <td>32958</td>\n",
       "    </tr>\n",
       "    <tr>\n",
       "      <th>negative</th>\n",
       "      <td>11027</td>\n",
       "    </tr>\n",
       "  </tbody>\n",
       "</table>\n",
       "</div>"
      ],
      "text/plain": [
       "           observations\n",
       "sentiment              \n",
       "positive          32958\n",
       "negative          11027"
      ]
     },
     "execution_count": 117,
     "metadata": {},
     "output_type": "execute_result"
    }
   ],
   "source": [
    "# We know the data is biased toward positivity. We have to trade carefully\n",
    "# We could use weighted sample, down sample, up sample or use models that careless about this issue\n",
    "(\n",
    "    data[[\"sentiment\"]]\n",
    "     .value_counts()\n",
    "     .rename(index ={0: \"negative\", 1:\"positive\"})\n",
    "     .to_frame(name=\"observations\")\n",
    "     \n",
    ")"
   ]
  },
  {
   "cell_type": "code",
   "execution_count": 118,
   "metadata": {},
   "outputs": [],
   "source": [
    "from sklearn.model_selection import train_test_split\n",
    "from sklearn.pipeline import Pipeline\n",
    "from sklearn.pipeline import FeatureUnion\n",
    "from sklearn.feature_selection import SelectKBest, chi2\n",
    "from sklearn.feature_extraction.text import CountVectorizer\n",
    "from sklearn.linear_model import SGDClassifier"
   ]
  },
  {
   "cell_type": "code",
   "execution_count": 120,
   "metadata": {},
   "outputs": [],
   "source": [
    "import re\n",
    "def tokenizer(blob, stop_words=None, remove_digits=True):\n",
    "\n",
    "    if stop_words is None:\n",
    "        stop_words = {}\n",
    "    \n",
    "    blob = blob.lower()\n",
    "    \n",
    "     # eyes [nose] mouth | mouth [nose] eyes pattern\n",
    "    emoticons = r\"(?:[<>]?[:;=8][\\-o\\*\\']?[\\)\\]\\(\\[dDpP/\\:\\}\\{@\\|\\\\]|[\\)\\]\\(\\[dDpP/\\:\\}\\{@\\|\\\\][\\-o\\*\\']?[:;=8][<>]?)\"\n",
    "    emoticon_re = re.compile(emoticons, re.VERBOSE | re.I | re.UNICODE)\n",
    "    \n",
    "    text = re.sub(r'[\\W]+', ' ', blob)\n",
    "    \n",
    "    # remove 3+ repetitive characters i.e. hellllo -> hello, jaaaa -> jaa \n",
    "    repetitions = re.compile(r'(.)\\1{2,}')\n",
    "    text = repetitions.sub(r'\\1\\1', text)\n",
    "    \n",
    "    # remove 2+ repetitive words e.g. hej hej hej -> hej\n",
    "    \n",
    "    repetitions = re.compile(r'\\b(\\w+)\\s+(\\1\\s*)+\\b')\n",
    "    text = repetitions.sub(r'\\1 ', text)\n",
    "    \n",
    "    \n",
    "    emoji = ''.join(re.findall(emoticon_re, blob))\n",
    "    \n",
    "       \n",
    "    # remove stopwords\n",
    "    if stop_words:\n",
    "        text = [word for word in text.split() if word not in stop_words]\n",
    "    \n",
    "\n",
    "    \n",
    "    if remove_digits:\n",
    "        text = re.sub(r'\\b\\d+\\b', '', text)\n",
    "    \n",
    "\n",
    "    # remove extra spaces\n",
    "    text = ' '.join(text.split())\n",
    "    result = f'{text} {emoji}'.encode('utf-8').decode('utf-8')\n",
    "       \n",
    "    \n",
    "    return result.split()"
   ]
  },
  {
   "cell_type": "code",
   "execution_count": 122,
   "metadata": {},
   "outputs": [],
   "source": [
    "STOP_WORDS = frozenset()"
   ]
  },
  {
   "cell_type": "code",
   "execution_count": 170,
   "metadata": {},
   "outputs": [],
   "source": [
    "features = FeatureUnion(\n",
    "    transformer_list=[(\"unigram\",CountVectorizer(\n",
    "                        ngram_range=(1, 1),\n",
    "                        max_features=150000,\n",
    "                        tokenizer=tokenizer,\n",
    "                        stop_words=STOP_WORDS,\n",
    "                    ),\n",
    "        ),\n",
    "     (\"bigram\",CountVectorizer(\n",
    "                        ngram_range=(2, 2),\n",
    "                        max_features=150000,\n",
    "                        tokenizer=tokenizer,\n",
    "                    ),\n",
    "        ),\n",
    "   (\"character\", CountVectorizer(analyzer=\"char\", ngram_range=(3, 4))),]\n",
    "    \n",
    "    \n",
    ")\n",
    "\n",
    "# (\"original\", SelectKBest(chi2, k=10000)),"
   ]
  },
  {
   "cell_type": "code",
   "execution_count": 171,
   "metadata": {},
   "outputs": [],
   "source": [
    "X, y = data[\"review_text\"], data[\"sentiment\"]\n",
    "\n",
    "X_train, X_test, y_train, y_test = train_test_split(X, y, \n",
    "                                                    train_size=.9, \n",
    "                                                    random_state=42, \n",
    "                                                    stratify=y\n",
    "                                                   )"
   ]
  },
  {
   "cell_type": "code",
   "execution_count": 172,
   "metadata": {},
   "outputs": [
    {
     "name": "stdout",
     "output_type": "stream",
     "text": [
      "\u001b[1m\u001b[94mTraining Data /dɪstrɪˈbjuːʃ(ə)n/\u001b[0m\n"
     ]
    },
    {
     "data": {
      "text/html": [
       "<div>\n",
       "<style scoped>\n",
       "    .dataframe tbody tr th:only-of-type {\n",
       "        vertical-align: middle;\n",
       "    }\n",
       "\n",
       "    .dataframe tbody tr th {\n",
       "        vertical-align: top;\n",
       "    }\n",
       "\n",
       "    .dataframe thead th {\n",
       "        text-align: right;\n",
       "    }\n",
       "</style>\n",
       "<table border=\"1\" class=\"dataframe\">\n",
       "  <thead>\n",
       "    <tr style=\"text-align: right;\">\n",
       "      <th></th>\n",
       "      <th>sentiment</th>\n",
       "    </tr>\n",
       "  </thead>\n",
       "  <tbody>\n",
       "    <tr>\n",
       "      <th>positive</th>\n",
       "      <td>0.749305</td>\n",
       "    </tr>\n",
       "    <tr>\n",
       "      <th>negative</th>\n",
       "      <td>0.250695</td>\n",
       "    </tr>\n",
       "  </tbody>\n",
       "</table>\n",
       "</div>"
      ],
      "text/plain": [
       "          sentiment\n",
       "positive   0.749305\n",
       "negative   0.250695"
      ]
     },
     "execution_count": 172,
     "metadata": {},
     "output_type": "execute_result"
    }
   ],
   "source": [
    "print(f\"{color.BOLD}{color.BLUE}Training Data /dɪstrɪˈbjuːʃ(ə)n/{color.END}\") \n",
    "y_train.value_counts(normalize=True).to_frame().rename(index ={0: \"negative\", 1:\"positive\"})"
   ]
  },
  {
   "cell_type": "code",
   "execution_count": 173,
   "metadata": {},
   "outputs": [
    {
     "name": "stdout",
     "output_type": "stream",
     "text": [
      "\u001b[1m\u001b[94mTest Data /dɪstrɪˈbjuːʃ(ə)n/\n"
     ]
    },
    {
     "data": {
      "text/html": [
       "<div>\n",
       "<style scoped>\n",
       "    .dataframe tbody tr th:only-of-type {\n",
       "        vertical-align: middle;\n",
       "    }\n",
       "\n",
       "    .dataframe tbody tr th {\n",
       "        vertical-align: top;\n",
       "    }\n",
       "\n",
       "    .dataframe thead th {\n",
       "        text-align: right;\n",
       "    }\n",
       "</style>\n",
       "<table border=\"1\" class=\"dataframe\">\n",
       "  <thead>\n",
       "    <tr style=\"text-align: right;\">\n",
       "      <th></th>\n",
       "      <th>sentiment</th>\n",
       "    </tr>\n",
       "  </thead>\n",
       "  <tbody>\n",
       "    <tr>\n",
       "      <th>positive</th>\n",
       "      <td>0.749261</td>\n",
       "    </tr>\n",
       "    <tr>\n",
       "      <th>negative</th>\n",
       "      <td>0.250739</td>\n",
       "    </tr>\n",
       "  </tbody>\n",
       "</table>\n",
       "</div>"
      ],
      "text/plain": [
       "          sentiment\n",
       "positive   0.749261\n",
       "negative   0.250739"
      ]
     },
     "execution_count": 173,
     "metadata": {},
     "output_type": "execute_result"
    }
   ],
   "source": [
    "print(f\"{color.BOLD}{color.BLUE}Test Data /dɪstrɪˈbjuːʃ(ə)n/\") \n",
    "y_test.value_counts(normalize=True).to_frame().rename(index ={0: \"negative\", 1:\"positive\"})"
   ]
  },
  {
   "cell_type": "code",
   "execution_count": 174,
   "metadata": {},
   "outputs": [],
   "source": [
    "# Beauty of Scikit-learn is the easy of \n",
    "model = Pipeline(\n",
    "    [\n",
    "        (\"tranformers\", features),\n",
    "        (\"clf\", SGDClassifier(loss=\"log\")),\n",
    "    ] \n",
    ")"
   ]
  },
  {
   "cell_type": "code",
   "execution_count": 175,
   "metadata": {},
   "outputs": [
    {
     "name": "stdout",
     "output_type": "stream",
     "text": [
      "CPU times: user 28.9 s, sys: 11.3 s, total: 40.2 s\n",
      "Wall time: 39.1 s\n"
     ]
    },
    {
     "data": {
      "text/plain": [
       "Pipeline(steps=[('tranformers',\n",
       "                 FeatureUnion(transformer_list=[('unigram',\n",
       "                                                 CountVectorizer(max_features=150000,\n",
       "                                                                 stop_words=frozenset(),\n",
       "                                                                 tokenizer=<function tokenizer at 0x7fb30c2603a0>)),\n",
       "                                                ('bigram',\n",
       "                                                 CountVectorizer(max_features=150000,\n",
       "                                                                 ngram_range=(2,\n",
       "                                                                              2),\n",
       "                                                                 tokenizer=<function tokenizer at 0x7fb30c2603a0>)),\n",
       "                                                ('character',\n",
       "                                                 CountVectorizer(analyzer='char',\n",
       "                                                                 ngram_range=(3,\n",
       "                                                                              4)))])),\n",
       "                ('clf', SGDClassifier(loss='log'))])"
      ]
     },
     "execution_count": 175,
     "metadata": {},
     "output_type": "execute_result"
    }
   ],
   "source": [
    "%%time\n",
    "model.fit(X_train, y_train)"
   ]
  },
  {
   "cell_type": "code",
   "execution_count": 176,
   "metadata": {},
   "outputs": [
    {
     "data": {
      "text/plain": [
       "0.9370311434416912"
      ]
     },
     "execution_count": 176,
     "metadata": {},
     "output_type": "execute_result"
    }
   ],
   "source": [
    "model.score(X_test, y_test)"
   ]
  },
  {
   "cell_type": "code",
   "execution_count": 177,
   "metadata": {},
   "outputs": [],
   "source": [
    "y_pred = model.predict(X_test)"
   ]
  },
  {
   "cell_type": "code",
   "execution_count": 178,
   "metadata": {},
   "outputs": [],
   "source": [
    "from sklearn.metrics import ConfusionMatrixDisplay"
   ]
  },
  {
   "cell_type": "code",
   "execution_count": 179,
   "metadata": {},
   "outputs": [
    {
     "name": "stdout",
     "output_type": "stream",
     "text": [
      "\u001b[1m\u001b[36m Unconfused Confusion Matrix\n"
     ]
    },
    {
     "data": {
      "image/png": "[encoded data removed]",
      "text/plain": [
       "<Figure size 432x288 with 2 Axes>"
      ]
     },
     "metadata": {
      "needs_background": "light"
     },
     "output_type": "display_data"
    }
   ],
   "source": [
    "print(f\"{color.BOLD}{color.DARKCYAN} Unconfused Confusion Matrix\") \n",
    "ConfusionMatrixDisplay.from_predictions(y_test, y_pred);"
   ]
  },
  {
   "cell_type": "code",
   "execution_count": 133,
   "metadata": {},
   "outputs": [
    {
     "name": "stdout",
     "output_type": "stream",
     "text": [
      "\u001b[1m\u001b[36m Unconfused Confusion Matrix\n"
     ]
    },
    {
     "data": {
      "image/png": "[encoded data removed]",
      "text/plain": [
       "<Figure size 432x288 with 2 Axes>"
      ]
     },
     "metadata": {
      "needs_background": "light"
     },
     "output_type": "display_data"
    }
   ],
   "source": []
  },
  {
   "cell_type": "code",
   "execution_count": 180,
   "metadata": {},
   "outputs": [],
   "source": [
    "from sklearn.metrics import classification_report"
   ]
  },
  {
   "cell_type": "code",
   "execution_count": 181,
   "metadata": {},
   "outputs": [
    {
     "name": "stdout",
     "output_type": "stream",
     "text": [
      "\u001b[1m\u001b[94m ✔️ Classification Report\u001b[0m\u001b[92m\n",
      "              precision    recall  f1-score   support\n",
      "\n",
      "    negative       0.88      0.87      0.87      1103\n",
      "    positive       0.96      0.96      0.96      3296\n",
      "\n",
      "    accuracy                           0.94      4399\n",
      "   macro avg       0.92      0.92      0.92      4399\n",
      "weighted avg       0.94      0.94      0.94      4399\n",
      "\n"
     ]
    }
   ],
   "source": [
    "print(f\"{color.BOLD}{color.BLUE} ✔️ Classification Report{color.END}{color.GREEN}\") \n",
    "print(classification_report(y_test, y_pred, target_names=[\"negative\", \"positive\"]))"
   ]
  },
  {
   "cell_type": "raw",
   "metadata": {},
   "source": [
    "precision = 1 + TP/FP\n",
    "recall    = 1 + TP/FN\n",
    "f1        = 2 * precision * recall/(precision + recall)"
   ]
  },
  {
   "cell_type": "code",
   "execution_count": 182,
   "metadata": {},
   "outputs": [
    {
     "data": {
      "text/html": [
       "<div>\n",
       "<style scoped>\n",
       "    .dataframe tbody tr th:only-of-type {\n",
       "        vertical-align: middle;\n",
       "    }\n",
       "\n",
       "    .dataframe tbody tr th {\n",
       "        vertical-align: top;\n",
       "    }\n",
       "\n",
       "    .dataframe thead th {\n",
       "        text-align: right;\n",
       "    }\n",
       "</style>\n",
       "<table border=\"1\" class=\"dataframe\">\n",
       "  <thead>\n",
       "    <tr style=\"text-align: right;\">\n",
       "      <th></th>\n",
       "      <th>review_text</th>\n",
       "      <th>review_stars</th>\n",
       "      <th>sentiment</th>\n",
       "      <th>score</th>\n",
       "    </tr>\n",
       "  </thead>\n",
       "  <tbody>\n",
       "    <tr>\n",
       "      <th>33157</th>\n",
       "      <td>Skarpe priser og hurtig levering!</td>\n",
       "      <td>5</td>\n",
       "      <td>1</td>\n",
       "      <td>1</td>\n",
       "    </tr>\n",
       "    <tr>\n",
       "      <th>23679</th>\n",
       "      <td>Super service - levering til tiden - gode pris...</td>\n",
       "      <td>5</td>\n",
       "      <td>1</td>\n",
       "      <td>1</td>\n",
       "    </tr>\n",
       "    <tr>\n",
       "      <th>8541</th>\n",
       "      <td>Super god oplevelse,  bestilte mobil taske om ...</td>\n",
       "      <td>5</td>\n",
       "      <td>1</td>\n",
       "      <td>1</td>\n",
       "    </tr>\n",
       "    <tr>\n",
       "      <th>27361</th>\n",
       "      <td>Det var lige i skabet uden problemer. Super se...</td>\n",
       "      <td>5</td>\n",
       "      <td>1</td>\n",
       "      <td>1</td>\n",
       "    </tr>\n",
       "    <tr>\n",
       "      <th>6194</th>\n",
       "      <td>nem hjemmeside, gode priser og hurtig levering</td>\n",
       "      <td>5</td>\n",
       "      <td>1</td>\n",
       "      <td>1</td>\n",
       "    </tr>\n",
       "    <tr>\n",
       "      <th>1673</th>\n",
       "      <td>Så lækker en sofa jeg har købt mig, der var li...</td>\n",
       "      <td>5</td>\n",
       "      <td>1</td>\n",
       "      <td>1</td>\n",
       "    </tr>\n",
       "    <tr>\n",
       "      <th>24128</th>\n",
       "      <td>Hold jer langt væk. Jeg har anbefalet ham to g...</td>\n",
       "      <td>1</td>\n",
       "      <td>0</td>\n",
       "      <td>0</td>\n",
       "    </tr>\n",
       "    <tr>\n",
       "      <th>32553</th>\n",
       "      <td>Manglende udvikling af mobilbank. JyskeBanks \"...</td>\n",
       "      <td>1</td>\n",
       "      <td>0</td>\n",
       "      <td>1</td>\n",
       "    </tr>\n",
       "    <tr>\n",
       "      <th>32277</th>\n",
       "      <td>Gode produkter, hurtig levering!!!</td>\n",
       "      <td>5</td>\n",
       "      <td>1</td>\n",
       "      <td>1</td>\n",
       "    </tr>\n",
       "    <tr>\n",
       "      <th>43722</th>\n",
       "      <td>Havde bestilt et påskeæg til min kærestes datt...</td>\n",
       "      <td>1</td>\n",
       "      <td>0</td>\n",
       "      <td>0</td>\n",
       "    </tr>\n",
       "  </tbody>\n",
       "</table>\n",
       "</div>"
      ],
      "text/plain": [
       "                                             review_text  review_stars  \\\n",
       "33157                  Skarpe priser og hurtig levering!             5   \n",
       "23679  Super service - levering til tiden - gode pris...             5   \n",
       "8541   Super god oplevelse,  bestilte mobil taske om ...             5   \n",
       "27361  Det var lige i skabet uden problemer. Super se...             5   \n",
       "6194      nem hjemmeside, gode priser og hurtig levering             5   \n",
       "1673   Så lækker en sofa jeg har købt mig, der var li...             5   \n",
       "24128  Hold jer langt væk. Jeg har anbefalet ham to g...             1   \n",
       "32553  Manglende udvikling af mobilbank. JyskeBanks \"...             1   \n",
       "32277                 Gode produkter, hurtig levering!!!             5   \n",
       "43722  Havde bestilt et påskeæg til min kærestes datt...             1   \n",
       "\n",
       "       sentiment  score  \n",
       "33157          1      1  \n",
       "23679          1      1  \n",
       "8541           1      1  \n",
       "27361          1      1  \n",
       "6194           1      1  \n",
       "1673           1      1  \n",
       "24128          0      0  \n",
       "32553          0      1  \n",
       "32277          1      1  \n",
       "43722          0      0  "
      ]
     },
     "execution_count": 182,
     "metadata": {},
     "output_type": "execute_result"
    }
   ],
   "source": [
    "(\n",
    "    validation_data\n",
    "    .assign(score = lambda d: model.predict(d[\"review_text\"]))\n",
    "    .sample(10)\n",
    ")"
   ]
  },
  {
   "cell_type": "code",
   "execution_count": 183,
   "metadata": {},
   "outputs": [
    {
     "data": {
      "text/html": [
       "<div>\n",
       "<style scoped>\n",
       "    .dataframe tbody tr th:only-of-type {\n",
       "        vertical-align: middle;\n",
       "    }\n",
       "\n",
       "    .dataframe tbody tr th {\n",
       "        vertical-align: top;\n",
       "    }\n",
       "\n",
       "    .dataframe thead th {\n",
       "        text-align: right;\n",
       "    }\n",
       "</style>\n",
       "<table border=\"1\" class=\"dataframe\">\n",
       "  <thead>\n",
       "    <tr style=\"text-align: right;\">\n",
       "      <th></th>\n",
       "      <th>review_text</th>\n",
       "      <th>review_stars</th>\n",
       "      <th>sentiment</th>\n",
       "      <th>score</th>\n",
       "    </tr>\n",
       "  </thead>\n",
       "  <tbody>\n",
       "    <tr>\n",
       "      <th>19150</th>\n",
       "      <td>Dejligt man kan købe den rigtig størrelse når ...</td>\n",
       "      <td>5</td>\n",
       "      <td>1</td>\n",
       "      <td>0</td>\n",
       "    </tr>\n",
       "    <tr>\n",
       "      <th>29534</th>\n",
       "      <td>Pakken kom 1 dag for sent end forventet i følg...</td>\n",
       "      <td>1</td>\n",
       "      <td>0</td>\n",
       "      <td>1</td>\n",
       "    </tr>\n",
       "    <tr>\n",
       "      <th>42476</th>\n",
       "      <td>Vurderingsmanden optrådte yderst hensynsfuldt ...</td>\n",
       "      <td>5</td>\n",
       "      <td>1</td>\n",
       "      <td>0</td>\n",
       "    </tr>\n",
       "    <tr>\n",
       "      <th>13956</th>\n",
       "      <td>Medarbejderne knokler, der er alt for få til a...</td>\n",
       "      <td>2</td>\n",
       "      <td>0</td>\n",
       "      <td>1</td>\n",
       "    </tr>\n",
       "    <tr>\n",
       "      <th>31151</th>\n",
       "      <td>PAS PÅ! Ingen service og svære at komme i kont...</td>\n",
       "      <td>1</td>\n",
       "      <td>0</td>\n",
       "      <td>1</td>\n",
       "    </tr>\n",
       "    <tr>\n",
       "      <th>37287</th>\n",
       "      <td>Jeg er fint tilfreds med POWER og deres meget ...</td>\n",
       "      <td>3</td>\n",
       "      <td>0</td>\n",
       "      <td>1</td>\n",
       "    </tr>\n",
       "    <tr>\n",
       "      <th>32553</th>\n",
       "      <td>Manglende udvikling af mobilbank. JyskeBanks \"...</td>\n",
       "      <td>1</td>\n",
       "      <td>0</td>\n",
       "      <td>1</td>\n",
       "    </tr>\n",
       "    <tr>\n",
       "      <th>26084</th>\n",
       "      <td>Kørte på motorvejen ved Horsens og fik en fejl...</td>\n",
       "      <td>5</td>\n",
       "      <td>1</td>\n",
       "      <td>0</td>\n",
       "    </tr>\n",
       "  </tbody>\n",
       "</table>\n",
       "</div>"
      ],
      "text/plain": [
       "                                             review_text  review_stars  \\\n",
       "19150  Dejligt man kan købe den rigtig størrelse når ...             5   \n",
       "29534  Pakken kom 1 dag for sent end forventet i følg...             1   \n",
       "42476  Vurderingsmanden optrådte yderst hensynsfuldt ...             5   \n",
       "13956  Medarbejderne knokler, der er alt for få til a...             2   \n",
       "31151  PAS PÅ! Ingen service og svære at komme i kont...             1   \n",
       "37287  Jeg er fint tilfreds med POWER og deres meget ...             3   \n",
       "32553  Manglende udvikling af mobilbank. JyskeBanks \"...             1   \n",
       "26084  Kørte på motorvejen ved Horsens og fik en fejl...             5   \n",
       "\n",
       "       sentiment  score  \n",
       "19150          1      0  \n",
       "29534          0      1  \n",
       "42476          1      0  \n",
       "13956          0      1  \n",
       "31151          0      1  \n",
       "37287          0      1  \n",
       "32553          0      1  \n",
       "26084          1      0  "
      ]
     },
     "execution_count": 183,
     "metadata": {},
     "output_type": "execute_result"
    }
   ],
   "source": [
    "(\n",
    "    validation_data\n",
    "    .assign(score = lambda d: model.predict(d[\"review_text\"]))\n",
    "    .loc[lambda d: d[\"sentiment\"].ne(d[\"score\"])]\n",
    ")"
   ]
  },
  {
   "cell_type": "code",
   "execution_count": 184,
   "metadata": {},
   "outputs": [
    {
     "data": {
      "text/html": [
       "<div>\n",
       "<style scoped>\n",
       "    .dataframe tbody tr th:only-of-type {\n",
       "        vertical-align: middle;\n",
       "    }\n",
       "\n",
       "    .dataframe tbody tr th {\n",
       "        vertical-align: top;\n",
       "    }\n",
       "\n",
       "    .dataframe thead th {\n",
       "        text-align: right;\n",
       "    }\n",
       "</style>\n",
       "<table border=\"1\" class=\"dataframe\">\n",
       "  <thead>\n",
       "    <tr style=\"text-align: right;\">\n",
       "      <th></th>\n",
       "      <th>review_text</th>\n",
       "      <th>review_stars</th>\n",
       "      <th>sentiment</th>\n",
       "      <th>score</th>\n",
       "      <th>score_probability</th>\n",
       "    </tr>\n",
       "  </thead>\n",
       "  <tbody>\n",
       "    <tr>\n",
       "      <th>19150</th>\n",
       "      <td>Dejligt man kan købe den rigtig størrelse når ...</td>\n",
       "      <td>5</td>\n",
       "      <td>1</td>\n",
       "      <td>0</td>\n",
       "      <td>0.008350</td>\n",
       "    </tr>\n",
       "    <tr>\n",
       "      <th>29534</th>\n",
       "      <td>Pakken kom 1 dag for sent end forventet i følg...</td>\n",
       "      <td>1</td>\n",
       "      <td>0</td>\n",
       "      <td>1</td>\n",
       "      <td>0.976036</td>\n",
       "    </tr>\n",
       "    <tr>\n",
       "      <th>42476</th>\n",
       "      <td>Vurderingsmanden optrådte yderst hensynsfuldt ...</td>\n",
       "      <td>5</td>\n",
       "      <td>1</td>\n",
       "      <td>0</td>\n",
       "      <td>0.000175</td>\n",
       "    </tr>\n",
       "    <tr>\n",
       "      <th>13956</th>\n",
       "      <td>Medarbejderne knokler, der er alt for få til a...</td>\n",
       "      <td>2</td>\n",
       "      <td>0</td>\n",
       "      <td>1</td>\n",
       "      <td>0.970608</td>\n",
       "    </tr>\n",
       "    <tr>\n",
       "      <th>31151</th>\n",
       "      <td>PAS PÅ! Ingen service og svære at komme i kont...</td>\n",
       "      <td>1</td>\n",
       "      <td>0</td>\n",
       "      <td>1</td>\n",
       "      <td>0.819700</td>\n",
       "    </tr>\n",
       "    <tr>\n",
       "      <th>37287</th>\n",
       "      <td>Jeg er fint tilfreds med POWER og deres meget ...</td>\n",
       "      <td>3</td>\n",
       "      <td>0</td>\n",
       "      <td>1</td>\n",
       "      <td>0.999995</td>\n",
       "    </tr>\n",
       "    <tr>\n",
       "      <th>32553</th>\n",
       "      <td>Manglende udvikling af mobilbank. JyskeBanks \"...</td>\n",
       "      <td>1</td>\n",
       "      <td>0</td>\n",
       "      <td>1</td>\n",
       "      <td>0.814155</td>\n",
       "    </tr>\n",
       "    <tr>\n",
       "      <th>26084</th>\n",
       "      <td>Kørte på motorvejen ved Horsens og fik en fejl...</td>\n",
       "      <td>5</td>\n",
       "      <td>1</td>\n",
       "      <td>0</td>\n",
       "      <td>0.144982</td>\n",
       "    </tr>\n",
       "  </tbody>\n",
       "</table>\n",
       "</div>"
      ],
      "text/plain": [
       "                                             review_text  review_stars  \\\n",
       "19150  Dejligt man kan købe den rigtig størrelse når ...             5   \n",
       "29534  Pakken kom 1 dag for sent end forventet i følg...             1   \n",
       "42476  Vurderingsmanden optrådte yderst hensynsfuldt ...             5   \n",
       "13956  Medarbejderne knokler, der er alt for få til a...             2   \n",
       "31151  PAS PÅ! Ingen service og svære at komme i kont...             1   \n",
       "37287  Jeg er fint tilfreds med POWER og deres meget ...             3   \n",
       "32553  Manglende udvikling af mobilbank. JyskeBanks \"...             1   \n",
       "26084  Kørte på motorvejen ved Horsens og fik en fejl...             5   \n",
       "\n",
       "       sentiment  score  score_probability  \n",
       "19150          1      0           0.008350  \n",
       "29534          0      1           0.976036  \n",
       "42476          1      0           0.000175  \n",
       "13956          0      1           0.970608  \n",
       "31151          0      1           0.819700  \n",
       "37287          0      1           0.999995  \n",
       "32553          0      1           0.814155  \n",
       "26084          1      0           0.144982  "
      ]
     },
     "execution_count": 184,
     "metadata": {},
     "output_type": "execute_result"
    }
   ],
   "source": [
    "# looking at the probability of cases it go wrong, we see mostly borderline probabilities\n",
    "#with to interesting cases lies in borderlines\n",
    "\n",
    "(\n",
    "    validation_data\n",
    "    .assign(score = lambda d: model.predict(d[\"review_text\"]))\n",
    "    .loc[lambda d: d[\"sentiment\"].ne(d[\"score\"])]\n",
    "    .assign(score_probability = lambda d: model.predict_proba(d[\"review_text\"])[:, 1])\n",
    ")"
   ]
  },
  {
   "cell_type": "code",
   "execution_count": 185,
   "metadata": {},
   "outputs": [
    {
     "data": {
      "text/plain": [
       "array(['unigram__(-:', 'unigram__(8', 'unigram__(8:-)', ...,\n",
       "       'character__🧵\\n⭐️', 'character__🧶🧵\\n', 'character__🧶🧵\\n⭐'],\n",
       "      dtype=object)"
      ]
     },
     "execution_count": 185,
     "metadata": {},
     "output_type": "execute_result"
    }
   ],
   "source": [
    "model[:-1].get_feature_names_out()"
   ]
  },
  {
   "cell_type": "code",
   "execution_count": 186,
   "metadata": {},
   "outputs": [],
   "source": [
    "explain = (\n",
    "        pd\n",
    "            .DataFrame({\"score\":model[-1].coef_[0]},\n",
    "                       index = model[:-1].get_feature_names_out()\n",
    "            )\n",
    "            .sort_values(by=\"score\")\n",
    ")"
   ]
  },
  {
   "cell_type": "code",
   "execution_count": 187,
   "metadata": {},
   "outputs": [
    {
     "data": {
      "text/html": [
       "<div>\n",
       "<style scoped>\n",
       "    .dataframe tbody tr th:only-of-type {\n",
       "        vertical-align: middle;\n",
       "    }\n",
       "\n",
       "    .dataframe tbody tr th {\n",
       "        vertical-align: top;\n",
       "    }\n",
       "\n",
       "    .dataframe thead th {\n",
       "        text-align: right;\n",
       "    }\n",
       "</style>\n",
       "<table border=\"1\" class=\"dataframe\">\n",
       "  <thead>\n",
       "    <tr style=\"text-align: right;\">\n",
       "      <th></th>\n",
       "      <th>score</th>\n",
       "    </tr>\n",
       "  </thead>\n",
       "  <tbody>\n",
       "    <tr>\n",
       "      <th>character__ ind</th>\n",
       "      <td>1.198270</td>\n",
       "    </tr>\n",
       "    <tr>\n",
       "      <th>character__ top</th>\n",
       "      <td>1.206097</td>\n",
       "    </tr>\n",
       "    <tr>\n",
       "      <th>bigram__ikke sidste</th>\n",
       "      <td>1.223908</td>\n",
       "    </tr>\n",
       "    <tr>\n",
       "      <th>character__ fan</th>\n",
       "      <td>1.231511</td>\n",
       "    </tr>\n",
       "    <tr>\n",
       "      <th>bigram__med det</th>\n",
       "      <td>1.250727</td>\n",
       "    </tr>\n",
       "  </tbody>\n",
       "</table>\n",
       "</div>"
      ],
      "text/plain": [
       "                        score\n",
       "character__ ind      1.198270\n",
       "character__ top      1.206097\n",
       "bigram__ikke sidste  1.223908\n",
       "character__ fan      1.231511\n",
       "bigram__med det      1.250727"
      ]
     },
     "execution_count": 187,
     "metadata": {},
     "output_type": "execute_result"
    }
   ],
   "source": [
    "explain.tail(5)"
   ]
  },
  {
   "cell_type": "code",
   "execution_count": 188,
   "metadata": {},
   "outputs": [
    {
     "data": {
      "text/html": [
       "<div>\n",
       "<style scoped>\n",
       "    .dataframe tbody tr th:only-of-type {\n",
       "        vertical-align: middle;\n",
       "    }\n",
       "\n",
       "    .dataframe tbody tr th {\n",
       "        vertical-align: top;\n",
       "    }\n",
       "\n",
       "    .dataframe thead th {\n",
       "        text-align: right;\n",
       "    }\n",
       "</style>\n",
       "<table border=\"1\" class=\"dataframe\">\n",
       "  <thead>\n",
       "    <tr style=\"text-align: right;\">\n",
       "      <th></th>\n",
       "      <th>score</th>\n",
       "    </tr>\n",
       "  </thead>\n",
       "  <tbody>\n",
       "    <tr>\n",
       "      <th>character__fup</th>\n",
       "      <td>-1.499293</td>\n",
       "    </tr>\n",
       "    <tr>\n",
       "      <th>unigram__ikke</th>\n",
       "      <td>-1.371598</td>\n",
       "    </tr>\n",
       "    <tr>\n",
       "      <th>unigram__ingen</th>\n",
       "      <td>-1.347034</td>\n",
       "    </tr>\n",
       "    <tr>\n",
       "      <th>bigram__ikke anbefale</th>\n",
       "      <td>-1.289608</td>\n",
       "    </tr>\n",
       "    <tr>\n",
       "      <th>character__elen</th>\n",
       "      <td>-1.271807</td>\n",
       "    </tr>\n",
       "  </tbody>\n",
       "</table>\n",
       "</div>"
      ],
      "text/plain": [
       "                          score\n",
       "character__fup        -1.499293\n",
       "unigram__ikke         -1.371598\n",
       "unigram__ingen        -1.347034\n",
       "bigram__ikke anbefale -1.289608\n",
       "character__elen       -1.271807"
      ]
     },
     "execution_count": 188,
     "metadata": {},
     "output_type": "execute_result"
    }
   ],
   "source": [
    "explain.head(5)"
   ]
  },
  {
   "cell_type": "code",
   "execution_count": 189,
   "metadata": {},
   "outputs": [
    {
     "data": {
      "text/html": [
       "<div>\n",
       "<style scoped>\n",
       "    .dataframe tbody tr th:only-of-type {\n",
       "        vertical-align: middle;\n",
       "    }\n",
       "\n",
       "    .dataframe tbody tr th {\n",
       "        vertical-align: top;\n",
       "    }\n",
       "\n",
       "    .dataframe thead th {\n",
       "        text-align: right;\n",
       "    }\n",
       "</style>\n",
       "<table border=\"1\" class=\"dataframe\">\n",
       "  <thead>\n",
       "    <tr style=\"text-align: right;\">\n",
       "      <th></th>\n",
       "      <th>review_text</th>\n",
       "      <th>review_stars</th>\n",
       "      <th>sentiment</th>\n",
       "      <th>score</th>\n",
       "      <th>score_probability</th>\n",
       "    </tr>\n",
       "  </thead>\n",
       "  <tbody>\n",
       "    <tr>\n",
       "      <th>19150</th>\n",
       "      <td>Dejligt man kan købe den rigtig størrelse når ...</td>\n",
       "      <td>5</td>\n",
       "      <td>1</td>\n",
       "      <td>0</td>\n",
       "      <td>0.008350</td>\n",
       "    </tr>\n",
       "    <tr>\n",
       "      <th>42476</th>\n",
       "      <td>Vurderingsmanden optrådte yderst hensynsfuldt ...</td>\n",
       "      <td>5</td>\n",
       "      <td>1</td>\n",
       "      <td>0</td>\n",
       "      <td>0.000175</td>\n",
       "    </tr>\n",
       "    <tr>\n",
       "      <th>26084</th>\n",
       "      <td>Kørte på motorvejen ved Horsens og fik en fejl...</td>\n",
       "      <td>5</td>\n",
       "      <td>1</td>\n",
       "      <td>0</td>\n",
       "      <td>0.144982</td>\n",
       "    </tr>\n",
       "  </tbody>\n",
       "</table>\n",
       "</div>"
      ],
      "text/plain": [
       "                                             review_text  review_stars  \\\n",
       "19150  Dejligt man kan købe den rigtig størrelse når ...             5   \n",
       "42476  Vurderingsmanden optrådte yderst hensynsfuldt ...             5   \n",
       "26084  Kørte på motorvejen ved Horsens og fik en fejl...             5   \n",
       "\n",
       "       sentiment  score  score_probability  \n",
       "19150          1      0           0.008350  \n",
       "42476          1      0           0.000175  \n",
       "26084          1      0           0.144982  "
      ]
     },
     "execution_count": 189,
     "metadata": {},
     "output_type": "execute_result"
    }
   ],
   "source": [
    "(\n",
    "    validation_data\n",
    "    .assign(score = lambda d: model.predict(d[\"review_text\"]))\n",
    "    .loc[lambda d: d[\"sentiment\"].ne(d[\"score\"])]\n",
    "    .assign(score_probability = lambda d: model.predict_proba(d[\"review_text\"])[:, 1])\n",
    "    .loc[lambda d: (d[\"score\"].eq(0) & d[\"score_probability\"].lt(.4))]\n",
    "    # .loc[lambda d: (d[\"score\"].eq(1) & d[\"score_probability\"].gt(.6))]\n",
    ")"
   ]
  },
  {
   "cell_type": "code",
   "execution_count": 190,
   "metadata": {},
   "outputs": [],
   "source": [
    "message = (\n",
    "    validation_data\n",
    "    .assign(score = lambda d: model.predict(d[\"review_text\"]))\n",
    "    .loc[lambda d: d[\"sentiment\"].ne(d[\"score\"])]\n",
    "    .assign(score_probability = lambda d: model.predict_proba(d[\"review_text\"])[:, 1])\n",
    "    .loc[lambda d: (d[\"score\"].eq(0) & d[\"score_probability\"].lt(.4))]\n",
    "    # .loc[lambda d: (d[\"score\"].eq(1) & d[\"score_probability\"].gt(.6))]\n",
    ")[\"review_text\"].squeeze()"
   ]
  },
  {
   "cell_type": "code",
   "execution_count": 191,
   "metadata": {},
   "outputs": [
    {
     "data": {
      "text/plain": [
       "'Dejligt man kan købe den rigtig størrelse når nu ikke de kan købes i butikkerne. \\nOrdrenr. 246172 (Mht gratis kondomer. Så send kun hvis det er samme størrelse som ordre. Ellers er det spild og vil skade miljøet med transport osv mere end de vil gøre gavn)'"
      ]
     },
     "execution_count": 191,
     "metadata": {},
     "output_type": "execute_result"
    }
   ],
   "source": [
    "message.iloc[0]"
   ]
  },
  {
   "cell_type": "code",
   "execution_count": 192,
   "metadata": {},
   "outputs": [
    {
     "data": {
      "text/plain": [
       "array([  8952, 268109, 268112, 276484, 276504, 296107, 301101, 301104,\n",
       "       310173, 310206,  27852, 314862,  22307, 303273,  25041, 306403,\n",
       "       306416, 373989,   9063, 268202,  37516, 289997, 290000, 296107,\n",
       "       296128, 340298, 340318, 354706,  43433, 277234, 277245, 311692,\n",
       "       339370, 339381, 341928, 341948, 349695, 349700, 357240, 357260,\n",
       "       375283, 375285,  31236, 325271,  30991,  20245, 296544, 296551,\n",
       "       304434,   8857,  22307, 303273,  25077, 261079, 306403, 306416,\n",
       "       373989, 374014,  20056,   7077, 262553, 262556, 279595, 279605,\n",
       "       296544, 296551, 303884, 303911, 304434, 304464, 341249, 354746,\n",
       "       354766, 361274, 361277,  32684, 269924, 269951, 278408, 329974,\n",
       "       330004, 338860, 338862, 339419, 339445,  28747, 315844,  17027,\n",
       "       258748, 258763, 289328, 289344, 338312, 338323, 354888,  23653,\n",
       "       269678, 269688, 304980, 304988, 315591, 321071, 321082, 328549,\n",
       "       328567, 328955, 328964,  44288,  39174, 278208, 346944, 346962,\n",
       "        24552, 306014,  19520, 292994, 293000, 363658,   9233, 268373,\n",
       "        11350,  38596, 256714, 256717, 316331, 346089, 346101,  43433,\n",
       "       277234, 277245, 311692, 339370, 339381, 341928, 341948, 349695,\n",
       "       349700, 357240, 357260, 375283, 375285,  41610, 348605,  32654,\n",
       "       269924, 329974, 330004, 338860, 338862,  10972, 277149, 277159,\n",
       "       279672, 309450, 309479, 310695, 310724,  11350,   9233, 268373,\n",
       "        41983, 296906, 333436, 333443, 348791, 348800,  31564,  50546,\n",
       "       363583,  39950, 254325, 303188, 303189, 347888, 347893,  28881,\n",
       "       297004, 297007, 301801, 301803, 310430, 310436, 316000, 316011,\n",
       "       374285,  28269, 315411,  46585, 257216, 257237, 324185, 324190,\n",
       "       330264, 333856, 333875, 338224, 338245, 348819, 348827, 355834,\n",
       "       355854,  32793, 330619,  28645, 279421, 315591, 315612,  11110,\n",
       "       278208,   8857,  50546, 363583,  17647, 290494, 290505, 375183,\n",
       "        16186, 259217, 287479, 287488], dtype=int32)"
      ]
     },
     "execution_count": 192,
     "metadata": {},
     "output_type": "execute_result"
    }
   ],
   "source": [
    "model[:-1].transform(tokenizer(message.iloc[0])).nonzero()[1]"
   ]
  },
  {
   "cell_type": "code",
   "execution_count": 193,
   "metadata": {},
   "outputs": [
    {
     "data": {
      "text/plain": [
       "array(['unigram__dejligt', 'character__dej', 'character__dejl',\n",
       "       'character__ejl', 'character__ejli', 'character__igt',\n",
       "       'character__jli', 'character__jlig', 'character__lig',\n",
       "       'character__ligt', 'unigram__man', 'character__man',\n",
       "       'unigram__kan', 'character__kan', 'unigram__købe',\n",
       "       'character__køb', 'character__købe', 'character__øbe',\n",
       "       'unigram__den', 'character__den', 'unigram__rigtig',\n",
       "       'character__gti', 'character__gtig', 'character__igt',\n",
       "       'character__igti', 'character__rig', 'character__rigt',\n",
       "       'character__tig', 'unigram__størrelse', 'character__els',\n",
       "       'character__else', 'character__lse', 'character__rel',\n",
       "       'character__rels', 'character__rre', 'character__rrel',\n",
       "       'character__stø', 'character__stør', 'character__tør',\n",
       "       'character__tørr', 'character__ørr', 'character__ørre',\n",
       "       'unigram__når', 'character__når', 'unigram__nu', 'unigram__ikke',\n",
       "       'character__ikk', 'character__ikke', 'character__kke',\n",
       "       'unigram__de', 'unigram__kan', 'character__kan', 'unigram__købes',\n",
       "       'character__bes', 'character__køb', 'character__købe',\n",
       "       'character__øbe', 'character__øbes', 'unigram__i',\n",
       "       'unigram__butikkerne', 'character__but', 'character__buti',\n",
       "       'character__ern', 'character__erne', 'character__ikk',\n",
       "       'character__ikke', 'character__ker', 'character__kern',\n",
       "       'character__kke', 'character__kker', 'character__rne',\n",
       "       'character__tik', 'character__tikk', 'character__uti',\n",
       "       'character__utik', 'unigram__ordrenr', 'character__dre',\n",
       "       'character__dren', 'character__enr', 'character__ord',\n",
       "       'character__ordr', 'character__rdr', 'character__rdre',\n",
       "       'character__ren', 'character__renr', 'unigram__mht',\n",
       "       'character__mht', 'unigram__gratis', 'character__ati',\n",
       "       'character__atis', 'character__gra', 'character__grat',\n",
       "       'character__rat', 'character__rati', 'character__tis',\n",
       "       'unigram__kondomer', 'character__dom', 'character__dome',\n",
       "       'character__kon', 'character__kond', 'character__mer',\n",
       "       'character__ndo', 'character__ndom', 'character__ome',\n",
       "       'character__omer', 'character__ond', 'character__ondo',\n",
       "       'unigram__så', 'unigram__send', 'character__end', 'character__sen',\n",
       "       'character__send', 'unigram__kun', 'character__kun',\n",
       "       'unigram__hvis', 'character__hvi', 'character__hvis',\n",
       "       'character__vis', 'unigram__det', 'character__det', 'unigram__er',\n",
       "       'unigram__samme', 'character__amm', 'character__amme',\n",
       "       'character__mme', 'character__sam', 'character__samm',\n",
       "       'unigram__størrelse', 'character__els', 'character__else',\n",
       "       'character__lse', 'character__rel', 'character__rels',\n",
       "       'character__rre', 'character__rrel', 'character__stø',\n",
       "       'character__stør', 'character__tør', 'character__tørr',\n",
       "       'character__ørr', 'character__ørre', 'unigram__som',\n",
       "       'character__som', 'unigram__ordre', 'character__dre',\n",
       "       'character__ord', 'character__ordr', 'character__rdr',\n",
       "       'character__rdre', 'unigram__ellers', 'character__ell',\n",
       "       'character__elle', 'character__ers', 'character__ler',\n",
       "       'character__lers', 'character__lle', 'character__ller',\n",
       "       'unigram__er', 'unigram__det', 'character__det', 'unigram__spild',\n",
       "       'character__ild', 'character__pil', 'character__pild',\n",
       "       'character__spi', 'character__spil', 'unigram__og', 'unigram__vil',\n",
       "       'character__vil', 'unigram__skade', 'character__ade',\n",
       "       'character__kad', 'character__kade', 'character__ska',\n",
       "       'character__skad', 'unigram__miljøet', 'character__ilj',\n",
       "       'character__iljø', 'character__jøe', 'character__jøet',\n",
       "       'character__ljø', 'character__ljøe', 'character__mil',\n",
       "       'character__milj', 'character__øet', 'unigram__med',\n",
       "       'character__med', 'unigram__transport', 'character__ans',\n",
       "       'character__ansp', 'character__nsp', 'character__nspo',\n",
       "       'character__ort', 'character__por', 'character__port',\n",
       "       'character__ran', 'character__rans', 'character__spo',\n",
       "       'character__spor', 'character__tra', 'character__tran',\n",
       "       'unigram__osv', 'character__osv', 'unigram__mere',\n",
       "       'character__ere', 'character__mer', 'character__mere',\n",
       "       'unigram__end', 'character__end', 'unigram__de', 'unigram__vil',\n",
       "       'character__vil', 'unigram__gøre', 'character__gør',\n",
       "       'character__gøre', 'character__øre', 'unigram__gavn',\n",
       "       'character__avn', 'character__gav', 'character__gavn'],\n",
       "      dtype=object)"
      ]
     },
     "execution_count": 193,
     "metadata": {},
     "output_type": "execute_result"
    }
   ],
   "source": [
    "model[:-1].get_feature_names_out()[model[:-1].transform(tokenizer(message.iloc[0])).nonzero()[1]]"
   ]
  },
  {
   "cell_type": "code",
   "execution_count": 166,
   "metadata": {},
   "outputs": [
    {
     "data": {
      "text/html": [
       "<div>\n",
       "<style scoped>\n",
       "    .dataframe tbody tr th:only-of-type {\n",
       "        vertical-align: middle;\n",
       "    }\n",
       "\n",
       "    .dataframe tbody tr th {\n",
       "        vertical-align: top;\n",
       "    }\n",
       "\n",
       "    .dataframe thead th {\n",
       "        text-align: right;\n",
       "    }\n",
       "</style>\n",
       "<table border=\"1\" class=\"dataframe\">\n",
       "  <thead>\n",
       "    <tr style=\"text-align: right;\">\n",
       "      <th></th>\n",
       "      <th>score</th>\n",
       "    </tr>\n",
       "  </thead>\n",
       "  <tbody>\n",
       "  </tbody>\n",
       "</table>\n",
       "</div>"
      ],
      "text/plain": [
       "Empty DataFrame\n",
       "Columns: [score]\n",
       "Index: []"
      ]
     },
     "execution_count": 166,
     "metadata": {},
     "output_type": "execute_result"
    }
   ],
   "source": [
    "explain[explain.index.isin(pd.Index(model[:-1].transform(tokenizer(message.iloc[0])).nonzero()[1]))]"
   ]
  },
  {
   "cell_type": "code",
   "execution_count": 167,
   "metadata": {},
   "outputs": [
    {
     "data": {
      "text/html": [
       "<div>\n",
       "<style scoped>\n",
       "    .dataframe tbody tr th:only-of-type {\n",
       "        vertical-align: middle;\n",
       "    }\n",
       "\n",
       "    .dataframe tbody tr th {\n",
       "        vertical-align: top;\n",
       "    }\n",
       "\n",
       "    .dataframe thead th {\n",
       "        text-align: right;\n",
       "    }\n",
       "</style>\n",
       "<table border=\"1\" class=\"dataframe\">\n",
       "  <thead>\n",
       "    <tr style=\"text-align: right;\">\n",
       "      <th></th>\n",
       "      <th>score</th>\n",
       "    </tr>\n",
       "  </thead>\n",
       "  <tbody>\n",
       "    <tr>\n",
       "      <th>unigram__ingen</th>\n",
       "      <td>-2.950500</td>\n",
       "    </tr>\n",
       "    <tr>\n",
       "      <th>unigram__ringe</th>\n",
       "      <td>-2.848155</td>\n",
       "    </tr>\n",
       "    <tr>\n",
       "      <th>character__fup</th>\n",
       "      <td>-2.821715</td>\n",
       "    </tr>\n",
       "    <tr>\n",
       "      <th>bigram__alt for</th>\n",
       "      <td>-2.803276</td>\n",
       "    </tr>\n",
       "    <tr>\n",
       "      <th>bigram__ikke anbefale</th>\n",
       "      <td>-2.614159</td>\n",
       "    </tr>\n",
       "    <tr>\n",
       "      <th>...</th>\n",
       "      <td>...</td>\n",
       "    </tr>\n",
       "    <tr>\n",
       "      <th>character__.\\n</th>\n",
       "      <td>2.488166</td>\n",
       "    </tr>\n",
       "    <tr>\n",
       "      <th>character__4 s</th>\n",
       "      <td>2.519152</td>\n",
       "    </tr>\n",
       "    <tr>\n",
       "      <th>unigram__tak</th>\n",
       "      <td>2.596373</td>\n",
       "    </tr>\n",
       "    <tr>\n",
       "      <th>bigram__med det</th>\n",
       "      <td>2.655552</td>\n",
       "    </tr>\n",
       "    <tr>\n",
       "      <th>bigram__ikke sidste</th>\n",
       "      <td>2.734142</td>\n",
       "    </tr>\n",
       "  </tbody>\n",
       "</table>\n",
       "<p>242678 rows × 1 columns</p>\n",
       "</div>"
      ],
      "text/plain": [
       "                          score\n",
       "unigram__ingen        -2.950500\n",
       "unigram__ringe        -2.848155\n",
       "character__fup        -2.821715\n",
       "bigram__alt for       -2.803276\n",
       "bigram__ikke anbefale -2.614159\n",
       "...                         ...\n",
       "character__.\\n         2.488166\n",
       "character__4 s         2.519152\n",
       "unigram__tak           2.596373\n",
       "bigram__med det        2.655552\n",
       "bigram__ikke sidste    2.734142\n",
       "\n",
       "[242678 rows x 1 columns]"
      ]
     },
     "execution_count": 167,
     "metadata": {},
     "output_type": "execute_result"
    }
   ],
   "source": []
  },
  {
   "cell_type": "code",
   "execution_count": 42,
   "metadata": {},
   "outputs": [
    {
     "data": {
      "text/plain": [
       "1.5082567509467568"
      ]
     },
     "execution_count": 42,
     "metadata": {},
     "output_type": "execute_result"
    }
   ],
   "source": [
    "model.named_steps[\"clf\"].intercept_[0]"
   ]
  },
  {
   "cell_type": "code",
   "execution_count": 43,
   "metadata": {},
   "outputs": [
    {
     "data": {
      "text/plain": [
       "array([[0.18119729, 0.81880271]])"
      ]
     },
     "execution_count": 43,
     "metadata": {},
     "output_type": "execute_result"
    }
   ],
   "source": [
    "model.predict_proba([\"\"])"
   ]
  }
 ],
 "metadata": {
  "kernelspec": {
   "display_name": "hadithi",
   "language": "python",
   "name": "hadithi"
  },
  "language_info": {
   "codemirror_mode": {
    "name": "ipython",
    "version": 3
   },
   "file_extension": ".py",
   "mimetype": "text/x-python",
   "name": "python",
   "nbconvert_exporter": "python",
   "pygments_lexer": "ipython3",
   "version": "3.8.12"
  }
 },
 "nbformat": 4,
 "nbformat_minor": 4
}
