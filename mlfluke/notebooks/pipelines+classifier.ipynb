{
 "cells": [
  {
   "cell_type": "markdown",
   "metadata": {},
   "source": [
    "# Role of Features in ML Flukes"
   ]
  },
  {
   "cell_type": "code",
   "execution_count": 15,
   "metadata": {},
   "outputs": [
    {
     "name": "stdout",
     "output_type": "stream",
     "text": [
      "Author: Prayson W. Daniel\n",
      "\n",
      "Last updated: 2022-03-21T15:20:40.759393+01:00\n",
      "\n",
      "Python implementation: CPython\n",
      "Python version       : 3.8.12\n",
      "IPython version      : 8.0.1\n",
      "\n",
      "pandas      : 1.4.0\n",
      "numpy       : 1.22.2\n",
      "matplotlib  : 3.5.1\n",
      "scikit-learn: 1.0.2\n",
      "transformers: not installed\n",
      "plotly      : 5.6.0\n",
      "jinja2      : not installed\n",
      "\n",
      "Compiler    : GCC 9.3.0\n",
      "OS          : Linux\n",
      "Release     : 5.10.16.3-microsoft-standard-WSL2\n",
      "Machine     : x86_64\n",
      "Processor   : x86_64\n",
      "CPU cores   : 12\n",
      "Architecture: 64bit\n",
      "\n"
     ]
    }
   ],
   "source": [
    "%reload_ext watermark\n",
    "%watermark -uniz --author \"Prayson W. Daniel\" -vm -p pandas,numpy,matplotlib,scikit-learn,transformers,plotly,jinja2"
   ]
  },
  {
   "cell_type": "code",
   "execution_count": 3,
   "metadata": {
    "tags": []
   },
   "outputs": [],
   "source": [
    "class color:\n",
    "    PURPLE = '\\033[95m'\n",
    "    CYAN = '\\033[96m'\n",
    "    DARKCYAN = '\\033[36m'\n",
    "    BLUE = '\\033[94m'\n",
    "    GREEN = '\\033[92m'\n",
    "    YELLOW = '\\033[93m'\n",
    "    RED = '\\033[91m'\n",
    "    BOLD = '\\033[1m'\n",
    "    UNDERLINE = '\\033[4m'\n",
    "    END = '\\033[0m'"
   ]
  },
  {
   "cell_type": "code",
   "execution_count": 4,
   "metadata": {},
   "outputs": [],
   "source": [
    "import numpy as np\n",
    "import pandas as pd"
   ]
  },
  {
   "cell_type": "code",
   "execution_count": 11,
   "metadata": {},
   "outputs": [],
   "source": [
    "pd.options.plotting.backend = \"plotly\"\n",
    "DATA_URI = \"https://raw.githubusercontent.com/AlessandroGianfelici/danish_reviews_dataset/master/raw_data.txt\""
   ]
  },
  {
   "cell_type": "code",
   "execution_count": 12,
   "metadata": {},
   "outputs": [
    {
     "data": {
      "text/html": [
       "<div>\n",
       "<style scoped>\n",
       "    .dataframe tbody tr th:only-of-type {\n",
       "        vertical-align: middle;\n",
       "    }\n",
       "\n",
       "    .dataframe tbody tr th {\n",
       "        vertical-align: top;\n",
       "    }\n",
       "\n",
       "    .dataframe thead th {\n",
       "        text-align: right;\n",
       "    }\n",
       "</style>\n",
       "<table border=\"1\" class=\"dataframe\">\n",
       "  <thead>\n",
       "    <tr style=\"text-align: right;\">\n",
       "      <th></th>\n",
       "      <th>review_text</th>\n",
       "      <th>review_stars</th>\n",
       "    </tr>\n",
       "  </thead>\n",
       "  <tbody>\n",
       "    <tr>\n",
       "      <th>8274</th>\n",
       "      <td>Lyn hurtigt, effektivt og flot resultat</td>\n",
       "      <td>5</td>\n",
       "    </tr>\n",
       "    <tr>\n",
       "      <th>31870</th>\n",
       "      <td>Selv brændt plastikhår er bedre kvalitet end deres \"ægte luksus remy extensions\".\\n\\nJeg skriver for at brokke mig, da jeg har været extensions bruger igennem 8 år &amp; kun 1 gang før har oplevet så dårlig kvalitet som denne. Forrige leverandør jeg modtog sending fra beklagede selvfølgelig meget &amp; sendte en ny sending uden beregning, som var langt bedre. \\n\\nMEN PHURE DERIMOD begynder at skyde skylden på mig, hvordan jeg behandler håret mv. Når jeg pænt forklarer at jeg altså er uddannet frisør, selv har påsat extensions i min frisørsalon &amp; været extensions bruger igennem 8 år &amp; derfor godt ved hvordan man bør passe &amp; pleje extensions, stopper de så med at svare.\\n\\nJeg kunne inden steder i mine mails finde et ordrenummer jeg kunne referere til heller. Jeg sidder nu med en stor gang plastikkrus, som jeg har betalt 1.200 Kr. for &amp; som jeg hver dag skal bruge oceaner af tid på, for at det kan se nogenlunde anstændigt ud. \\n\\nVirkelig dårlig service!</td>\n",
       "      <td>1</td>\n",
       "    </tr>\n",
       "    <tr>\n",
       "      <th>16862</th>\n",
       "      <td>Fremragende.</td>\n",
       "      <td>5</td>\n",
       "    </tr>\n",
       "  </tbody>\n",
       "</table>\n",
       "</div>"
      ],
      "text/plain": [
       "                                                                                                                                                                                                                                                                                                                                                                                                                                                                                                                                                                                                                                                                                                                                                                                                                                                                                                                                                                                          review_text  \\\n",
       "8274                                                                                                                                                                                                                                                                                                                                                                                                                                                                                                                                                                                                                                                                                                                                                                                                                                                                                                                                                          Lyn hurtigt, effektivt og flot resultat   \n",
       "31870  Selv brændt plastikhår er bedre kvalitet end deres \"ægte luksus remy extensions\".\\n\\nJeg skriver for at brokke mig, da jeg har været extensions bruger igennem 8 år & kun 1 gang før har oplevet så dårlig kvalitet som denne. Forrige leverandør jeg modtog sending fra beklagede selvfølgelig meget & sendte en ny sending uden beregning, som var langt bedre. \\n\\nMEN PHURE DERIMOD begynder at skyde skylden på mig, hvordan jeg behandler håret mv. Når jeg pænt forklarer at jeg altså er uddannet frisør, selv har påsat extensions i min frisørsalon & været extensions bruger igennem 8 år & derfor godt ved hvordan man bør passe & pleje extensions, stopper de så med at svare.\\n\\nJeg kunne inden steder i mine mails finde et ordrenummer jeg kunne referere til heller. Jeg sidder nu med en stor gang plastikkrus, som jeg har betalt 1.200 Kr. for & som jeg hver dag skal bruge oceaner af tid på, for at det kan se nogenlunde anstændigt ud. \\n\\nVirkelig dårlig service!   \n",
       "16862                                                                                                                                                                                                                                                                                                                                                                                                                                                                                                                                                                                                                                                                                                                                                                                                                                                                                                                                                                                    Fremragende.   \n",
       "\n",
       "       review_stars  \n",
       "8274              5  \n",
       "31870             1  \n",
       "16862             5  "
      ]
     },
     "metadata": {},
     "output_type": "display_data"
    }
   ],
   "source": [
    "dataf = pd.read_csv(DATA_URI, usecols=[\"review_text\", \"review_stars\"])\n",
    "\n",
    "with pd.option_context('display.max_colwidth', None):\n",
    "  display(dataf.sample(3, random_state=666))\n"
   ]
  },
  {
   "cell_type": "code",
   "execution_count": 33,
   "metadata": {},
   "outputs": [
    {
     "data": {
      "text/plain": [
       "{'selector': 'caption',\n",
       " 'props': [('text-align', 'center'),\n",
       "  ('font-size', '120%'),\n",
       "  ('color', 'black')]}"
      ]
     },
     "execution_count": 33,
     "metadata": {},
     "output_type": "execute_result"
    }
   ],
   "source": [
    "dict(selector=\"caption\", \n",
    "    props=[(\"text-align\", \"center\"),\n",
    "    (\"font-size\", \"120%\"),\n",
    "    (\"color\", 'black')])"
   ]
  },
  {
   "cell_type": "code",
   "execution_count": 63,
   "metadata": {},
   "outputs": [],
   "source": [
    "def make_pretty(styler):\n",
    "    styler.set_caption(\"Positivity of Danish Reviewers\")\n",
    "    styler.background_gradient(axis=None, vmin=100, vmax=30000, cmap=\"YlGnBu\")\n",
    "    styler.set_table_styles([\n",
    "            {'selector': 'th.col_heading', 'props': 'text-align: center;'},\n",
    "            {'selector': 'th.col_heading.level0', 'props': 'font-size: 1.5em;'},\n",
    "            {'selector': 'td', 'props': 'text-align: center; font-weight: bold;'},\n",
    "            {'selector': 'caption',\n",
    "             'props': 'caption-side: bottom; font-size:0.95em;'},\n",
    "            ], overwrite=False)\n",
    "    \n",
    "    return styler"
   ]
  },
  {
   "cell_type": "code",
   "execution_count": 64,
   "metadata": {},
   "outputs": [
    {
     "data": {
      "text/html": [
       "<style type=\"text/css\">\n",
       "#T_2f003 th.col_heading {\n",
       "  text-align: center;\n",
       "}\n",
       "#T_2f003 th.col_heading.level0 {\n",
       "  font-size: 1.5em;\n",
       "}\n",
       "#T_2f003 td {\n",
       "  text-align: center;\n",
       "  font-weight: bold;\n",
       "}\n",
       "#T_2f003 caption {\n",
       "  caption-side: bottom;\n",
       "  font-size: 0.95em;\n",
       "}\n",
       "#T_2f003_row0_col0 {\n",
       "  background-color: #172978;\n",
       "  color: #f1f1f1;\n",
       "}\n",
       "#T_2f003_row1_col0 {\n",
       "  background-color: #b7e3b6;\n",
       "  color: #000000;\n",
       "}\n",
       "#T_2f003_row2_col0 {\n",
       "  background-color: #f0f9b8;\n",
       "  color: #000000;\n",
       "}\n",
       "#T_2f003_row3_col0 {\n",
       "  background-color: #f9fdcb;\n",
       "  color: #000000;\n",
       "}\n",
       "#T_2f003_row4_col0 {\n",
       "  background-color: #fafdce;\n",
       "  color: #000000;\n",
       "}\n",
       "</style>\n",
       "<table id=\"T_2f003\">\n",
       "  <caption>Positivity of Danish Reviewers</caption>\n",
       "  <thead>\n",
       "    <tr>\n",
       "      <th class=\"blank level0\" >&nbsp;</th>\n",
       "      <th id=\"T_2f003_level0_col0\" class=\"col_heading level0 col0\" >Reviews Count</th>\n",
       "    </tr>\n",
       "    <tr>\n",
       "      <th class=\"index_name level0\" >review_stars</th>\n",
       "      <th class=\"blank col0\" >&nbsp;</th>\n",
       "    </tr>\n",
       "  </thead>\n",
       "  <tbody>\n",
       "    <tr>\n",
       "      <th id=\"T_2f003_level0_row0\" class=\"row_heading level0 row0\" >5</th>\n",
       "      <td id=\"T_2f003_row0_col0\" class=\"data row0 col0\" >27945</td>\n",
       "    </tr>\n",
       "    <tr>\n",
       "      <th id=\"T_2f003_level0_row1\" class=\"row_heading level0 row1\" >1</th>\n",
       "      <td id=\"T_2f003_row1_col0\" class=\"data row1 col0\" >8437</td>\n",
       "    </tr>\n",
       "    <tr>\n",
       "      <th id=\"T_2f003_level0_row2\" class=\"row_heading level0 row2\" >4</th>\n",
       "      <td id=\"T_2f003_row2_col0\" class=\"data row2 col0\" >3170</td>\n",
       "    </tr>\n",
       "    <tr>\n",
       "      <th id=\"T_2f003_level0_row3\" class=\"row_heading level0 row3\" >2</th>\n",
       "      <td id=\"T_2f003_row3_col0\" class=\"data row3 col0\" >1428</td>\n",
       "    </tr>\n",
       "    <tr>\n",
       "      <th id=\"T_2f003_level0_row4\" class=\"row_heading level0 row4\" >3</th>\n",
       "      <td id=\"T_2f003_row4_col0\" class=\"data row4 col0\" >1172</td>\n",
       "    </tr>\n",
       "  </tbody>\n",
       "</table>\n"
      ],
      "text/plain": [
       "<pandas.io.formats.style.Styler at 0x7fb3219a9f10>"
      ]
     },
     "execution_count": 64,
     "metadata": {},
     "output_type": "execute_result"
    }
   ],
   "source": [
    "(\n",
    "    dataf\n",
    "     .groupby(by=[\"review_stars\"])\n",
    "     .nunique()\n",
    "     .sort_values(by=\"review_text\", ascending=False)\n",
    "     .rename(columns={\"review_text\": \"Reviews Count\"})\n",
    "     .style.pipe(make_pretty)\n",
    ")"
   ]
  },
  {
   "cell_type": "code",
   "execution_count": 111,
   "metadata": {},
   "outputs": [
    {
     "data": {
      "text/html": [
       "<style type=\"text/css\">\n",
       "#T_adb40_row0_col1, #T_adb40_row1_col1, #T_adb40_row3_col1, #T_adb40_row5_col1, #T_adb40_row6_col1, #T_adb40_row7_col1, #T_adb40_row8_col1, #T_adb40_row9_col1 {\n",
       "  background-color: green;\n",
       "  opacity: 0.7;\n",
       "  font-weight: bold;\n",
       "}\n",
       "#T_adb40_row2_col1, #T_adb40_row4_col1 {\n",
       "  background-color: darkred;\n",
       "  opacity: 0.7;\n",
       "  font-weight: bold;\n",
       "}\n",
       "</style>\n",
       "<table id=\"T_adb40\">\n",
       "  <caption>Positive | Negative</caption>\n",
       "  <thead>\n",
       "    <tr>\n",
       "      <th class=\"blank level0\" >&nbsp;</th>\n",
       "      <th id=\"T_adb40_level0_col0\" class=\"col_heading level0 col0\" >review_text</th>\n",
       "      <th id=\"T_adb40_level0_col1\" class=\"col_heading level0 col1\" >review_stars</th>\n",
       "      <th id=\"T_adb40_level0_col2\" class=\"col_heading level0 col2\" >sentiment</th>\n",
       "    </tr>\n",
       "  </thead>\n",
       "  <tbody>\n",
       "    <tr>\n",
       "      <th id=\"T_adb40_level0_row0\" class=\"row_heading level0 row0\" >19150</th>\n",
       "      <td id=\"T_adb40_row0_col0\" class=\"data row0 col0\" >Dejligt man kan købe den rigtig størrelse når nu ikke de kan købes i butikkerne. \n",
       "Ordrenr. 246172 (Mht gratis kondomer. Så send kun hvis det er samme størrelse som ordre. Ellers er det spild og vil skade miljøet med transport osv mere end de vil gøre gavn)</td>\n",
       "      <td id=\"T_adb40_row0_col1\" class=\"data row0 col1\" >5</td>\n",
       "      <td id=\"T_adb40_row0_col2\" class=\"data row0 col2\" >1</td>\n",
       "    </tr>\n",
       "    <tr>\n",
       "      <th id=\"T_adb40_level0_row1\" class=\"row_heading level0 row1\" >6194</th>\n",
       "      <td id=\"T_adb40_row1_col0\" class=\"data row1 col0\" >nem hjemmeside, gode priser og hurtig levering</td>\n",
       "      <td id=\"T_adb40_row1_col1\" class=\"data row1 col1\" >5</td>\n",
       "      <td id=\"T_adb40_row1_col2\" class=\"data row1 col2\" >1</td>\n",
       "    </tr>\n",
       "    <tr>\n",
       "      <th id=\"T_adb40_level0_row2\" class=\"row_heading level0 row2\" >35684</th>\n",
       "      <td id=\"T_adb40_row2_col0\" class=\"data row2 col0\" >Har købt nærmest alt indenfor Bitz, da vi synes det er et enormt smukt stel. Men nu var vi oplevet at vores ildfaste fad flækkede efter ovn, altså alm. 200 grader. Fadet flækkede midt over. Burde ikke ske, når det er robust og ildfast. Nu er endnu 2 frokosttallekener også flækket og vi gider simpelthen ikke at købe mere, når det blot flækker af enten ovn eller opvaskemaskine. Super ærgerligt! Men vil absolut ikke anbefale nogen at købe Bitz.</td>\n",
       "      <td id=\"T_adb40_row2_col1\" class=\"data row2 col1\" >1</td>\n",
       "      <td id=\"T_adb40_row2_col2\" class=\"data row2 col2\" >0</td>\n",
       "    </tr>\n",
       "    <tr>\n",
       "      <th id=\"T_adb40_level0_row3\" class=\"row_heading level0 row3\" >27361</th>\n",
       "      <td id=\"T_adb40_row3_col0\" class=\"data row3 col0\" >Det var lige i skabet uden problemer. Super service.</td>\n",
       "      <td id=\"T_adb40_row3_col1\" class=\"data row3 col1\" >5</td>\n",
       "      <td id=\"T_adb40_row3_col2\" class=\"data row3 col2\" >1</td>\n",
       "    </tr>\n",
       "    <tr>\n",
       "      <th id=\"T_adb40_level0_row4\" class=\"row_heading level0 row4\" >35906</th>\n",
       "      <td id=\"T_adb40_row4_col0\" class=\"data row4 col0\" >På forsiden af ugens reklame kunne man se at der var tilbud på et 40\" Philips TV \" Spar 1000 kr\"  \" Max 1 pr. kunde \"\r\n",
       "I butikken har det fået en anden lyd- nu er besparelsen 300 kr - og ingen begrænsning .\r\n",
       "Nå, vi fandt et LG 47 tommer til 3899,- . Heldigvis checkede vi Elgigantens hjemmeside . Her kan man få det samme tv for 3500 ,- frit leveret .\r\n",
       "\r\n",
       "Vi skulle også kigge på nogle baderumsmøbler .\r\n",
       "Store plakater med \" 50% rabat på alle baderumsmiljøer \"\r\n",
       "Ingen af de udstillede modeller var prismærkede , men udstyret med et skilt om at de kun kunne købes på bolkas hjemmeside .\r\n",
       "Problemet var så at hjemmesiden meddelte at den ikke fungerede pga. opdatering - og man kunne hverken se eller købe baderumsmøbler .\r\n",
       "\r\n",
       "På de betingelser kunne de lige så godt slge med 100% rabat .\r\n",
       "\r\n",
       "Desværre har vi haft lignende oplevelser med BIlka tidligere - så besøgene er blevet færre med årene . Nu holder de så helt op !!!</td>\n",
       "      <td id=\"T_adb40_row4_col1\" class=\"data row4 col1\" >2</td>\n",
       "      <td id=\"T_adb40_row4_col2\" class=\"data row4 col2\" >0</td>\n",
       "    </tr>\n",
       "    <tr>\n",
       "      <th id=\"T_adb40_level0_row5\" class=\"row_heading level0 row5\" >21593</th>\n",
       "      <td id=\"T_adb40_row5_col0\" class=\"data row5 col0\" >cpsms.dk leverer virkelig varen til en rigtig god pris. Jeg benyttede også deres kundeservice, hvor der var venlig hjælp og resolut svar på mit spørgsmål.\r\n",
       "Kan uden forbehold anbefale cpsms.dk.</td>\n",
       "      <td id=\"T_adb40_row5_col1\" class=\"data row5 col1\" >5</td>\n",
       "      <td id=\"T_adb40_row5_col2\" class=\"data row5 col2\" >1</td>\n",
       "    </tr>\n",
       "    <tr>\n",
       "      <th id=\"T_adb40_level0_row6\" class=\"row_heading level0 row6\" >26842</th>\n",
       "      <td id=\"T_adb40_row6_col0\" class=\"data row6 col0\" >Det let at bestille og det hele godkendt inden et døgn om så det var søndag</td>\n",
       "      <td id=\"T_adb40_row6_col1\" class=\"data row6 col1\" >5</td>\n",
       "      <td id=\"T_adb40_row6_col2\" class=\"data row6 col2\" >1</td>\n",
       "    </tr>\n",
       "    <tr>\n",
       "      <th id=\"T_adb40_level0_row7\" class=\"row_heading level0 row7\" >14782</th>\n",
       "      <td id=\"T_adb40_row7_col0\" class=\"data row7 col0\" >Super service og en rigtig god snak</td>\n",
       "      <td id=\"T_adb40_row7_col1\" class=\"data row7 col1\" >5</td>\n",
       "      <td id=\"T_adb40_row7_col2\" class=\"data row7 col2\" >1</td>\n",
       "    </tr>\n",
       "    <tr>\n",
       "      <th id=\"T_adb40_level0_row8\" class=\"row_heading level0 row8\" >11878</th>\n",
       "      <td id=\"T_adb40_row8_col0\" class=\"data row8 col0\" >God service og hurtig levering,  jeg er fuldtilfreds.</td>\n",
       "      <td id=\"T_adb40_row8_col1\" class=\"data row8 col1\" >5</td>\n",
       "      <td id=\"T_adb40_row8_col2\" class=\"data row8 col2\" >1</td>\n",
       "    </tr>\n",
       "    <tr>\n",
       "      <th id=\"T_adb40_level0_row9\" class=\"row_heading level0 row9\" >6237</th>\n",
       "      <td id=\"T_adb40_row9_col0\" class=\"data row9 col0\" >Top glasses fast delivery</td>\n",
       "      <td id=\"T_adb40_row9_col1\" class=\"data row9 col1\" >5</td>\n",
       "      <td id=\"T_adb40_row9_col2\" class=\"data row9 col2\" >1</td>\n",
       "    </tr>\n",
       "  </tbody>\n",
       "</table>\n"
      ],
      "text/plain": [
       "<pandas.io.formats.style.Styler at 0x7fb31ee53f10>"
      ]
     },
     "execution_count": 111,
     "metadata": {},
     "output_type": "execute_result"
    }
   ],
   "source": [
    "def highlight_colors(data, color, other_color=None):\n",
    "    if other_color:\n",
    "        other_color = f\"background-color: {other_color}; opacity: 0.7; font-weight: bold;\"\n",
    "        \n",
    "    return np.where(data > 3, \n",
    "                    f\"background-color: {color}; opacity: 0.7; font-weight: bold;\" ,\n",
    "                    other_color)\n",
    "\n",
    "\n",
    "def sentiment_pretty(styler):\n",
    "    styler.set_caption(\"Positive | Negative\")\n",
    "    styler.apply(highlight_colors, \n",
    "                 color=\"green\", \n",
    "                 other_color=\"darkred\",\n",
    "                 subset=[\"review_stars\",])\n",
    "\n",
    "    return styler\n",
    "\n",
    "\n",
    "\n",
    "\n",
    "(\n",
    "    dataf\n",
    "     .assign(sentiment = np.where(dataf[\"review_stars\"].gt(3), 1, 0))\n",
    "     .sample(10, random_state=42)\n",
    "     .style.pipe(sentiment_pretty)\n",
    ")"
   ]
  },
  {
   "cell_type": "code",
   "execution_count": 112,
   "metadata": {},
   "outputs": [],
   "source": [
    "datat = (\n",
    "            dataf\n",
    "             .assign(sentiment = np.where(dataf[\"review_stars\"].gt(3), 1, 0))\n",
    "             # .sample(10, random_state=42)\n",
    "    )"
   ]
  },
  {
   "cell_type": "code",
   "execution_count": 113,
   "metadata": {},
   "outputs": [
    {
     "data": {
      "text/plain": [
       "Int64Index([19150,  6194, 35684, 27361, 35906, 21593, 26842, 14782, 11878,\n",
       "             6237,  6366,  3933, 29534, 18636, 37134, 24775, 37485, 40922,\n",
       "             7175, 41691, 27394, 43722, 41440,  9060, 33017, 37800,  6234,\n",
       "            33131,  6244, 31033, 18094, 18491,   343, 11029, 33301, 19858,\n",
       "             8541, 33348, 38990, 43832,   884,  2189, 33357, 42644, 11260,\n",
       "            39990, 32610,  2746, 35265, 23420, 17792,   116, 13267, 42476,\n",
       "            33393, 23068, 33157, 14600, 42026, 13956, 27984, 18578, 21954,\n",
       "            12824, 11601, 24128, 31151, 22795, 37287, 14831, 32553, 15220,\n",
       "            39947, 38222,  5525, 43567, 36585, 29395, 20196, 34174, 16504,\n",
       "            12006, 23679,  4165,  4859,  3858, 19227, 32277, 23076, 26084,\n",
       "             1673,  9162, 25704, 43924, 30777, 30827, 40119, 18237, 41948,\n",
       "            17649],\n",
       "           dtype='int64')"
      ]
     },
     "execution_count": 113,
     "metadata": {},
     "output_type": "execute_result"
    }
   ],
   "source": [
    "RANDOM_STATE = 42\n",
    "(datat\n",
    "     .assign(sentiment = np.where(dataf[\"review_stars\"].gt(3), 1, 0))\n",
    "     .sample(100, random_state=RANDOM_STATE)\n",
    "     .index\n",
    ")"
   ]
  },
  {
   "cell_type": "code",
   "execution_count": 114,
   "metadata": {},
   "outputs": [],
   "source": [
    "test_data_index = (datat\n",
    "     .sample(100, random_state=RANDOM_STATE)\n",
    "     .index\n",
    ")"
   ]
  },
  {
   "cell_type": "code",
   "execution_count": 115,
   "metadata": {},
   "outputs": [],
   "source": [
    "validation_data = datat.loc[test_data_index]"
   ]
  },
  {
   "cell_type": "code",
   "execution_count": 116,
   "metadata": {},
   "outputs": [
    {
     "data": {
      "text/html": [
       "<div>\n",
       "<style scoped>\n",
       "    .dataframe tbody tr th:only-of-type {\n",
       "        vertical-align: middle;\n",
       "    }\n",
       "\n",
       "    .dataframe tbody tr th {\n",
       "        vertical-align: top;\n",
       "    }\n",
       "\n",
       "    .dataframe thead th {\n",
       "        text-align: right;\n",
       "    }\n",
       "</style>\n",
       "<table border=\"1\" class=\"dataframe\">\n",
       "  <thead>\n",
       "    <tr style=\"text-align: right;\">\n",
       "      <th></th>\n",
       "      <th>review_text</th>\n",
       "      <th>review_stars</th>\n",
       "      <th>sentiment</th>\n",
       "    </tr>\n",
       "  </thead>\n",
       "  <tbody>\n",
       "    <tr>\n",
       "      <th>10708</th>\n",
       "      <td>3. gang jeg leaser hos BMC. Intet negativt at ...</td>\n",
       "      <td>5</td>\n",
       "      <td>1</td>\n",
       "    </tr>\n",
       "    <tr>\n",
       "      <th>8164</th>\n",
       "      <td>Har ringet til jer 5 gange INDE i telefon tide...</td>\n",
       "      <td>4</td>\n",
       "      <td>1</td>\n",
       "    </tr>\n",
       "    <tr>\n",
       "      <th>19599</th>\n",
       "      <td>Vi har aldrig problemer med noget af det YouSe...</td>\n",
       "      <td>5</td>\n",
       "      <td>1</td>\n",
       "    </tr>\n",
       "    <tr>\n",
       "      <th>2533</th>\n",
       "      <td>Fuldt ud tilfreds!\\n\\nJeg har bestilt varer he...</td>\n",
       "      <td>5</td>\n",
       "      <td>1</td>\n",
       "    </tr>\n",
       "    <tr>\n",
       "      <th>25833</th>\n",
       "      <td>Vældigt god oplevelse med indlyttende og dygti...</td>\n",
       "      <td>5</td>\n",
       "      <td>1</td>\n",
       "    </tr>\n",
       "  </tbody>\n",
       "</table>\n",
       "</div>"
      ],
      "text/plain": [
       "                                             review_text  review_stars  \\\n",
       "10708  3. gang jeg leaser hos BMC. Intet negativt at ...             5   \n",
       "8164   Har ringet til jer 5 gange INDE i telefon tide...             4   \n",
       "19599  Vi har aldrig problemer med noget af det YouSe...             5   \n",
       "2533   Fuldt ud tilfreds!\\n\\nJeg har bestilt varer he...             5   \n",
       "25833  Vældigt god oplevelse med indlyttende og dygti...             5   \n",
       "\n",
       "       sentiment  \n",
       "10708          1  \n",
       "8164           1  \n",
       "19599          1  \n",
       "2533           1  \n",
       "25833          1  "
      ]
     },
     "execution_count": 116,
     "metadata": {},
     "output_type": "execute_result"
    }
   ],
   "source": [
    "data = datat[~datat.index.isin(test_data_index)]\n",
    "\n",
    "data.sample(5, random_state=42)"
   ]
  },
  {
   "cell_type": "code",
   "execution_count": 117,
   "metadata": {},
   "outputs": [
    {
     "data": {
      "text/html": [
       "<div>\n",
       "<style scoped>\n",
       "    .dataframe tbody tr th:only-of-type {\n",
       "        vertical-align: middle;\n",
       "    }\n",
       "\n",
       "    .dataframe tbody tr th {\n",
       "        vertical-align: top;\n",
       "    }\n",
       "\n",
       "    .dataframe thead th {\n",
       "        text-align: right;\n",
       "    }\n",
       "</style>\n",
       "<table border=\"1\" class=\"dataframe\">\n",
       "  <thead>\n",
       "    <tr style=\"text-align: right;\">\n",
       "      <th></th>\n",
       "      <th>observations</th>\n",
       "    </tr>\n",
       "    <tr>\n",
       "      <th>sentiment</th>\n",
       "      <th></th>\n",
       "    </tr>\n",
       "  </thead>\n",
       "  <tbody>\n",
       "    <tr>\n",
       "      <th>positive</th>\n",
       "      <td>32958</td>\n",
       "    </tr>\n",
       "    <tr>\n",
       "      <th>negative</th>\n",
       "      <td>11027</td>\n",
       "    </tr>\n",
       "  </tbody>\n",
       "</table>\n",
       "</div>"
      ],
      "text/plain": [
       "           observations\n",
       "sentiment              \n",
       "positive          32958\n",
       "negative          11027"
      ]
     },
     "execution_count": 117,
     "metadata": {},
     "output_type": "execute_result"
    }
   ],
   "source": [
    "# We know the data is biased toward positivity. We have to trade carefully\n",
    "# We could use weighted sample, down sample, up sample or use models that careless about this issue\n",
    "(\n",
    "    data[[\"sentiment\"]]\n",
    "     .value_counts()\n",
    "     .rename(index ={0: \"negative\", 1:\"positive\"})\n",
    "     .to_frame(name=\"observations\")\n",
    "     \n",
    ")"
   ]
  },
  {
   "cell_type": "code",
   "execution_count": 118,
   "metadata": {},
   "outputs": [],
   "source": [
    "from sklearn.model_selection import train_test_split\n",
    "from sklearn.pipeline import Pipeline\n",
    "from sklearn.pipeline import FeatureUnion\n",
    "from sklearn.feature_selection import SelectKBest, chi2\n",
    "from sklearn.feature_extraction.text import CountVectorizer\n",
    "from sklearn.linear_model import SGDClassifier"
   ]
  },
  {
   "cell_type": "code",
   "execution_count": 120,
   "metadata": {},
   "outputs": [],
   "source": [
    "import re\n",
    "def tokenizer(blob, stop_words=None, remove_digits=True):\n",
    "\n",
    "    if stop_words is None:\n",
    "        stop_words = {}\n",
    "    \n",
    "    blob = blob.lower()\n",
    "    \n",
    "     # eyes [nose] mouth | mouth [nose] eyes pattern\n",
    "    emoticons = r\"(?:[<>]?[:;=8][\\-o\\*\\']?[\\)\\]\\(\\[dDpP/\\:\\}\\{@\\|\\\\]|[\\)\\]\\(\\[dDpP/\\:\\}\\{@\\|\\\\][\\-o\\*\\']?[:;=8][<>]?)\"\n",
    "    emoticon_re = re.compile(emoticons, re.VERBOSE | re.I | re.UNICODE)\n",
    "    \n",
    "    text = re.sub(r'[\\W]+', ' ', blob)\n",
    "    \n",
    "    # remove 3+ repetitive characters i.e. hellllo -> hello, jaaaa -> jaa \n",
    "    repetitions = re.compile(r'(.)\\1{2,}')\n",
    "    text = repetitions.sub(r'\\1\\1', text)\n",
    "    \n",
    "    # remove 2+ repetitive words e.g. hej hej hej -> hej\n",
    "    \n",
    "    repetitions = re.compile(r'\\b(\\w+)\\s+(\\1\\s*)+\\b')\n",
    "    text = repetitions.sub(r'\\1 ', text)\n",
    "    \n",
    "    \n",
    "    emoji = ''.join(re.findall(emoticon_re, blob))\n",
    "    \n",
    "       \n",
    "    # remove stopwords\n",
    "    if stop_words:\n",
    "        text = [word for word in text.split() if word not in stop_words]\n",
    "    \n",
    "\n",
    "    \n",
    "    if remove_digits:\n",
    "        text = re.sub(r'\\b\\d+\\b', '', text)\n",
    "    \n",
    "\n",
    "    # remove extra spaces\n",
    "    text = ' '.join(text.split())\n",
    "    result = f'{text} {emoji}'.encode('utf-8').decode('utf-8')\n",
    "       \n",
    "    \n",
    "    return result.split()"
   ]
  },
  {
   "cell_type": "code",
   "execution_count": 227,
   "metadata": {},
   "outputs": [],
   "source": [
    "from stopwords import da"
   ]
  },
  {
   "cell_type": "code",
   "execution_count": 231,
   "metadata": {},
   "outputs": [],
   "source": [
    "# avoids mismatch is Sklearn Pipeline\n",
    "STOP_WORDS = frozenset(tokenizer(' '.join(word for word in da)))"
   ]
  },
  {
   "cell_type": "code",
   "execution_count": 233,
   "metadata": {},
   "outputs": [],
   "source": [
    "features = FeatureUnion(\n",
    "    transformer_list=[(\"unigram\",CountVectorizer(\n",
    "                        ngram_range=(1, 1),\n",
    "                        max_features=150000,\n",
    "                        tokenizer=tokenizer,\n",
    "                        stop_words=STOP_WORDS\n",
    "                                ),\n",
    "                      ),\n",
    "                      (\"bigram\",CountVectorizer(\n",
    "                                    ngram_range=(2, 2),\n",
    "                                    max_features=150000,\n",
    "                                    tokenizer=tokenizer,\n",
    "                                ),\n",
    "                        ),\n",
    "                   (\"char\", CountVectorizer(tokenizer=tokenizer, \n",
    "                                 analyzer=\"char\", \n",
    "                                 ngram_range=(4, 5))),]\n",
    "    \n",
    "    \n",
    ")\n",
    "\n"
   ]
  },
  {
   "cell_type": "code",
   "execution_count": 171,
   "metadata": {},
   "outputs": [],
   "source": [
    "X, y = data[\"review_text\"], data[\"sentiment\"]\n",
    "\n",
    "X_train, X_test, y_train, y_test = train_test_split(X, y, \n",
    "                                                    train_size=.9, \n",
    "                                                    random_state=42, \n",
    "                                                    stratify=y\n",
    "                                                   )"
   ]
  },
  {
   "cell_type": "code",
   "execution_count": 172,
   "metadata": {},
   "outputs": [
    {
     "name": "stdout",
     "output_type": "stream",
     "text": [
      "\u001b[1m\u001b[94mTraining Data /dɪstrɪˈbjuːʃ(ə)n/\u001b[0m\n"
     ]
    },
    {
     "data": {
      "text/html": [
       "<div>\n",
       "<style scoped>\n",
       "    .dataframe tbody tr th:only-of-type {\n",
       "        vertical-align: middle;\n",
       "    }\n",
       "\n",
       "    .dataframe tbody tr th {\n",
       "        vertical-align: top;\n",
       "    }\n",
       "\n",
       "    .dataframe thead th {\n",
       "        text-align: right;\n",
       "    }\n",
       "</style>\n",
       "<table border=\"1\" class=\"dataframe\">\n",
       "  <thead>\n",
       "    <tr style=\"text-align: right;\">\n",
       "      <th></th>\n",
       "      <th>sentiment</th>\n",
       "    </tr>\n",
       "  </thead>\n",
       "  <tbody>\n",
       "    <tr>\n",
       "      <th>positive</th>\n",
       "      <td>0.749305</td>\n",
       "    </tr>\n",
       "    <tr>\n",
       "      <th>negative</th>\n",
       "      <td>0.250695</td>\n",
       "    </tr>\n",
       "  </tbody>\n",
       "</table>\n",
       "</div>"
      ],
      "text/plain": [
       "          sentiment\n",
       "positive   0.749305\n",
       "negative   0.250695"
      ]
     },
     "execution_count": 172,
     "metadata": {},
     "output_type": "execute_result"
    }
   ],
   "source": [
    "print(f\"{color.BOLD}{color.BLUE}Training Data /dɪstrɪˈbjuːʃ(ə)n/{color.END}\") \n",
    "y_train.value_counts(normalize=True).to_frame().rename(index ={0: \"negative\", 1:\"positive\"})"
   ]
  },
  {
   "cell_type": "code",
   "execution_count": 173,
   "metadata": {},
   "outputs": [
    {
     "name": "stdout",
     "output_type": "stream",
     "text": [
      "\u001b[1m\u001b[94mTest Data /dɪstrɪˈbjuːʃ(ə)n/\n"
     ]
    },
    {
     "data": {
      "text/html": [
       "<div>\n",
       "<style scoped>\n",
       "    .dataframe tbody tr th:only-of-type {\n",
       "        vertical-align: middle;\n",
       "    }\n",
       "\n",
       "    .dataframe tbody tr th {\n",
       "        vertical-align: top;\n",
       "    }\n",
       "\n",
       "    .dataframe thead th {\n",
       "        text-align: right;\n",
       "    }\n",
       "</style>\n",
       "<table border=\"1\" class=\"dataframe\">\n",
       "  <thead>\n",
       "    <tr style=\"text-align: right;\">\n",
       "      <th></th>\n",
       "      <th>sentiment</th>\n",
       "    </tr>\n",
       "  </thead>\n",
       "  <tbody>\n",
       "    <tr>\n",
       "      <th>positive</th>\n",
       "      <td>0.749261</td>\n",
       "    </tr>\n",
       "    <tr>\n",
       "      <th>negative</th>\n",
       "      <td>0.250739</td>\n",
       "    </tr>\n",
       "  </tbody>\n",
       "</table>\n",
       "</div>"
      ],
      "text/plain": [
       "          sentiment\n",
       "positive   0.749261\n",
       "negative   0.250739"
      ]
     },
     "execution_count": 173,
     "metadata": {},
     "output_type": "execute_result"
    }
   ],
   "source": [
    "print(f\"{color.BOLD}{color.BLUE}Test Data /dɪstrɪˈbjuːʃ(ə)n/\") \n",
    "y_test.value_counts(normalize=True).to_frame().rename(index ={0: \"negative\", 1:\"positive\"})"
   ]
  },
  {
   "cell_type": "code",
   "execution_count": 234,
   "metadata": {},
   "outputs": [],
   "source": [
    "# Beauty of Scikit-learn is the easy of \n",
    "model = Pipeline(\n",
    "    [\n",
    "        (\"tranformers\", features),\n",
    "        (\"reduce\", SelectKBest(chi2, k=15000)),\n",
    "        (\"clf\", SGDClassifier(loss=\"log\")),\n",
    "    ] \n",
    ")"
   ]
  },
  {
   "cell_type": "code",
   "execution_count": 235,
   "metadata": {},
   "outputs": [
    {
     "name": "stdout",
     "output_type": "stream",
     "text": [
      "CPU times: user 25.6 s, sys: 2.3 s, total: 27.9 s\n",
      "Wall time: 25.7 s\n"
     ]
    },
    {
     "data": {
      "text/plain": [
       "Pipeline(steps=[('tranformers',\n",
       "                 FeatureUnion(transformer_list=[('unigram',\n",
       "                                                 CountVectorizer(max_features=150000,\n",
       "                                                                 stop_words=frozenset({'a',\n",
       "                                                                                       'ad',\n",
       "                                                                                       'af',\n",
       "                                                                                       'aldrig',\n",
       "                                                                                       'alene',\n",
       "                                                                                       'alle',\n",
       "                                                                                       'allerede',\n",
       "                                                                                       'alligevel',\n",
       "                                                                                       'alt',\n",
       "                                                                                       'altid',\n",
       "                                                                                       'anden',\n",
       "                                                                                       'andet',\n",
       "                                                                                       'andre',\n",
       "                                                                                       'at',\n",
       "                                                                                       'bag',\n",
       "                                                                                       'bare',\n",
       "                                                                                       'begge',\n",
       "                                                                                       'bl',\n",
       "                                                                                       'blandt',\n",
       "                                                                                       'blev',\n",
       "                                                                                       'blive',\n",
       "                                                                                       'bliver',\n",
       "                                                                                       'burde',\n",
       "                                                                                       'bør',\n",
       "                                                                                       'ca',\n",
       "                                                                                       'da',\n",
       "                                                                                       'de',\n",
       "                                                                                       'dem',\n",
       "                                                                                       'den',\n",
       "                                                                                       'denne', ...}),\n",
       "                                                                 t...at 0x7fb30c2603a0>)),\n",
       "                                                ('bigram',\n",
       "                                                 CountVectorizer(max_features=150000,\n",
       "                                                                 ngram_range=(2,\n",
       "                                                                              2),\n",
       "                                                                 tokenizer=<function tokenizer at 0x7fb30c2603a0>)),\n",
       "                                                ('char',\n",
       "                                                 CountVectorizer(analyzer='char',\n",
       "                                                                 ngram_range=(4,\n",
       "                                                                              5),\n",
       "                                                                 tokenizer=<function tokenizer at 0x7fb30c2603a0>))])),\n",
       "                ('reduce',\n",
       "                 SelectKBest(k=15000,\n",
       "                             score_func=<function chi2 at 0x7fb30c60a3a0>)),\n",
       "                ('clf', SGDClassifier(loss='log'))])"
      ]
     },
     "execution_count": 235,
     "metadata": {},
     "output_type": "execute_result"
    }
   ],
   "source": [
    "%%time\n",
    "model.fit(X_train, y_train)"
   ]
  },
  {
   "cell_type": "code",
   "execution_count": 202,
   "metadata": {},
   "outputs": [
    {
     "data": {
      "text/plain": [
       "0.934985223914526"
      ]
     },
     "execution_count": 202,
     "metadata": {},
     "output_type": "execute_result"
    }
   ],
   "source": [
    "model.score(X_test, y_test)"
   ]
  },
  {
   "cell_type": "code",
   "execution_count": 203,
   "metadata": {},
   "outputs": [],
   "source": [
    "y_pred = model.predict(X_test)"
   ]
  },
  {
   "cell_type": "code",
   "execution_count": 178,
   "metadata": {},
   "outputs": [],
   "source": [
    "from sklearn.metrics import ConfusionMatrixDisplay"
   ]
  },
  {
   "cell_type": "code",
   "execution_count": 204,
   "metadata": {},
   "outputs": [
    {
     "name": "stdout",
     "output_type": "stream",
     "text": [
      "\u001b[1m\u001b[36m Unconfused Confusion Matrix\n"
     ]
    },
    {
     "data": {
      "image/png": "[encoded data removed]",
      "text/plain": [
       "<Figure size 432x288 with 2 Axes>"
      ]
     },
     "metadata": {
      "needs_background": "light"
     },
     "output_type": "display_data"
    }
   ],
   "source": [
    "print(f\"{color.BOLD}{color.DARKCYAN} Unconfused Confusion Matrix\") \n",
    "ConfusionMatrixDisplay.from_predictions(y_test, y_pred);"
   ]
  },
  {
   "cell_type": "code",
   "execution_count": 180,
   "metadata": {},
   "outputs": [],
   "source": [
    "from sklearn.metrics import classification_report"
   ]
  },
  {
   "cell_type": "code",
   "execution_count": 205,
   "metadata": {},
   "outputs": [
    {
     "name": "stdout",
     "output_type": "stream",
     "text": [
      "\u001b[1m\u001b[94m ✔️ Classification Report\u001b[0m\u001b[92m\n",
      "              precision    recall  f1-score   support\n",
      "\n",
      "    negative       0.90      0.83      0.86      1103\n",
      "    positive       0.94      0.97      0.96      3296\n",
      "\n",
      "    accuracy                           0.93      4399\n",
      "   macro avg       0.92      0.90      0.91      4399\n",
      "weighted avg       0.93      0.93      0.93      4399\n",
      "\n"
     ]
    }
   ],
   "source": [
    "print(f\"{color.BOLD}{color.BLUE} ✔️ Classification Report{color.END}{color.GREEN}\") \n",
    "print(classification_report(y_test, y_pred, target_names=[\"negative\", \"positive\"]))"
   ]
  },
  {
   "cell_type": "raw",
   "metadata": {},
   "source": [
    "precision = 1 + TP/FP\n",
    "recall    = 1 + TP/FN\n",
    "f1        = 2 * precision * recall/(precision + recall)"
   ]
  },
  {
   "cell_type": "code",
   "execution_count": 206,
   "metadata": {},
   "outputs": [
    {
     "data": {
      "text/html": [
       "<div>\n",
       "<style scoped>\n",
       "    .dataframe tbody tr th:only-of-type {\n",
       "        vertical-align: middle;\n",
       "    }\n",
       "\n",
       "    .dataframe tbody tr th {\n",
       "        vertical-align: top;\n",
       "    }\n",
       "\n",
       "    .dataframe thead th {\n",
       "        text-align: right;\n",
       "    }\n",
       "</style>\n",
       "<table border=\"1\" class=\"dataframe\">\n",
       "  <thead>\n",
       "    <tr style=\"text-align: right;\">\n",
       "      <th></th>\n",
       "      <th>review_text</th>\n",
       "      <th>review_stars</th>\n",
       "      <th>sentiment</th>\n",
       "      <th>score</th>\n",
       "    </tr>\n",
       "  </thead>\n",
       "  <tbody>\n",
       "    <tr>\n",
       "      <th>35906</th>\n",
       "      <td>På forsiden af ugens reklame kunne man se at d...</td>\n",
       "      <td>2</td>\n",
       "      <td>0</td>\n",
       "      <td>0</td>\n",
       "    </tr>\n",
       "    <tr>\n",
       "      <th>41948</th>\n",
       "      <td>Hej Thomas Cook \\nJeg synes ellers i er et god...</td>\n",
       "      <td>2</td>\n",
       "      <td>0</td>\n",
       "      <td>0</td>\n",
       "    </tr>\n",
       "    <tr>\n",
       "      <th>11601</th>\n",
       "      <td>Professionel betjening og hurtig levering</td>\n",
       "      <td>5</td>\n",
       "      <td>1</td>\n",
       "      <td>1</td>\n",
       "    </tr>\n",
       "    <tr>\n",
       "      <th>9060</th>\n",
       "      <td>Fantastisk firma, super service, lækkert indpa...</td>\n",
       "      <td>5</td>\n",
       "      <td>1</td>\n",
       "      <td>1</td>\n",
       "    </tr>\n",
       "    <tr>\n",
       "      <th>6234</th>\n",
       "      <td>Helt igennem dårlig .\\nJeg har returneret vare...</td>\n",
       "      <td>1</td>\n",
       "      <td>0</td>\n",
       "      <td>0</td>\n",
       "    </tr>\n",
       "    <tr>\n",
       "      <th>23068</th>\n",
       "      <td>Min cavalier King Charles spaniel har lige fåe...</td>\n",
       "      <td>5</td>\n",
       "      <td>1</td>\n",
       "      <td>1</td>\n",
       "    </tr>\n",
       "    <tr>\n",
       "      <th>6366</th>\n",
       "      <td>Der er ikke noget at klage over. Utrolig flink...</td>\n",
       "      <td>5</td>\n",
       "      <td>1</td>\n",
       "      <td>1</td>\n",
       "    </tr>\n",
       "    <tr>\n",
       "      <th>24775</th>\n",
       "      <td>Må desværre også melde ind at man skal være yd...</td>\n",
       "      <td>1</td>\n",
       "      <td>0</td>\n",
       "      <td>0</td>\n",
       "    </tr>\n",
       "    <tr>\n",
       "      <th>42644</th>\n",
       "      <td>Jeg har uden tvivl mødt de mest omsorgsfulde o...</td>\n",
       "      <td>5</td>\n",
       "      <td>1</td>\n",
       "      <td>1</td>\n",
       "    </tr>\n",
       "    <tr>\n",
       "      <th>33301</th>\n",
       "      <td>meget hurtig levering. Produktet (læderforklæd...</td>\n",
       "      <td>5</td>\n",
       "      <td>1</td>\n",
       "      <td>1</td>\n",
       "    </tr>\n",
       "  </tbody>\n",
       "</table>\n",
       "</div>"
      ],
      "text/plain": [
       "                                             review_text  review_stars  \\\n",
       "35906  På forsiden af ugens reklame kunne man se at d...             2   \n",
       "41948  Hej Thomas Cook \\nJeg synes ellers i er et god...             2   \n",
       "11601          Professionel betjening og hurtig levering             5   \n",
       "9060   Fantastisk firma, super service, lækkert indpa...             5   \n",
       "6234   Helt igennem dårlig .\\nJeg har returneret vare...             1   \n",
       "23068  Min cavalier King Charles spaniel har lige fåe...             5   \n",
       "6366   Der er ikke noget at klage over. Utrolig flink...             5   \n",
       "24775  Må desværre også melde ind at man skal være yd...             1   \n",
       "42644  Jeg har uden tvivl mødt de mest omsorgsfulde o...             5   \n",
       "33301  meget hurtig levering. Produktet (læderforklæd...             5   \n",
       "\n",
       "       sentiment  score  \n",
       "35906          0      0  \n",
       "41948          0      0  \n",
       "11601          1      1  \n",
       "9060           1      1  \n",
       "6234           0      0  \n",
       "23068          1      1  \n",
       "6366           1      1  \n",
       "24775          0      0  \n",
       "42644          1      1  \n",
       "33301          1      1  "
      ]
     },
     "execution_count": 206,
     "metadata": {},
     "output_type": "execute_result"
    }
   ],
   "source": [
    "(\n",
    "    validation_data\n",
    "    .assign(score = lambda d: model.predict(d[\"review_text\"]))\n",
    "    .sample(10)\n",
    ")"
   ]
  },
  {
   "cell_type": "code",
   "execution_count": 207,
   "metadata": {},
   "outputs": [
    {
     "data": {
      "text/html": [
       "<div>\n",
       "<style scoped>\n",
       "    .dataframe tbody tr th:only-of-type {\n",
       "        vertical-align: middle;\n",
       "    }\n",
       "\n",
       "    .dataframe tbody tr th {\n",
       "        vertical-align: top;\n",
       "    }\n",
       "\n",
       "    .dataframe thead th {\n",
       "        text-align: right;\n",
       "    }\n",
       "</style>\n",
       "<table border=\"1\" class=\"dataframe\">\n",
       "  <thead>\n",
       "    <tr style=\"text-align: right;\">\n",
       "      <th></th>\n",
       "      <th>review_text</th>\n",
       "      <th>review_stars</th>\n",
       "      <th>sentiment</th>\n",
       "      <th>score</th>\n",
       "    </tr>\n",
       "  </thead>\n",
       "  <tbody>\n",
       "    <tr>\n",
       "      <th>19150</th>\n",
       "      <td>Dejligt man kan købe den rigtig størrelse når ...</td>\n",
       "      <td>5</td>\n",
       "      <td>1</td>\n",
       "      <td>0</td>\n",
       "    </tr>\n",
       "    <tr>\n",
       "      <th>29534</th>\n",
       "      <td>Pakken kom 1 dag for sent end forventet i følg...</td>\n",
       "      <td>1</td>\n",
       "      <td>0</td>\n",
       "      <td>1</td>\n",
       "    </tr>\n",
       "    <tr>\n",
       "      <th>42476</th>\n",
       "      <td>Vurderingsmanden optrådte yderst hensynsfuldt ...</td>\n",
       "      <td>5</td>\n",
       "      <td>1</td>\n",
       "      <td>0</td>\n",
       "    </tr>\n",
       "    <tr>\n",
       "      <th>33393</th>\n",
       "      <td>Prisen er god, og bestilte derfor 2 par sko ti...</td>\n",
       "      <td>1</td>\n",
       "      <td>0</td>\n",
       "      <td>1</td>\n",
       "    </tr>\n",
       "    <tr>\n",
       "      <th>13956</th>\n",
       "      <td>Medarbejderne knokler, der er alt for få til a...</td>\n",
       "      <td>2</td>\n",
       "      <td>0</td>\n",
       "      <td>1</td>\n",
       "    </tr>\n",
       "    <tr>\n",
       "      <th>31151</th>\n",
       "      <td>PAS PÅ! Ingen service og svære at komme i kont...</td>\n",
       "      <td>1</td>\n",
       "      <td>0</td>\n",
       "      <td>1</td>\n",
       "    </tr>\n",
       "    <tr>\n",
       "      <th>37287</th>\n",
       "      <td>Jeg er fint tilfreds med POWER og deres meget ...</td>\n",
       "      <td>3</td>\n",
       "      <td>0</td>\n",
       "      <td>1</td>\n",
       "    </tr>\n",
       "    <tr>\n",
       "      <th>32553</th>\n",
       "      <td>Manglende udvikling af mobilbank. JyskeBanks \"...</td>\n",
       "      <td>1</td>\n",
       "      <td>0</td>\n",
       "      <td>1</td>\n",
       "    </tr>\n",
       "    <tr>\n",
       "      <th>26084</th>\n",
       "      <td>Kørte på motorvejen ved Horsens og fik en fejl...</td>\n",
       "      <td>5</td>\n",
       "      <td>1</td>\n",
       "      <td>0</td>\n",
       "    </tr>\n",
       "  </tbody>\n",
       "</table>\n",
       "</div>"
      ],
      "text/plain": [
       "                                             review_text  review_stars  \\\n",
       "19150  Dejligt man kan købe den rigtig størrelse når ...             5   \n",
       "29534  Pakken kom 1 dag for sent end forventet i følg...             1   \n",
       "42476  Vurderingsmanden optrådte yderst hensynsfuldt ...             5   \n",
       "33393  Prisen er god, og bestilte derfor 2 par sko ti...             1   \n",
       "13956  Medarbejderne knokler, der er alt for få til a...             2   \n",
       "31151  PAS PÅ! Ingen service og svære at komme i kont...             1   \n",
       "37287  Jeg er fint tilfreds med POWER og deres meget ...             3   \n",
       "32553  Manglende udvikling af mobilbank. JyskeBanks \"...             1   \n",
       "26084  Kørte på motorvejen ved Horsens og fik en fejl...             5   \n",
       "\n",
       "       sentiment  score  \n",
       "19150          1      0  \n",
       "29534          0      1  \n",
       "42476          1      0  \n",
       "33393          0      1  \n",
       "13956          0      1  \n",
       "31151          0      1  \n",
       "37287          0      1  \n",
       "32553          0      1  \n",
       "26084          1      0  "
      ]
     },
     "execution_count": 207,
     "metadata": {},
     "output_type": "execute_result"
    }
   ],
   "source": [
    "(\n",
    "    validation_data\n",
    "    .assign(score = lambda d: model.predict(d[\"review_text\"]))\n",
    "    .loc[lambda d: d[\"sentiment\"].ne(d[\"score\"])]\n",
    ")"
   ]
  },
  {
   "cell_type": "code",
   "execution_count": 208,
   "metadata": {},
   "outputs": [
    {
     "data": {
      "text/html": [
       "<div>\n",
       "<style scoped>\n",
       "    .dataframe tbody tr th:only-of-type {\n",
       "        vertical-align: middle;\n",
       "    }\n",
       "\n",
       "    .dataframe tbody tr th {\n",
       "        vertical-align: top;\n",
       "    }\n",
       "\n",
       "    .dataframe thead th {\n",
       "        text-align: right;\n",
       "    }\n",
       "</style>\n",
       "<table border=\"1\" class=\"dataframe\">\n",
       "  <thead>\n",
       "    <tr style=\"text-align: right;\">\n",
       "      <th></th>\n",
       "      <th>review_text</th>\n",
       "      <th>review_stars</th>\n",
       "      <th>sentiment</th>\n",
       "      <th>score</th>\n",
       "      <th>score_probability</th>\n",
       "    </tr>\n",
       "  </thead>\n",
       "  <tbody>\n",
       "    <tr>\n",
       "      <th>19150</th>\n",
       "      <td>Dejligt man kan købe den rigtig størrelse når ...</td>\n",
       "      <td>5</td>\n",
       "      <td>1</td>\n",
       "      <td>0</td>\n",
       "      <td>0.001567</td>\n",
       "    </tr>\n",
       "    <tr>\n",
       "      <th>29534</th>\n",
       "      <td>Pakken kom 1 dag for sent end forventet i følg...</td>\n",
       "      <td>1</td>\n",
       "      <td>0</td>\n",
       "      <td>1</td>\n",
       "      <td>0.744123</td>\n",
       "    </tr>\n",
       "    <tr>\n",
       "      <th>42476</th>\n",
       "      <td>Vurderingsmanden optrådte yderst hensynsfuldt ...</td>\n",
       "      <td>5</td>\n",
       "      <td>1</td>\n",
       "      <td>0</td>\n",
       "      <td>0.003726</td>\n",
       "    </tr>\n",
       "    <tr>\n",
       "      <th>33393</th>\n",
       "      <td>Prisen er god, og bestilte derfor 2 par sko ti...</td>\n",
       "      <td>1</td>\n",
       "      <td>0</td>\n",
       "      <td>1</td>\n",
       "      <td>0.601459</td>\n",
       "    </tr>\n",
       "    <tr>\n",
       "      <th>13956</th>\n",
       "      <td>Medarbejderne knokler, der er alt for få til a...</td>\n",
       "      <td>2</td>\n",
       "      <td>0</td>\n",
       "      <td>1</td>\n",
       "      <td>0.999929</td>\n",
       "    </tr>\n",
       "    <tr>\n",
       "      <th>31151</th>\n",
       "      <td>PAS PÅ! Ingen service og svære at komme i kont...</td>\n",
       "      <td>1</td>\n",
       "      <td>0</td>\n",
       "      <td>1</td>\n",
       "      <td>0.951057</td>\n",
       "    </tr>\n",
       "    <tr>\n",
       "      <th>37287</th>\n",
       "      <td>Jeg er fint tilfreds med POWER og deres meget ...</td>\n",
       "      <td>3</td>\n",
       "      <td>0</td>\n",
       "      <td>1</td>\n",
       "      <td>0.999998</td>\n",
       "    </tr>\n",
       "    <tr>\n",
       "      <th>32553</th>\n",
       "      <td>Manglende udvikling af mobilbank. JyskeBanks \"...</td>\n",
       "      <td>1</td>\n",
       "      <td>0</td>\n",
       "      <td>1</td>\n",
       "      <td>0.998985</td>\n",
       "    </tr>\n",
       "    <tr>\n",
       "      <th>26084</th>\n",
       "      <td>Kørte på motorvejen ved Horsens og fik en fejl...</td>\n",
       "      <td>5</td>\n",
       "      <td>1</td>\n",
       "      <td>0</td>\n",
       "      <td>0.000183</td>\n",
       "    </tr>\n",
       "  </tbody>\n",
       "</table>\n",
       "</div>"
      ],
      "text/plain": [
       "                                             review_text  review_stars  \\\n",
       "19150  Dejligt man kan købe den rigtig størrelse når ...             5   \n",
       "29534  Pakken kom 1 dag for sent end forventet i følg...             1   \n",
       "42476  Vurderingsmanden optrådte yderst hensynsfuldt ...             5   \n",
       "33393  Prisen er god, og bestilte derfor 2 par sko ti...             1   \n",
       "13956  Medarbejderne knokler, der er alt for få til a...             2   \n",
       "31151  PAS PÅ! Ingen service og svære at komme i kont...             1   \n",
       "37287  Jeg er fint tilfreds med POWER og deres meget ...             3   \n",
       "32553  Manglende udvikling af mobilbank. JyskeBanks \"...             1   \n",
       "26084  Kørte på motorvejen ved Horsens og fik en fejl...             5   \n",
       "\n",
       "       sentiment  score  score_probability  \n",
       "19150          1      0           0.001567  \n",
       "29534          0      1           0.744123  \n",
       "42476          1      0           0.003726  \n",
       "33393          0      1           0.601459  \n",
       "13956          0      1           0.999929  \n",
       "31151          0      1           0.951057  \n",
       "37287          0      1           0.999998  \n",
       "32553          0      1           0.998985  \n",
       "26084          1      0           0.000183  "
      ]
     },
     "execution_count": 208,
     "metadata": {},
     "output_type": "execute_result"
    }
   ],
   "source": [
    "# looking at the probability of cases it go wrong, we see mostly borderline probabilities\n",
    "#with to interesting cases lies in borderlines\n",
    "\n",
    "(\n",
    "    validation_data\n",
    "    .assign(score = lambda d: model.predict(d[\"review_text\"]))\n",
    "    .loc[lambda d: d[\"sentiment\"].ne(d[\"score\"])]\n",
    "    .assign(score_probability = lambda d: model.predict_proba(d[\"review_text\"])[:, 1])\n",
    ")"
   ]
  },
  {
   "cell_type": "code",
   "execution_count": 209,
   "metadata": {},
   "outputs": [
    {
     "data": {
      "text/plain": [
       "array(['unigram__00kr', 'unigram__100kr', 'unigram__200kr', ...,\n",
       "       'char__👎👎👎', 'char__😡😡😡', 'char__😡😡😡😡'], dtype=object)"
      ]
     },
     "execution_count": 209,
     "metadata": {},
     "output_type": "execute_result"
    }
   ],
   "source": [
    "model[:-1].get_feature_names_out()"
   ]
  },
  {
   "cell_type": "code",
   "execution_count": 210,
   "metadata": {},
   "outputs": [],
   "source": [
    "explain = (\n",
    "        pd\n",
    "            .DataFrame({\"score\":model[-1].coef_[0]},\n",
    "                       index = model[:-1].get_feature_names_out()\n",
    "            )\n",
    "            .sort_values(by=\"score\")\n",
    ")"
   ]
  },
  {
   "cell_type": "code",
   "execution_count": 211,
   "metadata": {},
   "outputs": [
    {
     "data": {
      "text/html": [
       "<div>\n",
       "<style scoped>\n",
       "    .dataframe tbody tr th:only-of-type {\n",
       "        vertical-align: middle;\n",
       "    }\n",
       "\n",
       "    .dataframe tbody tr th {\n",
       "        vertical-align: top;\n",
       "    }\n",
       "\n",
       "    .dataframe thead th {\n",
       "        text-align: right;\n",
       "    }\n",
       "</style>\n",
       "<table border=\"1\" class=\"dataframe\">\n",
       "  <thead>\n",
       "    <tr style=\"text-align: right;\">\n",
       "      <th></th>\n",
       "      <th>score</th>\n",
       "    </tr>\n",
       "  </thead>\n",
       "  <tbody>\n",
       "    <tr>\n",
       "      <th>unigram__tak</th>\n",
       "      <td>1.357551</td>\n",
       "    </tr>\n",
       "    <tr>\n",
       "      <th>char__g go</th>\n",
       "      <td>1.390632</td>\n",
       "    </tr>\n",
       "    <tr>\n",
       "      <th>char__ ind</th>\n",
       "      <td>1.466953</td>\n",
       "    </tr>\n",
       "    <tr>\n",
       "      <th>bigram__ikke sidste</th>\n",
       "      <td>1.554997</td>\n",
       "    </tr>\n",
       "    <tr>\n",
       "      <th>bigram__med det</th>\n",
       "      <td>1.564158</td>\n",
       "    </tr>\n",
       "  </tbody>\n",
       "</table>\n",
       "</div>"
      ],
      "text/plain": [
       "                        score\n",
       "unigram__tak         1.357551\n",
       "char__g go           1.390632\n",
       "char__ ind           1.466953\n",
       "bigram__ikke sidste  1.554997\n",
       "bigram__med det      1.564158"
      ]
     },
     "execution_count": 211,
     "metadata": {},
     "output_type": "execute_result"
    }
   ],
   "source": [
    "explain.tail(5)"
   ]
  },
  {
   "cell_type": "code",
   "execution_count": 212,
   "metadata": {},
   "outputs": [
    {
     "data": {
      "text/html": [
       "<div>\n",
       "<style scoped>\n",
       "    .dataframe tbody tr th:only-of-type {\n",
       "        vertical-align: middle;\n",
       "    }\n",
       "\n",
       "    .dataframe tbody tr th {\n",
       "        vertical-align: top;\n",
       "    }\n",
       "\n",
       "    .dataframe thead th {\n",
       "        text-align: right;\n",
       "    }\n",
       "</style>\n",
       "<table border=\"1\" class=\"dataframe\">\n",
       "  <thead>\n",
       "    <tr style=\"text-align: right;\">\n",
       "      <th></th>\n",
       "      <th>score</th>\n",
       "    </tr>\n",
       "  </thead>\n",
       "  <tbody>\n",
       "    <tr>\n",
       "      <th>char__fup</th>\n",
       "      <td>-1.822989</td>\n",
       "    </tr>\n",
       "    <tr>\n",
       "      <th>unigram__ringe</th>\n",
       "      <td>-1.790013</td>\n",
       "    </tr>\n",
       "    <tr>\n",
       "      <th>bigram__alt for</th>\n",
       "      <td>-1.704469</td>\n",
       "    </tr>\n",
       "    <tr>\n",
       "      <th>bigram__ikke anbefale</th>\n",
       "      <td>-1.647753</td>\n",
       "    </tr>\n",
       "    <tr>\n",
       "      <th>char__elen</th>\n",
       "      <td>-1.589517</td>\n",
       "    </tr>\n",
       "  </tbody>\n",
       "</table>\n",
       "</div>"
      ],
      "text/plain": [
       "                          score\n",
       "char__fup             -1.822989\n",
       "unigram__ringe        -1.790013\n",
       "bigram__alt for       -1.704469\n",
       "bigram__ikke anbefale -1.647753\n",
       "char__elen            -1.589517"
      ]
     },
     "execution_count": 212,
     "metadata": {},
     "output_type": "execute_result"
    }
   ],
   "source": [
    "explain.head(5)"
   ]
  },
  {
   "cell_type": "code",
   "execution_count": 213,
   "metadata": {},
   "outputs": [
    {
     "data": {
      "text/html": [
       "<div>\n",
       "<style scoped>\n",
       "    .dataframe tbody tr th:only-of-type {\n",
       "        vertical-align: middle;\n",
       "    }\n",
       "\n",
       "    .dataframe tbody tr th {\n",
       "        vertical-align: top;\n",
       "    }\n",
       "\n",
       "    .dataframe thead th {\n",
       "        text-align: right;\n",
       "    }\n",
       "</style>\n",
       "<table border=\"1\" class=\"dataframe\">\n",
       "  <thead>\n",
       "    <tr style=\"text-align: right;\">\n",
       "      <th></th>\n",
       "      <th>review_text</th>\n",
       "      <th>review_stars</th>\n",
       "      <th>sentiment</th>\n",
       "      <th>score</th>\n",
       "      <th>score_probability</th>\n",
       "    </tr>\n",
       "  </thead>\n",
       "  <tbody>\n",
       "    <tr>\n",
       "      <th>19150</th>\n",
       "      <td>Dejligt man kan købe den rigtig størrelse når ...</td>\n",
       "      <td>5</td>\n",
       "      <td>1</td>\n",
       "      <td>0</td>\n",
       "      <td>0.001567</td>\n",
       "    </tr>\n",
       "    <tr>\n",
       "      <th>42476</th>\n",
       "      <td>Vurderingsmanden optrådte yderst hensynsfuldt ...</td>\n",
       "      <td>5</td>\n",
       "      <td>1</td>\n",
       "      <td>0</td>\n",
       "      <td>0.003726</td>\n",
       "    </tr>\n",
       "    <tr>\n",
       "      <th>26084</th>\n",
       "      <td>Kørte på motorvejen ved Horsens og fik en fejl...</td>\n",
       "      <td>5</td>\n",
       "      <td>1</td>\n",
       "      <td>0</td>\n",
       "      <td>0.000183</td>\n",
       "    </tr>\n",
       "  </tbody>\n",
       "</table>\n",
       "</div>"
      ],
      "text/plain": [
       "                                             review_text  review_stars  \\\n",
       "19150  Dejligt man kan købe den rigtig størrelse når ...             5   \n",
       "42476  Vurderingsmanden optrådte yderst hensynsfuldt ...             5   \n",
       "26084  Kørte på motorvejen ved Horsens og fik en fejl...             5   \n",
       "\n",
       "       sentiment  score  score_probability  \n",
       "19150          1      0           0.001567  \n",
       "42476          1      0           0.003726  \n",
       "26084          1      0           0.000183  "
      ]
     },
     "execution_count": 213,
     "metadata": {},
     "output_type": "execute_result"
    }
   ],
   "source": [
    "(\n",
    "    validation_data\n",
    "    .assign(score = lambda d: model.predict(d[\"review_text\"]))\n",
    "    .loc[lambda d: d[\"sentiment\"].ne(d[\"score\"])]\n",
    "    .assign(score_probability = lambda d: model.predict_proba(d[\"review_text\"])[:, 1])\n",
    "    .loc[lambda d: (d[\"score\"].eq(0) & d[\"score_probability\"].lt(.4))]\n",
    "    # .loc[lambda d: (d[\"score\"].eq(1) & d[\"score_probability\"].gt(.6))]\n",
    ")"
   ]
  },
  {
   "cell_type": "code",
   "execution_count": 214,
   "metadata": {},
   "outputs": [],
   "source": [
    "message = (\n",
    "    validation_data\n",
    "    .assign(score = lambda d: model.predict(d[\"review_text\"]))\n",
    "    .loc[lambda d: d[\"sentiment\"].ne(d[\"score\"])]\n",
    "    .assign(score_probability = lambda d: model.predict_proba(d[\"review_text\"])[:, 1])\n",
    "    .loc[lambda d: (d[\"score\"].eq(0) & d[\"score_probability\"].lt(.4))]\n",
    "    # .loc[lambda d: (d[\"score\"].eq(1) & d[\"score_probability\"].gt(.6))]\n",
    ")[\"review_text\"].squeeze()"
   ]
  },
  {
   "cell_type": "code",
   "execution_count": 215,
   "metadata": {},
   "outputs": [
    {
     "data": {
      "text/plain": [
       "'Dejligt man kan købe den rigtig størrelse når nu ikke de kan købes i butikkerne. \\nOrdrenr. 246172 (Mht gratis kondomer. Så send kun hvis det er samme størrelse som ordre. Ellers er det spild og vil skade miljøet med transport osv mere end de vil gøre gavn)'"
      ]
     },
     "execution_count": 215,
     "metadata": {},
     "output_type": "execute_result"
    }
   ],
   "source": [
    "message.iloc[0]"
   ]
  },
  {
   "cell_type": "code",
   "execution_count": 216,
   "metadata": {},
   "outputs": [
    {
     "data": {
      "text/plain": [
       "array([  201,  6550,  6551,  7282,  8883,  9922,  9930, 10280,  9337,\n",
       "         551,  9601,  9603, 14871,  6566,  8883, 12431, 13666,  7356,\n",
       "        7357, 10015, 12337, 12338, 12557, 13187, 13188, 13871, 13875,\n",
       "       14956, 14957, 11174,  8908,  8909,  9435,  9337,  6125,  9601,\n",
       "        9603, 14871,  6235,  6236,  7634,  7637,  8908,  8909,  9401,\n",
       "        9408,  9435,  9443, 12514, 13671, 13674, 14167, 14168,  6698,\n",
       "        6704, 11566, 11573, 12275, 12276, 12347,   391,  6001,  6003,\n",
       "        8432,  8434, 12238, 12240,  6686,  9484, 10352, 10811, 11410,\n",
       "       11452, 11454,  7469, 12890, 12894,  9575,  8624,  8627, 14354,\n",
       "        6600,  5777,  5778, 10405, 12825, 12827,  7356,  7357, 10015,\n",
       "       12337, 12338, 12557, 13187, 13188, 13871, 13875, 14956, 14957,\n",
       "       13050,   746,  6698, 11566, 11573, 12275, 12276,  7348,  7350,\n",
       "        7646,  9873,  9881,  9962,  9968,  6600,   964,  8950, 11783,\n",
       "       11784, 13068, 13069, 14342,   902,  5555,  9326,  9327, 12958,\n",
       "       12960, 10325,  5858,  5863, 11071, 11072, 11616, 11830, 11831,\n",
       "       12229, 13072, 13074, 13766, 13772,   749, 11646,  7598, 10352,\n",
       "       10357,  7469, 14342,  8524,  8526, 14939,  6041,  8282],\n",
       "      dtype=int32)"
      ]
     },
     "execution_count": 216,
     "metadata": {},
     "output_type": "execute_result"
    }
   ],
   "source": [
    "model[:-1].transform(tokenizer(message.iloc[0])).nonzero()[1]"
   ]
  },
  {
   "cell_type": "code",
   "execution_count": 217,
   "metadata": {},
   "outputs": [
    {
     "data": {
      "text/plain": [
       "array(['unigram__dejligt', 'char__dej', 'char__dejl', 'char__ejl',\n",
       "       'char__igt', 'char__lig', 'char__ligt', 'char__man', 'char__kan',\n",
       "       'unigram__købe', 'char__køb', 'char__købe', 'char__øbe',\n",
       "       'char__den', 'char__igt', 'char__rig', 'char__tig', 'char__els',\n",
       "       'char__else', 'char__lse', 'char__rel', 'char__rels', 'char__rre',\n",
       "       'char__stø', 'char__stør', 'char__tør', 'char__tørr', 'char__ørr',\n",
       "       'char__ørre', 'char__når', 'char__ikk', 'char__ikke', 'char__kke',\n",
       "       'char__kan', 'char__bes', 'char__køb', 'char__købe', 'char__øbe',\n",
       "       'char__but', 'char__buti', 'char__ern', 'char__erne', 'char__ikk',\n",
       "       'char__ikke', 'char__ker', 'char__kern', 'char__kke', 'char__kker',\n",
       "       'char__rne', 'char__tik', 'char__tikk', 'char__uti', 'char__utik',\n",
       "       'char__dre', 'char__dren', 'char__ord', 'char__ordr', 'char__rdr',\n",
       "       'char__rdre', 'char__ren', 'unigram__gratis', 'char__ati',\n",
       "       'char__atis', 'char__gra', 'char__grat', 'char__rat', 'char__rati',\n",
       "       'char__dom', 'char__kon', 'char__mer', 'char__ndo', 'char__ome',\n",
       "       'char__ond', 'char__ondo', 'char__end', 'char__sen', 'char__send',\n",
       "       'char__kun', 'char__hvi', 'char__hvis', 'char__vis', 'char__det',\n",
       "       'char__amm', 'char__amme', 'char__mme', 'char__sam', 'char__samm',\n",
       "       'char__els', 'char__else', 'char__lse', 'char__rel', 'char__rels',\n",
       "       'char__rre', 'char__stø', 'char__stør', 'char__tør', 'char__tørr',\n",
       "       'char__ørr', 'char__ørre', 'char__som', 'unigram__ordre',\n",
       "       'char__dre', 'char__ord', 'char__ordr', 'char__rdr', 'char__rdre',\n",
       "       'char__ell', 'char__elle', 'char__ers', 'char__ler', 'char__lers',\n",
       "       'char__lle', 'char__ller', 'char__det', 'unigram__spild',\n",
       "       'char__ild', 'char__pil', 'char__pild', 'char__spi', 'char__spil',\n",
       "       'char__vil', 'unigram__skade', 'char__ade', 'char__kad',\n",
       "       'char__kade', 'char__ska', 'char__skad', 'char__med', 'char__ans',\n",
       "       'char__ansp', 'char__nsp', 'char__nspo', 'char__ort', 'char__por',\n",
       "       'char__port', 'char__ran', 'char__spo', 'char__spor', 'char__tra',\n",
       "       'char__tran', 'unigram__osv', 'char__osv', 'char__ere',\n",
       "       'char__mer', 'char__mere', 'char__end', 'char__vil', 'char__gør',\n",
       "       'char__gøre', 'char__øre', 'char__avn', 'char__gav'], dtype=object)"
      ]
     },
     "execution_count": 217,
     "metadata": {},
     "output_type": "execute_result"
    }
   ],
   "source": [
    "model[:-1].get_feature_names_out()[model[:-1].transform(tokenizer(message.iloc[0])).nonzero()[1]]"
   ]
  },
  {
   "cell_type": "code",
   "execution_count": 218,
   "metadata": {},
   "outputs": [
    {
     "data": {
      "text/html": [
       "<div>\n",
       "<style scoped>\n",
       "    .dataframe tbody tr th:only-of-type {\n",
       "        vertical-align: middle;\n",
       "    }\n",
       "\n",
       "    .dataframe tbody tr th {\n",
       "        vertical-align: top;\n",
       "    }\n",
       "\n",
       "    .dataframe thead th {\n",
       "        text-align: right;\n",
       "    }\n",
       "</style>\n",
       "<table border=\"1\" class=\"dataframe\">\n",
       "  <thead>\n",
       "    <tr style=\"text-align: right;\">\n",
       "      <th></th>\n",
       "      <th>score</th>\n",
       "    </tr>\n",
       "  </thead>\n",
       "  <tbody>\n",
       "  </tbody>\n",
       "</table>\n",
       "</div>"
      ],
      "text/plain": [
       "Empty DataFrame\n",
       "Columns: [score]\n",
       "Index: []"
      ]
     },
     "execution_count": 218,
     "metadata": {},
     "output_type": "execute_result"
    }
   ],
   "source": [
    "explain[explain.index.isin(pd.Index(model[:-1].transform(tokenizer(message.iloc[0])).nonzero()[1]))]"
   ]
  }
 ],
 "metadata": {
  "kernelspec": {
   "display_name": "hadithi",
   "language": "python",
   "name": "hadithi"
  },
  "language_info": {
   "codemirror_mode": {
    "name": "ipython",
    "version": 3
   },
   "file_extension": ".py",
   "mimetype": "text/x-python",
   "name": "python",
   "nbconvert_exporter": "python",
   "pygments_lexer": "ipython3",
   "version": "3.8.12"
  }
 },
 "nbformat": 4,
 "nbformat_minor": 4
}
