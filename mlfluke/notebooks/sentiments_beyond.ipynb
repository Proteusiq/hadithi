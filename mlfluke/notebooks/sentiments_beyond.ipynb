{
 "cells": [
  {
   "cell_type": "code",
   "execution_count": 1,
   "metadata": {},
   "outputs": [],
   "source": [
    "import numpy as np\n",
    "import pandas as pd"
   ]
  },
  {
   "cell_type": "code",
   "execution_count": 2,
   "metadata": {},
   "outputs": [],
   "source": [
    "DATA_URI = \"https://raw.githubusercontent.com/AlessandroGianfelici/danish_reviews_dataset/master/raw_data.txt\""
   ]
  },
  {
   "cell_type": "code",
   "execution_count": 3,
   "metadata": {},
   "outputs": [
    {
     "data": {
      "text/html": [
       "<div>\n",
       "<style scoped>\n",
       "    .dataframe tbody tr th:only-of-type {\n",
       "        vertical-align: middle;\n",
       "    }\n",
       "\n",
       "    .dataframe tbody tr th {\n",
       "        vertical-align: top;\n",
       "    }\n",
       "\n",
       "    .dataframe thead th {\n",
       "        text-align: right;\n",
       "    }\n",
       "</style>\n",
       "<table border=\"1\" class=\"dataframe\">\n",
       "  <thead>\n",
       "    <tr style=\"text-align: right;\">\n",
       "      <th></th>\n",
       "      <th>review_text</th>\n",
       "      <th>review_stars</th>\n",
       "    </tr>\n",
       "  </thead>\n",
       "  <tbody>\n",
       "    <tr>\n",
       "      <th>17474</th>\n",
       "      <td>i burde have 0 stjerne jeg kan sjovt nok ikke ...</td>\n",
       "      <td>1</td>\n",
       "    </tr>\n",
       "    <tr>\n",
       "      <th>19838</th>\n",
       "      <td>god service, super hurtig levering (24 timer),...</td>\n",
       "      <td>5</td>\n",
       "    </tr>\n",
       "    <tr>\n",
       "      <th>10097</th>\n",
       "      <td>Hurtig levering og gode priser samt et rigtig ...</td>\n",
       "      <td>5</td>\n",
       "    </tr>\n",
       "  </tbody>\n",
       "</table>\n",
       "</div>"
      ],
      "text/plain": [
       "                                             review_text  review_stars\n",
       "17474  i burde have 0 stjerne jeg kan sjovt nok ikke ...             1\n",
       "19838  god service, super hurtig levering (24 timer),...             5\n",
       "10097  Hurtig levering og gode priser samt et rigtig ...             5"
      ]
     },
     "execution_count": 3,
     "metadata": {},
     "output_type": "execute_result"
    }
   ],
   "source": [
    "dataf = pd.read_csv(DATA_URI, usecols=[\"review_text\", \"review_stars\"])\n",
    "dataf.sample(3)"
   ]
  },
  {
   "cell_type": "code",
   "execution_count": 4,
   "metadata": {},
   "outputs": [
    {
     "data": {
      "text/html": [
       "<div>\n",
       "<style scoped>\n",
       "    .dataframe tbody tr th:only-of-type {\n",
       "        vertical-align: middle;\n",
       "    }\n",
       "\n",
       "    .dataframe tbody tr th {\n",
       "        vertical-align: top;\n",
       "    }\n",
       "\n",
       "    .dataframe thead th {\n",
       "        text-align: right;\n",
       "    }\n",
       "</style>\n",
       "<table border=\"1\" class=\"dataframe\">\n",
       "  <thead>\n",
       "    <tr style=\"text-align: right;\">\n",
       "      <th></th>\n",
       "      <th>review_count</th>\n",
       "    </tr>\n",
       "    <tr>\n",
       "      <th>review_stars</th>\n",
       "      <th></th>\n",
       "    </tr>\n",
       "  </thead>\n",
       "  <tbody>\n",
       "    <tr>\n",
       "      <th>5</th>\n",
       "      <td>27945</td>\n",
       "    </tr>\n",
       "    <tr>\n",
       "      <th>1</th>\n",
       "      <td>8437</td>\n",
       "    </tr>\n",
       "    <tr>\n",
       "      <th>4</th>\n",
       "      <td>3170</td>\n",
       "    </tr>\n",
       "    <tr>\n",
       "      <th>2</th>\n",
       "      <td>1428</td>\n",
       "    </tr>\n",
       "    <tr>\n",
       "      <th>3</th>\n",
       "      <td>1172</td>\n",
       "    </tr>\n",
       "  </tbody>\n",
       "</table>\n",
       "</div>"
      ],
      "text/plain": [
       "              review_count\n",
       "review_stars              \n",
       "5                    27945\n",
       "1                     8437\n",
       "4                     3170\n",
       "2                     1428\n",
       "3                     1172"
      ]
     },
     "execution_count": 4,
     "metadata": {},
     "output_type": "execute_result"
    }
   ],
   "source": [
    "(dataf\n",
    "     .groupby(by=[\"review_stars\"])\n",
    "     .nunique()\n",
    "     .sort_values(by=\"review_text\", ascending=False)\n",
    "     .rename(columns={\"review_text\": \"review_count\"})\n",
    "     \n",
    ")"
   ]
  },
  {
   "cell_type": "code",
   "execution_count": 5,
   "metadata": {},
   "outputs": [
    {
     "data": {
      "text/html": [
       "<div>\n",
       "<style scoped>\n",
       "    .dataframe tbody tr th:only-of-type {\n",
       "        vertical-align: middle;\n",
       "    }\n",
       "\n",
       "    .dataframe tbody tr th {\n",
       "        vertical-align: top;\n",
       "    }\n",
       "\n",
       "    .dataframe thead th {\n",
       "        text-align: right;\n",
       "    }\n",
       "</style>\n",
       "<table border=\"1\" class=\"dataframe\">\n",
       "  <thead>\n",
       "    <tr style=\"text-align: right;\">\n",
       "      <th></th>\n",
       "      <th>review_text</th>\n",
       "      <th>review_stars</th>\n",
       "      <th>sentiment</th>\n",
       "    </tr>\n",
       "  </thead>\n",
       "  <tbody>\n",
       "    <tr>\n",
       "      <th>19150</th>\n",
       "      <td>Dejligt man kan købe den rigtig størrelse når ...</td>\n",
       "      <td>5</td>\n",
       "      <td>1</td>\n",
       "    </tr>\n",
       "    <tr>\n",
       "      <th>6194</th>\n",
       "      <td>nem hjemmeside, gode priser og hurtig levering</td>\n",
       "      <td>5</td>\n",
       "      <td>1</td>\n",
       "    </tr>\n",
       "    <tr>\n",
       "      <th>35684</th>\n",
       "      <td>Har købt nærmest alt indenfor Bitz, da vi syne...</td>\n",
       "      <td>1</td>\n",
       "      <td>0</td>\n",
       "    </tr>\n",
       "    <tr>\n",
       "      <th>27361</th>\n",
       "      <td>Det var lige i skabet uden problemer. Super se...</td>\n",
       "      <td>5</td>\n",
       "      <td>1</td>\n",
       "    </tr>\n",
       "    <tr>\n",
       "      <th>35906</th>\n",
       "      <td>På forsiden af ugens reklame kunne man se at d...</td>\n",
       "      <td>2</td>\n",
       "      <td>0</td>\n",
       "    </tr>\n",
       "    <tr>\n",
       "      <th>21593</th>\n",
       "      <td>cpsms.dk leverer virkelig varen til en rigtig ...</td>\n",
       "      <td>5</td>\n",
       "      <td>1</td>\n",
       "    </tr>\n",
       "    <tr>\n",
       "      <th>26842</th>\n",
       "      <td>Det let at bestille og det hele godkendt inden...</td>\n",
       "      <td>5</td>\n",
       "      <td>1</td>\n",
       "    </tr>\n",
       "    <tr>\n",
       "      <th>14782</th>\n",
       "      <td>Super service og en rigtig god snak</td>\n",
       "      <td>5</td>\n",
       "      <td>1</td>\n",
       "    </tr>\n",
       "    <tr>\n",
       "      <th>11878</th>\n",
       "      <td>God service og hurtig levering,  jeg er fuldti...</td>\n",
       "      <td>5</td>\n",
       "      <td>1</td>\n",
       "    </tr>\n",
       "    <tr>\n",
       "      <th>6237</th>\n",
       "      <td>Top glasses fast delivery</td>\n",
       "      <td>5</td>\n",
       "      <td>1</td>\n",
       "    </tr>\n",
       "  </tbody>\n",
       "</table>\n",
       "</div>"
      ],
      "text/plain": [
       "                                             review_text  review_stars  \\\n",
       "19150  Dejligt man kan købe den rigtig størrelse når ...             5   \n",
       "6194      nem hjemmeside, gode priser og hurtig levering             5   \n",
       "35684  Har købt nærmest alt indenfor Bitz, da vi syne...             1   \n",
       "27361  Det var lige i skabet uden problemer. Super se...             5   \n",
       "35906  På forsiden af ugens reklame kunne man se at d...             2   \n",
       "21593  cpsms.dk leverer virkelig varen til en rigtig ...             5   \n",
       "26842  Det let at bestille og det hele godkendt inden...             5   \n",
       "14782                Super service og en rigtig god snak             5   \n",
       "11878  God service og hurtig levering,  jeg er fuldti...             5   \n",
       "6237                           Top glasses fast delivery             5   \n",
       "\n",
       "       sentiment  \n",
       "19150          1  \n",
       "6194           1  \n",
       "35684          0  \n",
       "27361          1  \n",
       "35906          0  \n",
       "21593          1  \n",
       "26842          1  \n",
       "14782          1  \n",
       "11878          1  \n",
       "6237           1  "
      ]
     },
     "execution_count": 5,
     "metadata": {},
     "output_type": "execute_result"
    }
   ],
   "source": [
    "(dataf\n",
    "     .assign(sentiment = np.where(dataf[\"review_stars\"].gt(3), 1, 0))\n",
    "     .sample(10, random_state=42)\n",
    ")"
   ]
  },
  {
   "cell_type": "code",
   "execution_count": 10,
   "metadata": {},
   "outputs": [],
   "source": [
    "datat = (dataf\n",
    "     .assign(sentiment = np.where(dataf[\"review_stars\"].gt(3), 1, 0))\n",
    "     # .sample(10, random_state=42)\n",
    ")"
   ]
  },
  {
   "cell_type": "code",
   "execution_count": 11,
   "metadata": {},
   "outputs": [
    {
     "data": {
      "text/plain": [
       "Int64Index([19150,  6194, 35684, 27361, 35906, 21593, 26842, 14782, 11878,\n",
       "             6237,  6366,  3933, 29534, 18636, 37134, 24775, 37485, 40922,\n",
       "             7175, 41691, 27394, 43722, 41440,  9060, 33017, 37800,  6234,\n",
       "            33131,  6244, 31033, 18094, 18491,   343, 11029, 33301, 19858,\n",
       "             8541, 33348, 38990, 43832,   884,  2189, 33357, 42644, 11260,\n",
       "            39990, 32610,  2746, 35265, 23420, 17792,   116, 13267, 42476,\n",
       "            33393, 23068, 33157, 14600, 42026, 13956, 27984, 18578, 21954,\n",
       "            12824, 11601, 24128, 31151, 22795, 37287, 14831, 32553, 15220,\n",
       "            39947, 38222,  5525, 43567, 36585, 29395, 20196, 34174, 16504,\n",
       "            12006, 23679,  4165,  4859,  3858, 19227, 32277, 23076, 26084,\n",
       "             1673,  9162, 25704, 43924, 30777, 30827, 40119, 18237, 41948,\n",
       "            17649],\n",
       "           dtype='int64')"
      ]
     },
     "execution_count": 11,
     "metadata": {},
     "output_type": "execute_result"
    }
   ],
   "source": [
    "RANDOM_STATE = 42\n",
    "(datat\n",
    "     .assign(sentiment = np.where(dataf[\"review_stars\"].gt(3), 1, 0))\n",
    "     .sample(100, random_state=RANDOM_STATE)\n",
    "     .index\n",
    ")"
   ]
  },
  {
   "cell_type": "code",
   "execution_count": 12,
   "metadata": {},
   "outputs": [],
   "source": [
    "test_data_index = (datat\n",
    "     .sample(100, random_state=RANDOM_STATE)\n",
    "     .index\n",
    ")"
   ]
  },
  {
   "cell_type": "code",
   "execution_count": 17,
   "metadata": {},
   "outputs": [],
   "source": [
    "validation_data = datat.loc[test_data_index]"
   ]
  },
  {
   "cell_type": "code",
   "execution_count": 19,
   "metadata": {},
   "outputs": [],
   "source": [
    "data = datat[~datat.index.isin(test_data_index)]"
   ]
  },
  {
   "cell_type": "code",
   "execution_count": 22,
   "metadata": {},
   "outputs": [
    {
     "data": {
      "text/html": [
       "<div>\n",
       "<style scoped>\n",
       "    .dataframe tbody tr th:only-of-type {\n",
       "        vertical-align: middle;\n",
       "    }\n",
       "\n",
       "    .dataframe tbody tr th {\n",
       "        vertical-align: top;\n",
       "    }\n",
       "\n",
       "    .dataframe thead th {\n",
       "        text-align: right;\n",
       "    }\n",
       "</style>\n",
       "<table border=\"1\" class=\"dataframe\">\n",
       "  <thead>\n",
       "    <tr style=\"text-align: right;\">\n",
       "      <th></th>\n",
       "      <th>review_text</th>\n",
       "      <th>review_stars</th>\n",
       "      <th>sentiment</th>\n",
       "    </tr>\n",
       "  </thead>\n",
       "  <tbody>\n",
       "    <tr>\n",
       "      <th>10708</th>\n",
       "      <td>3. gang jeg leaser hos BMC. Intet negativt at ...</td>\n",
       "      <td>5</td>\n",
       "      <td>1</td>\n",
       "    </tr>\n",
       "    <tr>\n",
       "      <th>8164</th>\n",
       "      <td>Har ringet til jer 5 gange INDE i telefon tide...</td>\n",
       "      <td>4</td>\n",
       "      <td>1</td>\n",
       "    </tr>\n",
       "    <tr>\n",
       "      <th>19599</th>\n",
       "      <td>Vi har aldrig problemer med noget af det YouSe...</td>\n",
       "      <td>5</td>\n",
       "      <td>1</td>\n",
       "    </tr>\n",
       "    <tr>\n",
       "      <th>2533</th>\n",
       "      <td>Fuldt ud tilfreds!\\n\\nJeg har bestilt varer he...</td>\n",
       "      <td>5</td>\n",
       "      <td>1</td>\n",
       "    </tr>\n",
       "    <tr>\n",
       "      <th>25833</th>\n",
       "      <td>Vældigt god oplevelse med indlyttende og dygti...</td>\n",
       "      <td>5</td>\n",
       "      <td>1</td>\n",
       "    </tr>\n",
       "  </tbody>\n",
       "</table>\n",
       "</div>"
      ],
      "text/plain": [
       "                                             review_text  review_stars  \\\n",
       "10708  3. gang jeg leaser hos BMC. Intet negativt at ...             5   \n",
       "8164   Har ringet til jer 5 gange INDE i telefon tide...             4   \n",
       "19599  Vi har aldrig problemer med noget af det YouSe...             5   \n",
       "2533   Fuldt ud tilfreds!\\n\\nJeg har bestilt varer he...             5   \n",
       "25833  Vældigt god oplevelse med indlyttende og dygti...             5   \n",
       "\n",
       "       sentiment  \n",
       "10708          1  \n",
       "8164           1  \n",
       "19599          1  \n",
       "2533           1  \n",
       "25833          1  "
      ]
     },
     "execution_count": 22,
     "metadata": {},
     "output_type": "execute_result"
    }
   ],
   "source": [
    "data.sample(5, random_state=42)"
   ]
  },
  {
   "cell_type": "code",
   "execution_count": 34,
   "metadata": {},
   "outputs": [
    {
     "data": {
      "text/html": [
       "<div>\n",
       "<style scoped>\n",
       "    .dataframe tbody tr th:only-of-type {\n",
       "        vertical-align: middle;\n",
       "    }\n",
       "\n",
       "    .dataframe tbody tr th {\n",
       "        vertical-align: top;\n",
       "    }\n",
       "\n",
       "    .dataframe thead th {\n",
       "        text-align: right;\n",
       "    }\n",
       "</style>\n",
       "<table border=\"1\" class=\"dataframe\">\n",
       "  <thead>\n",
       "    <tr style=\"text-align: right;\">\n",
       "      <th></th>\n",
       "      <th>observations</th>\n",
       "    </tr>\n",
       "    <tr>\n",
       "      <th>sentiment</th>\n",
       "      <th></th>\n",
       "    </tr>\n",
       "  </thead>\n",
       "  <tbody>\n",
       "    <tr>\n",
       "      <th>positive</th>\n",
       "      <td>32958</td>\n",
       "    </tr>\n",
       "    <tr>\n",
       "      <th>negative</th>\n",
       "      <td>11027</td>\n",
       "    </tr>\n",
       "  </tbody>\n",
       "</table>\n",
       "</div>"
      ],
      "text/plain": [
       "           observations\n",
       "sentiment              \n",
       "positive          32958\n",
       "negative          11027"
      ]
     },
     "execution_count": 34,
     "metadata": {},
     "output_type": "execute_result"
    }
   ],
   "source": [
    "(\n",
    "    data[[\"sentiment\"]]\n",
    "     .value_counts()\n",
    "     .rename(index ={0: \"negative\", 1:\"positive\"})\n",
    "     .to_frame(name=\"observations\")\n",
    "     \n",
    ")"
   ]
  },
  {
   "cell_type": "code",
   "execution_count": 137,
   "metadata": {},
   "outputs": [],
   "source": [
    "from sklearn.model_selection import train_test_split\n",
    "from sklearn.pipeline import Pipeline\n",
    "from sklearn.feature_extraction.text import TfidfVectorizer\n",
    "from sklearn.linear_model import SGDClassifier"
   ]
  },
  {
   "cell_type": "code",
   "execution_count": 166,
   "metadata": {},
   "outputs": [],
   "source": [
    "X, y = data[\"review_text\"], data[\"sentiment\"]\n",
    "\n",
    "X_train, X_test, y_train, y_test = train_test_split(X, y, \n",
    "                                                    train_size=.9, \n",
    "                                                    random_state=42, \n",
    "                                                    stratify=y\n",
    "                                                   )"
   ]
  },
  {
   "cell_type": "code",
   "execution_count": 167,
   "metadata": {},
   "outputs": [
    {
     "data": {
      "text/plain": [
       "(1    0.749305\n",
       " 0    0.250695\n",
       " Name: sentiment, dtype: float64,\n",
       " 1    0.749261\n",
       " 0    0.250739\n",
       " Name: sentiment, dtype: float64)"
      ]
     },
     "execution_count": 167,
     "metadata": {},
     "output_type": "execute_result"
    }
   ],
   "source": [
    "(\n",
    "    y_train.value_counts(normalize=True), \n",
    "    y_test.value_counts(normalize=True)\n",
    ")"
   ]
  },
  {
   "cell_type": "code",
   "execution_count": 168,
   "metadata": {},
   "outputs": [],
   "source": [
    "import re\n",
    "def tokenizer(blob, stop_words=None, remove_digits=True):\n",
    "\n",
    "    if stop_words is None:\n",
    "        stop_words = {}\n",
    "    \n",
    "    blob = blob.lower()\n",
    "    \n",
    "     # eyes [nose] mouth | mouth [nose] eyes pattern\n",
    "    emoticons = r\"(?:[<>]?[:;=8][\\-o\\*\\']?[\\)\\]\\(\\[dDpP/\\:\\}\\{@\\|\\\\]|[\\)\\]\\(\\[dDpP/\\:\\}\\{@\\|\\\\][\\-o\\*\\']?[:;=8][<>]?)\"\n",
    "    emoticon_re = re.compile(emoticons, re.VERBOSE | re.I | re.UNICODE)\n",
    "    \n",
    "    text = re.sub(r'[\\W]+', ' ', blob)\n",
    "    \n",
    "    # remove 3+ repetitive characters i.e. hellllo -> hello, jaaaa -> jaa \n",
    "    repetitions = re.compile(r'(.)\\1{2,}')\n",
    "    text = repetitions.sub(r'\\1\\1', text)\n",
    "    \n",
    "    # remove 2+ repetitive words e.g. hej hej hej -> hej\n",
    "    \n",
    "    repetitions = re.compile(r'\\b(\\w+)\\s+(\\1\\s*)+\\b')\n",
    "    text = repetitions.sub(r'\\1 ', text)\n",
    "    \n",
    "    \n",
    "    emoji = ''.join(re.findall(emoticon_re, blob))\n",
    "    \n",
    "       \n",
    "    # remove stopwords\n",
    "    if stop_words:\n",
    "        text = [word for word in text.split() if word not in stop_words]\n",
    "    \n",
    "\n",
    "    \n",
    "    if remove_digits:\n",
    "        text = re.sub(r'\\b\\d+\\b', '', text)\n",
    "    \n",
    "\n",
    "    # remove extra spaces\n",
    "    text = ' '.join(text.split())\n",
    "    result = f'{text} {emoji}'.encode('utf-8').decode('utf-8')\n",
    "       \n",
    "    \n",
    "    return result.split()"
   ]
  },
  {
   "cell_type": "code",
   "execution_count": 229,
   "metadata": {},
   "outputs": [],
   "source": [
    "model = Pipeline(\n",
    "    [\n",
    "        (\"tfidf\", TfidfVectorizer(tokenizer=tokenizer, token_pattern=None, ngram_range=(1,2))),\n",
    "        (\"clf\", SGDClassifier(loss=\"log\")),\n",
    "    ] \n",
    ")"
   ]
  },
  {
   "cell_type": "code",
   "execution_count": 230,
   "metadata": {},
   "outputs": [
    {
     "data": {
      "text/plain": [
       "Pipeline(steps=[('tfidf',\n",
       "                 TfidfVectorizer(ngram_range=(1, 2), token_pattern=None,\n",
       "                                 tokenizer=<function tokenizer at 0x7f23788d3940>)),\n",
       "                ('clf', SGDClassifier(loss='log'))])"
      ]
     },
     "execution_count": 230,
     "metadata": {},
     "output_type": "execute_result"
    }
   ],
   "source": [
    "model.fit(X_train, y_train)"
   ]
  },
  {
   "cell_type": "code",
   "execution_count": 231,
   "metadata": {},
   "outputs": [
    {
     "data": {
      "text/plain": [
       "0.927710843373494"
      ]
     },
     "execution_count": 231,
     "metadata": {},
     "output_type": "execute_result"
    }
   ],
   "source": [
    "model.score(X_test, y_test)"
   ]
  },
  {
   "cell_type": "code",
   "execution_count": 232,
   "metadata": {},
   "outputs": [],
   "source": [
    "y_pred = model.predict(X_test)"
   ]
  },
  {
   "cell_type": "code",
   "execution_count": 233,
   "metadata": {},
   "outputs": [],
   "source": [
    "from sklearn.metrics import ConfusionMatrixDisplay"
   ]
  },
  {
   "cell_type": "code",
   "execution_count": 234,
   "metadata": {},
   "outputs": [
    {
     "data": {
      "image/png": "[encoded data removed]",
      "text/plain": [
       "<Figure size 432x288 with 2 Axes>"
      ]
     },
     "metadata": {
      "needs_background": "light"
     },
     "output_type": "display_data"
    }
   ],
   "source": [
    "ConfusionMatrixDisplay.from_predictions(y_test, y_pred);"
   ]
  },
  {
   "cell_type": "code",
   "execution_count": 235,
   "metadata": {},
   "outputs": [],
   "source": [
    "from sklearn.metrics import classification_report"
   ]
  },
  {
   "cell_type": "code",
   "execution_count": 236,
   "metadata": {},
   "outputs": [
    {
     "name": "stdout",
     "output_type": "stream",
     "text": [
      "              precision    recall  f1-score   support\n",
      "\n",
      "    negative       0.89      0.81      0.85      1103\n",
      "    positive       0.94      0.97      0.95      3296\n",
      "\n",
      "    accuracy                           0.93      4399\n",
      "   macro avg       0.92      0.89      0.90      4399\n",
      "weighted avg       0.93      0.93      0.93      4399\n",
      "\n"
     ]
    }
   ],
   "source": [
    "print(classification_report(y_test, y_pred, target_names=[\"negative\", \"positive\"]))"
   ]
  },
  {
   "cell_type": "code",
   "execution_count": 237,
   "metadata": {},
   "outputs": [
    {
     "data": {
      "text/html": [
       "<div>\n",
       "<style scoped>\n",
       "    .dataframe tbody tr th:only-of-type {\n",
       "        vertical-align: middle;\n",
       "    }\n",
       "\n",
       "    .dataframe tbody tr th {\n",
       "        vertical-align: top;\n",
       "    }\n",
       "\n",
       "    .dataframe thead th {\n",
       "        text-align: right;\n",
       "    }\n",
       "</style>\n",
       "<table border=\"1\" class=\"dataframe\">\n",
       "  <thead>\n",
       "    <tr style=\"text-align: right;\">\n",
       "      <th></th>\n",
       "      <th>review_text</th>\n",
       "      <th>review_stars</th>\n",
       "      <th>sentiment</th>\n",
       "      <th>score</th>\n",
       "    </tr>\n",
       "  </thead>\n",
       "  <tbody>\n",
       "    <tr>\n",
       "      <th>9162</th>\n",
       "      <td>Bra side hvis man vil ha blader å abonnere på ...</td>\n",
       "      <td>5</td>\n",
       "      <td>1</td>\n",
       "      <td>1</td>\n",
       "    </tr>\n",
       "    <tr>\n",
       "      <th>26842</th>\n",
       "      <td>Det let at bestille og det hele godkendt inden...</td>\n",
       "      <td>5</td>\n",
       "      <td>1</td>\n",
       "      <td>1</td>\n",
       "    </tr>\n",
       "    <tr>\n",
       "      <th>3858</th>\n",
       "      <td>Hurtig ekspedition😄</td>\n",
       "      <td>5</td>\n",
       "      <td>1</td>\n",
       "      <td>1</td>\n",
       "    </tr>\n",
       "    <tr>\n",
       "      <th>14831</th>\n",
       "      <td>Oplever som andre anmeldere her, at\\n\\nBestill...</td>\n",
       "      <td>1</td>\n",
       "      <td>0</td>\n",
       "      <td>0</td>\n",
       "    </tr>\n",
       "    <tr>\n",
       "      <th>43722</th>\n",
       "      <td>Havde bestilt et påskeæg til min kærestes datt...</td>\n",
       "      <td>1</td>\n",
       "      <td>0</td>\n",
       "      <td>0</td>\n",
       "    </tr>\n",
       "    <tr>\n",
       "      <th>42644</th>\n",
       "      <td>Jeg har uden tvivl mødt de mest omsorgsfulde o...</td>\n",
       "      <td>5</td>\n",
       "      <td>1</td>\n",
       "      <td>1</td>\n",
       "    </tr>\n",
       "    <tr>\n",
       "      <th>6194</th>\n",
       "      <td>nem hjemmeside, gode priser og hurtig levering</td>\n",
       "      <td>5</td>\n",
       "      <td>1</td>\n",
       "      <td>1</td>\n",
       "    </tr>\n",
       "    <tr>\n",
       "      <th>18578</th>\n",
       "      <td>Supersmidig process med 100% flyt!</td>\n",
       "      <td>5</td>\n",
       "      <td>1</td>\n",
       "      <td>1</td>\n",
       "    </tr>\n",
       "    <tr>\n",
       "      <th>14600</th>\n",
       "      <td>På kort varsel fik jeg skiftet bremser og klod...</td>\n",
       "      <td>5</td>\n",
       "      <td>1</td>\n",
       "      <td>1</td>\n",
       "    </tr>\n",
       "    <tr>\n",
       "      <th>31151</th>\n",
       "      <td>PAS PÅ! Ingen service og svære at komme i kont...</td>\n",
       "      <td>1</td>\n",
       "      <td>0</td>\n",
       "      <td>0</td>\n",
       "    </tr>\n",
       "  </tbody>\n",
       "</table>\n",
       "</div>"
      ],
      "text/plain": [
       "                                             review_text  review_stars  \\\n",
       "9162   Bra side hvis man vil ha blader å abonnere på ...             5   \n",
       "26842  Det let at bestille og det hele godkendt inden...             5   \n",
       "3858                                 Hurtig ekspedition😄             5   \n",
       "14831  Oplever som andre anmeldere her, at\\n\\nBestill...             1   \n",
       "43722  Havde bestilt et påskeæg til min kærestes datt...             1   \n",
       "42644  Jeg har uden tvivl mødt de mest omsorgsfulde o...             5   \n",
       "6194      nem hjemmeside, gode priser og hurtig levering             5   \n",
       "18578                 Supersmidig process med 100% flyt!             5   \n",
       "14600  På kort varsel fik jeg skiftet bremser og klod...             5   \n",
       "31151  PAS PÅ! Ingen service og svære at komme i kont...             1   \n",
       "\n",
       "       sentiment  score  \n",
       "9162           1      1  \n",
       "26842          1      1  \n",
       "3858           1      1  \n",
       "14831          0      0  \n",
       "43722          0      0  \n",
       "42644          1      1  \n",
       "6194           1      1  \n",
       "18578          1      1  \n",
       "14600          1      1  \n",
       "31151          0      0  "
      ]
     },
     "execution_count": 237,
     "metadata": {},
     "output_type": "execute_result"
    }
   ],
   "source": [
    "(\n",
    "    validation_data\n",
    "    .assign(score = lambda d: model.predict(d[\"review_text\"]))\n",
    "    .sample(10)\n",
    ")"
   ]
  },
  {
   "cell_type": "code",
   "execution_count": 238,
   "metadata": {},
   "outputs": [
    {
     "data": {
      "text/html": [
       "<div>\n",
       "<style scoped>\n",
       "    .dataframe tbody tr th:only-of-type {\n",
       "        vertical-align: middle;\n",
       "    }\n",
       "\n",
       "    .dataframe tbody tr th {\n",
       "        vertical-align: top;\n",
       "    }\n",
       "\n",
       "    .dataframe thead th {\n",
       "        text-align: right;\n",
       "    }\n",
       "</style>\n",
       "<table border=\"1\" class=\"dataframe\">\n",
       "  <thead>\n",
       "    <tr style=\"text-align: right;\">\n",
       "      <th></th>\n",
       "      <th>review_text</th>\n",
       "      <th>review_stars</th>\n",
       "      <th>sentiment</th>\n",
       "      <th>score</th>\n",
       "    </tr>\n",
       "  </thead>\n",
       "  <tbody>\n",
       "    <tr>\n",
       "      <th>19150</th>\n",
       "      <td>Dejligt man kan købe den rigtig størrelse når ...</td>\n",
       "      <td>5</td>\n",
       "      <td>1</td>\n",
       "      <td>0</td>\n",
       "    </tr>\n",
       "    <tr>\n",
       "      <th>29534</th>\n",
       "      <td>Pakken kom 1 dag for sent end forventet i følg...</td>\n",
       "      <td>1</td>\n",
       "      <td>0</td>\n",
       "      <td>1</td>\n",
       "    </tr>\n",
       "    <tr>\n",
       "      <th>41440</th>\n",
       "      <td>Skulle have en Office licens. \\nSmartworld hav...</td>\n",
       "      <td>5</td>\n",
       "      <td>1</td>\n",
       "      <td>0</td>\n",
       "    </tr>\n",
       "    <tr>\n",
       "      <th>33017</th>\n",
       "      <td>Som flere oplever, meget dårlig beskrevne effe...</td>\n",
       "      <td>1</td>\n",
       "      <td>0</td>\n",
       "      <td>1</td>\n",
       "    </tr>\n",
       "    <tr>\n",
       "      <th>37800</th>\n",
       "      <td>Igennem vores boligjagt, har vi været til mang...</td>\n",
       "      <td>1</td>\n",
       "      <td>0</td>\n",
       "      <td>1</td>\n",
       "    </tr>\n",
       "    <tr>\n",
       "      <th>43832</th>\n",
       "      <td>Jeg gik ind på deres hjemmeside for at bestill...</td>\n",
       "      <td>5</td>\n",
       "      <td>1</td>\n",
       "      <td>0</td>\n",
       "    </tr>\n",
       "    <tr>\n",
       "      <th>33393</th>\n",
       "      <td>Prisen er god, og bestilte derfor 2 par sko ti...</td>\n",
       "      <td>1</td>\n",
       "      <td>0</td>\n",
       "      <td>1</td>\n",
       "    </tr>\n",
       "    <tr>\n",
       "      <th>13956</th>\n",
       "      <td>Medarbejderne knokler, der er alt for få til a...</td>\n",
       "      <td>2</td>\n",
       "      <td>0</td>\n",
       "      <td>1</td>\n",
       "    </tr>\n",
       "    <tr>\n",
       "      <th>37287</th>\n",
       "      <td>Jeg er fint tilfreds med POWER og deres meget ...</td>\n",
       "      <td>3</td>\n",
       "      <td>0</td>\n",
       "      <td>1</td>\n",
       "    </tr>\n",
       "    <tr>\n",
       "      <th>32553</th>\n",
       "      <td>Manglende udvikling af mobilbank. JyskeBanks \"...</td>\n",
       "      <td>1</td>\n",
       "      <td>0</td>\n",
       "      <td>1</td>\n",
       "    </tr>\n",
       "    <tr>\n",
       "      <th>26084</th>\n",
       "      <td>Kørte på motorvejen ved Horsens og fik en fejl...</td>\n",
       "      <td>5</td>\n",
       "      <td>1</td>\n",
       "      <td>0</td>\n",
       "    </tr>\n",
       "    <tr>\n",
       "      <th>25704</th>\n",
       "      <td>Yousee er en pengemaskine og tænker ikke på an...</td>\n",
       "      <td>1</td>\n",
       "      <td>0</td>\n",
       "      <td>1</td>\n",
       "    </tr>\n",
       "  </tbody>\n",
       "</table>\n",
       "</div>"
      ],
      "text/plain": [
       "                                             review_text  review_stars  \\\n",
       "19150  Dejligt man kan købe den rigtig størrelse når ...             5   \n",
       "29534  Pakken kom 1 dag for sent end forventet i følg...             1   \n",
       "41440  Skulle have en Office licens. \\nSmartworld hav...             5   \n",
       "33017  Som flere oplever, meget dårlig beskrevne effe...             1   \n",
       "37800  Igennem vores boligjagt, har vi været til mang...             1   \n",
       "43832  Jeg gik ind på deres hjemmeside for at bestill...             5   \n",
       "33393  Prisen er god, og bestilte derfor 2 par sko ti...             1   \n",
       "13956  Medarbejderne knokler, der er alt for få til a...             2   \n",
       "37287  Jeg er fint tilfreds med POWER og deres meget ...             3   \n",
       "32553  Manglende udvikling af mobilbank. JyskeBanks \"...             1   \n",
       "26084  Kørte på motorvejen ved Horsens og fik en fejl...             5   \n",
       "25704  Yousee er en pengemaskine og tænker ikke på an...             1   \n",
       "\n",
       "       sentiment  score  \n",
       "19150          1      0  \n",
       "29534          0      1  \n",
       "41440          1      0  \n",
       "33017          0      1  \n",
       "37800          0      1  \n",
       "43832          1      0  \n",
       "33393          0      1  \n",
       "13956          0      1  \n",
       "37287          0      1  \n",
       "32553          0      1  \n",
       "26084          1      0  \n",
       "25704          0      1  "
      ]
     },
     "execution_count": 238,
     "metadata": {},
     "output_type": "execute_result"
    }
   ],
   "source": [
    "(\n",
    "    validation_data\n",
    "    .assign(score = lambda d: model.predict(d[\"review_text\"]))\n",
    "    .loc[lambda d: d[\"sentiment\"].ne(d[\"score\"])]\n",
    ")"
   ]
  },
  {
   "cell_type": "code",
   "execution_count": 240,
   "metadata": {},
   "outputs": [
    {
     "data": {
      "text/html": [
       "<div>\n",
       "<style scoped>\n",
       "    .dataframe tbody tr th:only-of-type {\n",
       "        vertical-align: middle;\n",
       "    }\n",
       "\n",
       "    .dataframe tbody tr th {\n",
       "        vertical-align: top;\n",
       "    }\n",
       "\n",
       "    .dataframe thead th {\n",
       "        text-align: right;\n",
       "    }\n",
       "</style>\n",
       "<table border=\"1\" class=\"dataframe\">\n",
       "  <thead>\n",
       "    <tr style=\"text-align: right;\">\n",
       "      <th></th>\n",
       "      <th>review_text</th>\n",
       "      <th>review_stars</th>\n",
       "      <th>sentiment</th>\n",
       "      <th>score</th>\n",
       "      <th>score_probability</th>\n",
       "    </tr>\n",
       "  </thead>\n",
       "  <tbody>\n",
       "    <tr>\n",
       "      <th>19150</th>\n",
       "      <td>Dejligt man kan købe den rigtig størrelse når ...</td>\n",
       "      <td>5</td>\n",
       "      <td>1</td>\n",
       "      <td>0</td>\n",
       "      <td>0.485033</td>\n",
       "    </tr>\n",
       "    <tr>\n",
       "      <th>29534</th>\n",
       "      <td>Pakken kom 1 dag for sent end forventet i følg...</td>\n",
       "      <td>1</td>\n",
       "      <td>0</td>\n",
       "      <td>1</td>\n",
       "      <td>0.754157</td>\n",
       "    </tr>\n",
       "    <tr>\n",
       "      <th>41440</th>\n",
       "      <td>Skulle have en Office licens. \\nSmartworld hav...</td>\n",
       "      <td>5</td>\n",
       "      <td>1</td>\n",
       "      <td>0</td>\n",
       "      <td>0.498780</td>\n",
       "    </tr>\n",
       "    <tr>\n",
       "      <th>33017</th>\n",
       "      <td>Som flere oplever, meget dårlig beskrevne effe...</td>\n",
       "      <td>1</td>\n",
       "      <td>0</td>\n",
       "      <td>1</td>\n",
       "      <td>0.584242</td>\n",
       "    </tr>\n",
       "    <tr>\n",
       "      <th>37800</th>\n",
       "      <td>Igennem vores boligjagt, har vi været til mang...</td>\n",
       "      <td>1</td>\n",
       "      <td>0</td>\n",
       "      <td>1</td>\n",
       "      <td>0.591016</td>\n",
       "    </tr>\n",
       "    <tr>\n",
       "      <th>43832</th>\n",
       "      <td>Jeg gik ind på deres hjemmeside for at bestill...</td>\n",
       "      <td>5</td>\n",
       "      <td>1</td>\n",
       "      <td>0</td>\n",
       "      <td>0.488189</td>\n",
       "    </tr>\n",
       "    <tr>\n",
       "      <th>33393</th>\n",
       "      <td>Prisen er god, og bestilte derfor 2 par sko ti...</td>\n",
       "      <td>1</td>\n",
       "      <td>0</td>\n",
       "      <td>1</td>\n",
       "      <td>0.500002</td>\n",
       "    </tr>\n",
       "    <tr>\n",
       "      <th>13956</th>\n",
       "      <td>Medarbejderne knokler, der er alt for få til a...</td>\n",
       "      <td>2</td>\n",
       "      <td>0</td>\n",
       "      <td>1</td>\n",
       "      <td>0.515863</td>\n",
       "    </tr>\n",
       "    <tr>\n",
       "      <th>37287</th>\n",
       "      <td>Jeg er fint tilfreds med POWER og deres meget ...</td>\n",
       "      <td>3</td>\n",
       "      <td>0</td>\n",
       "      <td>1</td>\n",
       "      <td>0.573817</td>\n",
       "    </tr>\n",
       "    <tr>\n",
       "      <th>32553</th>\n",
       "      <td>Manglende udvikling af mobilbank. JyskeBanks \"...</td>\n",
       "      <td>1</td>\n",
       "      <td>0</td>\n",
       "      <td>1</td>\n",
       "      <td>0.574315</td>\n",
       "    </tr>\n",
       "    <tr>\n",
       "      <th>26084</th>\n",
       "      <td>Kørte på motorvejen ved Horsens og fik en fejl...</td>\n",
       "      <td>5</td>\n",
       "      <td>1</td>\n",
       "      <td>0</td>\n",
       "      <td>0.281368</td>\n",
       "    </tr>\n",
       "    <tr>\n",
       "      <th>25704</th>\n",
       "      <td>Yousee er en pengemaskine og tænker ikke på an...</td>\n",
       "      <td>1</td>\n",
       "      <td>0</td>\n",
       "      <td>1</td>\n",
       "      <td>0.520500</td>\n",
       "    </tr>\n",
       "  </tbody>\n",
       "</table>\n",
       "</div>"
      ],
      "text/plain": [
       "                                             review_text  review_stars  \\\n",
       "19150  Dejligt man kan købe den rigtig størrelse når ...             5   \n",
       "29534  Pakken kom 1 dag for sent end forventet i følg...             1   \n",
       "41440  Skulle have en Office licens. \\nSmartworld hav...             5   \n",
       "33017  Som flere oplever, meget dårlig beskrevne effe...             1   \n",
       "37800  Igennem vores boligjagt, har vi været til mang...             1   \n",
       "43832  Jeg gik ind på deres hjemmeside for at bestill...             5   \n",
       "33393  Prisen er god, og bestilte derfor 2 par sko ti...             1   \n",
       "13956  Medarbejderne knokler, der er alt for få til a...             2   \n",
       "37287  Jeg er fint tilfreds med POWER og deres meget ...             3   \n",
       "32553  Manglende udvikling af mobilbank. JyskeBanks \"...             1   \n",
       "26084  Kørte på motorvejen ved Horsens og fik en fejl...             5   \n",
       "25704  Yousee er en pengemaskine og tænker ikke på an...             1   \n",
       "\n",
       "       sentiment  score  score_probability  \n",
       "19150          1      0           0.485033  \n",
       "29534          0      1           0.754157  \n",
       "41440          1      0           0.498780  \n",
       "33017          0      1           0.584242  \n",
       "37800          0      1           0.591016  \n",
       "43832          1      0           0.488189  \n",
       "33393          0      1           0.500002  \n",
       "13956          0      1           0.515863  \n",
       "37287          0      1           0.573817  \n",
       "32553          0      1           0.574315  \n",
       "26084          1      0           0.281368  \n",
       "25704          0      1           0.520500  "
      ]
     },
     "execution_count": 240,
     "metadata": {},
     "output_type": "execute_result"
    }
   ],
   "source": [
    "(\n",
    "    validation_data\n",
    "    .assign(score = lambda d: model.predict(d[\"review_text\"]))\n",
    "    .loc[lambda d: d[\"sentiment\"].ne(d[\"score\"])]\n",
    "    .assign(score_probability = lambda d: model.predict_proba(d[\"review_text\"])[:, 1])\n",
    ")"
   ]
  },
  {
   "cell_type": "code",
   "execution_count": 257,
   "metadata": {},
   "outputs": [
    {
     "data": {
      "text/plain": [
       "array([ 0.01791708, -0.02013702, -0.0014755 , ..., -0.06055644,\n",
       "        0.01028992,  0.01028992])"
      ]
     },
     "execution_count": 257,
     "metadata": {},
     "output_type": "execute_result"
    }
   ],
   "source": [
    "model.named_steps[\"clf\"].coef_[0]"
   ]
  },
  {
   "cell_type": "code",
   "execution_count": 254,
   "metadata": {},
   "outputs": [
    {
     "data": {
      "text/plain": [
       "array(['(-:', '(8', '(8:-)', ..., 'øøvv', 'жre', 'жre medlem'],\n",
       "      dtype=object)"
      ]
     },
     "execution_count": 254,
     "metadata": {},
     "output_type": "execute_result"
    }
   ],
   "source": [
    "model.named_steps[\"tfidf\"].get_feature_names_out()"
   ]
  },
  {
   "cell_type": "code",
   "execution_count": 267,
   "metadata": {},
   "outputs": [],
   "source": [
    "explain = (\n",
    "        pd\n",
    "            .DataFrame({\"score\":model.named_steps[\"clf\"].coef_[0]},\n",
    "                       index = model.named_steps[\"tfidf\"].get_feature_names_out()\n",
    "            )\n",
    "            .sort_values(by=\"score\")\n",
    ")"
   ]
  },
  {
   "cell_type": "code",
   "execution_count": 271,
   "metadata": {},
   "outputs": [
    {
     "data": {
      "text/plain": [
       "(            score\n",
       " ikke   -10.065009\n",
       " dårlig  -5.890535\n",
       " at      -3.924502,\n",
       "            score\n",
       " hurtig  4.997415\n",
       " super   5.409145\n",
       " god     5.851818)"
      ]
     },
     "execution_count": 271,
     "metadata": {},
     "output_type": "execute_result"
    }
   ],
   "source": [
    "explain.head(3), explain.tail(3)"
   ]
  },
  {
   "cell_type": "code",
   "execution_count": 282,
   "metadata": {},
   "outputs": [
    {
     "data": {
      "text/html": [
       "<div>\n",
       "<style scoped>\n",
       "    .dataframe tbody tr th:only-of-type {\n",
       "        vertical-align: middle;\n",
       "    }\n",
       "\n",
       "    .dataframe tbody tr th {\n",
       "        vertical-align: top;\n",
       "    }\n",
       "\n",
       "    .dataframe thead th {\n",
       "        text-align: right;\n",
       "    }\n",
       "</style>\n",
       "<table border=\"1\" class=\"dataframe\">\n",
       "  <thead>\n",
       "    <tr style=\"text-align: right;\">\n",
       "      <th></th>\n",
       "      <th>review_text</th>\n",
       "      <th>review_stars</th>\n",
       "      <th>sentiment</th>\n",
       "      <th>score</th>\n",
       "      <th>score_probability</th>\n",
       "    </tr>\n",
       "  </thead>\n",
       "  <tbody>\n",
       "    <tr>\n",
       "      <th>26084</th>\n",
       "      <td>Kørte på motorvejen ved Horsens og fik en fejl...</td>\n",
       "      <td>5</td>\n",
       "      <td>1</td>\n",
       "      <td>0</td>\n",
       "      <td>0.281368</td>\n",
       "    </tr>\n",
       "  </tbody>\n",
       "</table>\n",
       "</div>"
      ],
      "text/plain": [
       "                                             review_text  review_stars  \\\n",
       "26084  Kørte på motorvejen ved Horsens og fik en fejl...             5   \n",
       "\n",
       "       sentiment  score  score_probability  \n",
       "26084          1      0           0.281368  "
      ]
     },
     "execution_count": 282,
     "metadata": {},
     "output_type": "execute_result"
    }
   ],
   "source": [
    "(\n",
    "    validation_data\n",
    "    .assign(score = lambda d: model.predict(d[\"review_text\"]))\n",
    "    .loc[lambda d: d[\"sentiment\"].ne(d[\"score\"])]\n",
    "    .assign(score_probability = lambda d: model.predict_proba(d[\"review_text\"])[:, 1])\n",
    "    .loc[lambda d: (d[\"score\"].eq(0) & d[\"score_probability\"].lt(.4))]\n",
    "    # .loc[lambda d: (d[\"score\"].eq(1) & d[\"score_probability\"].gt(.6))]\n",
    ")"
   ]
  },
  {
   "cell_type": "code",
   "execution_count": 285,
   "metadata": {},
   "outputs": [],
   "source": [
    "message = (\n",
    "    validation_data\n",
    "    .assign(score = lambda d: model.predict(d[\"review_text\"]))\n",
    "    .loc[lambda d: d[\"sentiment\"].ne(d[\"score\"])]\n",
    "    .assign(score_probability = lambda d: model.predict_proba(d[\"review_text\"])[:, 1])\n",
    "    .loc[lambda d: (d[\"score\"].eq(0) & d[\"score_probability\"].lt(.4))]\n",
    "    # .loc[lambda d: (d[\"score\"].eq(1) & d[\"score_probability\"].gt(.6))]\n",
    ")[\"review_text\"].squeeze()"
   ]
  },
  {
   "cell_type": "code",
   "execution_count": 301,
   "metadata": {},
   "outputs": [
    {
     "data": {
      "text/plain": [
       "'Kørte på motorvejen ved Horsens og fik en fejl på motoren. Jeg ringede og de lovede akut at sætte en tester på for at udlæse fejl. Det gjorde de, fin service, men desværre blokerede en leverandørlastbil så bilen ikke kunne komme ud af værkstedet. Det var jo ikke RAF’s skyld, men fordi jeg måtte vente 20-25 minutter ønskede de ikke betaling. Her kommer jeg gerne igen.'"
      ]
     },
     "execution_count": 301,
     "metadata": {},
     "output_type": "execute_result"
    }
   ],
   "source": [
    "message"
   ]
  },
  {
   "cell_type": "code",
   "execution_count": 300,
   "metadata": {
    "collapsed": true,
    "jupyter": {
     "outputs_hidden": true
    }
   },
   "outputs": [
    {
     "data": {
      "text/html": [
       "<div>\n",
       "<style scoped>\n",
       "    .dataframe tbody tr th:only-of-type {\n",
       "        vertical-align: middle;\n",
       "    }\n",
       "\n",
       "    .dataframe tbody tr th {\n",
       "        vertical-align: top;\n",
       "    }\n",
       "\n",
       "    .dataframe thead th {\n",
       "        text-align: right;\n",
       "    }\n",
       "</style>\n",
       "<table border=\"1\" class=\"dataframe\">\n",
       "  <thead>\n",
       "    <tr style=\"text-align: right;\">\n",
       "      <th></th>\n",
       "      <th>score</th>\n",
       "    </tr>\n",
       "  </thead>\n",
       "  <tbody>\n",
       "    <tr>\n",
       "      <th>ikke</th>\n",
       "      <td>-10.065009</td>\n",
       "    </tr>\n",
       "    <tr>\n",
       "      <th>at</th>\n",
       "      <td>-3.924502</td>\n",
       "    </tr>\n",
       "    <tr>\n",
       "      <th>men</th>\n",
       "      <td>-3.889091</td>\n",
       "    </tr>\n",
       "    <tr>\n",
       "      <th>på</th>\n",
       "      <td>-3.462407</td>\n",
       "    </tr>\n",
       "    <tr>\n",
       "      <th>de</th>\n",
       "      <td>-2.999406</td>\n",
       "    </tr>\n",
       "    <tr>\n",
       "      <th>for</th>\n",
       "      <td>-2.735808</td>\n",
       "    </tr>\n",
       "    <tr>\n",
       "      <th>af</th>\n",
       "      <td>-1.868363</td>\n",
       "    </tr>\n",
       "    <tr>\n",
       "      <th>så</th>\n",
       "      <td>-1.618559</td>\n",
       "    </tr>\n",
       "    <tr>\n",
       "      <th>det</th>\n",
       "      <td>-1.213392</td>\n",
       "    </tr>\n",
       "    <tr>\n",
       "      <th>desværre</th>\n",
       "      <td>-1.176729</td>\n",
       "    </tr>\n",
       "    <tr>\n",
       "      <th>ud</th>\n",
       "      <td>-1.151513</td>\n",
       "    </tr>\n",
       "    <tr>\n",
       "      <th>måtte</th>\n",
       "      <td>-1.025786</td>\n",
       "    </tr>\n",
       "    <tr>\n",
       "      <th>en</th>\n",
       "      <td>-0.967127</td>\n",
       "    </tr>\n",
       "    <tr>\n",
       "      <th>kommer</th>\n",
       "      <td>-0.749947</td>\n",
       "    </tr>\n",
       "    <tr>\n",
       "      <th>fordi</th>\n",
       "      <td>-0.743485</td>\n",
       "    </tr>\n",
       "    <tr>\n",
       "      <th>ved</th>\n",
       "      <td>-0.636059</td>\n",
       "    </tr>\n",
       "    <tr>\n",
       "      <th>vente</th>\n",
       "      <td>-0.520081</td>\n",
       "    </tr>\n",
       "    <tr>\n",
       "      <th>jeg</th>\n",
       "      <td>-0.510929</td>\n",
       "    </tr>\n",
       "    <tr>\n",
       "      <th>komme</th>\n",
       "      <td>-0.457235</td>\n",
       "    </tr>\n",
       "    <tr>\n",
       "      <th>jo</th>\n",
       "      <td>-0.332910</td>\n",
       "    </tr>\n",
       "    <tr>\n",
       "      <th>fejl</th>\n",
       "      <td>-0.331382</td>\n",
       "    </tr>\n",
       "    <tr>\n",
       "      <th>betaling</th>\n",
       "      <td>-0.257258</td>\n",
       "    </tr>\n",
       "    <tr>\n",
       "      <th>igen</th>\n",
       "      <td>-0.252559</td>\n",
       "    </tr>\n",
       "    <tr>\n",
       "      <th>minutter</th>\n",
       "      <td>-0.176054</td>\n",
       "    </tr>\n",
       "    <tr>\n",
       "      <th>lovede</th>\n",
       "      <td>-0.142553</td>\n",
       "    </tr>\n",
       "    <tr>\n",
       "      <th>tester</th>\n",
       "      <td>-0.062761</td>\n",
       "    </tr>\n",
       "    <tr>\n",
       "      <th>kørte</th>\n",
       "      <td>-0.038694</td>\n",
       "    </tr>\n",
       "    <tr>\n",
       "      <th>blokerede</th>\n",
       "      <td>-0.032066</td>\n",
       "    </tr>\n",
       "    <tr>\n",
       "      <th>motoren</th>\n",
       "      <td>-0.016506</td>\n",
       "    </tr>\n",
       "    <tr>\n",
       "      <th>akut</th>\n",
       "      <td>0.020147</td>\n",
       "    </tr>\n",
       "    <tr>\n",
       "      <th>motorvejen</th>\n",
       "      <td>0.024178</td>\n",
       "    </tr>\n",
       "    <tr>\n",
       "      <th>skyld</th>\n",
       "      <td>0.035220</td>\n",
       "    </tr>\n",
       "    <tr>\n",
       "      <th>s</th>\n",
       "      <td>0.040538</td>\n",
       "    </tr>\n",
       "    <tr>\n",
       "      <th>horsens</th>\n",
       "      <td>0.051243</td>\n",
       "    </tr>\n",
       "    <tr>\n",
       "      <th>værkstedet</th>\n",
       "      <td>0.053569</td>\n",
       "    </tr>\n",
       "    <tr>\n",
       "      <th>raf</th>\n",
       "      <td>0.079621</td>\n",
       "    </tr>\n",
       "    <tr>\n",
       "      <th>var</th>\n",
       "      <td>0.130896</td>\n",
       "    </tr>\n",
       "    <tr>\n",
       "      <th>bilen</th>\n",
       "      <td>0.159321</td>\n",
       "    </tr>\n",
       "    <tr>\n",
       "      <th>her</th>\n",
       "      <td>0.235595</td>\n",
       "    </tr>\n",
       "    <tr>\n",
       "      <th>ønskede</th>\n",
       "      <td>0.281851</td>\n",
       "    </tr>\n",
       "    <tr>\n",
       "      <th>gjorde</th>\n",
       "      <td>0.327499</td>\n",
       "    </tr>\n",
       "    <tr>\n",
       "      <th>kunne</th>\n",
       "      <td>0.331161</td>\n",
       "    </tr>\n",
       "    <tr>\n",
       "      <th>ringede</th>\n",
       "      <td>0.343584</td>\n",
       "    </tr>\n",
       "    <tr>\n",
       "      <th>sætte</th>\n",
       "      <td>0.514063</td>\n",
       "    </tr>\n",
       "    <tr>\n",
       "      <th>gerne</th>\n",
       "      <td>0.655994</td>\n",
       "    </tr>\n",
       "    <tr>\n",
       "      <th>fik</th>\n",
       "      <td>0.922403</td>\n",
       "    </tr>\n",
       "    <tr>\n",
       "      <th>fin</th>\n",
       "      <td>1.782347</td>\n",
       "    </tr>\n",
       "    <tr>\n",
       "      <th>service</th>\n",
       "      <td>3.765212</td>\n",
       "    </tr>\n",
       "    <tr>\n",
       "      <th>og</th>\n",
       "      <td>3.903195</td>\n",
       "    </tr>\n",
       "  </tbody>\n",
       "</table>\n",
       "</div>"
      ],
      "text/plain": [
       "                score\n",
       "ikke       -10.065009\n",
       "at          -3.924502\n",
       "men         -3.889091\n",
       "på          -3.462407\n",
       "de          -2.999406\n",
       "for         -2.735808\n",
       "af          -1.868363\n",
       "så          -1.618559\n",
       "det         -1.213392\n",
       "desværre    -1.176729\n",
       "ud          -1.151513\n",
       "måtte       -1.025786\n",
       "en          -0.967127\n",
       "kommer      -0.749947\n",
       "fordi       -0.743485\n",
       "ved         -0.636059\n",
       "vente       -0.520081\n",
       "jeg         -0.510929\n",
       "komme       -0.457235\n",
       "jo          -0.332910\n",
       "fejl        -0.331382\n",
       "betaling    -0.257258\n",
       "igen        -0.252559\n",
       "minutter    -0.176054\n",
       "lovede      -0.142553\n",
       "tester      -0.062761\n",
       "kørte       -0.038694\n",
       "blokerede   -0.032066\n",
       "motoren     -0.016506\n",
       "akut         0.020147\n",
       "motorvejen   0.024178\n",
       "skyld        0.035220\n",
       "s            0.040538\n",
       "horsens      0.051243\n",
       "værkstedet   0.053569\n",
       "raf          0.079621\n",
       "var          0.130896\n",
       "bilen        0.159321\n",
       "her          0.235595\n",
       "ønskede      0.281851\n",
       "gjorde       0.327499\n",
       "kunne        0.331161\n",
       "ringede      0.343584\n",
       "sætte        0.514063\n",
       "gerne        0.655994\n",
       "fik          0.922403\n",
       "fin          1.782347\n",
       "service      3.765212\n",
       "og           3.903195"
      ]
     },
     "execution_count": 300,
     "metadata": {},
     "output_type": "execute_result"
    }
   ],
   "source": [
    "explain[explain.index.isin(pd.Index(tokenizer(message)))]"
   ]
  },
  {
   "cell_type": "code",
   "execution_count": 303,
   "metadata": {},
   "outputs": [],
   "source": [
    "import sys\n",
    "\n",
    "!{sys.executable} -m pip install hisia --quiet"
   ]
  },
  {
   "cell_type": "code",
   "execution_count": 304,
   "metadata": {
    "collapsed": true,
    "jupyter": {
     "outputs_hidden": true
    }
   },
   "outputs": [
    {
     "name": "stderr",
     "output_type": "stream",
     "text": [
      "/home/pwd/.cache/pypoetry/virtualenvs/sentiment-h7wduh4z-py3.8/lib/python3.8/site-packages/sklearn/base.py:329: UserWarning: Trying to unpickle estimator CountVectorizer from version 1.0 when using version 1.0.2. This might lead to breaking code or invalid results. Use at your own risk. For more info please refer to:\n",
      "https://scikit-learn.org/stable/modules/model_persistence.html#security-maintainability-limitations\n",
      "  warnings.warn(\n",
      "/home/pwd/.cache/pypoetry/virtualenvs/sentiment-h7wduh4z-py3.8/lib/python3.8/site-packages/sklearn/base.py:329: UserWarning: Trying to unpickle estimator SelectKBest from version 1.0 when using version 1.0.2. This might lead to breaking code or invalid results. Use at your own risk. For more info please refer to:\n",
      "https://scikit-learn.org/stable/modules/model_persistence.html#security-maintainability-limitations\n",
      "  warnings.warn(\n",
      "/home/pwd/.cache/pypoetry/virtualenvs/sentiment-h7wduh4z-py3.8/lib/python3.8/site-packages/sklearn/base.py:329: UserWarning: Trying to unpickle estimator TfidfTransformer from version 1.0 when using version 1.0.2. This might lead to breaking code or invalid results. Use at your own risk. For more info please refer to:\n",
      "https://scikit-learn.org/stable/modules/model_persistence.html#security-maintainability-limitations\n",
      "  warnings.warn(\n",
      "/home/pwd/.cache/pypoetry/virtualenvs/sentiment-h7wduh4z-py3.8/lib/python3.8/site-packages/sklearn/base.py:329: UserWarning: Trying to unpickle estimator LogisticRegressionCV from version 1.0 when using version 1.0.2. This might lead to breaking code or invalid results. Use at your own risk. For more info please refer to:\n",
      "https://scikit-learn.org/stable/modules/model_persistence.html#security-maintainability-limitations\n",
      "  warnings.warn(\n",
      "/home/pwd/.cache/pypoetry/virtualenvs/sentiment-h7wduh4z-py3.8/lib/python3.8/site-packages/sklearn/base.py:329: UserWarning: Trying to unpickle estimator Pipeline from version 1.0 when using version 1.0.2. This might lead to breaking code or invalid results. Use at your own risk. For more info please refer to:\n",
      "https://scikit-learn.org/stable/modules/model_persistence.html#security-maintainability-limitations\n",
      "  warnings.warn(\n"
     ]
    }
   ],
   "source": [
    "import hisia"
   ]
  },
  {
   "cell_type": "code",
   "execution_count": 306,
   "metadata": {},
   "outputs": [
    {
     "data": {
      "text/plain": [
       "Sentiment(sentiment=negative, positive_probability=0.402, negative_probability=0.598)"
      ]
     },
     "execution_count": 306,
     "metadata": {},
     "output_type": "execute_result"
    }
   ],
   "source": [
    "hisia.Hisia(message)"
   ]
  },
  {
   "cell_type": "code",
   "execution_count": 307,
   "metadata": {},
   "outputs": [
    {
     "data": {
      "text/plain": [
       "Sentiment(sentiment=negative, positive_probability=0.013, negative_probability=0.987)"
      ]
     },
     "execution_count": 307,
     "metadata": {},
     "output_type": "execute_result"
    }
   ],
   "source": [
    "hisia.Hisia(\"det er ikke ok\")"
   ]
  },
  {
   "cell_type": "code",
   "execution_count": 309,
   "metadata": {},
   "outputs": [
    {
     "data": {
      "text/plain": [
       "array([[0.85251729, 0.14748271]])"
      ]
     },
     "execution_count": 309,
     "metadata": {},
     "output_type": "execute_result"
    }
   ],
   "source": [
    "model.predict_proba([\"det er ikke ok\"]) # 0 - negative, 1 - positive"
   ]
  },
  {
   "cell_type": "code",
   "execution_count": 310,
   "metadata": {},
   "outputs": [],
   "source": [
    "message2 = (\n",
    "    validation_data\n",
    "    .assign(score = lambda d: model.predict(d[\"review_text\"]))\n",
    "    .loc[lambda d: d[\"sentiment\"].ne(d[\"score\"])]\n",
    "    .assign(score_probability = lambda d: model.predict_proba(d[\"review_text\"])[:, 1])\n",
    "    # .loc[lambda d: (d[\"score\"].eq(0) & d[\"score_probability\"].lt(.4))]\n",
    "    .loc[lambda d: (d[\"score\"].eq(1) & d[\"score_probability\"].gt(.6))]\n",
    ")[\"review_text\"].squeeze()"
   ]
  },
  {
   "cell_type": "code",
   "execution_count": 311,
   "metadata": {},
   "outputs": [
    {
     "data": {
      "text/plain": [
       "'Pakken kom 1 dag for sent end forventet i følge leveringen. Det var den var en stor del af de fødselsdagsgaver min søn skulle have. De andre gaver jeg havde bestilt samme dag var kommet til tiden. Så det blev en ærgelig oplevelse'"
      ]
     },
     "execution_count": 311,
     "metadata": {},
     "output_type": "execute_result"
    }
   ],
   "source": [
    "message2"
   ]
  },
  {
   "cell_type": "code",
   "execution_count": 328,
   "metadata": {},
   "outputs": [
    {
     "data": {
      "text/html": [
       "<div>\n",
       "<style scoped>\n",
       "    .dataframe tbody tr th:only-of-type {\n",
       "        vertical-align: middle;\n",
       "    }\n",
       "\n",
       "    .dataframe tbody tr th {\n",
       "        vertical-align: top;\n",
       "    }\n",
       "\n",
       "    .dataframe thead th {\n",
       "        text-align: right;\n",
       "    }\n",
       "</style>\n",
       "<table border=\"1\" class=\"dataframe\">\n",
       "  <thead>\n",
       "    <tr style=\"text-align: right;\">\n",
       "      <th></th>\n",
       "      <th>review_text</th>\n",
       "      <th>review_stars</th>\n",
       "      <th>sentiment</th>\n",
       "      <th>score_probability</th>\n",
       "      <th>score</th>\n",
       "    </tr>\n",
       "  </thead>\n",
       "  <tbody>\n",
       "    <tr>\n",
       "      <th>19150</th>\n",
       "      <td>Dejligt man kan købe den rigtig størrelse når ...</td>\n",
       "      <td>5</td>\n",
       "      <td>1</td>\n",
       "      <td>0.485033</td>\n",
       "      <td>0</td>\n",
       "    </tr>\n",
       "    <tr>\n",
       "      <th>41440</th>\n",
       "      <td>Skulle have en Office licens. \\nSmartworld hav...</td>\n",
       "      <td>5</td>\n",
       "      <td>1</td>\n",
       "      <td>0.498780</td>\n",
       "      <td>0</td>\n",
       "    </tr>\n",
       "    <tr>\n",
       "      <th>33017</th>\n",
       "      <td>Som flere oplever, meget dårlig beskrevne effe...</td>\n",
       "      <td>1</td>\n",
       "      <td>0</td>\n",
       "      <td>0.584242</td>\n",
       "      <td>1</td>\n",
       "    </tr>\n",
       "    <tr>\n",
       "      <th>37800</th>\n",
       "      <td>Igennem vores boligjagt, har vi været til mang...</td>\n",
       "      <td>1</td>\n",
       "      <td>0</td>\n",
       "      <td>0.591016</td>\n",
       "      <td>1</td>\n",
       "    </tr>\n",
       "    <tr>\n",
       "      <th>343</th>\n",
       "      <td>Den ene af to bøger ankom med tydelige ‘slåede...</td>\n",
       "      <td>2</td>\n",
       "      <td>0</td>\n",
       "      <td>0.364247</td>\n",
       "      <td>0</td>\n",
       "    </tr>\n",
       "    <tr>\n",
       "      <th>43832</th>\n",
       "      <td>Jeg gik ind på deres hjemmeside for at bestill...</td>\n",
       "      <td>5</td>\n",
       "      <td>1</td>\n",
       "      <td>0.488189</td>\n",
       "      <td>0</td>\n",
       "    </tr>\n",
       "    <tr>\n",
       "      <th>35265</th>\n",
       "      <td>Færdig med at vente 🙂\\nFinder min oprindelige ...</td>\n",
       "      <td>1</td>\n",
       "      <td>0</td>\n",
       "      <td>0.451602</td>\n",
       "      <td>0</td>\n",
       "    </tr>\n",
       "    <tr>\n",
       "      <th>33393</th>\n",
       "      <td>Prisen er god, og bestilte derfor 2 par sko ti...</td>\n",
       "      <td>1</td>\n",
       "      <td>0</td>\n",
       "      <td>0.500002</td>\n",
       "      <td>1</td>\n",
       "    </tr>\n",
       "    <tr>\n",
       "      <th>13956</th>\n",
       "      <td>Medarbejderne knokler, der er alt for få til a...</td>\n",
       "      <td>2</td>\n",
       "      <td>0</td>\n",
       "      <td>0.515863</td>\n",
       "      <td>1</td>\n",
       "    </tr>\n",
       "    <tr>\n",
       "      <th>37287</th>\n",
       "      <td>Jeg er fint tilfreds med POWER og deres meget ...</td>\n",
       "      <td>3</td>\n",
       "      <td>0</td>\n",
       "      <td>0.573817</td>\n",
       "      <td>1</td>\n",
       "    </tr>\n",
       "    <tr>\n",
       "      <th>32553</th>\n",
       "      <td>Manglende udvikling af mobilbank. JyskeBanks \"...</td>\n",
       "      <td>1</td>\n",
       "      <td>0</td>\n",
       "      <td>0.574315</td>\n",
       "      <td>1</td>\n",
       "    </tr>\n",
       "    <tr>\n",
       "      <th>15220</th>\n",
       "      <td>Jeg har handlet af to omgange, gennem butikken...</td>\n",
       "      <td>3</td>\n",
       "      <td>0</td>\n",
       "      <td>0.412983</td>\n",
       "      <td>0</td>\n",
       "    </tr>\n",
       "    <tr>\n",
       "      <th>25704</th>\n",
       "      <td>Yousee er en pengemaskine og tænker ikke på an...</td>\n",
       "      <td>1</td>\n",
       "      <td>0</td>\n",
       "      <td>0.520500</td>\n",
       "      <td>1</td>\n",
       "    </tr>\n",
       "  </tbody>\n",
       "</table>\n",
       "</div>"
      ],
      "text/plain": [
       "                                             review_text  review_stars  \\\n",
       "19150  Dejligt man kan købe den rigtig størrelse når ...             5   \n",
       "41440  Skulle have en Office licens. \\nSmartworld hav...             5   \n",
       "33017  Som flere oplever, meget dårlig beskrevne effe...             1   \n",
       "37800  Igennem vores boligjagt, har vi været til mang...             1   \n",
       "343    Den ene af to bøger ankom med tydelige ‘slåede...             2   \n",
       "43832  Jeg gik ind på deres hjemmeside for at bestill...             5   \n",
       "35265  Færdig med at vente 🙂\\nFinder min oprindelige ...             1   \n",
       "33393  Prisen er god, og bestilte derfor 2 par sko ti...             1   \n",
       "13956  Medarbejderne knokler, der er alt for få til a...             2   \n",
       "37287  Jeg er fint tilfreds med POWER og deres meget ...             3   \n",
       "32553  Manglende udvikling af mobilbank. JyskeBanks \"...             1   \n",
       "15220  Jeg har handlet af to omgange, gennem butikken...             3   \n",
       "25704  Yousee er en pengemaskine og tænker ikke på an...             1   \n",
       "\n",
       "       sentiment  score_probability  score  \n",
       "19150          1           0.485033      0  \n",
       "41440          1           0.498780      0  \n",
       "33017          0           0.584242      1  \n",
       "37800          0           0.591016      1  \n",
       "343            0           0.364247      0  \n",
       "43832          1           0.488189      0  \n",
       "35265          0           0.451602      0  \n",
       "33393          0           0.500002      1  \n",
       "13956          0           0.515863      1  \n",
       "37287          0           0.573817      1  \n",
       "32553          0           0.574315      1  \n",
       "15220          0           0.412983      0  \n",
       "25704          0           0.520500      1  "
      ]
     },
     "execution_count": 328,
     "metadata": {},
     "output_type": "execute_result"
    }
   ],
   "source": [
    "LOWER_BOUND, UPPER_BOUND = 0.35, 0.65\n",
    "(\n",
    "    validation_data\n",
    "    .assign(score_probability = lambda d: model.predict_proba(d[\"review_text\"])[:, 1],\n",
    "            score = lambda d: np.where(d[\"score_probability\"].gt(.5), 1, 0))\n",
    "    .loc[lambda d: (d[\"score_probability\"].gt(LOWER_BOUND) & d[\"score_probability\"].lt(UPPER_BOUND))]\n",
    ")"
   ]
  },
  {
   "cell_type": "code",
   "execution_count": null,
   "metadata": {},
   "outputs": [],
   "source": []
  }
 ],
 "metadata": {
  "kernelspec": {
   "display_name": "medium",
   "language": "python",
   "name": "medium"
  },
  "language_info": {
   "codemirror_mode": {
    "name": "ipython",
    "version": 3
   },
   "file_extension": ".py",
   "mimetype": "text/x-python",
   "name": "python",
   "nbconvert_exporter": "python",
   "pygments_lexer": "ipython3",
   "version": "3.8.12"
  }
 },
 "nbformat": 4,
 "nbformat_minor": 4
}
