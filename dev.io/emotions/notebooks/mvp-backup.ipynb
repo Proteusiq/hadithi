{
 "cells": [
  {
   "cell_type": "code",
   "execution_count": 1,
   "id": "8ea5010f-3175-47a2-be32-0be51bc72caa",
   "metadata": {},
   "outputs": [
    {
     "name": "stdout",
     "output_type": "stream",
     "text": [
      "Author: Prayson W. Daniel\n",
      "\n",
      "Last updated: 2024-10-31T09:11:19.045838+01:00\n",
      "\n",
      "Python implementation: CPython\n",
      "Python version       : 3.12.7\n",
      "IPython version      : 8.29.0\n",
      "\n",
      "polars    : 1.7.1\n",
      "instructor: 1.4.3\n",
      "openai    : 1.46.1\n",
      "ollama    : 0.3.3\n",
      "\n",
      "Compiler    : Clang 15.0.0 (clang-1500.3.9.4)\n",
      "OS          : Darwin\n",
      "Release     : 23.5.0\n",
      "Machine     : arm64\n",
      "Processor   : arm\n",
      "CPU cores   : 16\n",
      "Architecture: 64bit\n",
      "\n"
     ]
    }
   ],
   "source": [
    "%reload_ext watermark\n",
    "%watermark -uniz --author \"Prayson W. Daniel\" -vm -p polars,instructor,openai,ollama"
   ]
  },
  {
   "cell_type": "code",
   "execution_count": 2,
   "id": "dc3260d5-6f88-4eb7-a15d-f7e719bf339b",
   "metadata": {},
   "outputs": [],
   "source": [
    "from typing import Literal, Final\n",
    "from openai import OpenAI\n",
    "from pydantic import BaseModel, Field\n",
    "import polars as pl\n",
    "import instructor"
   ]
  },
  {
   "cell_type": "code",
   "execution_count": 3,
   "id": "3fa7dbea-f5e1-41fd-a002-21239acb91b7",
   "metadata": {},
   "outputs": [],
   "source": [
    "MODEL: Final = \"gemma2\"\n",
    "\n",
    "VALID_EMOTIONS: tuple[str, ...] = tuple(\n",
    "    {\n",
    "        \"admiration\",\n",
    "        \"approval\",\n",
    "        \"gratitude\",\n",
    "        \"optimism\",\n",
    "        \"joy\",\n",
    "        \"neutral\",\n",
    "        \"disapproval\",\n",
    "        \"disappointment\",\n",
    "        \"love\",\n",
    "        \"relief\",\n",
    "        \"excitement\",\n",
    "        \"desire\",\n",
    "        \"caring\",\n",
    "        \"pride\",\n",
    "        \"realization\",\n",
    "        \"disgust\",\n",
    "        \"annoyance\",\n",
    "        \"remorse\",\n",
    "        \"amusement\",\n",
    "        \"anger\",\n",
    "        \"grief\",\n",
    "        \"curiosity\",\n",
    "        \"fear\",\n",
    "        \"surprise\",\n",
    "        \"sadness\",\n",
    "        \"embarrassment\",\n",
    "        \"confusion\",\n",
    "        \"nervousness\",\n",
    "    }\n",
    ")"
   ]
  },
  {
   "cell_type": "code",
   "execution_count": 4,
   "id": "c646b73e-da1d-439f-a74d-9fc31d117902",
   "metadata": {},
   "outputs": [],
   "source": [
    "class Emotion(BaseModel):\n",
    "    kind: Literal[VALID_EMOTIONS]  # type: ignore # literal does not like dynamic values\n",
    "    reason: str = Field(\n",
    "        ..., description=\"A short third person reason for selected the emotion\"\n",
    "    )"
   ]
  },
  {
   "cell_type": "code",
   "execution_count": 5,
   "id": "adae927c-ede4-44ad-93ca-dd5a2d1562c2",
   "metadata": {},
   "outputs": [],
   "source": [
    "client = instructor.from_openai(\n",
    "    OpenAI(\n",
    "        base_url=\"http://localhost:11434/v1\",\n",
    "        api_key=\"ollama\",  # required, but unused\n",
    "    ),\n",
    "    mode=instructor.Mode.JSON,\n",
    ")"
   ]
  },
  {
   "cell_type": "code",
   "execution_count": 6,
   "id": "b238b75e-bf5c-480f-9acf-ae2669d04914",
   "metadata": {},
   "outputs": [],
   "source": [
    "def classifier(text: str, model: str = MODEL) -> Emotion:\n",
    "    response = client.chat.completions.create(\n",
    "        model=model,\n",
    "        messages=[\n",
    "            {\n",
    "                \"role\": \"user\",\n",
    "                \"content\": f\"You are a brilliant emotion pyschologist. What is the text emotion: Text: {text}\",\n",
    "            }\n",
    "        ],\n",
    "        response_model=Emotion,\n",
    "        temperature=0.0,\n",
    "    )\n",
    "\n",
    "    return response"
   ]
  },
  {
   "cell_type": "code",
   "execution_count": 7,
   "id": "5538cf14-3713-4d57-bdef-11a90ce00a23",
   "metadata": {},
   "outputs": [],
   "source": [
    "pl.Config.set_fmt_str_lengths(100).set_tbl_rows(\n",
    "    -1\n",
    ")  # show more text. default is 25, show all rowss\n",
    "\n",
    "dataf = pl.read_json(\"../data/examples.json\").explode([\"emotion\", \"text\"])"
   ]
  },
  {
   "cell_type": "code",
   "execution_count": 8,
   "id": "4dd7564e-1bbb-435b-ab2f-60613dd86868",
   "metadata": {},
   "outputs": [
    {
     "data": {
      "text/html": [
       "<div><style>\n",
       ".dataframe > thead > tr,\n",
       ".dataframe > tbody > tr {\n",
       "  text-align: right;\n",
       "  white-space: pre-wrap;\n",
       "}\n",
       "</style>\n",
       "<small>shape: (3, 2)</small><table border=\"1\" class=\"dataframe\"><thead><tr><th>emotion</th><th>text</th></tr><tr><td>str</td><td>str</td></tr></thead><tbody><tr><td>&quot;admiration&quot;</td><td>&quot;The way she solved that complex math problem was incredible. Truly a mind to admire!&quot;</td></tr><tr><td>&quot;admiration&quot;</td><td>&quot;He ran a marathon in record time despite his injury. What a remarkable feat!&quot;</td></tr><tr><td>&quot;admiration&quot;</td><td>&quot;Her dedication to helping the homeless inspires me every day.&quot;</td></tr></tbody></table></div>"
      ],
      "text/plain": [
       "shape: (3, 2)\n",
       "┌────────────┬──────────────────────────────────────────────────────────────────────────────┐\n",
       "│ emotion    ┆ text                                                                         │\n",
       "│ ---        ┆ ---                                                                          │\n",
       "│ str        ┆ str                                                                          │\n",
       "╞════════════╪══════════════════════════════════════════════════════════════════════════════╡\n",
       "│ admiration ┆ The way she solved that complex math problem was incredible. Truly a mind to │\n",
       "│            ┆ admire!                                                                      │\n",
       "│ admiration ┆ He ran a marathon in record time despite his injury. What a remarkable feat! │\n",
       "│ admiration ┆ Her dedication to helping the homeless inspires me every day.                │\n",
       "└────────────┴──────────────────────────────────────────────────────────────────────────────┘"
      ]
     },
     "execution_count": 8,
     "metadata": {},
     "output_type": "execute_result"
    }
   ],
   "source": [
    "dataf.head(3)"
   ]
  },
  {
   "cell_type": "code",
   "execution_count": 9,
   "id": "dbc0d9c3-2355-4734-be03-07457f95b675",
   "metadata": {},
   "outputs": [
    {
     "data": {
      "text/plain": [
       "Emotion(kind='sadness', reason='The person explicitly states they are sad.')"
      ]
     },
     "execution_count": 9,
     "metadata": {},
     "output_type": "execute_result"
    }
   ],
   "source": [
    "classifier(\"I am sad!\")"
   ]
  },
  {
   "cell_type": "code",
   "execution_count": 10,
   "id": "a6a0c45c-6231-43c4-ad7a-21215b9d78d3",
   "metadata": {},
   "outputs": [
    {
     "data": {
      "text/html": [
       "<div><style>\n",
       ".dataframe > thead > tr,\n",
       ".dataframe > tbody > tr {\n",
       "  text-align: right;\n",
       "  white-space: pre-wrap;\n",
       "}\n",
       "</style>\n",
       "<small>shape: (15, 4)</small><table border=\"1\" class=\"dataframe\"><thead><tr><th>emotion</th><th>text</th><th>prediction</th><th>reason</th></tr><tr><td>str</td><td>str</td><td>str</td><td>str</td></tr></thead><tbody><tr><td>&quot;disappointment&quot;</td><td>&quot;I was expecting a better outcome after all the effort we put in.&quot;</td><td>&quot;disappointment&quot;</td><td>&quot;The speaker expected a better result than what they achieved despite their efforts.&quot;</td></tr><tr><td>&quot;gratitude&quot;</td><td>&quot;I really appreciate you covering my shift last minute. You&#x27;re a lifesaver!&quot;</td><td>&quot;gratitude&quot;</td><td>&quot;The speaker expresses thanks for someone covering their shift, indicating they feel grateful.&quot;</td></tr><tr><td>&quot;excitement&quot;</td><td>&quot;I can’t wait to see what this year has in store for us!&quot;</td><td>&quot;excitement&quot;</td><td>&quot;The speaker expresses anticipation and eagerness for the future.&quot;</td></tr><tr><td>&quot;disgust&quot;</td><td>&quot;I feel disgusted by the lack of cleanliness at the venue.&quot;</td><td>&quot;disgust&quot;</td><td>&quot;the lack of cleanliness at the venue&quot;</td></tr><tr><td>&quot;disapproval&quot;</td><td>&quot;This proposal is filled with inconsistencies. It needs to be reworked.&quot;</td><td>&quot;disapproval&quot;</td><td>&quot;The proposal contains inconsistencies that require revision.&quot;</td></tr><tr><td>&quot;sadness&quot;</td><td>&quot;It’s hard to shake this sadness after hearing such devastating news.&quot;</td><td>&quot;sadness&quot;</td><td>&quot;Hearing devastating news.&quot;</td></tr><tr><td>&quot;surprise&quot;</td><td>&quot;His sudden resignation came as a complete surprise to everyone.&quot;</td><td>&quot;surprise&quot;</td><td>&quot;His unexpected decision to resign was unforeseen by all.&quot;</td></tr><tr><td>&quot;disgust&quot;</td><td>&quot;That was a truly disgusting attitude displayed during the meeting.&quot;</td><td>&quot;disgust&quot;</td><td>&quot;The attitude displayed during the meeting was considered repulsive.&quot;</td></tr><tr><td>&quot;sadness&quot;</td><td>&quot;I’ve felt a lingering sadness since the end of that relationship.&quot;</td><td>&quot;sadness&quot;</td><td>&quot;The end of a relationship has caused lingering feelings of sadness.&quot;</td></tr><tr><td>&quot;anger&quot;</td><td>&quot;I’m furious that the package didn’t arrive on time.&quot;</td><td>&quot;anger&quot;</td><td>&quot;The package didn&#x27;t arrive on time.&quot;</td></tr><tr><td>&quot;caring&quot;</td><td>&quot;It’s important to care for your mental health as much as your physical health.&quot;</td><td>&quot;caring&quot;</td><td>&quot;The speaker emphasizes the equal importance of mental and physical well-being, suggesting a concern …</td></tr><tr><td>&quot;desire&quot;</td><td>&quot;The desire to start a new chapter in life is growing stronger every day.&quot;</td><td>&quot;excitement&quot;</td><td>&quot;The speaker expresses a positive anticipation for future changes and opportunities.&quot;</td></tr><tr><td>&quot;nervousness&quot;</td><td>&quot;I always get nervous before a big exam, no matter how much I prepare.&quot;</td><td>&quot;nervousness&quot;</td><td>&quot;The person feels anxious about an upcoming exam despite their preparation.&quot;</td></tr><tr><td>&quot;confusion&quot;</td><td>&quot;His mixed signals have left me feeling utterly confused.&quot;</td><td>&quot;confusion&quot;</td><td>&quot;His mixed signals have left the speaker feeling uncertain and perplexed.&quot;</td></tr><tr><td>&quot;relief&quot;</td><td>&quot;The storm passed without causing any damage. What a relief!&quot;</td><td>&quot;relief&quot;</td><td>&quot;The storm passed without causing any damage.&quot;</td></tr></tbody></table></div>"
      ],
      "text/plain": [
       "shape: (15, 4)\n",
       "┌────────────────┬────────────────────────────────┬────────────────┬───────────────────────────────┐\n",
       "│ emotion        ┆ text                           ┆ prediction     ┆ reason                        │\n",
       "│ ---            ┆ ---                            ┆ ---            ┆ ---                           │\n",
       "│ str            ┆ str                            ┆ str            ┆ str                           │\n",
       "╞════════════════╪════════════════════════════════╪════════════════╪═══════════════════════════════╡\n",
       "│ disappointment ┆ I was expecting a better       ┆ disappointment ┆ The speaker expected a better │\n",
       "│                ┆ outcome after all the effort   ┆                ┆ result than what they         │\n",
       "│                ┆ we put in.                     ┆                ┆ achieved despite their        │\n",
       "│                ┆                                ┆                ┆ efforts.                      │\n",
       "│ gratitude      ┆ I really appreciate you        ┆ gratitude      ┆ The speaker expresses thanks  │\n",
       "│                ┆ covering my shift last minute. ┆                ┆ for someone covering their    │\n",
       "│                ┆ You're a lifesaver!            ┆                ┆ shift, indicating they feel   │\n",
       "│                ┆                                ┆                ┆ grateful.                     │\n",
       "│ excitement     ┆ I can’t wait to see what this  ┆ excitement     ┆ The speaker expresses         │\n",
       "│                ┆ year has in store for us!      ┆                ┆ anticipation and eagerness    │\n",
       "│                ┆                                ┆                ┆ for the future.               │\n",
       "│ disgust        ┆ I feel disgusted by the lack   ┆ disgust        ┆ the lack of cleanliness at    │\n",
       "│                ┆ of cleanliness at the venue.   ┆                ┆ the venue                     │\n",
       "│ disapproval    ┆ This proposal is filled with   ┆ disapproval    ┆ The proposal contains         │\n",
       "│                ┆ inconsistencies. It needs to   ┆                ┆ inconsistencies that require  │\n",
       "│                ┆ be reworked.                   ┆                ┆ revision.                     │\n",
       "│ sadness        ┆ It’s hard to shake this        ┆ sadness        ┆ Hearing devastating news.     │\n",
       "│                ┆ sadness after hearing such     ┆                ┆                               │\n",
       "│                ┆ devastating news.              ┆                ┆                               │\n",
       "│ surprise       ┆ His sudden resignation came as ┆ surprise       ┆ His unexpected decision to    │\n",
       "│                ┆ a complete surprise to         ┆                ┆ resign was unforeseen by all. │\n",
       "│                ┆ everyone.                      ┆                ┆                               │\n",
       "│ disgust        ┆ That was a truly disgusting    ┆ disgust        ┆ The attitude displayed during │\n",
       "│                ┆ attitude displayed during the  ┆                ┆ the meeting was considered    │\n",
       "│                ┆ meeting.                       ┆                ┆ repulsive.                    │\n",
       "│ sadness        ┆ I’ve felt a lingering sadness  ┆ sadness        ┆ The end of a relationship has │\n",
       "│                ┆ since the end of that          ┆                ┆ caused lingering feelings of  │\n",
       "│                ┆ relationship.                  ┆                ┆ sadness.                      │\n",
       "│ anger          ┆ I’m furious that the package   ┆ anger          ┆ The package didn't arrive on  │\n",
       "│                ┆ didn’t arrive on time.         ┆                ┆ time.                         │\n",
       "│ caring         ┆ It’s important to care for     ┆ caring         ┆ The speaker emphasizes the    │\n",
       "│                ┆ your mental health as much as  ┆                ┆ equal importance of mental    │\n",
       "│                ┆ your physical health.          ┆                ┆ and physical well-being,      │\n",
       "│                ┆                                ┆                ┆ suggesting a concern …        │\n",
       "│ desire         ┆ The desire to start a new      ┆ excitement     ┆ The speaker expresses a       │\n",
       "│                ┆ chapter in life is growing     ┆                ┆ positive anticipation for     │\n",
       "│                ┆ stronger every day.            ┆                ┆ future changes and            │\n",
       "│                ┆                                ┆                ┆ opportunities.                │\n",
       "│ nervousness    ┆ I always get nervous before a  ┆ nervousness    ┆ The person feels anxious      │\n",
       "│                ┆ big exam, no matter how much I ┆                ┆ about an upcoming exam        │\n",
       "│                ┆ prepare.                       ┆                ┆ despite their preparation.    │\n",
       "│ confusion      ┆ His mixed signals have left me ┆ confusion      ┆ His mixed signals have left   │\n",
       "│                ┆ feeling utterly confused.      ┆                ┆ the speaker feeling uncertain │\n",
       "│                ┆                                ┆                ┆ and perplexed.                │\n",
       "│ relief         ┆ The storm passed without       ┆ relief         ┆ The storm passed without      │\n",
       "│                ┆ causing any damage. What a     ┆                ┆ causing any damage.           │\n",
       "│                ┆ relief!                        ┆                ┆                               │\n",
       "└────────────────┴────────────────────────────────┴────────────────┴───────────────────────────────┘"
      ]
     },
     "execution_count": 10,
     "metadata": {},
     "output_type": "execute_result"
    }
   ],
   "source": [
    "(\n",
    "    dataf.sample(15)\n",
    "    .with_columns(\n",
    "        pl.col(\"text\")\n",
    "        .map_elements(classifier, return_dtype=pl.Object)\n",
    "        .alias(\"prediction\")\n",
    "    )\n",
    "    .with_columns(\n",
    "        pl.col(\"prediction\")\n",
    "        .map_elements(lambda p: p.kind, return_dtype=pl.String)\n",
    "        .alias(\"prediction\"),\n",
    "        pl.col(\"prediction\")\n",
    "        .map_elements(lambda p: p.reason, return_dtype=pl.String)\n",
    "        .alias(\"reason\"),\n",
    "    )\n",
    ")"
   ]
  },
  {
   "cell_type": "code",
   "execution_count": null,
   "id": "32b32407-4437-4844-9e15-cfbddb8493c4",
   "metadata": {},
   "outputs": [],
   "source": []
  }
 ],
 "metadata": {
  "kernelspec": {
   "display_name": "emotions",
   "language": "python",
   "name": "emotions"
  },
  "language_info": {
   "codemirror_mode": {
    "name": "ipython",
    "version": 3
   },
   "file_extension": ".py",
   "mimetype": "text/x-python",
   "name": "python",
   "nbconvert_exporter": "python",
   "pygments_lexer": "ipython3",
   "version": "3.12.7"
  }
 },
 "nbformat": 4,
 "nbformat_minor": 5
}
