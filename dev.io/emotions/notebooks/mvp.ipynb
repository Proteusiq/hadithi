{
 "cells": [
  {
   "cell_type": "code",
   "execution_count": 1,
   "id": "8ea5010f-3175-47a2-be32-0be51bc72caa",
   "metadata": {},
   "outputs": [
    {
     "name": "stdout",
     "output_type": "stream",
     "text": [
      "Author: Prayson W. Daniel\n",
      "\n",
      "Last updated: 2024-10-31T12:36:06.383355+01:00\n",
      "\n",
      "Python implementation: CPython\n",
      "Python version       : 3.12.7\n",
      "IPython version      : 8.29.0\n",
      "\n",
      "polars    : 1.7.1\n",
      "instructor: 1.4.3\n",
      "openai    : 1.46.1\n",
      "ollama    : 0.3.3\n",
      "\n",
      "Compiler    : Clang 15.0.0 (clang-1500.3.9.4)\n",
      "OS          : Darwin\n",
      "Release     : 23.5.0\n",
      "Machine     : arm64\n",
      "Processor   : arm\n",
      "CPU cores   : 16\n",
      "Architecture: 64bit\n",
      "\n"
     ]
    }
   ],
   "source": [
    "%reload_ext watermark\n",
    "%watermark -uniz --author \"Prayson W. Daniel\" -vm -p polars,instructor,openai,ollama"
   ]
  },
  {
   "cell_type": "code",
   "execution_count": 2,
   "id": "dc3260d5-6f88-4eb7-a15d-f7e719bf339b",
   "metadata": {},
   "outputs": [],
   "source": [
    "from typing import Final, Literal\n",
    "\n",
    "import instructor\n",
    "import polars as pl\n",
    "from openai import OpenAI\n",
    "from pydantic import BaseModel, Field"
   ]
  },
  {
   "cell_type": "code",
   "execution_count": 3,
   "id": "3fa7dbea-f5e1-41fd-a002-21239acb91b7",
   "metadata": {},
   "outputs": [],
   "source": [
    "MODEL: Final = \"gemma2\"\n",
    "\n",
    "VALID_EMOTIONS: tuple[str, ...] = tuple(\n",
    "    {\n",
    "        \"admiration\",\n",
    "        \"approval\",\n",
    "        \"gratitude\",\n",
    "        \"optimism\",\n",
    "        \"joy\",\n",
    "        \"neutral\",\n",
    "        \"disapproval\",\n",
    "        \"disappointment\",\n",
    "        \"love\",\n",
    "        \"relief\",\n",
    "        \"excitement\",\n",
    "        \"desire\",\n",
    "        \"caring\",\n",
    "        \"pride\",\n",
    "        \"realization\",\n",
    "        \"disgust\",\n",
    "        \"annoyance\",\n",
    "        \"remorse\",\n",
    "        \"amusement\",\n",
    "        \"anger\",\n",
    "        \"grief\",\n",
    "        \"curiosity\",\n",
    "        \"fear\",\n",
    "        \"surprise\",\n",
    "        \"sadness\",\n",
    "        \"embarrassment\",\n",
    "        \"confusion\",\n",
    "        \"nervousness\",\n",
    "    }\n",
    ")"
   ]
  },
  {
   "cell_type": "code",
   "execution_count": 4,
   "id": "c646b73e-da1d-439f-a74d-9fc31d117902",
   "metadata": {},
   "outputs": [],
   "source": [
    "class Emotion(BaseModel):\n",
    "    kind: Literal[VALID_EMOTIONS]  # type: ignore # literal does not like dynamic values\n",
    "    reason: str = Field(\n",
    "        ..., description=\"A short third person reason for selected the emotion\"\n",
    "    )"
   ]
  },
  {
   "cell_type": "code",
   "execution_count": 5,
   "id": "adae927c-ede4-44ad-93ca-dd5a2d1562c2",
   "metadata": {},
   "outputs": [],
   "source": [
    "client = instructor.from_openai(\n",
    "    OpenAI(\n",
    "        base_url=\"http://localhost:11434/v1\",\n",
    "        api_key=\"ollama\",\n",
    "    ),\n",
    "    mode=instructor.Mode.JSON,\n",
    ")"
   ]
  },
  {
   "cell_type": "code",
   "execution_count": 6,
   "id": "b238b75e-bf5c-480f-9acf-ae2669d04914",
   "metadata": {},
   "outputs": [],
   "source": [
    "def classifier(text: str, model: str = MODEL) -> Emotion:\n",
    "    response = client.chat.completions.create(\n",
    "        model=model,\n",
    "        messages=[\n",
    "            {\n",
    "                \"role\": \"user\",\n",
    "                \"content\": (\"You are a brilliant emotion pyschologist.\"\n",
    "                            f\"What is the text emotion: Text: {text}\"),\n",
    "            }\n",
    "        ],\n",
    "        response_model=Emotion,\n",
    "        temperature=0.0,\n",
    "    )\n",
    "\n",
    "    return response"
   ]
  },
  {
   "cell_type": "code",
   "execution_count": 7,
   "id": "5538cf14-3713-4d57-bdef-11a90ce00a23",
   "metadata": {},
   "outputs": [],
   "source": [
    "pl.Config.set_fmt_str_lengths(100).set_tbl_rows(\n",
    "    -1\n",
    ")  # show more text. default is 25, show all rowss\n",
    "\n",
    "dataf = pl.read_json(\"../data/examples.json\").explode([\"emotion\", \"text\"])"
   ]
  },
  {
   "cell_type": "code",
   "execution_count": 8,
   "id": "4dd7564e-1bbb-435b-ab2f-60613dd86868",
   "metadata": {},
   "outputs": [
    {
     "data": {
      "text/html": [
       "<div><style>\n",
       ".dataframe > thead > tr,\n",
       ".dataframe > tbody > tr {\n",
       "  text-align: right;\n",
       "  white-space: pre-wrap;\n",
       "}\n",
       "</style>\n",
       "<small>shape: (3, 2)</small><table border=\"1\" class=\"dataframe\"><thead><tr><th>emotion</th><th>text</th></tr><tr><td>str</td><td>str</td></tr></thead><tbody><tr><td>&quot;admiration&quot;</td><td>&quot;The way she solved that complex math problem was incredible. Truly a mind to admire!&quot;</td></tr><tr><td>&quot;admiration&quot;</td><td>&quot;He ran a marathon in record time despite his injury. What a remarkable feat!&quot;</td></tr><tr><td>&quot;admiration&quot;</td><td>&quot;Her dedication to helping the homeless inspires me every day.&quot;</td></tr></tbody></table></div>"
      ],
      "text/plain": [
       "shape: (3, 2)\n",
       "┌────────────┬──────────────────────────────────────────────────────────────────────────────┐\n",
       "│ emotion    ┆ text                                                                         │\n",
       "│ ---        ┆ ---                                                                          │\n",
       "│ str        ┆ str                                                                          │\n",
       "╞════════════╪══════════════════════════════════════════════════════════════════════════════╡\n",
       "│ admiration ┆ The way she solved that complex math problem was incredible. Truly a mind to │\n",
       "│            ┆ admire!                                                                      │\n",
       "│ admiration ┆ He ran a marathon in record time despite his injury. What a remarkable feat! │\n",
       "│ admiration ┆ Her dedication to helping the homeless inspires me every day.                │\n",
       "└────────────┴──────────────────────────────────────────────────────────────────────────────┘"
      ]
     },
     "execution_count": 8,
     "metadata": {},
     "output_type": "execute_result"
    }
   ],
   "source": [
    "dataf.head(3)"
   ]
  },
  {
   "cell_type": "code",
   "execution_count": 9,
   "id": "dbc0d9c3-2355-4734-be03-07457f95b675",
   "metadata": {},
   "outputs": [
    {
     "data": {
      "text/plain": [
       "Emotion(kind='confusion', reason='The speaker expresses uncertainty and lack of direction regarding the future.')"
      ]
     },
     "execution_count": 9,
     "metadata": {},
     "output_type": "execute_result"
    }
   ],
   "source": [
    "classifier(\"I dont' know how to think about where the would is going?\")"
   ]
  },
  {
   "cell_type": "code",
   "execution_count": null,
   "id": "a6a0c45c-6231-43c4-ad7a-21215b9d78d3",
   "metadata": {},
   "outputs": [],
   "source": [
    "(\n",
    "    dataf.sample(8)\n",
    "    .with_columns(\n",
    "        pl.col(\"text\")\n",
    "        .map_elements(classifier, return_dtype=pl.Object)\n",
    "        .alias(\"prediction\")\n",
    "    )\n",
    "    .with_columns(\n",
    "        pl.col(\"prediction\")\n",
    "        .map_elements(lambda p: p.kind, return_dtype=pl.String)\n",
    "        .alias(\"prediction\"),\n",
    "        pl.col(\"prediction\")\n",
    "        .map_elements(lambda p: p.reason, return_dtype=pl.String)\n",
    "        .alias(\"reason\"),\n",
    "    )\n",
    ")"
   ]
  },
  {
   "cell_type": "code",
   "execution_count": null,
   "id": "32b32407-4437-4844-9e15-cfbddb8493c4",
   "metadata": {},
   "outputs": [],
   "source": []
  }
 ],
 "metadata": {
  "kernelspec": {
   "display_name": "emotions",
   "language": "python",
   "name": "emotions"
  },
  "language_info": {
   "codemirror_mode": {
    "name": "ipython",
    "version": 3
   },
   "file_extension": ".py",
   "mimetype": "text/x-python",
   "name": "python",
   "nbconvert_exporter": "python",
   "pygments_lexer": "ipython3",
   "version": "3.12.7"
  }
 },
 "nbformat": 4,
 "nbformat_minor": 5
}
