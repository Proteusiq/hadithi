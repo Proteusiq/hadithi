{
 "cells": [
  {
   "cell_type": "code",
   "execution_count": 1,
   "id": "8ea5010f-3175-47a2-be32-0be51bc72caa",
   "metadata": {},
   "outputs": [
    {
     "name": "stdout",
     "output_type": "stream",
     "text": [
      "Author: Prayson W. Daniel\n",
      "\n",
      "Last updated: 2024-10-30T19:21:17.759658+01:00\n",
      "\n",
      "Python implementation: CPython\n",
      "Python version       : 3.12.7\n",
      "IPython version      : 8.29.0\n",
      "\n",
      "polars    : 1.7.1\n",
      "instructor: 1.4.3\n",
      "openai    : 1.46.1\n",
      "ollama    : 0.3.3\n",
      "\n",
      "Compiler    : Clang 15.0.0 (clang-1500.3.9.4)\n",
      "OS          : Darwin\n",
      "Release     : 23.5.0\n",
      "Machine     : arm64\n",
      "Processor   : arm\n",
      "CPU cores   : 16\n",
      "Architecture: 64bit\n",
      "\n"
     ]
    }
   ],
   "source": [
    "%reload_ext watermark\n",
    "%watermark -uniz --author \"Prayson W. Daniel\" -vm -p polars,instructor,openai,ollama"
   ]
  },
  {
   "cell_type": "code",
   "execution_count": 2,
   "id": "dc3260d5-6f88-4eb7-a15d-f7e719bf339b",
   "metadata": {},
   "outputs": [],
   "source": [
    "from typing import Literal, Final\n",
    "from openai import OpenAI\n",
    "from pydantic import BaseModel, Field\n",
    "import polars as pl\n",
    "import instructor"
   ]
  },
  {
   "cell_type": "code",
   "execution_count": 51,
   "id": "3fa7dbea-f5e1-41fd-a002-21239acb91b7",
   "metadata": {},
   "outputs": [],
   "source": [
    "MODEL: Final = \"gemma2\"\n",
    "\n",
    "VALID_EMOTIONS: tuple[str, ...] = tuple(\n",
    "    {\n",
    "        \"admiration\",\n",
    "        \"approval\",\n",
    "        \"gratitude\",\n",
    "        \"optimism\",\n",
    "        \"joy\",\n",
    "        \"neutral\",\n",
    "        \"disapproval\",\n",
    "        \"disappointment\",\n",
    "        \"love\",\n",
    "        \"relief\",\n",
    "        \"excitement\",\n",
    "        \"desire\",\n",
    "        \"caring\",\n",
    "        \"pride\",\n",
    "        \"realization\",\n",
    "        \"disgust\",\n",
    "        \"annoyance\",\n",
    "        \"remorse\",\n",
    "        \"amusement\",\n",
    "        \"anger\",\n",
    "        \"grief\",\n",
    "        \"curiosity\",\n",
    "        \"fear\",\n",
    "        \"surprise\",\n",
    "        \"sadness\",\n",
    "        \"embarrassment\",\n",
    "        \"confusion\",\n",
    "        \"nervousness\",\n",
    "    }\n",
    ")"
   ]
  },
  {
   "cell_type": "code",
   "execution_count": 49,
   "id": "c646b73e-da1d-439f-a74d-9fc31d117902",
   "metadata": {},
   "outputs": [],
   "source": [
    "class Emotion(BaseModel):\n",
    "    kind: Literal[VALID_EMOTIONS]  # type: ignore # literal does not like dynamic values\n",
    "    reason: str = Field(\n",
    "        ..., description=\"A short third person reason for selected the emotion\"\n",
    "    )"
   ]
  },
  {
   "cell_type": "code",
   "execution_count": 35,
   "id": "adae927c-ede4-44ad-93ca-dd5a2d1562c2",
   "metadata": {},
   "outputs": [],
   "source": [
    "client = instructor.from_openai(\n",
    "    OpenAI(\n",
    "        base_url=\"http://localhost:11434/v1\",\n",
    "        api_key=\"ollama\",  # required, but unused\n",
    "    ),\n",
    "    mode=instructor.Mode.JSON,\n",
    ")"
   ]
  },
  {
   "cell_type": "code",
   "execution_count": 52,
   "id": "b238b75e-bf5c-480f-9acf-ae2669d04914",
   "metadata": {},
   "outputs": [],
   "source": [
    "def classifier(text: str, model: str = MODEL) -> Emotion:\n",
    "    response = client.chat.completions.create(\n",
    "        model=model,\n",
    "        messages=[\n",
    "            {\n",
    "                \"role\": \"user\",\n",
    "                \"content\": f\"You are a brilliant emotion pyschologist. What is the text emotion: Text: {text}\",\n",
    "            }\n",
    "        ],\n",
    "        response_model=Emotion,\n",
    "        temperature=0.0,\n",
    "    )\n",
    "\n",
    "    return response"
   ]
  },
  {
   "cell_type": "code",
   "execution_count": 32,
   "id": "5538cf14-3713-4d57-bdef-11a90ce00a23",
   "metadata": {},
   "outputs": [],
   "source": [
    "pl.Config.set_fmt_str_lengths(100).set_tbl_rows(\n",
    "    -1\n",
    ")  # show more text. default is 25, show all rowss\n",
    "\n",
    "dataf = pl.read_json(\"../data/examples.json\").explode([\"emotion\", \"text\"])"
   ]
  },
  {
   "cell_type": "code",
   "execution_count": 33,
   "id": "4dd7564e-1bbb-435b-ab2f-60613dd86868",
   "metadata": {},
   "outputs": [
    {
     "data": {
      "text/html": [
       "<div><style>\n",
       ".dataframe > thead > tr,\n",
       ".dataframe > tbody > tr {\n",
       "  text-align: right;\n",
       "  white-space: pre-wrap;\n",
       "}\n",
       "</style>\n",
       "<small>shape: (3, 2)</small><table border=\"1\" class=\"dataframe\"><thead><tr><th>emotion</th><th>text</th></tr><tr><td>str</td><td>str</td></tr></thead><tbody><tr><td>&quot;admiration&quot;</td><td>&quot;The way she solved that complex math problem was incredible. Truly a mind to admire!&quot;</td></tr><tr><td>&quot;admiration&quot;</td><td>&quot;He ran a marathon in record time despite his injury. What a remarkable feat!&quot;</td></tr><tr><td>&quot;admiration&quot;</td><td>&quot;Her dedication to helping the homeless inspires me every day.&quot;</td></tr></tbody></table></div>"
      ],
      "text/plain": [
       "shape: (3, 2)\n",
       "┌────────────┬──────────────────────────────────────────────────────────────────────────────┐\n",
       "│ emotion    ┆ text                                                                         │\n",
       "│ ---        ┆ ---                                                                          │\n",
       "│ str        ┆ str                                                                          │\n",
       "╞════════════╪══════════════════════════════════════════════════════════════════════════════╡\n",
       "│ admiration ┆ The way she solved that complex math problem was incredible. Truly a mind to │\n",
       "│            ┆ admire!                                                                      │\n",
       "│ admiration ┆ He ran a marathon in record time despite his injury. What a remarkable feat! │\n",
       "│ admiration ┆ Her dedication to helping the homeless inspires me every day.                │\n",
       "└────────────┴──────────────────────────────────────────────────────────────────────────────┘"
      ]
     },
     "execution_count": 33,
     "metadata": {},
     "output_type": "execute_result"
    }
   ],
   "source": [
    "dataf.head(3)"
   ]
  },
  {
   "cell_type": "code",
   "execution_count": 53,
   "id": "dbc0d9c3-2355-4734-be03-07457f95b675",
   "metadata": {},
   "outputs": [
    {
     "data": {
      "text/plain": [
       "Emotion(kind='sadness', reason='The person explicitly states they are sad.')"
      ]
     },
     "execution_count": 53,
     "metadata": {},
     "output_type": "execute_result"
    }
   ],
   "source": [
    "classifier(\"I am sad!\")"
   ]
  },
  {
   "cell_type": "code",
   "execution_count": 54,
   "id": "a6a0c45c-6231-43c4-ad7a-21215b9d78d3",
   "metadata": {},
   "outputs": [
    {
     "data": {
      "text/html": [
       "<div><style>\n",
       ".dataframe > thead > tr,\n",
       ".dataframe > tbody > tr {\n",
       "  text-align: right;\n",
       "  white-space: pre-wrap;\n",
       "}\n",
       "</style>\n",
       "<small>shape: (8, 4)</small><table border=\"1\" class=\"dataframe\"><thead><tr><th>emotion</th><th>text</th><th>prediction</th><th>reason</th></tr><tr><td>str</td><td>str</td><td>str</td><td>str</td></tr></thead><tbody><tr><td>&quot;curiosity&quot;</td><td>&quot;I’ve always been curious about how ancient civilizations lived.&quot;</td><td>&quot;curiosity&quot;</td><td>&quot;The speaker expresses interest in learning about the lives of ancient civilizations.&quot;</td></tr><tr><td>&quot;pride&quot;</td><td>&quot;I’m proud of how far we’ve come as a team in such a short amount of time.&quot;</td><td>&quot;pride&quot;</td><td>&quot;The speaker expresses satisfaction with their team&#x27;s progress and achievements.&quot;</td></tr><tr><td>&quot;confusion&quot;</td><td>&quot;I’m confused about the instructions we were given for the project.&quot;</td><td>&quot;confusion&quot;</td><td>&quot;The speaker doesn&#x27;t understand the project instructions.&quot;</td></tr><tr><td>&quot;relief&quot;</td><td>&quot;The storm passed without causing any damage. What a relief!&quot;</td><td>&quot;relief&quot;</td><td>&quot;The storm did not cause any damage.&quot;</td></tr><tr><td>&quot;desire&quot;</td><td>&quot;The desire to start a new chapter in life is growing stronger every day.&quot;</td><td>&quot;desire&quot;</td><td>&quot;The speaker expresses a longing for a fresh beginning and feels this yearning intensifying.&quot;</td></tr><tr><td>&quot;excitement&quot;</td><td>&quot;I’m so excited about the new project we’re launching next month!&quot;</td><td>&quot;excitement&quot;</td><td>&quot;The speaker expresses enthusiasm for an upcoming project.&quot;</td></tr><tr><td>&quot;embarrassment&quot;</td><td>&quot;I was embarrassed when I tripped during the presentation.&quot;</td><td>&quot;embarrassment&quot;</td><td>&quot;The person tripped during a presentation.&quot;</td></tr><tr><td>&quot;pride&quot;</td><td>&quot;I’m proud of myself for sticking with the training despite the challenges.&quot;</td><td>&quot;pride&quot;</td><td>&quot;Sticking with the training despite the challenges.&quot;</td></tr></tbody></table></div>"
      ],
      "text/plain": [
       "shape: (8, 4)\n",
       "┌───────────────┬─────────────────────────────────┬───────────────┬────────────────────────────────┐\n",
       "│ emotion       ┆ text                            ┆ prediction    ┆ reason                         │\n",
       "│ ---           ┆ ---                             ┆ ---           ┆ ---                            │\n",
       "│ str           ┆ str                             ┆ str           ┆ str                            │\n",
       "╞═══════════════╪═════════════════════════════════╪═══════════════╪════════════════════════════════╡\n",
       "│ curiosity     ┆ I’ve always been curious about  ┆ curiosity     ┆ The speaker expresses interest │\n",
       "│               ┆ how ancient civilizations       ┆               ┆ in learning about the lives of │\n",
       "│               ┆ lived.                          ┆               ┆ ancient civilizations.         │\n",
       "│ pride         ┆ I’m proud of how far we’ve come ┆ pride         ┆ The speaker expresses          │\n",
       "│               ┆ as a team in such a short       ┆               ┆ satisfaction with their team's │\n",
       "│               ┆ amount of time.                 ┆               ┆ progress and achievements.     │\n",
       "│ confusion     ┆ I’m confused about the          ┆ confusion     ┆ The speaker doesn't understand │\n",
       "│               ┆ instructions we were given for  ┆               ┆ the project instructions.      │\n",
       "│               ┆ the project.                    ┆               ┆                                │\n",
       "│ relief        ┆ The storm passed without        ┆ relief        ┆ The storm did not cause any    │\n",
       "│               ┆ causing any damage. What a      ┆               ┆ damage.                        │\n",
       "│               ┆ relief!                         ┆               ┆                                │\n",
       "│ desire        ┆ The desire to start a new       ┆ desire        ┆ The speaker expresses a        │\n",
       "│               ┆ chapter in life is growing      ┆               ┆ longing for a fresh beginning  │\n",
       "│               ┆ stronger every day.             ┆               ┆ and feels this yearning        │\n",
       "│               ┆                                 ┆               ┆ intensifying.                  │\n",
       "│ excitement    ┆ I’m so excited about the new    ┆ excitement    ┆ The speaker expresses          │\n",
       "│               ┆ project we’re launching next    ┆               ┆ enthusiasm for an upcoming     │\n",
       "│               ┆ month!                          ┆               ┆ project.                       │\n",
       "│ embarrassment ┆ I was embarrassed when I        ┆ embarrassment ┆ The person tripped during a    │\n",
       "│               ┆ tripped during the              ┆               ┆ presentation.                  │\n",
       "│               ┆ presentation.                   ┆               ┆                                │\n",
       "│ pride         ┆ I’m proud of myself for         ┆ pride         ┆ Sticking with the training     │\n",
       "│               ┆ sticking with the training      ┆               ┆ despite the challenges.        │\n",
       "│               ┆ despite the challenges.         ┆               ┆                                │\n",
       "└───────────────┴─────────────────────────────────┴───────────────┴────────────────────────────────┘"
      ]
     },
     "execution_count": 54,
     "metadata": {},
     "output_type": "execute_result"
    }
   ],
   "source": [
    "(\n",
    "    dataf.sample(8)\n",
    "    .with_columns(\n",
    "        pl.col(\"text\")\n",
    "        .map_elements(classifier, return_dtype=pl.Object)\n",
    "        .alias(\"prediction\")\n",
    "    )\n",
    "    .with_columns(\n",
    "        pl.col(\"prediction\")\n",
    "        .map_elements(lambda p: p.kind, return_dtype=pl.String)\n",
    "        .alias(\"prediction\"),\n",
    "        pl.col(\"prediction\")\n",
    "        .map_elements(lambda p: p.reason, return_dtype=pl.String)\n",
    "        .alias(\"reason\"),\n",
    "    )\n",
    ")"
   ]
  },
  {
   "cell_type": "code",
   "execution_count": 19,
   "id": "79c88fb6-6065-4b68-ba80-9678c6651183",
   "metadata": {},
   "outputs": [
    {
     "name": "stdout",
     "output_type": "stream",
     "text": [
      "{\n",
      "  \"name\": \"Harry Potter\",\n",
      "  \"age\": 17,\n",
      "  \"fact\": [\n",
      "    \"He's a wizard.\",\n",
      "    \"He has a lightning bolt scar.\",\n",
      "    \"His parents were killed by Voldemort.\"\n",
      "  ]\n",
      "}\n"
     ]
    }
   ],
   "source": [
    "from openai import OpenAI\n",
    "from pydantic import BaseModel, Field\n",
    "from typing import List\n",
    "\n",
    "import instructor\n",
    "\n",
    "\n",
    "class Character(BaseModel):\n",
    "    name: str\n",
    "    age: int\n",
    "    fact: List[str] = Field(..., description=\"A list of facts about the character\")\n",
    "\n",
    "\n",
    "# enables `response_model` in create call\n",
    "client = instructor.from_openai(\n",
    "    OpenAI(\n",
    "        base_url=\"http://localhost:11434/v1\",\n",
    "        api_key=\"ollama\",  # required, but unused\n",
    "    ),\n",
    "    mode=instructor.Mode.JSON,\n",
    ")\n",
    "\n",
    "resp = client.chat.completions.create(\n",
    "    model=\"gemma2\",\n",
    "    messages=[\n",
    "        {\n",
    "            \"role\": \"user\",\n",
    "            \"content\": \"Tell me about the Harry Potter\",\n",
    "        }\n",
    "    ],\n",
    "    response_model=Character,\n",
    ")\n",
    "print(resp.model_dump_json(indent=2))"
   ]
  },
  {
   "cell_type": "code",
   "execution_count": null,
   "id": "32b32407-4437-4844-9e15-cfbddb8493c4",
   "metadata": {},
   "outputs": [],
   "source": []
  }
 ],
 "metadata": {
  "kernelspec": {
   "display_name": "emotions",
   "language": "python",
   "name": "emotions"
  },
  "language_info": {
   "codemirror_mode": {
    "name": "ipython",
    "version": 3
   },
   "file_extension": ".py",
   "mimetype": "text/x-python",
   "name": "python",
   "nbconvert_exporter": "python",
   "pygments_lexer": "ipython3",
   "version": "3.12.7"
  }
 },
 "nbformat": 4,
 "nbformat_minor": 5
}
