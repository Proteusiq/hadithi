{
 "cells": [
  {
   "cell_type": "code",
   "execution_count": 1,
   "id": "8ea5010f-3175-47a2-be32-0be51bc72caa",
   "metadata": {},
   "outputs": [
    {
     "name": "stdout",
     "output_type": "stream",
     "text": [
      "Author: Prayson W. Daniel\n",
      "\n",
      "Last updated: 2024-12-17T13:15:19.974441+01:00\n",
      "\n",
      "Python implementation: CPython\n",
      "Python version       : 3.12.7\n",
      "IPython version      : 8.29.0\n",
      "\n",
      "polars: 1.7.1\n",
      "dspy  : 2.5.43\n",
      "\n",
      "Compiler    : Clang 15.0.0 (clang-1500.3.9.4)\n",
      "OS          : Darwin\n",
      "Release     : 23.5.0\n",
      "Machine     : arm64\n",
      "Processor   : arm\n",
      "CPU cores   : 16\n",
      "Architecture: 64bit\n",
      "\n"
     ]
    }
   ],
   "source": [
    "%reload_ext watermark\n",
    "%watermark -uniz --author \"Prayson W. Daniel\" -vm -p polars,dspy"
   ]
  },
  {
   "cell_type": "code",
   "execution_count": 2,
   "id": "dc3260d5-6f88-4eb7-a15d-f7e719bf339b",
   "metadata": {},
   "outputs": [],
   "source": [
    "from typing import Final, Literal\n",
    "\n",
    "import dspy\n",
    "import polars as pl"
   ]
  },
  {
   "cell_type": "code",
   "execution_count": 3,
   "id": "79ae520a-58c8-46ff-97a5-41456b6fe933",
   "metadata": {},
   "outputs": [],
   "source": [
    "MODEL: Final = \"gemma2\"\n",
    "\n",
    "VALID_EMOTIONS: tuple[str, ...] = tuple(\n",
    "    {\n",
    "        \"admiration\",\n",
    "        \"approval\",\n",
    "        \"gratitude\",\n",
    "        \"optimism\",\n",
    "        \"joy\",\n",
    "        \"neutral\",\n",
    "        \"disapproval\",\n",
    "        \"disappointment\",\n",
    "        \"love\",\n",
    "        \"relief\",\n",
    "        \"excitement\",\n",
    "        \"desire\",\n",
    "        \"caring\",\n",
    "        \"pride\",\n",
    "        \"realization\",\n",
    "        \"disgust\",\n",
    "        \"annoyance\",\n",
    "        \"remorse\",\n",
    "        \"amusement\",\n",
    "        \"anger\",\n",
    "        \"grief\",\n",
    "        \"curiosity\",\n",
    "        \"fear\",\n",
    "        \"surprise\",\n",
    "        \"sadness\",\n",
    "        \"embarrassment\",\n",
    "        \"confusion\",\n",
    "        \"nervousness\",\n",
    "    }\n",
    ")\n",
    "\n",
    "class Emotion(dspy.Signature):\n",
    "    \"\"\"Classify emotions of a given sentence.\"\"\"\n",
    "    sentence: str = dspy.InputField()\n",
    "    kind: Literal[VALID_EMOTIONS] = dspy.OutputField()\n",
    "    reason: str = dspy.OutputField(\n",
    "        description=\"A short third person reason for selected the emotion\"\n",
    "    )"
   ]
  },
  {
   "cell_type": "code",
   "execution_count": 4,
   "id": "a936025e-a50d-456d-991a-1ab889128de0",
   "metadata": {},
   "outputs": [],
   "source": [
    "dspy.configure(lm=dspy.LM(\"ollama_chat/gemma2\", \n",
    "                          api_base=\"http://localhost:11434\", \n",
    "                          api_key=\"NotNeeded\",\n",
    "                          temperature=0.0,)\n",
    "              )"
   ]
  },
  {
   "cell_type": "code",
   "execution_count": 5,
   "id": "b238b75e-bf5c-480f-9acf-ae2669d04914",
   "metadata": {},
   "outputs": [],
   "source": [
    "classifier = dspy.Predict(Emotion)"
   ]
  },
  {
   "cell_type": "code",
   "execution_count": 6,
   "id": "5538cf14-3713-4d57-bdef-11a90ce00a23",
   "metadata": {},
   "outputs": [],
   "source": [
    "pl.Config.set_fmt_str_lengths(100).set_tbl_rows(\n",
    "    -1\n",
    ")  # show more text. default is 25, show all rowss\n",
    "\n",
    "dataf = pl.read_json(\"../data/examples.json\").explode([\"emotion\", \"text\"])"
   ]
  },
  {
   "cell_type": "code",
   "execution_count": 7,
   "id": "4dd7564e-1bbb-435b-ab2f-60613dd86868",
   "metadata": {},
   "outputs": [
    {
     "data": {
      "text/html": [
       "<div><style>\n",
       ".dataframe > thead > tr,\n",
       ".dataframe > tbody > tr {\n",
       "  text-align: right;\n",
       "  white-space: pre-wrap;\n",
       "}\n",
       "</style>\n",
       "<small>shape: (3, 2)</small><table border=\"1\" class=\"dataframe\"><thead><tr><th>emotion</th><th>text</th></tr><tr><td>str</td><td>str</td></tr></thead><tbody><tr><td>&quot;confusion&quot;</td><td>&quot;The situation is so unclear right now, it’s leaving me confused.&quot;</td></tr><tr><td>&quot;love&quot;</td><td>&quot;My love for nature grows with every hike in the mountains.&quot;</td></tr><tr><td>&quot;caring&quot;</td><td>&quot;It’s important to care for your mental health as much as your physical health.&quot;</td></tr></tbody></table></div>"
      ],
      "text/plain": [
       "shape: (3, 2)\n",
       "┌───────────┬────────────────────────────────────────────────────────────────────────────────┐\n",
       "│ emotion   ┆ text                                                                           │\n",
       "│ ---       ┆ ---                                                                            │\n",
       "│ str       ┆ str                                                                            │\n",
       "╞═══════════╪════════════════════════════════════════════════════════════════════════════════╡\n",
       "│ confusion ┆ The situation is so unclear right now, it’s leaving me confused.               │\n",
       "│ love      ┆ My love for nature grows with every hike in the mountains.                     │\n",
       "│ caring    ┆ It’s important to care for your mental health as much as your physical health. │\n",
       "└───────────┴────────────────────────────────────────────────────────────────────────────────┘"
      ]
     },
     "execution_count": 7,
     "metadata": {},
     "output_type": "execute_result"
    }
   ],
   "source": [
    "dataf.sample(3, seed=7)"
   ]
  },
  {
   "cell_type": "code",
   "execution_count": 8,
   "id": "dbc0d9c3-2355-4734-be03-07457f95b675",
   "metadata": {},
   "outputs": [
    {
     "data": {
      "text/plain": [
       "Prediction(\n",
       "    kind='confusion',\n",
       "    reason='The sentence expresses uncertainty about the future.'\n",
       ")"
      ]
     },
     "execution_count": 8,
     "metadata": {},
     "output_type": "execute_result"
    }
   ],
   "source": [
    "classifier(sentence=\"I dont' know how to think about where the world is going?\")"
   ]
  },
  {
   "cell_type": "code",
   "execution_count": 9,
   "id": "bc709724-da9d-4c00-8e3b-5afd56c31443",
   "metadata": {},
   "outputs": [],
   "source": [
    "# python function failed TypeError: Predict.__call__() takes 1 positional argument but 2 were given\n",
    "def classifierx(sentence: str) -> dspy.Prediction:\n",
    "    return classifier(sentence=sentence)"
   ]
  },
  {
   "cell_type": "code",
   "execution_count": 10,
   "id": "a6a0c45c-6231-43c4-ad7a-21215b9d78d3",
   "metadata": {},
   "outputs": [
    {
     "data": {
      "text/html": [
       "<div><style>\n",
       ".dataframe > thead > tr,\n",
       ".dataframe > tbody > tr {\n",
       "  text-align: right;\n",
       "  white-space: pre-wrap;\n",
       "}\n",
       "</style>\n",
       "<small>shape: (8, 4)</small><table border=\"1\" class=\"dataframe\"><thead><tr><th>emotion</th><th>text</th><th>prediction</th><th>reason</th></tr><tr><td>str</td><td>str</td><td>str</td><td>str</td></tr></thead><tbody><tr><td>&quot;confusion&quot;</td><td>&quot;His mixed signals have left me feeling utterly confused.&quot;</td><td>&quot;confusion&quot;</td><td>&quot;The sentence explicitly states feeling confused due to mixed signals.&quot;</td></tr><tr><td>&quot;joy&quot;</td><td>&quot;I can’t stop smiling after watching that movie. Such a feel-good story!&quot;</td><td>&quot;joy&quot;</td><td>&quot;The speaker expresses happiness and positivity about the movie.&quot;</td></tr><tr><td>&quot;disappointment&quot;</td><td>&quot;I’m disappointed that the event was canceled last minute.&quot;</td><td>&quot;disappointment&quot;</td><td>&quot;The speaker expresses sadness about the event&#x27;s cancellation.&quot;</td></tr><tr><td>&quot;anger&quot;</td><td>&quot;I’m furious that the package didn’t arrive on time.&quot;</td><td>&quot;anger&quot;</td><td>&quot;The speaker is expressing strong negative feelings about the delayed package.&quot;</td></tr><tr><td>&quot;realization&quot;</td><td>&quot;It’s in moments like these that you realize what really matters in life.&quot;</td><td>&quot;realization&quot;</td><td>&quot;The sentence suggests a moment of insight and understanding about life&#x27;s priorities.&quot;</td></tr><tr><td>&quot;love&quot;</td><td>&quot;My love for nature grows with every hike in the mountains.&quot;</td><td>&quot;love&quot;</td><td>&quot;The speaker expresses a deep affection for nature.&quot;</td></tr><tr><td>&quot;caring&quot;</td><td>&quot;She’s always caring for others, making sure everyone feels valued.&quot;</td><td>&quot;pride&quot;</td><td>&quot;She is being praised for her kindness and thoughtfulness.&quot;</td></tr><tr><td>&quot;admiration&quot;</td><td>&quot;He ran a marathon in record time despite his injury. What a remarkable feat!&quot;</td><td>&quot;admiration&quot;</td><td>&quot;The speaker is impressed by his accomplishment.&quot;</td></tr></tbody></table></div>"
      ],
      "text/plain": [
       "shape: (8, 4)\n",
       "┌────────────────┬────────────────────────────────┬────────────────┬───────────────────────────────┐\n",
       "│ emotion        ┆ text                           ┆ prediction     ┆ reason                        │\n",
       "│ ---            ┆ ---                            ┆ ---            ┆ ---                           │\n",
       "│ str            ┆ str                            ┆ str            ┆ str                           │\n",
       "╞════════════════╪════════════════════════════════╪════════════════╪═══════════════════════════════╡\n",
       "│ confusion      ┆ His mixed signals have left me ┆ confusion      ┆ The sentence explicitly       │\n",
       "│                ┆ feeling utterly confused.      ┆                ┆ states feeling confused due   │\n",
       "│                ┆                                ┆                ┆ to mixed signals.             │\n",
       "│ joy            ┆ I can’t stop smiling after     ┆ joy            ┆ The speaker expresses         │\n",
       "│                ┆ watching that movie. Such a    ┆                ┆ happiness and positivity      │\n",
       "│                ┆ feel-good story!               ┆                ┆ about the movie.              │\n",
       "│ disappointment ┆ I’m disappointed that the      ┆ disappointment ┆ The speaker expresses sadness │\n",
       "│                ┆ event was canceled last        ┆                ┆ about the event's             │\n",
       "│                ┆ minute.                        ┆                ┆ cancellation.                 │\n",
       "│ anger          ┆ I’m furious that the package   ┆ anger          ┆ The speaker is expressing     │\n",
       "│                ┆ didn’t arrive on time.         ┆                ┆ strong negative feelings      │\n",
       "│                ┆                                ┆                ┆ about the delayed package.    │\n",
       "│ realization    ┆ It’s in moments like these     ┆ realization    ┆ The sentence suggests a       │\n",
       "│                ┆ that you realize what really   ┆                ┆ moment of insight and         │\n",
       "│                ┆ matters in life.               ┆                ┆ understanding about life's    │\n",
       "│                ┆                                ┆                ┆ priorities.                   │\n",
       "│ love           ┆ My love for nature grows with  ┆ love           ┆ The speaker expresses a deep  │\n",
       "│                ┆ every hike in the mountains.   ┆                ┆ affection for nature.         │\n",
       "│ caring         ┆ She’s always caring for        ┆ pride          ┆ She is being praised for her  │\n",
       "│                ┆ others, making sure everyone   ┆                ┆ kindness and thoughtfulness.  │\n",
       "│                ┆ feels valued.                  ┆                ┆                               │\n",
       "│ admiration     ┆ He ran a marathon in record    ┆ admiration     ┆ The speaker is impressed by   │\n",
       "│                ┆ time despite his injury. What  ┆                ┆ his accomplishment.           │\n",
       "│                ┆ a remarkable feat!             ┆                ┆                               │\n",
       "└────────────────┴────────────────────────────────┴────────────────┴───────────────────────────────┘"
      ]
     },
     "execution_count": 10,
     "metadata": {},
     "output_type": "execute_result"
    }
   ],
   "source": [
    "(\n",
    "    dataf.sample(8, seed=42)\n",
    "    .with_columns(\n",
    "        pl.col(\"text\")\n",
    "        .map_elements(classifierx, return_dtype=pl.Object)\n",
    "        .alias(\"prediction\")\n",
    "    )\n",
    "    .with_columns(\n",
    "        pl.col(\"prediction\")\n",
    "        .map_elements(lambda p: p.kind, return_dtype=pl.String)\n",
    "        .alias(\"prediction\"),\n",
    "        pl.col(\"prediction\")\n",
    "        .map_elements(lambda p: p.reason, return_dtype=pl.String)\n",
    "        .alias(\"reason\"),\n",
    "    )\n",
    ")"
   ]
  },
  {
   "cell_type": "code",
   "execution_count": 11,
   "id": "f639b476-dfbf-47f9-8c5e-cdb7d1d4fdd2",
   "metadata": {},
   "outputs": [
    {
     "data": {
      "text/plain": [
       "Emotion(sentence -> kind, reason\n",
       "    instructions='Classify emotions of a given sentence.'\n",
       "    sentence = Field(annotation=str required=True json_schema_extra={'__dspy_field_type': 'input', 'prefix': 'Sentence:', 'desc': '${sentence}'})\n",
       "    kind = Field(annotation=Literal['disapproval', 'nervousness', 'neutral', 'approval', 'pride', 'amusement', 'remorse', 'gratitude', 'desire', 'annoyance', 'sadness', 'caring', 'embarrassment', 'optimism', 'joy', 'love', 'grief', 'relief', 'disappointment', 'disgust', 'confusion', 'fear', 'anger', 'surprise', 'admiration', 'excitement', 'realization', 'curiosity'] required=True json_schema_extra={'__dspy_field_type': 'output', 'prefix': 'Kind:', 'desc': '${kind}'})\n",
       "    reason = Field(annotation=str required=True description='A short third person reason for selected the emotion' json_schema_extra={'__dspy_field_type': 'output', 'desc': 'A short third person reason for selected the emotion', 'prefix': 'Reason:'})\n",
       ")"
      ]
     },
     "execution_count": 11,
     "metadata": {},
     "output_type": "execute_result"
    }
   ],
   "source": [
    "classifier.signature"
   ]
  },
  {
   "cell_type": "markdown",
   "id": "9762c841-1d1b-4f12-b382-726320b165f2",
   "metadata": {},
   "source": [
    "## Opens a New Possibilities"
   ]
  },
  {
   "cell_type": "code",
   "execution_count": 12,
   "id": "7a960b6b-f0ed-41c8-b0c3-88fd68c28ebb",
   "metadata": {},
   "outputs": [],
   "source": [
    "thinker = dspy.ChainOfThought(Emotion)"
   ]
  },
  {
   "cell_type": "code",
   "execution_count": 13,
   "id": "c2686bf3-7a61-4d56-8642-2c4a21aed881",
   "metadata": {},
   "outputs": [],
   "source": [
    "thinker(sentence=\"I dont' know how to think about where the world is going?\")"
   ]
  },
  {
   "cell_type": "code",
   "execution_count": 16,
   "id": "6c3c3dd4-0e2d-425a-899b-6608d13bccb2",
   "metadata": {},
   "outputs": [
    {
     "name": "stdout",
     "output_type": "stream",
     "text": [
      "litellm.UnsupportedParamsError: ollama_chat does not support parameters: {'n': 3}, for model=gemma2. To drop these, set `litellm.drop_params=True` or for proxy:\n",
      "\n",
      "`litellm_settings:\n",
      " drop_params: true`\n",
      "\n"
     ]
    }
   ],
   "source": [
    "# ollama does not allow, yet, multiple loops: Useful in RAG (context)\n",
    "try:\n",
    "    thinkers = dspy.ChainOfThought(Emotion, n=3)\n",
    "    thinkers(sentence=\"I dont' know how to think about where the world is going?\")\n",
    "except Exception as e:\n",
    "    print(e)"
   ]
  },
  {
   "cell_type": "markdown",
   "id": "9ae9b816-d977-454c-acf4-58da8a58d9d0",
   "metadata": {},
   "source": [
    "---\n",
    "Given that DSPy is modular, we don't have to wait for Ollama support\n",
    "\n",
    "---"
   ]
  },
  {
   "cell_type": "code",
   "execution_count": null,
   "id": "7d836440-b2c9-4331-8445-0f38ca8b53ab",
   "metadata": {},
   "outputs": [],
   "source": [
    "class Emotions(dspy.Signature):\n",
    "    \"\"\"Judge the emotions of a given sentence given context\"\"\"\n",
    "    sentence: str = dspy.InputField()\n",
    "    emotion: Literal[VALID_EMOTIONS] = dspy.OutputField()\n",
    "    context: list[Emotion] = dspy.OutputField(\n",
    "        description=\"Prediction and reasons from experts\"\n",
    "    )"
   ]
  },
  {
   "cell_type": "code",
   "execution_count": 18,
   "id": "9aedce10-7c9a-49fb-87df-4d26f1fb500e",
   "metadata": {},
   "outputs": [],
   "source": [
    "\n",
    "class Thinkers(dspy.Module):\n",
    "    def __init__(self, n: int = 3):\n",
    "        self.n = n # loops\n",
    "        self.thinker = dspy.ChainOfThought(Emotion)\n",
    "        self.judge = dspy.ChainOfThought(Emotions)\n",
    "\n",
    "    def forward(self, sentence:str):\n",
    "        context = []\n",
    "        for _ in range(self.n):\n",
    "            response = self.thinker(sentence=sentence)\n",
    "            context += [response]\n",
    "        \n",
    "        \n",
    "        result = self.judge(context=context, sentence=sentence)\n",
    "        return result\n",
    "        "
   ]
  },
  {
   "cell_type": "code",
   "execution_count": 19,
   "id": "3a5fd95d-6283-48f4-b555-b478f2537d00",
   "metadata": {},
   "outputs": [],
   "source": [
    "thinkers = Thinkers(n=2)"
   ]
  },
  {
   "cell_type": "code",
   "execution_count": 20,
   "id": "c971106a-5b9a-4554-8bc0-f85cac8b9052",
   "metadata": {},
   "outputs": [
    {
     "data": {
      "text/plain": [
       "Prediction(\n",
       "    reasoning='The sentence expresses uncertainty and worry about the future direction of the world. This suggests a feeling of unease and potential anxiety.',\n",
       "    emotion='nervousness',\n",
       "    context=[Emotion(sentence=\"I dont' know how to think about where the world is going?\", kind='nervousness', reason='The sentence expresses uncertainty and worry about the future, indicating a feeling of unease.')]\n",
       ")"
      ]
     },
     "execution_count": 20,
     "metadata": {},
     "output_type": "execute_result"
    }
   ],
   "source": [
    "thinkers(sentence=\"I dont' know how to think about where the world is going?\")"
   ]
  },
  {
   "cell_type": "code",
   "execution_count": 21,
   "id": "cdf4d2de-93f2-47dd-ad08-2af0cce53fa9",
   "metadata": {},
   "outputs": [],
   "source": [
    "def classifier(sentence:str) -> Emotions:\n",
    "    result = thinkers(sentence=sentence)\n",
    "    return result"
   ]
  },
  {
   "cell_type": "code",
   "execution_count": 22,
   "id": "fe8a5195-285b-43bd-9f59-d57bb10f5f34",
   "metadata": {},
   "outputs": [
    {
     "data": {
      "text/html": [
       "<div><style>\n",
       ".dataframe > thead > tr,\n",
       ".dataframe > tbody > tr {\n",
       "  text-align: right;\n",
       "  white-space: pre-wrap;\n",
       "}\n",
       "</style>\n",
       "<small>shape: (8, 4)</small><table border=\"1\" class=\"dataframe\"><thead><tr><th>emotion</th><th>text</th><th>prediction</th><th>reasoning</th></tr><tr><td>str</td><td>str</td><td>str</td><td>str</td></tr></thead><tbody><tr><td>&quot;confusion&quot;</td><td>&quot;His mixed signals have left me feeling utterly confused.&quot;</td><td>&quot;confusion&quot;</td><td>&quot;The sentence expresses a feeling of uncertainty and perplexity due to conflicting or unclear message…</td></tr><tr><td>&quot;joy&quot;</td><td>&quot;I can’t stop smiling after watching that movie. Such a feel-good story!&quot;</td><td>&quot;joy&quot;</td><td>&quot;The sentence expresses a positive feeling of happiness and satisfaction after watching a movie. The …</td></tr><tr><td>&quot;disappointment&quot;</td><td>&quot;I’m disappointed that the event was canceled last minute.&quot;</td><td>&quot;disappointment&quot;</td><td>&quot;The sentence expresses regret and sadness about an event being canceled unexpectedly.&quot;</td></tr><tr><td>&quot;anger&quot;</td><td>&quot;I’m furious that the package didn’t arrive on time.&quot;</td><td>&quot;anger&quot;</td><td>&quot;The sentence expresses strong negative feelings due to the package&#x27;s delayed arrival. The word &quot;furi…</td></tr><tr><td>&quot;realization&quot;</td><td>&quot;It’s in moments like these that you realize what really matters in life.&quot;</td><td>&quot;realization&quot;</td><td>&quot;The sentence suggests a moment of introspection and reflection, leading to an understanding of life&#x27;…</td></tr><tr><td>&quot;love&quot;</td><td>&quot;My love for nature grows with every hike in the mountains.&quot;</td><td>&quot;joy&quot;</td><td>&quot;The sentence expresses a positive sentiment about nature and hiking. The speaker&#x27;s love for nature i…</td></tr><tr><td>&quot;caring&quot;</td><td>&quot;She’s always caring for others, making sure everyone feels valued.&quot;</td><td>&quot;caring&quot;</td><td>&quot;The sentence describes someone consistently showing kindness and consideration towards others. This …</td></tr><tr><td>&quot;admiration&quot;</td><td>&quot;He ran a marathon in record time despite his injury. What a remarkable feat!&quot;</td><td>&quot;admiration&quot;</td><td>&quot;The sentence expresses admiration for someone&#x27;s accomplishment despite facing adversity.&quot;</td></tr></tbody></table></div>"
      ],
      "text/plain": [
       "shape: (8, 4)\n",
       "┌────────────────┬────────────────────────────────┬────────────────┬───────────────────────────────┐\n",
       "│ emotion        ┆ text                           ┆ prediction     ┆ reasoning                     │\n",
       "│ ---            ┆ ---                            ┆ ---            ┆ ---                           │\n",
       "│ str            ┆ str                            ┆ str            ┆ str                           │\n",
       "╞════════════════╪════════════════════════════════╪════════════════╪═══════════════════════════════╡\n",
       "│ confusion      ┆ His mixed signals have left me ┆ confusion      ┆ The sentence expresses a      │\n",
       "│                ┆ feeling utterly confused.      ┆                ┆ feeling of uncertainty and    │\n",
       "│                ┆                                ┆                ┆ perplexity due to conflicting │\n",
       "│                ┆                                ┆                ┆ or unclear message…           │\n",
       "│ joy            ┆ I can’t stop smiling after     ┆ joy            ┆ The sentence expresses a      │\n",
       "│                ┆ watching that movie. Such a    ┆                ┆ positive feeling of happiness │\n",
       "│                ┆ feel-good story!               ┆                ┆ and satisfaction after        │\n",
       "│                ┆                                ┆                ┆ watching a movie. The …       │\n",
       "│ disappointment ┆ I’m disappointed that the      ┆ disappointment ┆ The sentence expresses regret │\n",
       "│                ┆ event was canceled last        ┆                ┆ and sadness about an event    │\n",
       "│                ┆ minute.                        ┆                ┆ being canceled unexpectedly.  │\n",
       "│ anger          ┆ I’m furious that the package   ┆ anger          ┆ The sentence expresses strong │\n",
       "│                ┆ didn’t arrive on time.         ┆                ┆ negative feelings due to the  │\n",
       "│                ┆                                ┆                ┆ package's delayed arrival.    │\n",
       "│                ┆                                ┆                ┆ The word \"furi…               │\n",
       "│ realization    ┆ It’s in moments like these     ┆ realization    ┆ The sentence suggests a       │\n",
       "│                ┆ that you realize what really   ┆                ┆ moment of introspection and   │\n",
       "│                ┆ matters in life.               ┆                ┆ reflection, leading to an     │\n",
       "│                ┆                                ┆                ┆ understanding of life'…       │\n",
       "│ love           ┆ My love for nature grows with  ┆ joy            ┆ The sentence expresses a      │\n",
       "│                ┆ every hike in the mountains.   ┆                ┆ positive sentiment about      │\n",
       "│                ┆                                ┆                ┆ nature and hiking. The        │\n",
       "│                ┆                                ┆                ┆ speaker's love for nature i…  │\n",
       "│ caring         ┆ She’s always caring for        ┆ caring         ┆ The sentence describes        │\n",
       "│                ┆ others, making sure everyone   ┆                ┆ someone consistently showing  │\n",
       "│                ┆ feels valued.                  ┆                ┆ kindness and consideration    │\n",
       "│                ┆                                ┆                ┆ towards others. This …        │\n",
       "│ admiration     ┆ He ran a marathon in record    ┆ admiration     ┆ The sentence expresses        │\n",
       "│                ┆ time despite his injury. What  ┆                ┆ admiration for someone's      │\n",
       "│                ┆ a remarkable feat!             ┆                ┆ accomplishment despite facing │\n",
       "│                ┆                                ┆                ┆ adversity.                    │\n",
       "└────────────────┴────────────────────────────────┴────────────────┴───────────────────────────────┘"
      ]
     },
     "execution_count": 22,
     "metadata": {},
     "output_type": "execute_result"
    }
   ],
   "source": [
    "(\n",
    "    dataf.sample(8, seed=42)\n",
    "    .with_columns(\n",
    "        pl.col(\"text\")\n",
    "        .map_elements(classifier, return_dtype=pl.Object)\n",
    "        .alias(\"prediction\")\n",
    "    )\n",
    "    .with_columns(\n",
    "        pl.col(\"prediction\")\n",
    "        .map_elements(lambda p: p.emotion, return_dtype=pl.String)\n",
    "        .alias(\"prediction\"),\n",
    "        pl.col(\"prediction\")\n",
    "        .map_elements(lambda p: p.reasoning, return_dtype=pl.String)\n",
    "        .alias(\"reasoning\"),\n",
    "    )\n",
    ")"
   ]
  },
  {
   "cell_type": "code",
   "execution_count": null,
   "id": "f9bc9646-bcef-443b-bbca-69f9abcbd802",
   "metadata": {},
   "outputs": [],
   "source": []
  }
 ],
 "metadata": {
  "kernelspec": {
   "display_name": "emotions",
   "language": "python",
   "name": "emotions"
  },
  "language_info": {
   "codemirror_mode": {
    "name": "ipython",
    "version": 3
   },
   "file_extension": ".py",
   "mimetype": "text/x-python",
   "name": "python",
   "nbconvert_exporter": "python",
   "pygments_lexer": "ipython3",
   "version": "3.12.7"
  }
 },
 "nbformat": 4,
 "nbformat_minor": 5
}
