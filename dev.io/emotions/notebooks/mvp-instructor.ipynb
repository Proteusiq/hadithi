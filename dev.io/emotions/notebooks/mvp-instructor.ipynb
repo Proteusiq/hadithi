{
 "cells": [
  {
   "cell_type": "code",
   "execution_count": 1,
   "id": "8ea5010f-3175-47a2-be32-0be51bc72caa",
   "metadata": {},
   "outputs": [
    {
     "name": "stdout",
     "output_type": "stream",
     "text": [
      "Author: Prayson W. Daniel\n",
      "\n",
      "Last updated: 2024-12-17T12:00:57.051725+01:00\n",
      "\n",
      "Python implementation: CPython\n",
      "Python version       : 3.12.7\n",
      "IPython version      : 8.29.0\n",
      "\n",
      "polars    : 1.7.1\n",
      "instructor: 1.4.3\n",
      "openai    : 1.57.4\n",
      "ollama    : 0.3.3\n",
      "\n",
      "Compiler    : Clang 15.0.0 (clang-1500.3.9.4)\n",
      "OS          : Darwin\n",
      "Release     : 23.5.0\n",
      "Machine     : arm64\n",
      "Processor   : arm\n",
      "CPU cores   : 16\n",
      "Architecture: 64bit\n",
      "\n"
     ]
    }
   ],
   "source": [
    "%reload_ext watermark\n",
    "%watermark -uniz --author \"Prayson W. Daniel\" -vm -p polars,instructor,openai,ollama"
   ]
  },
  {
   "cell_type": "code",
   "execution_count": 2,
   "id": "dc3260d5-6f88-4eb7-a15d-f7e719bf339b",
   "metadata": {},
   "outputs": [],
   "source": [
    "from typing import Final, Literal\n",
    "\n",
    "import instructor\n",
    "import polars as pl\n",
    "from openai import OpenAI\n",
    "from pydantic import BaseModel, Field"
   ]
  },
  {
   "cell_type": "code",
   "execution_count": 3,
   "id": "c28d0363-f76e-4866-b64b-b209e4666193",
   "metadata": {},
   "outputs": [],
   "source": [
    "MODEL: Final = \"gemma2\"\n",
    "\n",
    "VALID_EMOTIONS: tuple[str, ...] = tuple(\n",
    "    {\n",
    "        \"admiration\",\n",
    "        \"approval\",\n",
    "        \"gratitude\",\n",
    "        \"optimism\",\n",
    "        \"joy\",\n",
    "        \"neutral\",\n",
    "        \"disapproval\",\n",
    "        \"disappointment\",\n",
    "        \"love\",\n",
    "        \"relief\",\n",
    "        \"excitement\",\n",
    "        \"desire\",\n",
    "        \"caring\",\n",
    "        \"pride\",\n",
    "        \"realization\",\n",
    "        \"disgust\",\n",
    "        \"annoyance\",\n",
    "        \"remorse\",\n",
    "        \"amusement\",\n",
    "        \"anger\",\n",
    "        \"grief\",\n",
    "        \"curiosity\",\n",
    "        \"fear\",\n",
    "        \"surprise\",\n",
    "        \"sadness\",\n",
    "        \"embarrassment\",\n",
    "        \"confusion\",\n",
    "        \"nervousness\",\n",
    "    }\n",
    ")\n",
    "\n",
    "class Emotion(BaseModel):\n",
    "    kind: Literal[VALID_EMOTIONS]  # type: ignore # literal does not like dynamic values\n",
    "    reason: str = Field(\n",
    "        ..., description=\"A short third person reason for selected the emotion\"\n",
    "    )"
   ]
  },
  {
   "cell_type": "code",
   "execution_count": 4,
   "id": "adae927c-ede4-44ad-93ca-dd5a2d1562c2",
   "metadata": {},
   "outputs": [],
   "source": [
    "client = instructor.from_openai(\n",
    "    OpenAI(\n",
    "        base_url=\"http://localhost:11434/v1\",\n",
    "        api_key=\"NotNeeded\",\n",
    "    ),\n",
    "    mode=instructor.Mode.JSON,\n",
    ")"
   ]
  },
  {
   "cell_type": "code",
   "execution_count": 5,
   "id": "b238b75e-bf5c-480f-9acf-ae2669d04914",
   "metadata": {},
   "outputs": [],
   "source": [
    "def classifier(text: str, model: str = MODEL) -> Emotion:\n",
    "    response = client.chat.completions.create(\n",
    "        model=model,\n",
    "        messages=[\n",
    "            {\n",
    "                \"role\": \"user\",\n",
    "                \"content\": (\"You are a brilliant emotion pyschologist.\"\n",
    "                            f\"What is the text emotion: Text: {text}\"),\n",
    "            }\n",
    "        ],\n",
    "        response_model=Emotion,\n",
    "        temperature=0.0,\n",
    "    )\n",
    "\n",
    "    return response"
   ]
  },
  {
   "cell_type": "code",
   "execution_count": 6,
   "id": "5538cf14-3713-4d57-bdef-11a90ce00a23",
   "metadata": {},
   "outputs": [],
   "source": [
    "pl.Config.set_fmt_str_lengths(100).set_tbl_rows(\n",
    "    -1\n",
    ")  # show more text. default is 25, show all rowss\n",
    "\n",
    "dataf = pl.read_json(\"../data/examples.json\").explode([\"emotion\", \"text\"])"
   ]
  },
  {
   "cell_type": "code",
   "execution_count": 8,
   "id": "4dd7564e-1bbb-435b-ab2f-60613dd86868",
   "metadata": {},
   "outputs": [
    {
     "data": {
      "text/html": [
       "<div><style>\n",
       ".dataframe > thead > tr,\n",
       ".dataframe > tbody > tr {\n",
       "  text-align: right;\n",
       "  white-space: pre-wrap;\n",
       "}\n",
       "</style>\n",
       "<small>shape: (3, 2)</small><table border=\"1\" class=\"dataframe\"><thead><tr><th>emotion</th><th>text</th></tr><tr><td>str</td><td>str</td></tr></thead><tbody><tr><td>&quot;confusion&quot;</td><td>&quot;The situation is so unclear right now, it’s leaving me confused.&quot;</td></tr><tr><td>&quot;love&quot;</td><td>&quot;My love for nature grows with every hike in the mountains.&quot;</td></tr><tr><td>&quot;caring&quot;</td><td>&quot;It’s important to care for your mental health as much as your physical health.&quot;</td></tr></tbody></table></div>"
      ],
      "text/plain": [
       "shape: (3, 2)\n",
       "┌───────────┬────────────────────────────────────────────────────────────────────────────────┐\n",
       "│ emotion   ┆ text                                                                           │\n",
       "│ ---       ┆ ---                                                                            │\n",
       "│ str       ┆ str                                                                            │\n",
       "╞═══════════╪════════════════════════════════════════════════════════════════════════════════╡\n",
       "│ confusion ┆ The situation is so unclear right now, it’s leaving me confused.               │\n",
       "│ love      ┆ My love for nature grows with every hike in the mountains.                     │\n",
       "│ caring    ┆ It’s important to care for your mental health as much as your physical health. │\n",
       "└───────────┴────────────────────────────────────────────────────────────────────────────────┘"
      ]
     },
     "execution_count": 8,
     "metadata": {},
     "output_type": "execute_result"
    }
   ],
   "source": [
    "dataf.sample(3, seed=7)"
   ]
  },
  {
   "cell_type": "code",
   "execution_count": 9,
   "id": "dbc0d9c3-2355-4734-be03-07457f95b675",
   "metadata": {},
   "outputs": [
    {
     "data": {
      "text/plain": [
       "Emotion(kind='confusion', reason='The speaker expresses uncertainty and lack of direction regarding the future state of the world.')"
      ]
     },
     "execution_count": 9,
     "metadata": {},
     "output_type": "execute_result"
    }
   ],
   "source": [
    "classifier(\"I dont' know how to think about where the world is going?\")"
   ]
  },
  {
   "cell_type": "code",
   "execution_count": 10,
   "id": "a6a0c45c-6231-43c4-ad7a-21215b9d78d3",
   "metadata": {},
   "outputs": [
    {
     "data": {
      "text/html": [
       "<div><style>\n",
       ".dataframe > thead > tr,\n",
       ".dataframe > tbody > tr {\n",
       "  text-align: right;\n",
       "  white-space: pre-wrap;\n",
       "}\n",
       "</style>\n",
       "<small>shape: (8, 4)</small><table border=\"1\" class=\"dataframe\"><thead><tr><th>emotion</th><th>text</th><th>prediction</th><th>reason</th></tr><tr><td>str</td><td>str</td><td>str</td><td>str</td></tr></thead><tbody><tr><td>&quot;confusion&quot;</td><td>&quot;His mixed signals have left me feeling utterly confused.&quot;</td><td>&quot;confusion&quot;</td><td>&quot;His mixed signals have left him feeling uncertain and perplexed.&quot;</td></tr><tr><td>&quot;joy&quot;</td><td>&quot;I can’t stop smiling after watching that movie. Such a feel-good story!&quot;</td><td>&quot;joy&quot;</td><td>&quot;The movie was a feel-good story.&quot;</td></tr><tr><td>&quot;disappointment&quot;</td><td>&quot;I’m disappointed that the event was canceled last minute.&quot;</td><td>&quot;disappointment&quot;</td><td>&quot;The event was canceled last minute.&quot;</td></tr><tr><td>&quot;anger&quot;</td><td>&quot;I’m furious that the package didn’t arrive on time.&quot;</td><td>&quot;anger&quot;</td><td>&quot;The package didn&#x27;t arrive on time.&quot;</td></tr><tr><td>&quot;realization&quot;</td><td>&quot;It’s in moments like these that you realize what really matters in life.&quot;</td><td>&quot;realization&quot;</td><td>&quot;The text suggests a moment of introspection and understanding about life&#x27;s priorities.&quot;</td></tr><tr><td>&quot;love&quot;</td><td>&quot;My love for nature grows with every hike in the mountains.&quot;</td><td>&quot;love&quot;</td><td>&quot;The speaker expresses a deepening affection for nature due to their hiking experiences.&quot;</td></tr><tr><td>&quot;caring&quot;</td><td>&quot;She’s always caring for others, making sure everyone feels valued.&quot;</td><td>&quot;caring&quot;</td><td>&quot;She consistently prioritizes the well-being and feelings of others.&quot;</td></tr><tr><td>&quot;admiration&quot;</td><td>&quot;He ran a marathon in record time despite his injury. What a remarkable feat!&quot;</td><td>&quot;admiration&quot;</td><td>&quot;He accomplished a challenging feat despite an injury.&quot;</td></tr></tbody></table></div>"
      ],
      "text/plain": [
       "shape: (8, 4)\n",
       "┌────────────────┬────────────────────────────────┬────────────────┬───────────────────────────────┐\n",
       "│ emotion        ┆ text                           ┆ prediction     ┆ reason                        │\n",
       "│ ---            ┆ ---                            ┆ ---            ┆ ---                           │\n",
       "│ str            ┆ str                            ┆ str            ┆ str                           │\n",
       "╞════════════════╪════════════════════════════════╪════════════════╪═══════════════════════════════╡\n",
       "│ confusion      ┆ His mixed signals have left me ┆ confusion      ┆ His mixed signals have left   │\n",
       "│                ┆ feeling utterly confused.      ┆                ┆ him feeling uncertain and     │\n",
       "│                ┆                                ┆                ┆ perplexed.                    │\n",
       "│ joy            ┆ I can’t stop smiling after     ┆ joy            ┆ The movie was a feel-good     │\n",
       "│                ┆ watching that movie. Such a    ┆                ┆ story.                        │\n",
       "│                ┆ feel-good story!               ┆                ┆                               │\n",
       "│ disappointment ┆ I’m disappointed that the      ┆ disappointment ┆ The event was canceled last   │\n",
       "│                ┆ event was canceled last        ┆                ┆ minute.                       │\n",
       "│                ┆ minute.                        ┆                ┆                               │\n",
       "│ anger          ┆ I’m furious that the package   ┆ anger          ┆ The package didn't arrive on  │\n",
       "│                ┆ didn’t arrive on time.         ┆                ┆ time.                         │\n",
       "│ realization    ┆ It’s in moments like these     ┆ realization    ┆ The text suggests a moment of │\n",
       "│                ┆ that you realize what really   ┆                ┆ introspection and             │\n",
       "│                ┆ matters in life.               ┆                ┆ understanding about life's    │\n",
       "│                ┆                                ┆                ┆ priorities.                   │\n",
       "│ love           ┆ My love for nature grows with  ┆ love           ┆ The speaker expresses a       │\n",
       "│                ┆ every hike in the mountains.   ┆                ┆ deepening affection for       │\n",
       "│                ┆                                ┆                ┆ nature due to their hiking    │\n",
       "│                ┆                                ┆                ┆ experiences.                  │\n",
       "│ caring         ┆ She’s always caring for        ┆ caring         ┆ She consistently prioritizes  │\n",
       "│                ┆ others, making sure everyone   ┆                ┆ the well-being and feelings   │\n",
       "│                ┆ feels valued.                  ┆                ┆ of others.                    │\n",
       "│ admiration     ┆ He ran a marathon in record    ┆ admiration     ┆ He accomplished a challenging │\n",
       "│                ┆ time despite his injury. What  ┆                ┆ feat despite an injury.       │\n",
       "│                ┆ a remarkable feat!             ┆                ┆                               │\n",
       "└────────────────┴────────────────────────────────┴────────────────┴───────────────────────────────┘"
      ]
     },
     "execution_count": 10,
     "metadata": {},
     "output_type": "execute_result"
    }
   ],
   "source": [
    "(\n",
    "    dataf.sample(8, seed=42)\n",
    "    .with_columns(\n",
    "        pl.col(\"text\")\n",
    "        .map_elements(classifier, return_dtype=pl.Object)\n",
    "        .alias(\"prediction\")\n",
    "    )\n",
    "    .with_columns(\n",
    "        pl.col(\"prediction\")\n",
    "        .map_elements(lambda p: p.kind, return_dtype=pl.String)\n",
    "        .alias(\"prediction\"),\n",
    "        pl.col(\"prediction\")\n",
    "        .map_elements(lambda p: p.reason, return_dtype=pl.String)\n",
    "        .alias(\"reason\"),\n",
    "    )\n",
    ")"
   ]
  },
  {
   "cell_type": "code",
   "execution_count": null,
   "id": "32b32407-4437-4844-9e15-cfbddb8493c4",
   "metadata": {},
   "outputs": [],
   "source": []
  }
 ],
 "metadata": {
  "kernelspec": {
   "display_name": "emotions",
   "language": "python",
   "name": "emotions"
  },
  "language_info": {
   "codemirror_mode": {
    "name": "ipython",
    "version": 3
   },
   "file_extension": ".py",
   "mimetype": "text/x-python",
   "name": "python",
   "nbconvert_exporter": "python",
   "pygments_lexer": "ipython3",
   "version": "3.12.7"
  }
 },
 "nbformat": 4,
 "nbformat_minor": 5
}
