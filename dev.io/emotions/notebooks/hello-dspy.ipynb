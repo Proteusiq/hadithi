{
 "cells": [
  {
   "cell_type": "code",
   "execution_count": 1,
   "id": "bd2fb6f6-2cb5-4057-b006-9c922b82c701",
   "metadata": {},
   "outputs": [
    {
     "name": "stdout",
     "output_type": "stream",
     "text": [
      "Author: Prayson W. Daniel\n",
      "\n",
      "Last updated: 2024-12-17T11:56:30.939916+01:00\n",
      "\n",
      "Python implementation: CPython\n",
      "Python version       : 3.12.7\n",
      "IPython version      : 8.29.0\n",
      "\n",
      "dspy      : 2.5.43\n",
      "ipywidgets: 8.1.5\n",
      "\n",
      "Compiler    : Clang 15.0.0 (clang-1500.3.9.4)\n",
      "OS          : Darwin\n",
      "Release     : 23.5.0\n",
      "Machine     : arm64\n",
      "Processor   : arm\n",
      "CPU cores   : 16\n",
      "Architecture: 64bit\n",
      "\n"
     ]
    }
   ],
   "source": [
    "%reload_ext watermark\n",
    "%watermark -uniz --author \"Prayson W. Daniel\" -vm -p dspy,ipywidgets"
   ]
  },
  {
   "cell_type": "code",
   "execution_count": 2,
   "id": "6e3c072e-f7cd-4488-8b0e-3e968dfe44d4",
   "metadata": {},
   "outputs": [],
   "source": [
    "from IPython.display import display, Markdown\n",
    "import dspy\n",
    "\n",
    "\n",
    "lm = dspy.LM('ollama_chat/gemma2', api_base='http://localhost:11434', api_key='NotNeeded', temperature=0.0)\n",
    "dspy.configure(lm=lm)"
   ]
  },
  {
   "cell_type": "code",
   "execution_count": 3,
   "id": "bcc81bab-3ed4-4641-a93a-edc1bf204236",
   "metadata": {},
   "outputs": [
    {
     "data": {
      "text/markdown": [
       "The sky appears blue due to a phenomenon called **Rayleigh scattering**. \n",
       "\n",
       "Here's a simplified explanation:\n",
       "\n",
       "1. **Sunlight:** Sunlight is actually made up of all the colors of the rainbow.\n",
       "\n",
       "2. **Earth's Atmosphere:** When sunlight enters Earth's atmosphere, it collides with tiny air molecules (mostly nitrogen and oxygen).\n",
       "\n",
       "3. **Scattering:** These collisions cause the sunlight to scatter in different directions. \n",
       "\n",
       "4. **Blue Light Dominance:**  Blue light has a shorter wavelength than other colors in the visible spectrum. This means it gets scattered much more by the air molecules.\n",
       "\n",
       "5. **Our Perception:** As a result, we see more blue light coming from all directions in the sky, making it appear blue.\n",
       "\n",
       "\n",
       "**At sunrise and sunset, the sky appears red or orange because:**\n",
       "\n",
       "* The sunlight has to travel through more of the atmosphere to reach our eyes.\n",
       "*  The longer wavelengths (red and orange) are scattered less and are more likely to reach us directly. \n"
      ],
      "text/plain": [
       "<IPython.core.display.Markdown object>"
      ]
     },
     "metadata": {},
     "output_type": "display_data"
    }
   ],
   "source": [
    "display(Markdown(lm(\"Why is the sky blue?\")[0]))"
   ]
  },
  {
   "cell_type": "code",
   "execution_count": null,
   "id": "26a7ac2d-d35d-454f-9940-c6e9495ea03b",
   "metadata": {},
   "outputs": [],
   "source": []
  }
 ],
 "metadata": {
  "kernelspec": {
   "display_name": "emotions",
   "language": "python",
   "name": "emotions"
  },
  "language_info": {
   "codemirror_mode": {
    "name": "ipython",
    "version": 3
   },
   "file_extension": ".py",
   "mimetype": "text/x-python",
   "name": "python",
   "nbconvert_exporter": "python",
   "pygments_lexer": "ipython3",
   "version": "3.12.7"
  }
 },
 "nbformat": 4,
 "nbformat_minor": 5
}
