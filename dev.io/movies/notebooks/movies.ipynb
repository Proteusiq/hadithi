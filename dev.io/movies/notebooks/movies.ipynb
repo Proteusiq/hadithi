{
 "cells": [
  {
   "cell_type": "code",
   "execution_count": 1,
   "id": "b36b243c-0f3a-4073-a830-961d1773044e",
   "metadata": {},
   "outputs": [
    {
     "name": "stdout",
     "output_type": "stream",
     "text": [
      "Author: Prayson W. Daniel\n",
      "\n",
      "Last updated: 2024-10-19T10:40:12.711192+02:00\n",
      "\n",
      "Python implementation: CPython\n",
      "Python version       : 3.9.6\n",
      "IPython version      : 8.18.1\n",
      "\n",
      "duckdb      : 1.1.2\n",
      "pandas      : 2.2.3\n",
      "polars      : 1.9.0\n",
      "river       : 0.21.2\n",
      "scikit-learn: 1.5.2\n",
      "\n",
      "Compiler    : Clang 15.0.0 (clang-1500.3.9.4)\n",
      "OS          : Darwin\n",
      "Release     : 23.5.0\n",
      "Machine     : arm64\n",
      "Processor   : arm\n",
      "CPU cores   : 16\n",
      "Architecture: 64bit\n",
      "\n"
     ]
    }
   ],
   "source": [
    "%reload_ext watermark\n",
    "%watermark -uniz --author \"Prayson W. Daniel\" -vm -p duckdb,pandas,polars,river,scikit-learn"
   ]
  },
  {
   "cell_type": "markdown",
   "id": "94f6e449-1642-4dec-897c-d9ff4c6c4bc2",
   "metadata": {},
   "source": [
    "### Show me the money ... data"
   ]
  },
  {
   "cell_type": "code",
   "execution_count": 2,
   "id": "8fc361af-7d62-4a14-8b0d-80050ded84f6",
   "metadata": {},
   "outputs": [
    {
     "name": "stdout",
     "output_type": "stream",
     "text": [
      "/Users/pwd/Codes/hadithi/dev.io/movies\n"
     ]
    }
   ],
   "source": [
    "%cd .."
   ]
  },
  {
   "cell_type": "code",
   "execution_count": 3,
   "id": "b7196b65-1aef-48d2-a78b-669c07f37f84",
   "metadata": {},
   "outputs": [],
   "source": [
    "import duckdb\n",
    "import polars as pl"
   ]
  },
  {
   "cell_type": "raw",
   "id": "62678c52-083d-436a-978e-5f0bca1ad649",
   "metadata": {
    "jupyter": {
     "source_hidden": true
    }
   },
   "source": [
    "# contains duplicates\n",
    "\"\"\"\n",
    "    SELECT \n",
    "       *\n",
    "    \n",
    "    FROM 'data/clean.csv'\n",
    "    WHERE genres NOT IN ['Documentary']\n",
    "        AND title_year > 1999\n",
    "        AND language = 'English'\n",
    "        AND LENGTH(director_name) <> 0\n",
    "        AND LENGTH(content_rating) <> 0\n",
    "        AND aspect_ratio <> 0\n",
    "        AND budget <> 0\n",
    "        AND gross <> 0\n",
    "    ORDER BY budget DESC\n",
    "   \"\"\""
   ]
  },
  {
   "cell_type": "code",
   "execution_count": 4,
   "id": "a7f83107-6022-48d4-a8ad-a1f9315ccb2c",
   "metadata": {},
   "outputs": [],
   "source": [
    "MOVIE_QUERY: str = \"\"\"\n",
    "WITH movies AS (\n",
    "     SELECT \n",
    "         movie_title AS title\n",
    "         ,director_name AS director\n",
    "         ,title_year AS year\n",
    "         ,CONCAT(actor_1_name,'|',actor_2_name,'|', actor_3_name) AS actors\n",
    "         ,GREATEST(actor_1_facebook_likes,actor_2_facebook_likes,actor_3_facebook_likes) AS max_fb_likes\n",
    "         ,duration\n",
    "         ,genres\n",
    "         ,plot_keywords\n",
    "         ,budget\n",
    "         ,gross\n",
    "         ,imdb_score AS imdb\n",
    "         ,num_voted_users\n",
    "         ,country\n",
    "         ,content_rating\n",
    "         ,ROW_NUMBER() OVER (PARTITION BY movie_title,director_name  ORDER BY title_year) AS row_num --used to remove duplicates\n",
    "\n",
    "    FROM 'data/clean.csv'\n",
    "    WHERE genres NOT IN ['Documentary', 'History', 'Biography', 'Sport']\n",
    "        AND title_year > 1999\n",
    "        AND language = 'English'\n",
    "        AND LENGTH(director_name) <> 0\n",
    "        AND LENGTH(content_rating) <> 0\n",
    "        AND aspect_ratio <> 0\n",
    "        AND budget <> 0\n",
    "        AND gross <> 0\n",
    ")\n",
    "    SELECT \n",
    "      *\n",
    "    FROM movies\n",
    "    WHERE row_num = 1 --removes duplicates\n",
    "        ORDER BY year DESC\n",
    "\"\"\""
   ]
  },
  {
   "cell_type": "code",
   "execution_count": 7,
   "id": "48a74914-ceaa-40ae-ab2e-91c549961f0d",
   "metadata": {},
   "outputs": [
    {
     "name": "stdout",
     "output_type": "stream",
     "text": [
      "CPU times: user 87.3 ms, sys: 27.8 ms, total: 115 ms\n",
      "Wall time: 83.8 ms\n"
     ]
    },
    {
     "data": {
      "text/html": [
       "<div><style>\n",
       ".dataframe > thead > tr,\n",
       ".dataframe > tbody > tr {\n",
       "  text-align: right;\n",
       "  white-space: pre-wrap;\n",
       "}\n",
       "</style>\n",
       "<small>shape: (3, 15)</small><table border=\"1\" class=\"dataframe\"><thead><tr><th>title</th><th>director</th><th>year</th><th>actors</th><th>max_fb_likes</th><th>duration</th><th>genres</th><th>plot_keywords</th><th>budget</th><th>gross</th><th>imdb</th><th>num_voted_users</th><th>country</th><th>content_rating</th><th>row_num</th></tr><tr><td>str</td><td>str</td><td>i64</td><td>str</td><td>i64</td><td>i64</td><td>str</td><td>str</td><td>i64</td><td>i64</td><td>f64</td><td>i64</td><td>str</td><td>str</td><td>i64</td></tr></thead><tbody><tr><td>&quot;Shooter &quot;</td><td>&quot;Antoine Fuqua&quot;</td><td>2007</td><td>&quot;Tate Donovan|Ned Beatty|Louis …</td><td>650</td><td>124</td><td>&quot;Action|Crime|Drama|Mystery|Thr…</td><td>&quot;colonel|ethiopia|marksman|on t…</td><td>61000000</td><td>46975183</td><td>7.2</td><td>256213</td><td>&quot;USA&quot;</td><td>&quot;R&quot;</td><td>1</td></tr><tr><td>&quot;Turbo &quot;</td><td>&quot;David Soren&quot;</td><td>2013</td><td>&quot;Ryan Reynolds|Snoop Dogg|Ben S…</td><td>16000</td><td>96</td><td>&quot;Adventure|Animation|Comedy|Fam…</td><td>&quot;accident|freak accident|race|s…</td><td>135000000</td><td>83024900</td><td>6.5</td><td>62424</td><td>&quot;USA&quot;</td><td>&quot;PG&quot;</td><td>1</td></tr><tr><td>&quot;Act of Valor &quot;</td><td>&quot;Mike McCoy&quot;</td><td>2012</td><td>&quot;Alex Veadov|Jason Cottle|Rorke…</td><td>93</td><td>110</td><td>&quot;Action|Adventure|Drama|Thrille…</td><td>&quot;mission|navy seal|terrorist|to…</td><td>12000000</td><td>70011073</td><td>6.5</td><td>57996</td><td>&quot;USA&quot;</td><td>&quot;R&quot;</td><td>1</td></tr></tbody></table></div>"
      ],
      "text/plain": [
       "shape: (3, 15)\n",
       "┌─────────────┬─────────────┬──────┬─────────────┬───┬────────────┬─────────┬────────────┬─────────┐\n",
       "│ title       ┆ director    ┆ year ┆ actors      ┆ … ┆ num_voted_ ┆ country ┆ content_ra ┆ row_num │\n",
       "│ ---         ┆ ---         ┆ ---  ┆ ---         ┆   ┆ users      ┆ ---     ┆ ting       ┆ ---     │\n",
       "│ str         ┆ str         ┆ i64  ┆ str         ┆   ┆ ---        ┆ str     ┆ ---        ┆ i64     │\n",
       "│             ┆             ┆      ┆             ┆   ┆ i64        ┆         ┆ str        ┆         │\n",
       "╞═════════════╪═════════════╪══════╪═════════════╪═══╪════════════╪═════════╪════════════╪═════════╡\n",
       "│ Shooter     ┆ Antoine     ┆ 2007 ┆ Tate        ┆ … ┆ 256213     ┆ USA     ┆ R          ┆ 1       │\n",
       "│             ┆ Fuqua       ┆      ┆ Donovan|Ned ┆   ┆            ┆         ┆            ┆         │\n",
       "│             ┆             ┆      ┆ Beatty|Loui ┆   ┆            ┆         ┆            ┆         │\n",
       "│             ┆             ┆      ┆ s …         ┆   ┆            ┆         ┆            ┆         │\n",
       "│ Turbo       ┆ David Soren ┆ 2013 ┆ Ryan Reynol ┆ … ┆ 62424      ┆ USA     ┆ PG         ┆ 1       │\n",
       "│             ┆             ┆      ┆ ds|Snoop    ┆   ┆            ┆         ┆            ┆         │\n",
       "│             ┆             ┆      ┆ Dogg|Ben S… ┆   ┆            ┆         ┆            ┆         │\n",
       "│ Act of      ┆ Mike McCoy  ┆ 2012 ┆ Alex Veadov ┆ … ┆ 57996      ┆ USA     ┆ R          ┆ 1       │\n",
       "│ Valor       ┆             ┆      ┆ |Jason Cott ┆   ┆            ┆         ┆            ┆         │\n",
       "│             ┆             ┆      ┆ le|Rorke…   ┆   ┆            ┆         ┆            ┆         │\n",
       "└─────────────┴─────────────┴──────┴─────────────┴───┴────────────┴─────────┴────────────┴─────────┘"
      ]
     },
     "execution_count": 7,
     "metadata": {},
     "output_type": "execute_result"
    }
   ],
   "source": [
    "%%time\n",
    "\n",
    "movies = duckdb.sql(MOVIE_QUERY).pl()\n",
    "movies.sample(3)"
   ]
  },
  {
   "cell_type": "code",
   "execution_count": 8,
   "id": "c23186e4-ce8e-4385-8595-193bb00182d5",
   "metadata": {},
   "outputs": [
    {
     "name": "stdout",
     "output_type": "stream",
     "text": [
      "CPU times: user 11.2 ms, sys: 7.31 ms, total: 18.5 ms\n",
      "Wall time: 6.16 ms\n"
     ]
    },
    {
     "data": {
      "text/html": [
       "<div><style>\n",
       ".dataframe > thead > tr,\n",
       ".dataframe > tbody > tr {\n",
       "  text-align: right;\n",
       "  white-space: pre-wrap;\n",
       "}\n",
       "</style>\n",
       "<small>shape: (3, 35)</small><table border=\"1\" class=\"dataframe\"><thead><tr><th>title</th><th>director</th><th>year</th><th>actors</th><th>max_fb_likes</th><th>duration</th><th>plot_keywords</th><th>budget</th><th>gross</th><th>imdb</th><th>num_voted_users</th><th>country</th><th>content_rating</th><th>row_num</th><th>Action</th><th>Animation</th><th>Thriller</th><th>Fantasy</th><th>Mystery</th><th>Biography</th><th>History</th><th>Sci-Fi</th><th>Western</th><th>Musical</th><th>Drama</th><th>Family</th><th>Music</th><th>Romance</th><th>Horror</th><th>War</th><th>Documentary</th><th>Adventure</th><th>Crime</th><th>Sport</th><th>Comedy</th></tr><tr><td>str</td><td>str</td><td>i64</td><td>str</td><td>i64</td><td>i64</td><td>str</td><td>i64</td><td>i64</td><td>f64</td><td>i64</td><td>str</td><td>str</td><td>i64</td><td>i8</td><td>i8</td><td>i8</td><td>i8</td><td>i8</td><td>i8</td><td>i8</td><td>i8</td><td>i8</td><td>i8</td><td>i8</td><td>i8</td><td>i8</td><td>i8</td><td>i8</td><td>i8</td><td>i8</td><td>i8</td><td>i8</td><td>i8</td><td>i8</td></tr></thead><tbody><tr><td>&quot;The Nativity Story &quot;</td><td>&quot;Catherine Hardwicke&quot;</td><td>2006</td><td>&quot;Keisha Castle-Hughes|Hiam Abba…</td><td>446</td><td>101</td><td>&quot;angel|bethlehem|journey|nazare…</td><td>30000000</td><td>37617947</td><td>6.8</td><td>8143</td><td>&quot;USA&quot;</td><td>&quot;PG&quot;</td><td>1</td><td>0</td><td>0</td><td>0</td><td>1</td><td>0</td><td>0</td><td>0</td><td>0</td><td>0</td><td>0</td><td>1</td><td>1</td><td>0</td><td>0</td><td>0</td><td>0</td><td>0</td><td>0</td><td>0</td><td>0</td><td>0</td></tr><tr><td>&quot;Auto Focus &quot;</td><td>&quot;Paul Schrader&quot;</td><td>2002</td><td>&quot;Ed Begley Jr.|Michael McKean|K…</td><td>783</td><td>105</td><td>&quot;friendship|photography|radio|s…</td><td>7000000</td><td>2062066</td><td>6.6</td><td>11387</td><td>&quot;USA&quot;</td><td>&quot;R&quot;</td><td>1</td><td>0</td><td>0</td><td>0</td><td>0</td><td>0</td><td>1</td><td>0</td><td>0</td><td>0</td><td>0</td><td>1</td><td>0</td><td>0</td><td>0</td><td>0</td><td>0</td><td>0</td><td>0</td><td>1</td><td>0</td><td>0</td></tr><tr><td>&quot;The Day the Earth Stood Still &quot;</td><td>&quot;Scott Derrickson&quot;</td><td>2008</td><td>&quot;Keanu Reeves|Jon Hamm|Juan Rie…</td><td>18000</td><td>104</td><td>&quot;alien|earth|giant robot|milita…</td><td>80000000</td><td>79363785</td><td>5.5</td><td>139426</td><td>&quot;USA&quot;</td><td>&quot;PG-13&quot;</td><td>1</td><td>0</td><td>0</td><td>1</td><td>0</td><td>0</td><td>0</td><td>0</td><td>1</td><td>0</td><td>0</td><td>1</td><td>0</td><td>0</td><td>0</td><td>0</td><td>0</td><td>0</td><td>0</td><td>0</td><td>0</td><td>0</td></tr></tbody></table></div>"
      ],
      "text/plain": [
       "shape: (3, 35)\n",
       "┌────────────────┬────────────────┬──────┬────────────────┬───┬───────────┬───────┬───────┬────────┐\n",
       "│ title          ┆ director       ┆ year ┆ actors         ┆ … ┆ Adventure ┆ Crime ┆ Sport ┆ Comedy │\n",
       "│ ---            ┆ ---            ┆ ---  ┆ ---            ┆   ┆ ---       ┆ ---   ┆ ---   ┆ ---    │\n",
       "│ str            ┆ str            ┆ i64  ┆ str            ┆   ┆ i8        ┆ i8    ┆ i8    ┆ i8     │\n",
       "╞════════════════╪════════════════╪══════╪════════════════╪═══╪═══════════╪═══════╪═══════╪════════╡\n",
       "│ The Nativity   ┆ Catherine      ┆ 2006 ┆ Keisha Castle- ┆ … ┆ 0         ┆ 0     ┆ 0     ┆ 0      │\n",
       "│ Story          ┆ Hardwicke      ┆      ┆ Hughes|Hiam    ┆   ┆           ┆       ┆       ┆        │\n",
       "│                ┆                ┆      ┆ Abba…          ┆   ┆           ┆       ┆       ┆        │\n",
       "│ Auto Focus     ┆ Paul Schrader  ┆ 2002 ┆ Ed Begley      ┆ … ┆ 0         ┆ 1     ┆ 0     ┆ 0      │\n",
       "│                ┆                ┆      ┆ Jr.|Michael    ┆   ┆           ┆       ┆       ┆        │\n",
       "│                ┆                ┆      ┆ McKean|K…      ┆   ┆           ┆       ┆       ┆        │\n",
       "│ The Day the    ┆ Scott          ┆ 2008 ┆ Keanu          ┆ … ┆ 0         ┆ 0     ┆ 0     ┆ 0      │\n",
       "│ Earth Stood    ┆ Derrickson     ┆      ┆ Reeves|Jon     ┆   ┆           ┆       ┆       ┆        │\n",
       "│ Still          ┆                ┆      ┆ Hamm|Juan Rie… ┆   ┆           ┆       ┆       ┆        │\n",
       "└────────────────┴────────────────┴──────┴────────────────┴───┴───────────┴───────┴───────┴────────┘"
      ]
     },
     "execution_count": 8,
     "metadata": {},
     "output_type": "execute_result"
    }
   ],
   "source": [
    "%%time\n",
    "\n",
    "# get all unique genres to explode them as columns\n",
    "unique_genres = (\n",
    "    movies.select(pl.col(\"genres\").str.split(\"|\").explode())\n",
    "    .unique()\n",
    "    .to_series()\n",
    "    .to_list()\n",
    ")\n",
    "\n",
    "\n",
    "(\n",
    "    movies.with_columns(\n",
    "        [\n",
    "            pl.col(\"genres\")\n",
    "            .str.contains(f\"\\\\b{genre}\\\\b\")  # TODO: Find a faster way\n",
    "            .cast(pl.Int8)\n",
    "            .alias(genre)\n",
    "            for genre in unique_genres\n",
    "        ]\n",
    "    ).drop(pl.col(\"genres\"))\n",
    ").sample(3)"
   ]
  },
  {
   "cell_type": "code",
   "execution_count": null,
   "id": "20eec83b-3c15-408d-b676-f7eab35cd681",
   "metadata": {},
   "outputs": [],
   "source": []
  }
 ],
 "metadata": {
  "kernelspec": {
   "display_name": "movies",
   "language": "python",
   "name": "movies"
  },
  "language_info": {
   "codemirror_mode": {
    "name": "ipython",
    "version": 3
   },
   "file_extension": ".py",
   "mimetype": "text/x-python",
   "name": "python",
   "nbconvert_exporter": "python",
   "pygments_lexer": "ipython3",
   "version": "3.9.6"
  }
 },
 "nbformat": 4,
 "nbformat_minor": 5
}
