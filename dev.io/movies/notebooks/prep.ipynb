{
 "cells": [
  {
   "cell_type": "code",
   "execution_count": 10,
   "id": "b36b243c-0f3a-4073-a830-961d1773044e",
   "metadata": {},
   "outputs": [
    {
     "name": "stdout",
     "output_type": "stream",
     "text": [
      "Author: Prayson W. Daniel\n",
      "\n",
      "Last updated: 2024-10-18T19:08:28.635889+02:00\n",
      "\n",
      "Python implementation: CPython\n",
      "Python version       : 3.9.6\n",
      "IPython version      : 8.18.1\n",
      "\n",
      "duckdb      : 1.1.2\n",
      "pandas      : 2.2.3\n",
      "polars      : 1.9.0\n",
      "river       : 0.21.2\n",
      "scikit-learn: 1.5.2\n",
      "\n",
      "Compiler    : Clang 15.0.0 (clang-1500.3.9.4)\n",
      "OS          : Darwin\n",
      "Release     : 23.5.0\n",
      "Machine     : arm64\n",
      "Processor   : arm\n",
      "CPU cores   : 16\n",
      "Architecture: 64bit\n",
      "\n"
     ]
    }
   ],
   "source": [
    "%reload_ext watermark\n",
    "%watermark -uniz --author \"Prayson W. Daniel\" -vm -p duckdb,pandas,polars,river,scikit-learn"
   ]
  },
  {
   "cell_type": "markdown",
   "id": "94f6e449-1642-4dec-897c-d9ff4c6c4bc2",
   "metadata": {},
   "source": [
    "### Show me the money ... data"
   ]
  },
  {
   "cell_type": "code",
   "execution_count": 2,
   "id": "8fc361af-7d62-4a14-8b0d-80050ded84f6",
   "metadata": {},
   "outputs": [
    {
     "name": "stdout",
     "output_type": "stream",
     "text": [
      "/Users/pwd/Codes/hadithi/dev.io/movies\n"
     ]
    }
   ],
   "source": [
    "%cd .."
   ]
  },
  {
   "cell_type": "code",
   "execution_count": 11,
   "id": "b7196b65-1aef-48d2-a78b-669c07f37f84",
   "metadata": {},
   "outputs": [],
   "source": [
    "import duckdb\n",
    "import polars as pl"
   ]
  },
  {
   "cell_type": "code",
   "execution_count": 42,
   "id": "48a74914-ceaa-40ae-ab2e-91c549961f0d",
   "metadata": {},
   "outputs": [
    {
     "data": {
      "text/html": [
       "<div><style>\n",
       ".dataframe > thead > tr,\n",
       ".dataframe > tbody > tr {\n",
       "  text-align: right;\n",
       "  white-space: pre-wrap;\n",
       "}\n",
       "</style>\n",
       "<small>shape: (2_575, 14)</small><table border=\"1\" class=\"dataframe\"><thead><tr><th>title</th><th>overview</th><th>budget</th><th>popularity</th><th>belongs_to_collection</th><th>production_companies</th><th>production_countries</th><th>genres</th><th>release_date</th><th>runtime</th><th>status</th><th>actors</th><th>crew</th><th>revenue</th></tr><tr><td>str</td><td>str</td><td>i64</td><td>f64</td><td>str</td><td>str</td><td>str</td><td>str</td><td>date</td><td>i64</td><td>str</td><td>str</td><td>str</td><td>i64</td></tr></thead><tbody><tr><td>&quot;Hot Tub Time Machine 2&quot;</td><td>&quot;When Lou, who has become the &quot;…</td><td>14000000</td><td>6.575393</td><td>&quot;[{&#x27;id&#x27;: 313576, &#x27;name&#x27;: &#x27;Hot T…</td><td>&quot;[{&#x27;name&#x27;: &#x27;Paramount Pictures&#x27;…</td><td>&quot;[{&#x27;iso_3166_1&#x27;: &#x27;US&#x27;, &#x27;name&#x27;: …</td><td>&quot;[{&#x27;id&#x27;: 35, &#x27;name&#x27;: &#x27;Comedy&#x27;}]&quot;</td><td>2015-02-20</td><td>93</td><td>&quot;Released&quot;</td><td>&quot;[{&#x27;cast_id&#x27;: 4, &#x27;character&#x27;: &#x27;…</td><td>&quot;[{&#x27;credit_id&#x27;: &#x27;59ac067c925141…</td><td>12314651</td></tr><tr><td>&quot;The Princess Diaries 2: Royal …</td><td>&quot;Mia Thermopolis is now a colle…</td><td>40000000</td><td>8.248895</td><td>&quot;[{&#x27;id&#x27;: 107674, &#x27;name&#x27;: &#x27;The P…</td><td>&quot;[{&#x27;name&#x27;: &#x27;Walt Disney Picture…</td><td>&quot;[{&#x27;iso_3166_1&#x27;: &#x27;US&#x27;, &#x27;name&#x27;: …</td><td>&quot;[{&#x27;id&#x27;: 35, &#x27;name&#x27;: &#x27;Comedy&#x27;},…</td><td>2004-08-06</td><td>113</td><td>&quot;Released&quot;</td><td>&quot;[{&#x27;cast_id&#x27;: 1, &#x27;character&#x27;: &#x27;…</td><td>&quot;[{&#x27;credit_id&#x27;: &#x27;52fe43fe925141…</td><td>95149435</td></tr><tr><td>&quot;Whiplash&quot;</td><td>&quot;Under the direction of a ruthl…</td><td>3300000</td><td>64.29999</td><td>null</td><td>&quot;[{&#x27;name&#x27;: &#x27;Bold Films&#x27;, &#x27;id&#x27;: …</td><td>&quot;[{&#x27;iso_3166_1&#x27;: &#x27;US&#x27;, &#x27;name&#x27;: …</td><td>&quot;[{&#x27;id&#x27;: 18, &#x27;name&#x27;: &#x27;Drama&#x27;}]&quot;</td><td>2014-10-10</td><td>105</td><td>&quot;Released&quot;</td><td>&quot;[{&#x27;cast_id&#x27;: 5, &#x27;character&#x27;: &#x27;…</td><td>&quot;[{&#x27;credit_id&#x27;: &#x27;54d5356ec3a368…</td><td>13092000</td></tr><tr><td>&quot;Pinocchio and the Emperor of t…</td><td>&quot;Pinocchio and his friends, a g…</td><td>8000000</td><td>0.743274</td><td>null</td><td>null</td><td>null</td><td>&quot;[{&#x27;id&#x27;: 16, &#x27;name&#x27;: &#x27;Animation…</td><td>1987-08-06</td><td>83</td><td>&quot;Released&quot;</td><td>&quot;[{&#x27;cast_id&#x27;: 6, &#x27;character&#x27;: &#x27;…</td><td>&quot;[{&#x27;credit_id&#x27;: &#x27;52fe46f4925141…</td><td>3261638</td></tr><tr><td>&quot;The Possession&quot;</td><td>&quot;A young girl buys an antique b…</td><td>14000000</td><td>7.286477</td><td>null</td><td>&quot;[{&#x27;name&#x27;: &#x27;Ghost House Picture…</td><td>&quot;[{&#x27;iso_3166_1&#x27;: &#x27;US&#x27;, &#x27;name&#x27;: …</td><td>&quot;[{&#x27;id&#x27;: 27, &#x27;name&#x27;: &#x27;Horror&#x27;},…</td><td>2012-08-30</td><td>92</td><td>&quot;Released&quot;</td><td>&quot;[{&#x27;cast_id&#x27;: 23, &#x27;character&#x27;: …</td><td>&quot;[{&#x27;credit_id&#x27;: &#x27;52fe4981c3a368…</td><td>85446075</td></tr><tr><td>&hellip;</td><td>&hellip;</td><td>&hellip;</td><td>&hellip;</td><td>&hellip;</td><td>&hellip;</td><td>&hellip;</td><td>&hellip;</td><td>&hellip;</td><td>&hellip;</td><td>&hellip;</td><td>&hellip;</td><td>&hellip;</td><td>&hellip;</td></tr><tr><td>&quot;School Ties&quot;</td><td>&quot;When David Greene receives a f…</td><td>0</td><td>7.438381</td><td>null</td><td>&quot;[{&#x27;name&#x27;: &#x27;Paramount Pictures&#x27;…</td><td>&quot;[{&#x27;iso_3166_1&#x27;: &#x27;US&#x27;, &#x27;name&#x27;: …</td><td>&quot;[{&#x27;id&#x27;: 18, &#x27;name&#x27;: &#x27;Drama&#x27;}]&quot;</td><td>1992-09-18</td><td>106</td><td>&quot;Released&quot;</td><td>&quot;[{&#x27;cast_id&#x27;: 2, &#x27;character&#x27;: &#x27;…</td><td>&quot;[{&#x27;credit_id&#x27;: &#x27;5637777ac3a368…</td><td>14715067</td></tr><tr><td>&quot;Chasers&quot;</td><td>&quot;Military men Rock Reilly and E…</td><td>0</td><td>9.85327</td><td>null</td><td>&quot;[{&#x27;name&#x27;: &#x27;Warner Bros.&#x27;, &#x27;id&#x27;…</td><td>&quot;[{&#x27;iso_3166_1&#x27;: &#x27;US&#x27;, &#x27;name&#x27;: …</td><td>&quot;[{&#x27;id&#x27;: 35, &#x27;name&#x27;: &#x27;Comedy&#x27;},…</td><td>1994-04-22</td><td>102</td><td>&quot;Released&quot;</td><td>&quot;[{&#x27;cast_id&#x27;: 2, &#x27;character&#x27;: &#x27;…</td><td>&quot;[{&#x27;credit_id&#x27;: &#x27;52fe4494c3a368…</td><td>1596687</td></tr><tr><td>&quot;The Long Kiss Goodnight&quot;</td><td>&quot;Samantha Caine, suburban homem…</td><td>65000000</td><td>14.482345</td><td>null</td><td>&quot;[{&#x27;name&#x27;: &#x27;New Line Cinema&#x27;, &#x27;…</td><td>&quot;[{&#x27;iso_3166_1&#x27;: &#x27;US&#x27;, &#x27;name&#x27;: …</td><td>&quot;[{&#x27;id&#x27;: 80, &#x27;name&#x27;: &#x27;Crime&#x27;}, …</td><td>1996-10-11</td><td>120</td><td>&quot;Released&quot;</td><td>&quot;[{&#x27;cast_id&#x27;: 10, &#x27;character&#x27;: …</td><td>&quot;[{&#x27;credit_id&#x27;: &#x27;52fe443a925141…</td><td>89456761</td></tr><tr><td>&quot;Along Came Polly&quot;</td><td>&quot;Reuben Feffer is a guy who&#x27;s s…</td><td>42000000</td><td>15.725542</td><td>null</td><td>&quot;[{&#x27;name&#x27;: &#x27;Jersey Films&#x27;, &#x27;id&#x27;…</td><td>&quot;[{&#x27;iso_3166_1&#x27;: &#x27;US&#x27;, &#x27;name&#x27;: …</td><td>&quot;[{&#x27;id&#x27;: 35, &#x27;name&#x27;: &#x27;Comedy&#x27;},…</td><td>2004-01-16</td><td>90</td><td>&quot;Released&quot;</td><td>&quot;[{&#x27;cast_id&#x27;: 8, &#x27;character&#x27;: &#x27;…</td><td>&quot;[{&#x27;credit_id&#x27;: &#x27;556f817b925141…</td><td>171963386</td></tr><tr><td>&quot;Abduction&quot;</td><td>&quot;A young man sets out to uncove…</td><td>35000000</td><td>10.512109</td><td>null</td><td>&quot;[{&#x27;name&#x27;: &#x27;Lions Gate Films&#x27;, …</td><td>&quot;[{&#x27;iso_3166_1&#x27;: &#x27;US&#x27;, &#x27;name&#x27;: …</td><td>&quot;[{&#x27;id&#x27;: 53, &#x27;name&#x27;: &#x27;Thriller&#x27;…</td><td>2011-09-22</td><td>106</td><td>&quot;Released&quot;</td><td>&quot;[{&#x27;cast_id&#x27;: 2, &#x27;character&#x27;: &#x27;…</td><td>&quot;[{&#x27;credit_id&#x27;: &#x27;5391990d0e0a26…</td><td>82087155</td></tr></tbody></table></div>"
      ],
      "text/plain": [
       "shape: (2_575, 14)\n",
       "┌────────────┬───────────┬──────────┬───────────┬───┬──────────┬───────────┬───────────┬───────────┐\n",
       "│ title      ┆ overview  ┆ budget   ┆ popularit ┆ … ┆ status   ┆ actors    ┆ crew      ┆ revenue   │\n",
       "│ ---        ┆ ---       ┆ ---      ┆ y         ┆   ┆ ---      ┆ ---       ┆ ---       ┆ ---       │\n",
       "│ str        ┆ str       ┆ i64      ┆ ---       ┆   ┆ str      ┆ str       ┆ str       ┆ i64       │\n",
       "│            ┆           ┆          ┆ f64       ┆   ┆          ┆           ┆           ┆           │\n",
       "╞════════════╪═══════════╪══════════╪═══════════╪═══╪══════════╪═══════════╪═══════════╪═══════════╡\n",
       "│ Hot Tub    ┆ When Lou, ┆ 14000000 ┆ 6.575393  ┆ … ┆ Released ┆ [{'cast_i ┆ [{'credit ┆ 12314651  │\n",
       "│ Time       ┆ who has   ┆          ┆           ┆   ┆          ┆ d': 4,    ┆ _id': '59 ┆           │\n",
       "│ Machine 2  ┆ become    ┆          ┆           ┆   ┆          ┆ 'characte ┆ ac067c925 ┆           │\n",
       "│            ┆ the \"…    ┆          ┆           ┆   ┆          ┆ r': '…    ┆ 141…      ┆           │\n",
       "│ The        ┆ Mia Therm ┆ 40000000 ┆ 8.248895  ┆ … ┆ Released ┆ [{'cast_i ┆ [{'credit ┆ 95149435  │\n",
       "│ Princess   ┆ opolis is ┆          ┆           ┆   ┆          ┆ d': 1,    ┆ _id': '52 ┆           │\n",
       "│ Diaries 2: ┆ now a     ┆          ┆           ┆   ┆          ┆ 'characte ┆ fe43fe925 ┆           │\n",
       "│ Royal …    ┆ colle…    ┆          ┆           ┆   ┆          ┆ r': '…    ┆ 141…      ┆           │\n",
       "│ Whiplash   ┆ Under the ┆ 3300000  ┆ 64.29999  ┆ … ┆ Released ┆ [{'cast_i ┆ [{'credit ┆ 13092000  │\n",
       "│            ┆ direction ┆          ┆           ┆   ┆          ┆ d': 5,    ┆ _id': '54 ┆           │\n",
       "│            ┆ of a      ┆          ┆           ┆   ┆          ┆ 'characte ┆ d5356ec3a ┆           │\n",
       "│            ┆ ruthl…    ┆          ┆           ┆   ┆          ┆ r': '…    ┆ 368…      ┆           │\n",
       "│ Pinocchio  ┆ Pinocchio ┆ 8000000  ┆ 0.743274  ┆ … ┆ Released ┆ [{'cast_i ┆ [{'credit ┆ 3261638   │\n",
       "│ and the    ┆ and his   ┆          ┆           ┆   ┆          ┆ d': 6,    ┆ _id': '52 ┆           │\n",
       "│ Emperor of ┆ friends,  ┆          ┆           ┆   ┆          ┆ 'characte ┆ fe46f4925 ┆           │\n",
       "│ t…         ┆ a g…      ┆          ┆           ┆   ┆          ┆ r': '…    ┆ 141…      ┆           │\n",
       "│ The        ┆ A young   ┆ 14000000 ┆ 7.286477  ┆ … ┆ Released ┆ [{'cast_i ┆ [{'credit ┆ 85446075  │\n",
       "│ Possession ┆ girl buys ┆          ┆           ┆   ┆          ┆ d': 23,   ┆ _id': '52 ┆           │\n",
       "│            ┆ an        ┆          ┆           ┆   ┆          ┆ 'characte ┆ fe4981c3a ┆           │\n",
       "│            ┆ antique   ┆          ┆           ┆   ┆          ┆ r': …     ┆ 368…      ┆           │\n",
       "│            ┆ b…        ┆          ┆           ┆   ┆          ┆           ┆           ┆           │\n",
       "│ …          ┆ …         ┆ …        ┆ …         ┆ … ┆ …        ┆ …         ┆ …         ┆ …         │\n",
       "│ School     ┆ When      ┆ 0        ┆ 7.438381  ┆ … ┆ Released ┆ [{'cast_i ┆ [{'credit ┆ 14715067  │\n",
       "│ Ties       ┆ David     ┆          ┆           ┆   ┆          ┆ d': 2,    ┆ _id': '56 ┆           │\n",
       "│            ┆ Greene    ┆          ┆           ┆   ┆          ┆ 'characte ┆ 37777ac3a ┆           │\n",
       "│            ┆ receives  ┆          ┆           ┆   ┆          ┆ r': '…    ┆ 368…      ┆           │\n",
       "│            ┆ a f…      ┆          ┆           ┆   ┆          ┆           ┆           ┆           │\n",
       "│ Chasers    ┆ Military  ┆ 0        ┆ 9.85327   ┆ … ┆ Released ┆ [{'cast_i ┆ [{'credit ┆ 1596687   │\n",
       "│            ┆ men Rock  ┆          ┆           ┆   ┆          ┆ d': 2,    ┆ _id': '52 ┆           │\n",
       "│            ┆ Reilly    ┆          ┆           ┆   ┆          ┆ 'characte ┆ fe4494c3a ┆           │\n",
       "│            ┆ and E…    ┆          ┆           ┆   ┆          ┆ r': '…    ┆ 368…      ┆           │\n",
       "│ The Long   ┆ Samantha  ┆ 65000000 ┆ 14.482345 ┆ … ┆ Released ┆ [{'cast_i ┆ [{'credit ┆ 89456761  │\n",
       "│ Kiss       ┆ Caine,    ┆          ┆           ┆   ┆          ┆ d': 10,   ┆ _id': '52 ┆           │\n",
       "│ Goodnight  ┆ suburban  ┆          ┆           ┆   ┆          ┆ 'characte ┆ fe443a925 ┆           │\n",
       "│            ┆ homem…    ┆          ┆           ┆   ┆          ┆ r': …     ┆ 141…      ┆           │\n",
       "│ Along Came ┆ Reuben    ┆ 42000000 ┆ 15.725542 ┆ … ┆ Released ┆ [{'cast_i ┆ [{'credit ┆ 171963386 │\n",
       "│ Polly      ┆ Feffer is ┆          ┆           ┆   ┆          ┆ d': 8,    ┆ _id': '55 ┆           │\n",
       "│            ┆ a guy     ┆          ┆           ┆   ┆          ┆ 'characte ┆ 6f817b925 ┆           │\n",
       "│            ┆ who's s…  ┆          ┆           ┆   ┆          ┆ r': '…    ┆ 141…      ┆           │\n",
       "│ Abduction  ┆ A young   ┆ 35000000 ┆ 10.512109 ┆ … ┆ Released ┆ [{'cast_i ┆ [{'credit ┆ 82087155  │\n",
       "│            ┆ man sets  ┆          ┆           ┆   ┆          ┆ d': 2,    ┆ _id': '53 ┆           │\n",
       "│            ┆ out to    ┆          ┆           ┆   ┆          ┆ 'characte ┆ 91990d0e0 ┆           │\n",
       "│            ┆ uncove…   ┆          ┆           ┆   ┆          ┆ r': '…    ┆ a26…      ┆           │\n",
       "└────────────┴───────────┴──────────┴───────────┴───┴──────────┴───────────┴───────────┴───────────┘"
      ]
     },
     "execution_count": 42,
     "metadata": {},
     "output_type": "execute_result"
    }
   ],
   "source": [
    "duckdb.sql(\n",
    "    \"\"\"\n",
    "    SELECT \n",
    "        original_title AS title\n",
    "       ,overview\n",
    "       ,budget\n",
    "       ,popularity\n",
    "       ,belongs_to_collection\n",
    "       ,production_companies\n",
    "       ,production_countries\n",
    "       ,genres\n",
    "       ,release_date\n",
    "       ,runtime\n",
    "       ,status\n",
    "       ,\"cast\" AS actors\n",
    "       ,crew\n",
    "      ,revenue\n",
    "    \n",
    "    FROM read_csv('data/train.csv')\n",
    "    WHERE original_language = 'en'\n",
    "   \"\"\"\n",
    ").pl()"
   ]
  },
  {
   "cell_type": "code",
   "execution_count": null,
   "id": "9dbfb7d9-7f34-4ea3-a39a-74a9ceec1304",
   "metadata": {},
   "outputs": [],
   "source": []
  }
 ],
 "metadata": {
  "kernelspec": {
   "display_name": "movies",
   "language": "python",
   "name": "movies"
  },
  "language_info": {
   "codemirror_mode": {
    "name": "ipython",
    "version": 3
   },
   "file_extension": ".py",
   "mimetype": "text/x-python",
   "name": "python",
   "nbconvert_exporter": "python",
   "pygments_lexer": "ipython3",
   "version": "3.9.6"
  }
 },
 "nbformat": 4,
 "nbformat_minor": 5
}
