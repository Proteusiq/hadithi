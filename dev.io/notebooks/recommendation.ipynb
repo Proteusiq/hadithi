{
 "cells": [
  {
   "cell_type": "code",
   "execution_count": 1,
   "id": "6226f653-6266-4b85-a45f-3e6aaec0daa2",
   "metadata": {
    "tags": []
   },
   "outputs": [
    {
     "name": "stdout",
     "output_type": "stream",
     "text": [
      "/home/prayson/Code/hadithi/dev.io\n"
     ]
    }
   ],
   "source": [
    "%cd .."
   ]
  },
  {
   "cell_type": "code",
   "execution_count": 172,
   "id": "5364976d-cf63-45f0-9556-7a8c9c5acb18",
   "metadata": {
    "tags": []
   },
   "outputs": [],
   "source": [
    "from pathlib import Path\n",
    "from zipfile import ZipFile\n",
    "\n",
    "from httpx import AsyncClient, Client\n",
    "from mimesis import Person\n",
    "from mimesis.locales import Locale\n",
    "import jmespath\n",
    "import pandas as pd"
   ]
  },
  {
   "cell_type": "code",
   "execution_count": 89,
   "id": "79f07e7d-bab4-41e1-b205-903a849a5df0",
   "metadata": {
    "tags": []
   },
   "outputs": [],
   "source": [
    "MIMESIS_LOCALE_URL = \"https://mimesis.name/en/master/locales.html#overriding-locale\"\n",
    "COUNTRY_CODE_CSV = \"assets/languages.csv\"\n",
    "[language_codes, *_] = pd.read_html(MIMESIS_LOCALE_URL)\n",
    "country_codes = pd.read_csv(COUNTRY_CODE_CSV, usecols=[\"Country\", \"Two Letter\"])"
   ]
  },
  {
   "cell_type": "code",
   "execution_count": 110,
   "id": "afe65fc8-538e-4a1f-a56a-56646b5ecb0a",
   "metadata": {
    "tags": []
   },
   "outputs": [],
   "source": [
    "country_iso = (\n",
    "    country_codes\n",
    "     .transform(lambda d: d.str.lower())\n",
    "     .rename(columns={\"Country\": \"country\", \"Two Letter\":\"code\"})\n",
    "     #.drop_duplicates(subset=[\"country\"], keep=\"first\")\n",
    "     .assign(code = lambda d: d[\"code\"].str.split(\"-\").str[0])\n",
    "     .query(\"code != 'en'\")\n",
    ")"
   ]
  },
  {
   "cell_type": "code",
   "execution_count": 111,
   "id": "6b6008ec-825e-4906-81f8-f0dab6884c13",
   "metadata": {
    "tags": []
   },
   "outputs": [],
   "source": [
    "country_language = (language_codes[[\"Code\", \"Name\"]]\n",
    "     .transform(lambda d: d.str.lower())\n",
    "     .merge(country_iso, how=\"left\", left_on=\"Code\", right_on=\"code\")\n",
    "     .dropna(subset=[\"country\", \"code\"])\n",
    "     .loc[:, [\"code\", \"country\"]]\n",
    "     .set_index(\"country\")\n",
    "     .to_dict()\n",
    "     .get(\"code\")\n",
    "\n",
    ")"
   ]
  },
  {
   "cell_type": "code",
   "execution_count": 5,
   "id": "5968d983-9292-45af-824d-2ab832840322",
   "metadata": {
    "tags": []
   },
   "outputs": [
    {
     "name": "stdout",
     "output_type": "stream",
     "text": [
      "['Books.csv', 'Ratings.csv', 'Users.csv', 'recsys_taxonomy2.png']\n"
     ]
    }
   ],
   "source": [
    "DATA_DIR = Path(\"assets/books.zip\")\n",
    "\n",
    "with ZipFile(DATA_DIR) as z:\n",
    "    print(z.namelist())\n",
    "    files = (file for file in z.namelist() if Path(file).suffix == \".csv\")\n",
    "    data = {Path(file).stem.lower(): pd.read_csv(z.extract(file),low_memory=False) for file in files}     "
   ]
  },
  {
   "cell_type": "code",
   "execution_count": 140,
   "id": "1393c5ca-3e46-41e3-91e2-92e01ec8cb66",
   "metadata": {
    "tags": []
   },
   "outputs": [],
   "source": [
    "\n",
    "def get_name(language:str) -> str:\n",
    "    person = Person(language)\n",
    "    return person.full_name()\n"
   ]
  },
  {
   "cell_type": "raw",
   "id": "217309d0-558b-4502-a902-df006d92eab4",
   "metadata": {
    "tags": []
   },
   "source": [
    "%%time\n",
    "# takes ~ 2 min 20 sec\n",
    "users = (data[\"users\"]\n",
    "   .rename(columns={\"User-ID\": \"user_id\", \"Location\":\"location\", \"Age\":\"age\"})\n",
    "   .assign(country = lambda d: d[\"location\"].str.split(\", \").str[-1].str.strip(\",.\"),\n",
    "          language = lambda d: d[\"country\"].transform(country_language.get))\n",
    "  .fillna(value={'language': \"en\"})\n",
    "  .assign(fake_name = lambda d: d[\"language\"].map(get_name))\n",
    "  .loc[:,[\"user_id\", \"fake_name\", \"location\", \"age\"]]\n",
    ")\n",
    "\n",
    "users.to_csv(\"assets/users.csv\", index=False)"
   ]
  },
  {
   "cell_type": "code",
   "execution_count": 156,
   "id": "f9c031fa-dfb9-4777-8c22-53cb94f1daad",
   "metadata": {
    "tags": []
   },
   "outputs": [],
   "source": [
    "users = pd.read_csv(\"assets/users.csv\", dtype_backend=\"pyarrow\", dtype={\"age\":\"Int64\"})"
   ]
  },
  {
   "cell_type": "code",
   "execution_count": 157,
   "id": "53e5912d-9e0f-4898-9989-e577f7a249ef",
   "metadata": {
    "tags": []
   },
   "outputs": [
    {
     "data": {
      "text/html": [
       "<div>\n",
       "<style scoped>\n",
       "    .dataframe tbody tr th:only-of-type {\n",
       "        vertical-align: middle;\n",
       "    }\n",
       "\n",
       "    .dataframe tbody tr th {\n",
       "        vertical-align: top;\n",
       "    }\n",
       "\n",
       "    .dataframe thead th {\n",
       "        text-align: right;\n",
       "    }\n",
       "</style>\n",
       "<table border=\"1\" class=\"dataframe\">\n",
       "  <thead>\n",
       "    <tr style=\"text-align: right;\">\n",
       "      <th></th>\n",
       "      <th>user_id</th>\n",
       "      <th>fake_name</th>\n",
       "      <th>location</th>\n",
       "      <th>age</th>\n",
       "    </tr>\n",
       "  </thead>\n",
       "  <tbody>\n",
       "    <tr>\n",
       "      <th>0</th>\n",
       "      <td>1</td>\n",
       "      <td>Catrice Riggs</td>\n",
       "      <td>nyc, new york, usa</td>\n",
       "      <td>&lt;NA&gt;</td>\n",
       "    </tr>\n",
       "    <tr>\n",
       "      <th>1</th>\n",
       "      <td>2</td>\n",
       "      <td>Johnson Colon</td>\n",
       "      <td>stockton, california, usa</td>\n",
       "      <td>18</td>\n",
       "    </tr>\n",
       "    <tr>\n",
       "      <th>2</th>\n",
       "      <td>3</td>\n",
       "      <td>Лолита Кузьмин</td>\n",
       "      <td>moscow, yukon territory, russia</td>\n",
       "      <td>&lt;NA&gt;</td>\n",
       "    </tr>\n",
       "    <tr>\n",
       "      <th>3</th>\n",
       "      <td>4</td>\n",
       "      <td>Abraim Melo</td>\n",
       "      <td>porto, v.n.gaia, portugal</td>\n",
       "      <td>17</td>\n",
       "    </tr>\n",
       "    <tr>\n",
       "      <th>4</th>\n",
       "      <td>5</td>\n",
       "      <td>Barton King</td>\n",
       "      <td>farnborough, hants, united kingdom</td>\n",
       "      <td>&lt;NA&gt;</td>\n",
       "    </tr>\n",
       "    <tr>\n",
       "      <th>...</th>\n",
       "      <td>...</td>\n",
       "      <td>...</td>\n",
       "      <td>...</td>\n",
       "      <td>...</td>\n",
       "    </tr>\n",
       "    <tr>\n",
       "      <th>278853</th>\n",
       "      <td>278854</td>\n",
       "      <td>Renaldo Gomez</td>\n",
       "      <td>portland, oregon, usa</td>\n",
       "      <td>&lt;NA&gt;</td>\n",
       "    </tr>\n",
       "    <tr>\n",
       "      <th>278854</th>\n",
       "      <td>278855</td>\n",
       "      <td>Elizbeth Bird</td>\n",
       "      <td>tacoma, washington, united kingdom</td>\n",
       "      <td>50</td>\n",
       "    </tr>\n",
       "    <tr>\n",
       "      <th>278855</th>\n",
       "      <td>278856</td>\n",
       "      <td>Arda Guichard</td>\n",
       "      <td>brampton, ontario, canada</td>\n",
       "      <td>&lt;NA&gt;</td>\n",
       "    </tr>\n",
       "    <tr>\n",
       "      <th>278856</th>\n",
       "      <td>278857</td>\n",
       "      <td>Clifford Erickson</td>\n",
       "      <td>knoxville, tennessee, usa</td>\n",
       "      <td>&lt;NA&gt;</td>\n",
       "    </tr>\n",
       "    <tr>\n",
       "      <th>278857</th>\n",
       "      <td>278858</td>\n",
       "      <td>Delbert Petersen</td>\n",
       "      <td>dublin, n/a, ireland</td>\n",
       "      <td>&lt;NA&gt;</td>\n",
       "    </tr>\n",
       "  </tbody>\n",
       "</table>\n",
       "<p>278858 rows × 4 columns</p>\n",
       "</div>"
      ],
      "text/plain": [
       "        user_id          fake_name                            location   age\n",
       "0             1      Catrice Riggs                  nyc, new york, usa  <NA>\n",
       "1             2      Johnson Colon           stockton, california, usa    18\n",
       "2             3     Лолита Кузьмин     moscow, yukon territory, russia  <NA>\n",
       "3             4        Abraim Melo           porto, v.n.gaia, portugal    17\n",
       "4             5        Barton King  farnborough, hants, united kingdom  <NA>\n",
       "...         ...                ...                                 ...   ...\n",
       "278853   278854      Renaldo Gomez               portland, oregon, usa  <NA>\n",
       "278854   278855      Elizbeth Bird  tacoma, washington, united kingdom    50\n",
       "278855   278856      Arda Guichard           brampton, ontario, canada  <NA>\n",
       "278856   278857  Clifford Erickson           knoxville, tennessee, usa  <NA>\n",
       "278857   278858   Delbert Petersen                dublin, n/a, ireland  <NA>\n",
       "\n",
       "[278858 rows x 4 columns]"
      ]
     },
     "execution_count": 157,
     "metadata": {},
     "output_type": "execute_result"
    }
   ],
   "source": [
    "users"
   ]
  },
  {
   "cell_type": "code",
   "execution_count": 221,
   "id": "ee085865-0af9-41ac-b45e-55a6e62af572",
   "metadata": {
    "tags": []
   },
   "outputs": [],
   "source": [
    "client = Client(base_url=\"https://openlibrary.org/api\")\n",
    "ISBN = \"0140301690\"\n",
    "r = client.get(url=\"/books\", params={\"bibkeys\": f\"ISBN:{ISBN}\", \"format\":\"json\"}, timeout=10)"
   ]
  },
  {
   "cell_type": "code",
   "execution_count": 222,
   "id": "c88ad219-f049-40fc-b157-390680c12ce4",
   "metadata": {
    "tags": []
   },
   "outputs": [
    {
     "data": {
      "text/plain": [
       "{'ISBN:0140301690': {'bib_key': 'ISBN:0140301690',\n",
       "  'info_url': \"https://openlibrary.org/books/OL26336110M/Alice's_Adventures_in_Wonderland\",\n",
       "  'preview': 'borrow',\n",
       "  'preview_url': 'https://archive.org/details/isbn_0140301690',\n",
       "  'thumbnail_url': 'https://covers.openlibrary.org/b/id/8596023-S.jpg'}}"
      ]
     },
     "execution_count": 222,
     "metadata": {},
     "output_type": "execute_result"
    }
   ],
   "source": [
    "b = r.json()\n",
    "b"
   ]
  },
  {
   "cell_type": "code",
   "execution_count": 223,
   "id": "389225cb-13a3-455c-8531-03932fcee3bc",
   "metadata": {
    "tags": []
   },
   "outputs": [],
   "source": [
    "open_client = Client(base_url=\"https://openlibrary.org\")"
   ]
  },
  {
   "cell_type": "code",
   "execution_count": 224,
   "id": "7375ee94-ce03-45b5-8aab-f1deeda99ae8",
   "metadata": {
    "tags": []
   },
   "outputs": [
    {
     "data": {
      "text/plain": [
       "<Response [200 OK]>"
      ]
     },
     "execution_count": 224,
     "metadata": {},
     "output_type": "execute_result"
    }
   ],
   "source": [
    "[url, *_] = jmespath.search(\"*.info_url\", b)\n",
    "work = url.split(\"/\")[-2]\n",
    "\n",
    "r = open_client.get(f\"/books/{work}.json\", timeout=10)\n",
    "r"
   ]
  },
  {
   "cell_type": "code",
   "execution_count": 225,
   "id": "193d2644-fa66-4a6e-8cbc-5d04767a0352",
   "metadata": {
    "tags": []
   },
   "outputs": [
    {
     "data": {
      "text/plain": [
       "{'notes': '\"Text of this edition of Alice in Wonderland is that of the first edition.\"',\n",
       " 'identifiers': {'google': ['9hOE1JPD3'], 'goodreads': ['11491198']},\n",
       " 'title': \"Alice's Adventures in Wonderland\",\n",
       " 'subtitle': 'and Through the Looking-Glass',\n",
       " 'authors': [{'key': '/authors/OL22098A'}],\n",
       " 'publish_date': '/1970',\n",
       " 'other_titles': ['Through the looking-glass.'],\n",
       " 'publishers': ['Puffin Books'],\n",
       " 'covers': [8596023],\n",
       " 'physical_format': 'Paperback',\n",
       " 'full_title': \"Alice's adventures in Wonderland and Through the looking glass\",\n",
       " 'publish_places': ['London, England'],\n",
       " 'contributions': ['Tenniel, John, 1820-1914, illustrator'],\n",
       " 'pagination': '345 pages :',\n",
       " 'source_records': ['ia:isbn_0140301690', 'bwb:9780140301694'],\n",
       " 'work_titles': [\"Alice's adventures in Wonderland\"],\n",
       " 'languages': [{'key': '/languages/eng'}],\n",
       " 'subjects': ['Fantasy'],\n",
       " 'publish_country': 'enk',\n",
       " 'by_statement': 'by Lewis Carroll ; with ninety-two illustrations by John Tenniel',\n",
       " 'type': {'key': '/type/edition'},\n",
       " 'key': '/books/OL26336110M',\n",
       " 'number_of_pages': 345,\n",
       " 'works': [{'key': '/works/OL151411W'}],\n",
       " 'ocaid': 'isbn_0140301690',\n",
       " 'isbn_10': ['0140301690'],\n",
       " 'isbn_13': ['9780140301694'],\n",
       " 'oclc_numbers': ['2559934', '496102211'],\n",
       " 'classifications': {},\n",
       " 'dewey_decimal_class': ['823.8'],\n",
       " 'lc_classifications': ['PR4611 .A5 1962'],\n",
       " 'description': {'type': '/type/text',\n",
       "  'value': 'Follow Alice into the magical world of Wonderland!\\r\\n\\r\\nBetween the covers of this book, you will meet all the unforgettable characters of Wonderland and the Looking-glass world: the White Rabbit, of course, and the Mad Hatter, the Duchess, the King and Queen of Hearts, the Cheshire Cat who disappears leaving only his grin behind him. Humpty Dumpty, Tweedledum and Tweedledee, the dotty White Knight with his extraordinary inventions, and many, many more.\\r\\n\\r\\nNothing is ordinary in these curious new worlds that Alice finds herself in, worlds which are full of the most wonderful surprises!\\r\\n--back cover'},\n",
       " 'edition_name': 'printing (31)',\n",
       " 'latest_revision': 8,\n",
       " 'revision': 8,\n",
       " 'created': {'type': '/type/datetime', 'value': '2017-06-24T10:50:11.004142'},\n",
       " 'last_modified': {'type': '/type/datetime',\n",
       "  'value': '2022-12-17T12:07:38.749430'}}"
      ]
     },
     "execution_count": 225,
     "metadata": {},
     "output_type": "execute_result"
    }
   ],
   "source": [
    "r.json()"
   ]
  },
  {
   "cell_type": "code",
   "execution_count": 226,
   "id": "3deea33d-2727-4215-96be-9d72d17770f8",
   "metadata": {
    "tags": []
   },
   "outputs": [
    {
     "data": {
      "text/plain": [
       "<Response [200 OK]>"
      ]
     },
     "execution_count": 226,
     "metadata": {},
     "output_type": "execute_result"
    }
   ],
   "source": [
    "b = r.json()\n",
    "\n",
    "g = open_client.get(url=f'{b.get(\"works\")[0].get(\"key\")}.json', timeout=10)\n",
    "g"
   ]
  },
  {
   "cell_type": "code",
   "execution_count": 227,
   "id": "ffdf4e08-b029-4708-b9eb-eee6b54fb851",
   "metadata": {
    "tags": []
   },
   "outputs": [
    {
     "data": {
      "text/plain": [
       "{'title': \"Alice's Adventures in Wonderland / Through the Looking Glass\",\n",
       " 'key': '/works/OL151411W',\n",
       " 'authors': [{'author': {'key': '/authors/OL22098A'},\n",
       "   'type': {'key': '/type/author_role'}}],\n",
       " 'type': {'key': '/type/work'},\n",
       " 'description': \"A very real little girl named Alice follows a remarkable rabbit down a rabbit hole and steps through a looking-glass to come face to face with some of the strangest adventures and some of the oddest characters in all literature. The crusty Duchess, the Mad Hatter, the weeping Mock Turtle, the diabolical Queen of Hearts, the Cheshire-Cat, Tweedledum and Tweedledee--each one is more eccentric, and more entertaining, than the last. And all of them could only have come from the pen of Lewis Carroll, one of the few adults ever to enter successfully the children's world of make-believe--a wonderland where the impossible becomes possible, the unreal, real...where the heights of adventure are limited only by the depths of imagination.\\r\\n--back cover\\r\\n\\r\\nContains:\\r\\n\\r\\n - [Alice's Adventures in Wonderland](https://openlibrary.org/works/OL8193508W)\\r\\n - [Through the Looking Glass, and What Alice Found There][2]\\r\\n\\r\\n  [2]: https://openlibrary.org/works/OL15298516W\",\n",
       " 'covers': [8595966,\n",
       "  -1,\n",
       "  8753472,\n",
       "  8786861,\n",
       "  8788092,\n",
       "  9084675,\n",
       "  10079268,\n",
       "  10217390,\n",
       "  10376513,\n",
       "  10454681,\n",
       "  8570634,\n",
       "  8763935,\n",
       "  10499727,\n",
       "  8784319,\n",
       "  9374346,\n",
       "  8787073,\n",
       "  9341993,\n",
       "  8750357,\n",
       "  2324429,\n",
       "  10278483,\n",
       "  10728252,\n",
       "  11717944,\n",
       "  12058045,\n",
       "  12370044,\n",
       "  12608560,\n",
       "  12661074,\n",
       "  12734147,\n",
       "  11284528,\n",
       "  12829918,\n",
       "  12921669,\n",
       "  12990001,\n",
       "  13617774,\n",
       "  12325381,\n",
       "  13499671,\n",
       "  13527761,\n",
       "  13521497,\n",
       "  13476750],\n",
       " 'subject_places': ['Wonderland'],\n",
       " 'subjects': ['adventure and adventurers',\n",
       "  'adventure and adventurers, fiction',\n",
       "  'adventure stories',\n",
       "  'adventure travel',\n",
       "  'animals',\n",
       "  'anthropomorphism',\n",
       "  \"artists' illustrated books\",\n",
       "  'books and reading',\n",
       "  'british and irish fiction (fictional works by one author)',\n",
       "  'child and youth fiction',\n",
       "  'children',\n",
       "  \"children's fiction\",\n",
       "  \"children's literature\",\n",
       "  \"children's literature, english\",\n",
       "  \"children's stories\",\n",
       "  \"children's stories, english\",\n",
       "  'classic literature',\n",
       "  'classics',\n",
       "  'croquet',\n",
       "  'curiosity',\n",
       "  'curiosity in children',\n",
       "  'english',\n",
       "  'english adventure stories',\n",
       "  'english fantastic fiction',\n",
       "  'english fantasy fiction',\n",
       "  'english fantasy literature',\n",
       "  'english language',\n",
       "  'english literature',\n",
       "  'english nonsense verses',\n",
       "  'fairy tales',\n",
       "  'fantasy',\n",
       "  'fantasy & magic',\n",
       "  'fantasy fiction',\n",
       "  'fantasy in fiction',\n",
       "  'fantasy  magic',\n",
       "  'fiction',\n",
       "  'friendship',\n",
       "  'girls',\n",
       "  'girls, fiction',\n",
       "  'hookahs',\n",
       "  'humor',\n",
       "  'humorous stories',\n",
       "  'illustrations',\n",
       "  'imaginary places',\n",
       "  'imagination & play',\n",
       "  'juvenile fiction',\n",
       "  'juvenile literature',\n",
       "  'legends',\n",
       "  'literary nonsense',\n",
       "  'logic',\n",
       "  'mythical animals',\n",
       "  'nonsense verses',\n",
       "  'playing cards',\n",
       "  'rabbits',\n",
       "  'readers',\n",
       "  'reading materials',\n",
       "  'short novel',\n",
       "  'tea',\n",
       "  'texts',\n",
       "  'Specimens',\n",
       "  'Textual Criticism',\n",
       "  'Criticism and interpretation',\n",
       "  'Open Library Staff Picks',\n",
       "  'Ficción juvenil',\n",
       "  'Novela fantástica',\n",
       "  'Portuguese language materials',\n",
       "  'Fantasía',\n",
       "  'History',\n",
       "  'History and criticism',\n",
       "  'CHR 1960',\n",
       "  'PRO Tehon, Susan (donor)',\n",
       "  'Alice (Fictitious character : Carroll)',\n",
       "  'PRO Tehon, Atha (former owner) (Tehon Collection copy)',\n",
       "  'Littérature anglaise',\n",
       "  '18.05 English literature',\n",
       "  'Alice (fictitious character : carroll), fiction',\n",
       "  'Fiction, fantasy, general',\n",
       "  'Fiction in English',\n",
       "  'Carroll, lewis, 1832-1898',\n",
       "  'Large type books',\n",
       "  'Translations into French',\n",
       "  'JUVENILE FICTION / Action & Adventure / General',\n",
       "  'JUVENILE FICTION / Classics',\n",
       "  'JUVENILE FICTION / Fairy Tales & Folklore / Adaptations',\n",
       "  'English fiction (collections), 20th century',\n",
       "  'Rabbits, fiction',\n",
       "  'English fiction',\n",
       "  'Picture books',\n",
       "  'Alice (Fictitious character)',\n",
       "  'Accessible book',\n",
       "  'Condensed books',\n",
       "  'Through the looking glass',\n",
       "  \"Alice's adventures in Wonderland (Carroll, Lewis)\",\n",
       "  'Through the looking-glass (Carroll, Lewis)',\n",
       "  'Literature',\n",
       "  'Translations into Polish',\n",
       "  'Imaginary Voyages',\n",
       "  'Literatură engleză',\n",
       "  'Roman',\n",
       "  'Literatură pentru copii',\n",
       "  'Novela fantástica inglesa',\n",
       "  'Traducciones al español',\n",
       "  'Literatura inglesa',\n",
       "  'Flickor',\n",
       "  'Barn- och ungdomslitteratur',\n",
       "  'Drömmar',\n",
       "  'Fantasiresor',\n",
       "  'Parallella världar',\n",
       "  'Fiction, general',\n",
       "  'Philosophy',\n",
       "  'Literature, collections',\n",
       "  'Juvenile fiction',\n",
       "  \"Children's fiction\",\n",
       "  'Fantasy fiction',\n",
       "  'British and irish fiction (fictional works by one author)',\n",
       "  'Fantasy'],\n",
       " 'subject_people': ['Alice',\n",
       "  'Bill',\n",
       "  'Caterpillar',\n",
       "  'Dodo',\n",
       "  'Dormouse',\n",
       "  'Duchess',\n",
       "  'Fish-Footman',\n",
       "  'Frog-Footman',\n",
       "  'Gryphon',\n",
       "  'Hatter',\n",
       "  'King of Hearts',\n",
       "  'Knave of Hearts',\n",
       "  'March Hare',\n",
       "  'Mary Ann',\n",
       "  'Mock Turtle',\n",
       "  'Mouse',\n",
       "  'Queen of Hearts',\n",
       "  'Tweedledee',\n",
       "  'Tweedledum',\n",
       "  'White Rabbit',\n",
       "  'William the Conqueror',\n",
       "  'Alice (Fictitious character from Carroll)',\n",
       "  'Lewis Carroll (1832-1898)'],\n",
       " 'first_publish_date': '1968',\n",
       " 'lc_classifications': ['PZ8.D666 A122'],\n",
       " 'dewey_number': ['823/.8', 'Fic'],\n",
       " 'location': '/works/OL9770557W',\n",
       " 'subject_times': ['Siglo XIX'],\n",
       " 'latest_revision': 117,\n",
       " 'revision': 117,\n",
       " 'created': {'type': '/type/datetime', 'value': '2009-10-19T23:22:20.267455'},\n",
       " 'last_modified': {'type': '/type/datetime',\n",
       "  'value': '2023-07-23T04:35:30.299013'}}"
      ]
     },
     "execution_count": 227,
     "metadata": {},
     "output_type": "execute_result"
    }
   ],
   "source": [
    "g.json()"
   ]
  },
  {
   "cell_type": "code",
   "execution_count": 158,
   "id": "5e45f299-bb04-4d1f-bd0c-d7b7c3aa3eae",
   "metadata": {
    "tags": []
   },
   "outputs": [],
   "source": [
    "# https://openlibrary.org/works/OL18020194W/bookshelves.json\n",
    "# https://openlibrary.org/works/OL18020194W/ratings.json"
   ]
  },
  {
   "cell_type": "code",
   "execution_count": 220,
   "id": "5dcb0ca1-f358-4c9a-ae90-3ae35c5c9848",
   "metadata": {
    "tags": []
   },
   "outputs": [
    {
     "data": {
      "text/html": [
       "<div>\n",
       "<style scoped>\n",
       "    .dataframe tbody tr th:only-of-type {\n",
       "        vertical-align: middle;\n",
       "    }\n",
       "\n",
       "    .dataframe tbody tr th {\n",
       "        vertical-align: top;\n",
       "    }\n",
       "\n",
       "    .dataframe thead th {\n",
       "        text-align: right;\n",
       "    }\n",
       "</style>\n",
       "<table border=\"1\" class=\"dataframe\">\n",
       "  <thead>\n",
       "    <tr style=\"text-align: right;\">\n",
       "      <th></th>\n",
       "      <th>ISBN</th>\n",
       "      <th>Book-Title</th>\n",
       "      <th>Book-Author</th>\n",
       "      <th>Year-Of-Publication</th>\n",
       "      <th>Publisher</th>\n",
       "      <th>Image-URL-S</th>\n",
       "      <th>Image-URL-M</th>\n",
       "      <th>Image-URL-L</th>\n",
       "    </tr>\n",
       "  </thead>\n",
       "  <tbody>\n",
       "    <tr>\n",
       "      <th>212233</th>\n",
       "      <td>0947901051</td>\n",
       "      <td>Collect Post Office Cards</td>\n",
       "      <td>A. Roberts</td>\n",
       "      <td>0</td>\n",
       "      <td>Benham (A. Buckingham) Ltd</td>\n",
       "      <td>http://images.amazon.com/images/P/0947901051.0...</td>\n",
       "      <td>http://images.amazon.com/images/P/0947901051.0...</td>\n",
       "      <td>http://images.amazon.com/images/P/0947901051.0...</td>\n",
       "    </tr>\n",
       "    <tr>\n",
       "      <th>51621</th>\n",
       "      <td>0006479561</td>\n",
       "      <td>Sacred Clowns</td>\n",
       "      <td>Tony Hillerman</td>\n",
       "      <td>0</td>\n",
       "      <td>Fairmount Books Ltd Remainders</td>\n",
       "      <td>http://images.amazon.com/images/P/0006479561.0...</td>\n",
       "      <td>http://images.amazon.com/images/P/0006479561.0...</td>\n",
       "      <td>http://images.amazon.com/images/P/0006479561.0...</td>\n",
       "    </tr>\n",
       "    <tr>\n",
       "      <th>193438</th>\n",
       "      <td>0140382690</td>\n",
       "      <td>The Enemy You Killed</td>\n",
       "      <td>Peter McFarlane</td>\n",
       "      <td>0</td>\n",
       "      <td>Penguin Books Australia Ltd</td>\n",
       "      <td>http://images.amazon.com/images/P/0140382690.0...</td>\n",
       "      <td>http://images.amazon.com/images/P/0140382690.0...</td>\n",
       "      <td>http://images.amazon.com/images/P/0140382690.0...</td>\n",
       "    </tr>\n",
       "    <tr>\n",
       "      <th>25016</th>\n",
       "      <td>0879972734</td>\n",
       "      <td>Walkers On the Sky</td>\n",
       "      <td>David J Lake</td>\n",
       "      <td>0</td>\n",
       "      <td>Penguin Putnam~mass</td>\n",
       "      <td>http://images.amazon.com/images/P/0879972734.0...</td>\n",
       "      <td>http://images.amazon.com/images/P/0879972734.0...</td>\n",
       "      <td>http://images.amazon.com/images/P/0879972734.0...</td>\n",
       "    </tr>\n",
       "    <tr>\n",
       "      <th>17668</th>\n",
       "      <td>0590023888</td>\n",
       "      <td>Misty of Chincoteague</td>\n",
       "      <td>Marguerite Henry</td>\n",
       "      <td>0</td>\n",
       "      <td>Scholastic Inc</td>\n",
       "      <td>http://images.amazon.com/images/P/0590023888.0...</td>\n",
       "      <td>http://images.amazon.com/images/P/0590023888.0...</td>\n",
       "      <td>http://images.amazon.com/images/P/0590023888.0...</td>\n",
       "    </tr>\n",
       "    <tr>\n",
       "      <th>...</th>\n",
       "      <td>...</td>\n",
       "      <td>...</td>\n",
       "      <td>...</td>\n",
       "      <td>...</td>\n",
       "      <td>...</td>\n",
       "      <td>...</td>\n",
       "      <td>...</td>\n",
       "      <td>...</td>\n",
       "    </tr>\n",
       "    <tr>\n",
       "      <th>80264</th>\n",
       "      <td>0140301690</td>\n",
       "      <td>Alice's Adventures in Wonderland and Through t...</td>\n",
       "      <td>Lewis Carroll</td>\n",
       "      <td>2050</td>\n",
       "      <td>Puffin Books</td>\n",
       "      <td>http://images.amazon.com/images/P/0140301690.0...</td>\n",
       "      <td>http://images.amazon.com/images/P/0140301690.0...</td>\n",
       "      <td>http://images.amazon.com/images/P/0140301690.0...</td>\n",
       "    </tr>\n",
       "    <tr>\n",
       "      <th>97826</th>\n",
       "      <td>0140201092</td>\n",
       "      <td>Outline of European Architecture (Pelican S.)</td>\n",
       "      <td>Nikolaus Pevsner</td>\n",
       "      <td>2050</td>\n",
       "      <td>Penguin USA</td>\n",
       "      <td>http://images.amazon.com/images/P/0140201092.0...</td>\n",
       "      <td>http://images.amazon.com/images/P/0140201092.0...</td>\n",
       "      <td>http://images.amazon.com/images/P/0140201092.0...</td>\n",
       "    </tr>\n",
       "    <tr>\n",
       "      <th>209538</th>\n",
       "      <td>078946697X</td>\n",
       "      <td>DK Readers: Creating the X-Men, How It All Beg...</td>\n",
       "      <td>2000</td>\n",
       "      <td>DK Publishing Inc</td>\n",
       "      <td>http://images.amazon.com/images/P/078946697X.0...</td>\n",
       "      <td>http://images.amazon.com/images/P/078946697X.0...</td>\n",
       "      <td>http://images.amazon.com/images/P/078946697X.0...</td>\n",
       "      <td>NaN</td>\n",
       "    </tr>\n",
       "    <tr>\n",
       "      <th>221678</th>\n",
       "      <td>0789466953</td>\n",
       "      <td>DK Readers: Creating the X-Men, How Comic Book...</td>\n",
       "      <td>2000</td>\n",
       "      <td>DK Publishing Inc</td>\n",
       "      <td>http://images.amazon.com/images/P/0789466953.0...</td>\n",
       "      <td>http://images.amazon.com/images/P/0789466953.0...</td>\n",
       "      <td>http://images.amazon.com/images/P/0789466953.0...</td>\n",
       "      <td>NaN</td>\n",
       "    </tr>\n",
       "    <tr>\n",
       "      <th>220731</th>\n",
       "      <td>2070426769</td>\n",
       "      <td>Peuple du ciel, suivi de 'Les Bergers\\\";Jean-M...</td>\n",
       "      <td>2003</td>\n",
       "      <td>Gallimard</td>\n",
       "      <td>http://images.amazon.com/images/P/2070426769.0...</td>\n",
       "      <td>http://images.amazon.com/images/P/2070426769.0...</td>\n",
       "      <td>http://images.amazon.com/images/P/2070426769.0...</td>\n",
       "      <td>NaN</td>\n",
       "    </tr>\n",
       "  </tbody>\n",
       "</table>\n",
       "<p>271360 rows × 8 columns</p>\n",
       "</div>"
      ],
      "text/plain": [
       "              ISBN                                         Book-Title  \\\n",
       "212233  0947901051                          Collect Post Office Cards   \n",
       "51621   0006479561                                      Sacred Clowns   \n",
       "193438  0140382690                               The Enemy You Killed   \n",
       "25016   0879972734                                 Walkers On the Sky   \n",
       "17668   0590023888                              Misty of Chincoteague   \n",
       "...            ...                                                ...   \n",
       "80264   0140301690  Alice's Adventures in Wonderland and Through t...   \n",
       "97826   0140201092      Outline of European Architecture (Pelican S.)   \n",
       "209538  078946697X  DK Readers: Creating the X-Men, How It All Beg...   \n",
       "221678  0789466953  DK Readers: Creating the X-Men, How Comic Book...   \n",
       "220731  2070426769  Peuple du ciel, suivi de 'Les Bergers\\\";Jean-M...   \n",
       "\n",
       "             Book-Author Year-Of-Publication  \\\n",
       "212233        A. Roberts                   0   \n",
       "51621     Tony Hillerman                   0   \n",
       "193438   Peter McFarlane                   0   \n",
       "25016       David J Lake                   0   \n",
       "17668   Marguerite Henry                   0   \n",
       "...                  ...                 ...   \n",
       "80264      Lewis Carroll                2050   \n",
       "97826   Nikolaus Pevsner                2050   \n",
       "209538              2000   DK Publishing Inc   \n",
       "221678              2000   DK Publishing Inc   \n",
       "220731              2003           Gallimard   \n",
       "\n",
       "                                                Publisher  \\\n",
       "212233                         Benham (A. Buckingham) Ltd   \n",
       "51621                      Fairmount Books Ltd Remainders   \n",
       "193438                        Penguin Books Australia Ltd   \n",
       "25016                                 Penguin Putnam~mass   \n",
       "17668                                      Scholastic Inc   \n",
       "...                                                   ...   \n",
       "80264                                        Puffin Books   \n",
       "97826                                         Penguin USA   \n",
       "209538  http://images.amazon.com/images/P/078946697X.0...   \n",
       "221678  http://images.amazon.com/images/P/0789466953.0...   \n",
       "220731  http://images.amazon.com/images/P/2070426769.0...   \n",
       "\n",
       "                                              Image-URL-S  \\\n",
       "212233  http://images.amazon.com/images/P/0947901051.0...   \n",
       "51621   http://images.amazon.com/images/P/0006479561.0...   \n",
       "193438  http://images.amazon.com/images/P/0140382690.0...   \n",
       "25016   http://images.amazon.com/images/P/0879972734.0...   \n",
       "17668   http://images.amazon.com/images/P/0590023888.0...   \n",
       "...                                                   ...   \n",
       "80264   http://images.amazon.com/images/P/0140301690.0...   \n",
       "97826   http://images.amazon.com/images/P/0140201092.0...   \n",
       "209538  http://images.amazon.com/images/P/078946697X.0...   \n",
       "221678  http://images.amazon.com/images/P/0789466953.0...   \n",
       "220731  http://images.amazon.com/images/P/2070426769.0...   \n",
       "\n",
       "                                              Image-URL-M  \\\n",
       "212233  http://images.amazon.com/images/P/0947901051.0...   \n",
       "51621   http://images.amazon.com/images/P/0006479561.0...   \n",
       "193438  http://images.amazon.com/images/P/0140382690.0...   \n",
       "25016   http://images.amazon.com/images/P/0879972734.0...   \n",
       "17668   http://images.amazon.com/images/P/0590023888.0...   \n",
       "...                                                   ...   \n",
       "80264   http://images.amazon.com/images/P/0140301690.0...   \n",
       "97826   http://images.amazon.com/images/P/0140201092.0...   \n",
       "209538  http://images.amazon.com/images/P/078946697X.0...   \n",
       "221678  http://images.amazon.com/images/P/0789466953.0...   \n",
       "220731  http://images.amazon.com/images/P/2070426769.0...   \n",
       "\n",
       "                                              Image-URL-L  \n",
       "212233  http://images.amazon.com/images/P/0947901051.0...  \n",
       "51621   http://images.amazon.com/images/P/0006479561.0...  \n",
       "193438  http://images.amazon.com/images/P/0140382690.0...  \n",
       "25016   http://images.amazon.com/images/P/0879972734.0...  \n",
       "17668   http://images.amazon.com/images/P/0590023888.0...  \n",
       "...                                                   ...  \n",
       "80264   http://images.amazon.com/images/P/0140301690.0...  \n",
       "97826   http://images.amazon.com/images/P/0140201092.0...  \n",
       "209538                                                NaN  \n",
       "221678                                                NaN  \n",
       "220731                                                NaN  \n",
       "\n",
       "[271360 rows x 8 columns]"
      ]
     },
     "execution_count": 220,
     "metadata": {},
     "output_type": "execute_result"
    }
   ],
   "source": [
    "data[\"books\"].sort_values(\"Year-Of-Publication\")"
   ]
  },
  {
   "cell_type": "code",
   "execution_count": null,
   "id": "49bf09b3-3641-4d91-81b7-31dd63b25d08",
   "metadata": {},
   "outputs": [],
   "source": []
  }
 ],
 "metadata": {
  "kernelspec": {
   "display_name": "devio",
   "language": "python",
   "name": "devio"
  },
  "language_info": {
   "codemirror_mode": {
    "name": "ipython",
    "version": 3
   },
   "file_extension": ".py",
   "mimetype": "text/x-python",
   "name": "python",
   "nbconvert_exporter": "python",
   "pygments_lexer": "ipython3",
   "version": "3.10.10"
  }
 },
 "nbformat": 4,
 "nbformat_minor": 5
}
