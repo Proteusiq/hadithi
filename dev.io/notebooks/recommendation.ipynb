{
 "cells": [
  {
   "cell_type": "code",
   "execution_count": 1,
   "id": "6226f653-6266-4b85-a45f-3e6aaec0daa2",
   "metadata": {
    "tags": []
   },
   "outputs": [
    {
     "name": "stdout",
     "output_type": "stream",
     "text": [
      "/home/prayson/Code/hadithi/dev.io\n"
     ]
    }
   ],
   "source": [
    "%cd .."
   ]
  },
  {
   "cell_type": "code",
   "execution_count": 172,
   "id": "5364976d-cf63-45f0-9556-7a8c9c5acb18",
   "metadata": {
    "tags": []
   },
   "outputs": [],
   "source": [
    "from pathlib import Path\n",
    "from zipfile import ZipFile\n",
    "\n",
    "from httpx import AsyncClient, Client\n",
    "from mimesis import Person\n",
    "from mimesis.locales import Locale\n",
    "import jmespath\n",
    "import pandas as pd"
   ]
  },
  {
   "cell_type": "code",
   "execution_count": 89,
   "id": "79f07e7d-bab4-41e1-b205-903a849a5df0",
   "metadata": {
    "tags": []
   },
   "outputs": [],
   "source": [
    "MIMESIS_LOCALE_URL = \"https://mimesis.name/en/master/locales.html#overriding-locale\"\n",
    "COUNTRY_CODE_CSV = \"assets/languages.csv\"\n",
    "[language_codes, *_] = pd.read_html(MIMESIS_LOCALE_URL)\n",
    "country_codes = pd.read_csv(COUNTRY_CODE_CSV, usecols=[\"Country\", \"Two Letter\"])"
   ]
  },
  {
   "cell_type": "code",
   "execution_count": 110,
   "id": "afe65fc8-538e-4a1f-a56a-56646b5ecb0a",
   "metadata": {
    "tags": []
   },
   "outputs": [],
   "source": [
    "country_iso = (\n",
    "    country_codes\n",
    "     .transform(lambda d: d.str.lower())\n",
    "     .rename(columns={\"Country\": \"country\", \"Two Letter\":\"code\"})\n",
    "     #.drop_duplicates(subset=[\"country\"], keep=\"first\")\n",
    "     .assign(code = lambda d: d[\"code\"].str.split(\"-\").str[0])\n",
    "     .query(\"code != 'en'\")\n",
    ")"
   ]
  },
  {
   "cell_type": "code",
   "execution_count": 111,
   "id": "6b6008ec-825e-4906-81f8-f0dab6884c13",
   "metadata": {
    "tags": []
   },
   "outputs": [],
   "source": [
    "country_language = (language_codes[[\"Code\", \"Name\"]]\n",
    "     .transform(lambda d: d.str.lower())\n",
    "     .merge(country_iso, how=\"left\", left_on=\"Code\", right_on=\"code\")\n",
    "     .dropna(subset=[\"country\", \"code\"])\n",
    "     .loc[:, [\"code\", \"country\"]]\n",
    "     .set_index(\"country\")\n",
    "     .to_dict()\n",
    "     .get(\"code\")\n",
    "\n",
    ")"
   ]
  },
  {
   "cell_type": "code",
   "execution_count": 5,
   "id": "5968d983-9292-45af-824d-2ab832840322",
   "metadata": {
    "tags": []
   },
   "outputs": [
    {
     "name": "stdout",
     "output_type": "stream",
     "text": [
      "['Books.csv', 'Ratings.csv', 'Users.csv', 'recsys_taxonomy2.png']\n"
     ]
    }
   ],
   "source": [
    "DATA_DIR = Path(\"assets/books.zip\")\n",
    "\n",
    "with ZipFile(DATA_DIR) as z:\n",
    "    print(z.namelist())\n",
    "    files = (file for file in z.namelist() if Path(file).suffix == \".csv\")\n",
    "    data = {Path(file).stem.lower(): pd.read_csv(z.extract(file),low_memory=False) for file in files}     "
   ]
  },
  {
   "cell_type": "code",
   "execution_count": 140,
   "id": "1393c5ca-3e46-41e3-91e2-92e01ec8cb66",
   "metadata": {
    "tags": []
   },
   "outputs": [],
   "source": [
    "\n",
    "def get_name(language:str) -> str:\n",
    "    person = Person(language)\n",
    "    return person.full_name()\n"
   ]
  },
  {
   "cell_type": "raw",
   "id": "217309d0-558b-4502-a902-df006d92eab4",
   "metadata": {
    "tags": []
   },
   "source": [
    "%%time\n",
    "# takes ~ 2 min 20 sec\n",
    "users = (data[\"users\"]\n",
    "   .rename(columns={\"User-ID\": \"user_id\", \"Location\":\"location\", \"Age\":\"age\"})\n",
    "   .assign(country = lambda d: d[\"location\"].str.split(\", \").str[-1].str.strip(\",.\"),\n",
    "          language = lambda d: d[\"country\"].transform(country_language.get))\n",
    "  .fillna(value={'language': \"en\"})\n",
    "  .assign(fake_name = lambda d: d[\"language\"].map(get_name))\n",
    "  .loc[:,[\"user_id\", \"fake_name\", \"location\", \"age\"]]\n",
    ")\n",
    "\n",
    "users.to_csv(\"assets/users.csv\", index=False)"
   ]
  },
  {
   "cell_type": "code",
   "execution_count": 156,
   "id": "f9c031fa-dfb9-4777-8c22-53cb94f1daad",
   "metadata": {
    "tags": []
   },
   "outputs": [],
   "source": [
    "users = pd.read_csv(\"assets/users.csv\", dtype_backend=\"pyarrow\", dtype={\"age\":\"Int64\"})"
   ]
  },
  {
   "cell_type": "code",
   "execution_count": 157,
   "id": "53e5912d-9e0f-4898-9989-e577f7a249ef",
   "metadata": {
    "tags": []
   },
   "outputs": [
    {
     "data": {
      "text/html": [
       "<div>\n",
       "<style scoped>\n",
       "    .dataframe tbody tr th:only-of-type {\n",
       "        vertical-align: middle;\n",
       "    }\n",
       "\n",
       "    .dataframe tbody tr th {\n",
       "        vertical-align: top;\n",
       "    }\n",
       "\n",
       "    .dataframe thead th {\n",
       "        text-align: right;\n",
       "    }\n",
       "</style>\n",
       "<table border=\"1\" class=\"dataframe\">\n",
       "  <thead>\n",
       "    <tr style=\"text-align: right;\">\n",
       "      <th></th>\n",
       "      <th>user_id</th>\n",
       "      <th>fake_name</th>\n",
       "      <th>location</th>\n",
       "      <th>age</th>\n",
       "    </tr>\n",
       "  </thead>\n",
       "  <tbody>\n",
       "    <tr>\n",
       "      <th>0</th>\n",
       "      <td>1</td>\n",
       "      <td>Catrice Riggs</td>\n",
       "      <td>nyc, new york, usa</td>\n",
       "      <td>&lt;NA&gt;</td>\n",
       "    </tr>\n",
       "    <tr>\n",
       "      <th>1</th>\n",
       "      <td>2</td>\n",
       "      <td>Johnson Colon</td>\n",
       "      <td>stockton, california, usa</td>\n",
       "      <td>18</td>\n",
       "    </tr>\n",
       "    <tr>\n",
       "      <th>2</th>\n",
       "      <td>3</td>\n",
       "      <td>Лолита Кузьмин</td>\n",
       "      <td>moscow, yukon territory, russia</td>\n",
       "      <td>&lt;NA&gt;</td>\n",
       "    </tr>\n",
       "    <tr>\n",
       "      <th>3</th>\n",
       "      <td>4</td>\n",
       "      <td>Abraim Melo</td>\n",
       "      <td>porto, v.n.gaia, portugal</td>\n",
       "      <td>17</td>\n",
       "    </tr>\n",
       "    <tr>\n",
       "      <th>4</th>\n",
       "      <td>5</td>\n",
       "      <td>Barton King</td>\n",
       "      <td>farnborough, hants, united kingdom</td>\n",
       "      <td>&lt;NA&gt;</td>\n",
       "    </tr>\n",
       "    <tr>\n",
       "      <th>...</th>\n",
       "      <td>...</td>\n",
       "      <td>...</td>\n",
       "      <td>...</td>\n",
       "      <td>...</td>\n",
       "    </tr>\n",
       "    <tr>\n",
       "      <th>278853</th>\n",
       "      <td>278854</td>\n",
       "      <td>Renaldo Gomez</td>\n",
       "      <td>portland, oregon, usa</td>\n",
       "      <td>&lt;NA&gt;</td>\n",
       "    </tr>\n",
       "    <tr>\n",
       "      <th>278854</th>\n",
       "      <td>278855</td>\n",
       "      <td>Elizbeth Bird</td>\n",
       "      <td>tacoma, washington, united kingdom</td>\n",
       "      <td>50</td>\n",
       "    </tr>\n",
       "    <tr>\n",
       "      <th>278855</th>\n",
       "      <td>278856</td>\n",
       "      <td>Arda Guichard</td>\n",
       "      <td>brampton, ontario, canada</td>\n",
       "      <td>&lt;NA&gt;</td>\n",
       "    </tr>\n",
       "    <tr>\n",
       "      <th>278856</th>\n",
       "      <td>278857</td>\n",
       "      <td>Clifford Erickson</td>\n",
       "      <td>knoxville, tennessee, usa</td>\n",
       "      <td>&lt;NA&gt;</td>\n",
       "    </tr>\n",
       "    <tr>\n",
       "      <th>278857</th>\n",
       "      <td>278858</td>\n",
       "      <td>Delbert Petersen</td>\n",
       "      <td>dublin, n/a, ireland</td>\n",
       "      <td>&lt;NA&gt;</td>\n",
       "    </tr>\n",
       "  </tbody>\n",
       "</table>\n",
       "<p>278858 rows × 4 columns</p>\n",
       "</div>"
      ],
      "text/plain": [
       "        user_id          fake_name                            location   age\n",
       "0             1      Catrice Riggs                  nyc, new york, usa  <NA>\n",
       "1             2      Johnson Colon           stockton, california, usa    18\n",
       "2             3     Лолита Кузьмин     moscow, yukon territory, russia  <NA>\n",
       "3             4        Abraim Melo           porto, v.n.gaia, portugal    17\n",
       "4             5        Barton King  farnborough, hants, united kingdom  <NA>\n",
       "...         ...                ...                                 ...   ...\n",
       "278853   278854      Renaldo Gomez               portland, oregon, usa  <NA>\n",
       "278854   278855      Elizbeth Bird  tacoma, washington, united kingdom    50\n",
       "278855   278856      Arda Guichard           brampton, ontario, canada  <NA>\n",
       "278856   278857  Clifford Erickson           knoxville, tennessee, usa  <NA>\n",
       "278857   278858   Delbert Petersen                dublin, n/a, ireland  <NA>\n",
       "\n",
       "[278858 rows x 4 columns]"
      ]
     },
     "execution_count": 157,
     "metadata": {},
     "output_type": "execute_result"
    }
   ],
   "source": [
    "users"
   ]
  },
  {
   "cell_type": "code",
   "execution_count": 271,
   "id": "ee085865-0af9-41ac-b45e-55a6e62af572",
   "metadata": {
    "tags": []
   },
   "outputs": [],
   "source": [
    "client = Client(base_url=\"https://openlibrary.org/api\")\n",
    "ISBN = \"0091906814\" #\"0395974682\" lord of the rings  #\"0140301690\" - Alice in Wonderland #ISBN=ASIN?\n",
    "r = client.get(url=\"/books\", params={\"bibkeys\": f\"ISBN:{ISBN}\", \"format\":\"json\"}, timeout=10)"
   ]
  },
  {
   "cell_type": "code",
   "execution_count": 272,
   "id": "c88ad219-f049-40fc-b157-390680c12ce4",
   "metadata": {
    "tags": []
   },
   "outputs": [
    {
     "data": {
      "text/plain": [
       "{'ISBN:0091906814': {'bib_key': 'ISBN:0091906814',\n",
       "  'info_url': 'https://openlibrary.org/books/OL7315585M/How_to_Win_Friends_and_Influence_People',\n",
       "  'preview': 'noview',\n",
       "  'preview_url': 'https://openlibrary.org/books/OL7315585M/How_to_Win_Friends_and_Influence_People',\n",
       "  'thumbnail_url': 'https://covers.openlibrary.org/b/id/69810-S.jpg'}}"
      ]
     },
     "execution_count": 272,
     "metadata": {},
     "output_type": "execute_result"
    }
   ],
   "source": [
    "b = r.json()\n",
    "b"
   ]
  },
  {
   "cell_type": "code",
   "execution_count": 248,
   "id": "389225cb-13a3-455c-8531-03932fcee3bc",
   "metadata": {
    "tags": []
   },
   "outputs": [],
   "source": [
    "open_client = Client(base_url=\"https://openlibrary.org\")"
   ]
  },
  {
   "cell_type": "code",
   "execution_count": 273,
   "id": "7375ee94-ce03-45b5-8aab-f1deeda99ae8",
   "metadata": {
    "tags": []
   },
   "outputs": [
    {
     "data": {
      "text/plain": [
       "<Response [200 OK]>"
      ]
     },
     "execution_count": 273,
     "metadata": {},
     "output_type": "execute_result"
    }
   ],
   "source": [
    "[url, *_] = jmespath.search(\"*.info_url\", b)\n",
    "work = url.split(\"/\")[-2]\n",
    "\n",
    "r = open_client.get(f\"/books/{work}.json\", timeout=10)\n",
    "r"
   ]
  },
  {
   "cell_type": "code",
   "execution_count": 274,
   "id": "193d2644-fa66-4a6e-8cbc-5d04767a0352",
   "metadata": {
    "tags": []
   },
   "outputs": [
    {
     "data": {
      "text/plain": [
       "{'publishers': ['Vermilion'],\n",
       " 'identifiers': {'goodreads': ['33288'], 'librarything': ['68250']},\n",
       " 'source_records': ['bwb:9780091906818'],\n",
       " 'title': 'How to Win Friends and Influence People',\n",
       " 'isbn_10': ['0091906814'],\n",
       " 'number_of_pages': 304,\n",
       " 'covers': [69810],\n",
       " 'isbn_13': ['9780091906818'],\n",
       " 'lc_classifications': ['BF636'],\n",
       " 'publish_date': 'April 5, 2007',\n",
       " 'key': '/books/OL7315585M',\n",
       " 'authors': [{'key': '/authors/OL107569A'}],\n",
       " 'oclc_numbers': ['62795939'],\n",
       " 'works': [{'key': '/works/OL1063301W'}],\n",
       " 'type': {'key': '/type/edition'},\n",
       " 'latest_revision': 11,\n",
       " 'revision': 11,\n",
       " 'created': {'type': '/type/datetime', 'value': '2008-04-29T13:35:46.876380'},\n",
       " 'last_modified': {'type': '/type/datetime',\n",
       "  'value': '2021-05-04T11:01:27.515271'}}"
      ]
     },
     "execution_count": 274,
     "metadata": {},
     "output_type": "execute_result"
    }
   ],
   "source": [
    "r.json()"
   ]
  },
  {
   "cell_type": "code",
   "execution_count": 275,
   "id": "3deea33d-2727-4215-96be-9d72d17770f8",
   "metadata": {
    "tags": []
   },
   "outputs": [
    {
     "data": {
      "text/plain": [
       "<Response [200 OK]>"
      ]
     },
     "execution_count": 275,
     "metadata": {},
     "output_type": "execute_result"
    }
   ],
   "source": [
    "b = r.json()\n",
    "\n",
    "g = open_client.get(url=f'{b.get(\"works\")[0].get(\"key\")}.json', timeout=10)\n",
    "g"
   ]
  },
  {
   "cell_type": "code",
   "execution_count": 276,
   "id": "ffdf4e08-b029-4708-b9eb-eee6b54fb851",
   "metadata": {
    "tags": []
   },
   "outputs": [
    {
     "data": {
      "text/plain": [
       "{'title': 'How to Win Friends and Influence People',\n",
       " 'covers': [12973211,\n",
       "  6982482,\n",
       "  8231858,\n",
       "  1334554,\n",
       "  2295044,\n",
       "  4988481,\n",
       "  2295570,\n",
       "  7942941,\n",
       "  8770342,\n",
       "  9336127,\n",
       "  10653631,\n",
       "  10715296,\n",
       "  10764191,\n",
       "  10829208,\n",
       "  407939,\n",
       "  5317691,\n",
       "  404729,\n",
       "  8599963,\n",
       "  489942,\n",
       "  8329393,\n",
       "  8332729,\n",
       "  8571360,\n",
       "  9162292,\n",
       "  10162496,\n",
       "  6882239,\n",
       "  6888174,\n",
       "  10465148,\n",
       "  11332751,\n",
       "  11425532,\n",
       "  9247891,\n",
       "  8606048,\n",
       "  8741212,\n",
       "  11932305,\n",
       "  9019798,\n",
       "  9155245,\n",
       "  9245280,\n",
       "  9299832,\n",
       "  11409754,\n",
       "  11964323,\n",
       "  13843827,\n",
       "  12875128,\n",
       "  12883424,\n",
       "  13112610],\n",
       " 'key': '/works/OL1063301W',\n",
       " 'authors': [{'author': {'key': '/authors/OL107569A'},\n",
       "   'type': {'key': '/type/author_role'}}],\n",
       " 'type': {'key': '/type/work'},\n",
       " 'description': {'type': '/type/text',\n",
       "  'value': 'Humans are relational beings. This is the best self-improvement book to know how to create meaningful and fruitful relationships.\\r\\nFor more than sixty years the rock-solid, time-tested advice in this book has carried thousands of now famous people up the ladder of success in their business and personal lives. Now this previously revised and updated bestseller is available in trade paperback for the first time to help you achieve your maximum potential throughout the next century!'},\n",
       " 'subjects': ['Relationships',\n",
       "  'Influence',\n",
       "  'Persuasion (Psychology)',\n",
       "  'Leadership',\n",
       "  'Business communication',\n",
       "  'Success',\n",
       "  'Psychology',\n",
       "  'Conduct of life',\n",
       "  'Self-help techniques',\n",
       "  'Self-actualization (psychology)',\n",
       "  'Interpersonal relations',\n",
       "  'Applied Psychology',\n",
       "  'Psychology, applied',\n",
       "  'Worry',\n",
       "  'Happiness',\n",
       "  'Achievement',\n",
       "  'Persuasive Communication',\n",
       "  'BUSINESS & ECONOMICS',\n",
       "  'SELF-HELP',\n",
       "  'Communication & Social Skills',\n",
       "  'Onderhandelen',\n",
       "  'Mänskliga relationer',\n",
       "  'Ledarskap',\n",
       "  'Conducta (Ética)',\n",
       "  'Éxito',\n",
       "  'Preocupación',\n",
       "  'Exito',\n",
       "  'Qing xu',\n",
       "  'Tong su du wu',\n",
       "  'Zi wo kong zhi',\n",
       "  'Lebensführung',\n",
       "  'Ge ren',\n",
       "  'Ren jian guan xi',\n",
       "  'Xiu yang',\n",
       "  'Cheng gong xin li',\n",
       "  'Komunikacja interpersonalna',\n",
       "  'Poradniki',\n",
       "  'Psychological aspects',\n",
       "  'Interpersonal communication',\n",
       "  'Influence (psychology)',\n",
       "  'Ren ji guan xi',\n",
       "  'Succès',\n",
       "  'Framgång',\n",
       "  'Självförverkligande',\n",
       "  'Sociology',\n",
       "  'Psychology, Applied',\n",
       "  'Succès',\n",
       "  'Psychologie appliquée',\n",
       "  'Inquiétude',\n",
       "  'Self-realisation'],\n",
       " 'first_publish_date': '2008',\n",
       " 'lc_classifications': ['BF515 .W29 2008'],\n",
       " 'dewey_number': ['152.4/2'],\n",
       " 'latest_revision': 27,\n",
       " 'revision': 27,\n",
       " 'created': {'type': '/type/datetime', 'value': '2009-12-09T20:20:22.842213'},\n",
       " 'last_modified': {'type': '/type/datetime',\n",
       "  'value': '2023-10-21T10:57:15.524271'}}"
      ]
     },
     "execution_count": 276,
     "metadata": {},
     "output_type": "execute_result"
    }
   ],
   "source": [
    "g.json()"
   ]
  },
  {
   "cell_type": "code",
   "execution_count": 158,
   "id": "5e45f299-bb04-4d1f-bd0c-d7b7c3aa3eae",
   "metadata": {
    "tags": []
   },
   "outputs": [],
   "source": [
    "# https://openlibrary.org/works/OL18020194W/bookshelves.json\n",
    "# https://openlibrary.org/works/OL18020194W/ratings.json"
   ]
  },
  {
   "cell_type": "code",
   "execution_count": 277,
   "id": "82f56bb7-ce8b-45c0-a7e8-007a74447030",
   "metadata": {
    "tags": []
   },
   "outputs": [
    {
     "data": {
      "text/plain": [
       "{'counts': {'want_to_read': 5498,\n",
       "  'currently_reading': 508,\n",
       "  'already_read': 216}}"
      ]
     },
     "execution_count": 277,
     "metadata": {},
     "output_type": "execute_result"
    }
   ],
   "source": [
    "open_client.get(url=f'{jmespath.search(\"works[0].key\", b)}/bookshelves.json', timeout=10).json()"
   ]
  },
  {
   "cell_type": "code",
   "execution_count": 278,
   "id": "84134e61-43fa-4108-b3ac-295c6bd86c3b",
   "metadata": {
    "tags": []
   },
   "outputs": [
    {
     "data": {
      "text/plain": [
       "{'summary': {'average': 4.259067357512953,\n",
       "  'count': 193,\n",
       "  'sortable': 4.088984102582939},\n",
       " 'counts': {'1': 12, '2': 6, '3': 21, '4': 35, '5': 119}}"
      ]
     },
     "execution_count": 278,
     "metadata": {},
     "output_type": "execute_result"
    }
   ],
   "source": [
    "open_client.get(url=f'{jmespath.search(\"works[0].key\", b)}/ratings.json', timeout=10).json()"
   ]
  },
  {
   "cell_type": "code",
   "execution_count": 279,
   "id": "cfa18948-17a6-4294-acdd-3ec22ffc8238",
   "metadata": {
    "tags": []
   },
   "outputs": [
    {
     "data": {
      "text/plain": [
       "'/authors/OL107569A'"
      ]
     },
     "execution_count": 279,
     "metadata": {},
     "output_type": "execute_result"
    }
   ],
   "source": [
    "jmespath.search(\"authors[0].author.key\", g.json())"
   ]
  },
  {
   "cell_type": "code",
   "execution_count": 280,
   "id": "2d287d85-0602-4347-b479-eb409a743de9",
   "metadata": {
    "tags": []
   },
   "outputs": [
    {
     "data": {
      "text/plain": [
       "{'title': '(Carnegie, Dale, 1888-1955)',\n",
       " 'key': '/authors/OL107569A',\n",
       " 'name': 'Dale Carnegie',\n",
       " 'type': {'key': '/type/author'},\n",
       " 'death_date': 'November 1, 1955',\n",
       " 'photos': [9160344, 7353715, 6732648],\n",
       " 'personal_name': 'Dale Carnegie',\n",
       " 'alternate_names': ['DALE CARNEGIE',\n",
       "  'Dale carnegie',\n",
       "  'Ka na ji (Carnegie, Dale, 1888-1955)',\n",
       "  'Dale Breckenridge Carnegie',\n",
       "  'Qia nai ji (Carnegie, Dale, 1888-1955)',\n",
       "  'Dale CARNEGIE',\n",
       "  'Ka nai ji (Carnegie, Dale',\n",
       "  'dale carnegie',\n",
       "  'Carnegie, Dale, 1888-1955.',\n",
       "  'D. Carnegie',\n",
       "  '(mei) Kanaiji (Carnegie, Dale)',\n",
       "  'CARNEGIE DALE',\n",
       "  'Dale Dale Carnegie',\n",
       "  'CARNEGIE,DALE',\n",
       "  'Carnegie, Dale, 1st',\n",
       "  '(mei) Ka, Neiji (Carnegie, Dale',\n",
       "  'Ka nei ji (Carnegie, Dale)',\n",
       "  'Ka nei ji',\n",
       "  'Carnegie, Dale',\n",
       "  'dale-carnegie',\n",
       "  'Carnegie Dale'],\n",
       " 'birth_date': 'November 24, 1888',\n",
       " 'source_records': ['ia:renxingderuodian0000meik',\n",
       "  'amazon:2764023065',\n",
       "  'amazon:9386037750',\n",
       "  'amazon:6055092220',\n",
       "  'bwb:9781519035554',\n",
       "  'amazon:9350881241',\n",
       "  'promise:bwb_daily_pallets_2020-12-09',\n",
       "  'bwb:9798761809352',\n",
       "  'promise:bwb_daily_pallets_2022-03-17',\n",
       "  'bwb:9781957339009',\n",
       "  'ia:renxingderuodian0000meik_f4z1',\n",
       "  'ia:renxingderuodian0000kane_r6o0',\n",
       "  'bwb:9798453746163',\n",
       "  'bwb:9798756871494',\n",
       "  'amazon:9124119288',\n",
       "  'promise:bwb_daily_pallets_2020-12-14',\n",
       "  'amazon:9353040817',\n",
       "  'bwb:9798836911980',\n",
       "  'bwb:9798631367043',\n",
       "  'promise:bwb_daily_pallets_2023-02-17:T2-BAB-980',\n",
       "  'promise:bwb_daily_pallets_2022-09-14:W7-DCS-497',\n",
       "  'promise:bwb_daily_pallets_2022-08-31:W7-CZR-934',\n",
       "  'promise:bwb_daily_pallets_2022-07-28:W7-CKJ-711',\n",
       "  'amazon:8497779894'],\n",
       " 'remote_ids': {'viaf': '73851001',\n",
       "  'isni': '0000000121393032',\n",
       "  'goodreads': '3317',\n",
       "  'project_gutenberg': '6617',\n",
       "  'wikidata': 'Q230762',\n",
       "  'librarything': 'carnegiedale',\n",
       "  'amazon': 'B00OIFV2S2'},\n",
       " 'bio': 'Dale Harbison Carnegie was an American writer and lecturer and the developer of famous courses in self-improvement, salesmanship, corporate training, public speaking, and interpersonal skills.\\r\\nSource: wikipedia',\n",
       " 'latest_revision': 20,\n",
       " 'revision': 20,\n",
       " 'created': {'type': '/type/datetime', 'value': '2008-04-01T03:28:50.625462'},\n",
       " 'last_modified': {'type': '/type/datetime',\n",
       "  'value': '2023-10-13T19:05:23.982189'}}"
      ]
     },
     "execution_count": 280,
     "metadata": {},
     "output_type": "execute_result"
    }
   ],
   "source": [
    "open_client.get(url=f'{jmespath.search(\"authors[0].author.key\", g.json())}.json', timeout=10).json()"
   ]
  },
  {
   "cell_type": "code",
   "execution_count": 220,
   "id": "5dcb0ca1-f358-4c9a-ae90-3ae35c5c9848",
   "metadata": {
    "tags": []
   },
   "outputs": [
    {
     "data": {
      "text/html": [
       "<div>\n",
       "<style scoped>\n",
       "    .dataframe tbody tr th:only-of-type {\n",
       "        vertical-align: middle;\n",
       "    }\n",
       "\n",
       "    .dataframe tbody tr th {\n",
       "        vertical-align: top;\n",
       "    }\n",
       "\n",
       "    .dataframe thead th {\n",
       "        text-align: right;\n",
       "    }\n",
       "</style>\n",
       "<table border=\"1\" class=\"dataframe\">\n",
       "  <thead>\n",
       "    <tr style=\"text-align: right;\">\n",
       "      <th></th>\n",
       "      <th>ISBN</th>\n",
       "      <th>Book-Title</th>\n",
       "      <th>Book-Author</th>\n",
       "      <th>Year-Of-Publication</th>\n",
       "      <th>Publisher</th>\n",
       "      <th>Image-URL-S</th>\n",
       "      <th>Image-URL-M</th>\n",
       "      <th>Image-URL-L</th>\n",
       "    </tr>\n",
       "  </thead>\n",
       "  <tbody>\n",
       "    <tr>\n",
       "      <th>212233</th>\n",
       "      <td>0947901051</td>\n",
       "      <td>Collect Post Office Cards</td>\n",
       "      <td>A. Roberts</td>\n",
       "      <td>0</td>\n",
       "      <td>Benham (A. Buckingham) Ltd</td>\n",
       "      <td>http://images.amazon.com/images/P/0947901051.0...</td>\n",
       "      <td>http://images.amazon.com/images/P/0947901051.0...</td>\n",
       "      <td>http://images.amazon.com/images/P/0947901051.0...</td>\n",
       "    </tr>\n",
       "    <tr>\n",
       "      <th>51621</th>\n",
       "      <td>0006479561</td>\n",
       "      <td>Sacred Clowns</td>\n",
       "      <td>Tony Hillerman</td>\n",
       "      <td>0</td>\n",
       "      <td>Fairmount Books Ltd Remainders</td>\n",
       "      <td>http://images.amazon.com/images/P/0006479561.0...</td>\n",
       "      <td>http://images.amazon.com/images/P/0006479561.0...</td>\n",
       "      <td>http://images.amazon.com/images/P/0006479561.0...</td>\n",
       "    </tr>\n",
       "    <tr>\n",
       "      <th>193438</th>\n",
       "      <td>0140382690</td>\n",
       "      <td>The Enemy You Killed</td>\n",
       "      <td>Peter McFarlane</td>\n",
       "      <td>0</td>\n",
       "      <td>Penguin Books Australia Ltd</td>\n",
       "      <td>http://images.amazon.com/images/P/0140382690.0...</td>\n",
       "      <td>http://images.amazon.com/images/P/0140382690.0...</td>\n",
       "      <td>http://images.amazon.com/images/P/0140382690.0...</td>\n",
       "    </tr>\n",
       "    <tr>\n",
       "      <th>25016</th>\n",
       "      <td>0879972734</td>\n",
       "      <td>Walkers On the Sky</td>\n",
       "      <td>David J Lake</td>\n",
       "      <td>0</td>\n",
       "      <td>Penguin Putnam~mass</td>\n",
       "      <td>http://images.amazon.com/images/P/0879972734.0...</td>\n",
       "      <td>http://images.amazon.com/images/P/0879972734.0...</td>\n",
       "      <td>http://images.amazon.com/images/P/0879972734.0...</td>\n",
       "    </tr>\n",
       "    <tr>\n",
       "      <th>17668</th>\n",
       "      <td>0590023888</td>\n",
       "      <td>Misty of Chincoteague</td>\n",
       "      <td>Marguerite Henry</td>\n",
       "      <td>0</td>\n",
       "      <td>Scholastic Inc</td>\n",
       "      <td>http://images.amazon.com/images/P/0590023888.0...</td>\n",
       "      <td>http://images.amazon.com/images/P/0590023888.0...</td>\n",
       "      <td>http://images.amazon.com/images/P/0590023888.0...</td>\n",
       "    </tr>\n",
       "    <tr>\n",
       "      <th>...</th>\n",
       "      <td>...</td>\n",
       "      <td>...</td>\n",
       "      <td>...</td>\n",
       "      <td>...</td>\n",
       "      <td>...</td>\n",
       "      <td>...</td>\n",
       "      <td>...</td>\n",
       "      <td>...</td>\n",
       "    </tr>\n",
       "    <tr>\n",
       "      <th>80264</th>\n",
       "      <td>0140301690</td>\n",
       "      <td>Alice's Adventures in Wonderland and Through t...</td>\n",
       "      <td>Lewis Carroll</td>\n",
       "      <td>2050</td>\n",
       "      <td>Puffin Books</td>\n",
       "      <td>http://images.amazon.com/images/P/0140301690.0...</td>\n",
       "      <td>http://images.amazon.com/images/P/0140301690.0...</td>\n",
       "      <td>http://images.amazon.com/images/P/0140301690.0...</td>\n",
       "    </tr>\n",
       "    <tr>\n",
       "      <th>97826</th>\n",
       "      <td>0140201092</td>\n",
       "      <td>Outline of European Architecture (Pelican S.)</td>\n",
       "      <td>Nikolaus Pevsner</td>\n",
       "      <td>2050</td>\n",
       "      <td>Penguin USA</td>\n",
       "      <td>http://images.amazon.com/images/P/0140201092.0...</td>\n",
       "      <td>http://images.amazon.com/images/P/0140201092.0...</td>\n",
       "      <td>http://images.amazon.com/images/P/0140201092.0...</td>\n",
       "    </tr>\n",
       "    <tr>\n",
       "      <th>209538</th>\n",
       "      <td>078946697X</td>\n",
       "      <td>DK Readers: Creating the X-Men, How It All Beg...</td>\n",
       "      <td>2000</td>\n",
       "      <td>DK Publishing Inc</td>\n",
       "      <td>http://images.amazon.com/images/P/078946697X.0...</td>\n",
       "      <td>http://images.amazon.com/images/P/078946697X.0...</td>\n",
       "      <td>http://images.amazon.com/images/P/078946697X.0...</td>\n",
       "      <td>NaN</td>\n",
       "    </tr>\n",
       "    <tr>\n",
       "      <th>221678</th>\n",
       "      <td>0789466953</td>\n",
       "      <td>DK Readers: Creating the X-Men, How Comic Book...</td>\n",
       "      <td>2000</td>\n",
       "      <td>DK Publishing Inc</td>\n",
       "      <td>http://images.amazon.com/images/P/0789466953.0...</td>\n",
       "      <td>http://images.amazon.com/images/P/0789466953.0...</td>\n",
       "      <td>http://images.amazon.com/images/P/0789466953.0...</td>\n",
       "      <td>NaN</td>\n",
       "    </tr>\n",
       "    <tr>\n",
       "      <th>220731</th>\n",
       "      <td>2070426769</td>\n",
       "      <td>Peuple du ciel, suivi de 'Les Bergers\\\";Jean-M...</td>\n",
       "      <td>2003</td>\n",
       "      <td>Gallimard</td>\n",
       "      <td>http://images.amazon.com/images/P/2070426769.0...</td>\n",
       "      <td>http://images.amazon.com/images/P/2070426769.0...</td>\n",
       "      <td>http://images.amazon.com/images/P/2070426769.0...</td>\n",
       "      <td>NaN</td>\n",
       "    </tr>\n",
       "  </tbody>\n",
       "</table>\n",
       "<p>271360 rows × 8 columns</p>\n",
       "</div>"
      ],
      "text/plain": [
       "              ISBN                                         Book-Title  \\\n",
       "212233  0947901051                          Collect Post Office Cards   \n",
       "51621   0006479561                                      Sacred Clowns   \n",
       "193438  0140382690                               The Enemy You Killed   \n",
       "25016   0879972734                                 Walkers On the Sky   \n",
       "17668   0590023888                              Misty of Chincoteague   \n",
       "...            ...                                                ...   \n",
       "80264   0140301690  Alice's Adventures in Wonderland and Through t...   \n",
       "97826   0140201092      Outline of European Architecture (Pelican S.)   \n",
       "209538  078946697X  DK Readers: Creating the X-Men, How It All Beg...   \n",
       "221678  0789466953  DK Readers: Creating the X-Men, How Comic Book...   \n",
       "220731  2070426769  Peuple du ciel, suivi de 'Les Bergers\\\";Jean-M...   \n",
       "\n",
       "             Book-Author Year-Of-Publication  \\\n",
       "212233        A. Roberts                   0   \n",
       "51621     Tony Hillerman                   0   \n",
       "193438   Peter McFarlane                   0   \n",
       "25016       David J Lake                   0   \n",
       "17668   Marguerite Henry                   0   \n",
       "...                  ...                 ...   \n",
       "80264      Lewis Carroll                2050   \n",
       "97826   Nikolaus Pevsner                2050   \n",
       "209538              2000   DK Publishing Inc   \n",
       "221678              2000   DK Publishing Inc   \n",
       "220731              2003           Gallimard   \n",
       "\n",
       "                                                Publisher  \\\n",
       "212233                         Benham (A. Buckingham) Ltd   \n",
       "51621                      Fairmount Books Ltd Remainders   \n",
       "193438                        Penguin Books Australia Ltd   \n",
       "25016                                 Penguin Putnam~mass   \n",
       "17668                                      Scholastic Inc   \n",
       "...                                                   ...   \n",
       "80264                                        Puffin Books   \n",
       "97826                                         Penguin USA   \n",
       "209538  http://images.amazon.com/images/P/078946697X.0...   \n",
       "221678  http://images.amazon.com/images/P/0789466953.0...   \n",
       "220731  http://images.amazon.com/images/P/2070426769.0...   \n",
       "\n",
       "                                              Image-URL-S  \\\n",
       "212233  http://images.amazon.com/images/P/0947901051.0...   \n",
       "51621   http://images.amazon.com/images/P/0006479561.0...   \n",
       "193438  http://images.amazon.com/images/P/0140382690.0...   \n",
       "25016   http://images.amazon.com/images/P/0879972734.0...   \n",
       "17668   http://images.amazon.com/images/P/0590023888.0...   \n",
       "...                                                   ...   \n",
       "80264   http://images.amazon.com/images/P/0140301690.0...   \n",
       "97826   http://images.amazon.com/images/P/0140201092.0...   \n",
       "209538  http://images.amazon.com/images/P/078946697X.0...   \n",
       "221678  http://images.amazon.com/images/P/0789466953.0...   \n",
       "220731  http://images.amazon.com/images/P/2070426769.0...   \n",
       "\n",
       "                                              Image-URL-M  \\\n",
       "212233  http://images.amazon.com/images/P/0947901051.0...   \n",
       "51621   http://images.amazon.com/images/P/0006479561.0...   \n",
       "193438  http://images.amazon.com/images/P/0140382690.0...   \n",
       "25016   http://images.amazon.com/images/P/0879972734.0...   \n",
       "17668   http://images.amazon.com/images/P/0590023888.0...   \n",
       "...                                                   ...   \n",
       "80264   http://images.amazon.com/images/P/0140301690.0...   \n",
       "97826   http://images.amazon.com/images/P/0140201092.0...   \n",
       "209538  http://images.amazon.com/images/P/078946697X.0...   \n",
       "221678  http://images.amazon.com/images/P/0789466953.0...   \n",
       "220731  http://images.amazon.com/images/P/2070426769.0...   \n",
       "\n",
       "                                              Image-URL-L  \n",
       "212233  http://images.amazon.com/images/P/0947901051.0...  \n",
       "51621   http://images.amazon.com/images/P/0006479561.0...  \n",
       "193438  http://images.amazon.com/images/P/0140382690.0...  \n",
       "25016   http://images.amazon.com/images/P/0879972734.0...  \n",
       "17668   http://images.amazon.com/images/P/0590023888.0...  \n",
       "...                                                   ...  \n",
       "80264   http://images.amazon.com/images/P/0140301690.0...  \n",
       "97826   http://images.amazon.com/images/P/0140201092.0...  \n",
       "209538                                                NaN  \n",
       "221678                                                NaN  \n",
       "220731                                                NaN  \n",
       "\n",
       "[271360 rows x 8 columns]"
      ]
     },
     "execution_count": 220,
     "metadata": {},
     "output_type": "execute_result"
    }
   ],
   "source": [
    "data[\"books\"].sort_values(\"Year-Of-Publication\")"
   ]
  },
  {
   "cell_type": "code",
   "execution_count": null,
   "id": "49bf09b3-3641-4d91-81b7-31dd63b25d08",
   "metadata": {},
   "outputs": [],
   "source": []
  }
 ],
 "metadata": {
  "kernelspec": {
   "display_name": "hive-SFGWpxVe-py3.10",
   "language": "python",
   "name": "python3"
  },
  "language_info": {
   "codemirror_mode": {
    "name": "ipython",
    "version": 3
   },
   "file_extension": ".py",
   "mimetype": "text/x-python",
   "name": "python",
   "nbconvert_exporter": "python",
   "pygments_lexer": "ipython3",
   "version": "3.10.4"
  }
 },
 "nbformat": 4,
 "nbformat_minor": 5
}
