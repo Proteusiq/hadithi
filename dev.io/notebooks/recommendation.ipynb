{
 "cells": [
  {
   "cell_type": "code",
   "execution_count": 1,
   "id": "6226f653-6266-4b85-a45f-3e6aaec0daa2",
   "metadata": {
    "tags": []
   },
   "outputs": [
    {
     "name": "stdout",
     "output_type": "stream",
     "text": [
      "/home/prayson/Code/hadithi/dev.io\n"
     ]
    }
   ],
   "source": [
    "%cd .."
   ]
  },
  {
   "cell_type": "code",
   "execution_count": 172,
   "id": "5364976d-cf63-45f0-9556-7a8c9c5acb18",
   "metadata": {
    "tags": []
   },
   "outputs": [],
   "source": [
    "from pathlib import Path\n",
    "from zipfile import ZipFile\n",
    "\n",
    "from httpx import AsyncClient, Client\n",
    "from mimesis import Person\n",
    "from mimesis.locales import Locale\n",
    "import jmespath\n",
    "import pandas as pd"
   ]
  },
  {
   "cell_type": "code",
   "execution_count": 89,
   "id": "79f07e7d-bab4-41e1-b205-903a849a5df0",
   "metadata": {
    "tags": []
   },
   "outputs": [],
   "source": [
    "MIMESIS_LOCALE_URL = \"https://mimesis.name/en/master/locales.html#overriding-locale\"\n",
    "COUNTRY_CODE_CSV = \"assets/languages.csv\"\n",
    "[language_codes, *_] = pd.read_html(MIMESIS_LOCALE_URL)\n",
    "country_codes = pd.read_csv(COUNTRY_CODE_CSV, usecols=[\"Country\", \"Two Letter\"])"
   ]
  },
  {
   "cell_type": "code",
   "execution_count": 110,
   "id": "afe65fc8-538e-4a1f-a56a-56646b5ecb0a",
   "metadata": {
    "tags": []
   },
   "outputs": [],
   "source": [
    "country_iso = (\n",
    "    country_codes\n",
    "     .transform(lambda d: d.str.lower())\n",
    "     .rename(columns={\"Country\": \"country\", \"Two Letter\":\"code\"})\n",
    "     #.drop_duplicates(subset=[\"country\"], keep=\"first\")\n",
    "     .assign(code = lambda d: d[\"code\"].str.split(\"-\").str[0])\n",
    "     .query(\"code != 'en'\")\n",
    ")"
   ]
  },
  {
   "cell_type": "code",
   "execution_count": 111,
   "id": "6b6008ec-825e-4906-81f8-f0dab6884c13",
   "metadata": {
    "tags": []
   },
   "outputs": [],
   "source": [
    "country_language = (language_codes[[\"Code\", \"Name\"]]\n",
    "     .transform(lambda d: d.str.lower())\n",
    "     .merge(country_iso, how=\"left\", left_on=\"Code\", right_on=\"code\")\n",
    "     .dropna(subset=[\"country\", \"code\"])\n",
    "     .loc[:, [\"code\", \"country\"]]\n",
    "     .set_index(\"country\")\n",
    "     .to_dict()\n",
    "     .get(\"code\")\n",
    "\n",
    ")"
   ]
  },
  {
   "cell_type": "code",
   "execution_count": 5,
   "id": "5968d983-9292-45af-824d-2ab832840322",
   "metadata": {
    "tags": []
   },
   "outputs": [
    {
     "name": "stdout",
     "output_type": "stream",
     "text": [
      "['Books.csv', 'Ratings.csv', 'Users.csv', 'recsys_taxonomy2.png']\n"
     ]
    }
   ],
   "source": [
    "DATA_DIR = Path(\"assets/books.zip\")\n",
    "\n",
    "with ZipFile(DATA_DIR) as z:\n",
    "    print(z.namelist())\n",
    "    files = (file for file in z.namelist() if Path(file).suffix == \".csv\")\n",
    "    data = {Path(file).stem.lower(): pd.read_csv(z.extract(file),low_memory=False) for file in files}     "
   ]
  },
  {
   "cell_type": "code",
   "execution_count": 140,
   "id": "1393c5ca-3e46-41e3-91e2-92e01ec8cb66",
   "metadata": {
    "tags": []
   },
   "outputs": [],
   "source": [
    "\n",
    "def get_name(language:str) -> str:\n",
    "    person = Person(language)\n",
    "    return person.full_name()\n"
   ]
  },
  {
   "cell_type": "raw",
   "id": "217309d0-558b-4502-a902-df006d92eab4",
   "metadata": {
    "tags": []
   },
   "source": [
    "%%time\n",
    "# takes ~ 2 min 20 sec\n",
    "users = (data[\"users\"]\n",
    "   .rename(columns={\"User-ID\": \"user_id\", \"Location\":\"location\", \"Age\":\"age\"})\n",
    "   .assign(country = lambda d: d[\"location\"].str.split(\", \").str[-1].str.strip(\",.\"),\n",
    "          language = lambda d: d[\"country\"].transform(country_language.get))\n",
    "  .fillna(value={'language': \"en\"})\n",
    "  .assign(fake_name = lambda d: d[\"language\"].map(get_name))\n",
    "  .loc[:,[\"user_id\", \"fake_name\", \"location\", \"age\"]]\n",
    ")\n",
    "\n",
    "users.to_csv(\"assets/users.csv\", index=False)"
   ]
  },
  {
   "cell_type": "code",
   "execution_count": 156,
   "id": "f9c031fa-dfb9-4777-8c22-53cb94f1daad",
   "metadata": {
    "tags": []
   },
   "outputs": [],
   "source": [
    "users = pd.read_csv(\"assets/users.csv\", dtype_backend=\"pyarrow\", dtype={\"age\":\"Int64\"})"
   ]
  },
  {
   "cell_type": "code",
   "execution_count": 157,
   "id": "53e5912d-9e0f-4898-9989-e577f7a249ef",
   "metadata": {
    "tags": []
   },
   "outputs": [
    {
     "data": {
      "text/html": [
       "<div>\n",
       "<style scoped>\n",
       "    .dataframe tbody tr th:only-of-type {\n",
       "        vertical-align: middle;\n",
       "    }\n",
       "\n",
       "    .dataframe tbody tr th {\n",
       "        vertical-align: top;\n",
       "    }\n",
       "\n",
       "    .dataframe thead th {\n",
       "        text-align: right;\n",
       "    }\n",
       "</style>\n",
       "<table border=\"1\" class=\"dataframe\">\n",
       "  <thead>\n",
       "    <tr style=\"text-align: right;\">\n",
       "      <th></th>\n",
       "      <th>user_id</th>\n",
       "      <th>fake_name</th>\n",
       "      <th>location</th>\n",
       "      <th>age</th>\n",
       "    </tr>\n",
       "  </thead>\n",
       "  <tbody>\n",
       "    <tr>\n",
       "      <th>0</th>\n",
       "      <td>1</td>\n",
       "      <td>Catrice Riggs</td>\n",
       "      <td>nyc, new york, usa</td>\n",
       "      <td>&lt;NA&gt;</td>\n",
       "    </tr>\n",
       "    <tr>\n",
       "      <th>1</th>\n",
       "      <td>2</td>\n",
       "      <td>Johnson Colon</td>\n",
       "      <td>stockton, california, usa</td>\n",
       "      <td>18</td>\n",
       "    </tr>\n",
       "    <tr>\n",
       "      <th>2</th>\n",
       "      <td>3</td>\n",
       "      <td>Лолита Кузьмин</td>\n",
       "      <td>moscow, yukon territory, russia</td>\n",
       "      <td>&lt;NA&gt;</td>\n",
       "    </tr>\n",
       "    <tr>\n",
       "      <th>3</th>\n",
       "      <td>4</td>\n",
       "      <td>Abraim Melo</td>\n",
       "      <td>porto, v.n.gaia, portugal</td>\n",
       "      <td>17</td>\n",
       "    </tr>\n",
       "    <tr>\n",
       "      <th>4</th>\n",
       "      <td>5</td>\n",
       "      <td>Barton King</td>\n",
       "      <td>farnborough, hants, united kingdom</td>\n",
       "      <td>&lt;NA&gt;</td>\n",
       "    </tr>\n",
       "    <tr>\n",
       "      <th>...</th>\n",
       "      <td>...</td>\n",
       "      <td>...</td>\n",
       "      <td>...</td>\n",
       "      <td>...</td>\n",
       "    </tr>\n",
       "    <tr>\n",
       "      <th>278853</th>\n",
       "      <td>278854</td>\n",
       "      <td>Renaldo Gomez</td>\n",
       "      <td>portland, oregon, usa</td>\n",
       "      <td>&lt;NA&gt;</td>\n",
       "    </tr>\n",
       "    <tr>\n",
       "      <th>278854</th>\n",
       "      <td>278855</td>\n",
       "      <td>Elizbeth Bird</td>\n",
       "      <td>tacoma, washington, united kingdom</td>\n",
       "      <td>50</td>\n",
       "    </tr>\n",
       "    <tr>\n",
       "      <th>278855</th>\n",
       "      <td>278856</td>\n",
       "      <td>Arda Guichard</td>\n",
       "      <td>brampton, ontario, canada</td>\n",
       "      <td>&lt;NA&gt;</td>\n",
       "    </tr>\n",
       "    <tr>\n",
       "      <th>278856</th>\n",
       "      <td>278857</td>\n",
       "      <td>Clifford Erickson</td>\n",
       "      <td>knoxville, tennessee, usa</td>\n",
       "      <td>&lt;NA&gt;</td>\n",
       "    </tr>\n",
       "    <tr>\n",
       "      <th>278857</th>\n",
       "      <td>278858</td>\n",
       "      <td>Delbert Petersen</td>\n",
       "      <td>dublin, n/a, ireland</td>\n",
       "      <td>&lt;NA&gt;</td>\n",
       "    </tr>\n",
       "  </tbody>\n",
       "</table>\n",
       "<p>278858 rows × 4 columns</p>\n",
       "</div>"
      ],
      "text/plain": [
       "        user_id          fake_name                            location   age\n",
       "0             1      Catrice Riggs                  nyc, new york, usa  <NA>\n",
       "1             2      Johnson Colon           stockton, california, usa    18\n",
       "2             3     Лолита Кузьмин     moscow, yukon territory, russia  <NA>\n",
       "3             4        Abraim Melo           porto, v.n.gaia, portugal    17\n",
       "4             5        Barton King  farnborough, hants, united kingdom  <NA>\n",
       "...         ...                ...                                 ...   ...\n",
       "278853   278854      Renaldo Gomez               portland, oregon, usa  <NA>\n",
       "278854   278855      Elizbeth Bird  tacoma, washington, united kingdom    50\n",
       "278855   278856      Arda Guichard           brampton, ontario, canada  <NA>\n",
       "278856   278857  Clifford Erickson           knoxville, tennessee, usa  <NA>\n",
       "278857   278858   Delbert Petersen                dublin, n/a, ireland  <NA>\n",
       "\n",
       "[278858 rows x 4 columns]"
      ]
     },
     "execution_count": 157,
     "metadata": {},
     "output_type": "execute_result"
    }
   ],
   "source": [
    "users"
   ]
  },
  {
   "cell_type": "code",
   "execution_count": 246,
   "id": "ee085865-0af9-41ac-b45e-55a6e62af572",
   "metadata": {
    "tags": []
   },
   "outputs": [],
   "source": [
    "client = Client(base_url=\"https://openlibrary.org/api\")\n",
    "ISBN = \"0395974682\"  #\"0140301690\" - Alice in Wonderland\n",
    "r = client.get(url=\"/books\", params={\"bibkeys\": f\"ISBN:{ISBN}\", \"format\":\"json\"}, timeout=10)"
   ]
  },
  {
   "cell_type": "code",
   "execution_count": 247,
   "id": "c88ad219-f049-40fc-b157-390680c12ce4",
   "metadata": {
    "tags": []
   },
   "outputs": [
    {
     "data": {
      "text/plain": [
       "{'ISBN:0395974682': {'bib_key': 'ISBN:0395974682',\n",
       "  'info_url': 'https://openlibrary.org/books/OL7468970M/The_Lord_of_the_Rings',\n",
       "  'preview': 'restricted',\n",
       "  'preview_url': 'https://archive.org/details/lordofringsonevo00jrrt',\n",
       "  'thumbnail_url': 'https://covers.openlibrary.org/b/id/8314546-S.jpg'}}"
      ]
     },
     "execution_count": 247,
     "metadata": {},
     "output_type": "execute_result"
    }
   ],
   "source": [
    "b = r.json()\n",
    "b"
   ]
  },
  {
   "cell_type": "code",
   "execution_count": 248,
   "id": "389225cb-13a3-455c-8531-03932fcee3bc",
   "metadata": {
    "tags": []
   },
   "outputs": [],
   "source": [
    "open_client = Client(base_url=\"https://openlibrary.org\")"
   ]
  },
  {
   "cell_type": "code",
   "execution_count": 249,
   "id": "7375ee94-ce03-45b5-8aab-f1deeda99ae8",
   "metadata": {
    "tags": []
   },
   "outputs": [
    {
     "data": {
      "text/plain": [
       "<Response [200 OK]>"
      ]
     },
     "execution_count": 249,
     "metadata": {},
     "output_type": "execute_result"
    }
   ],
   "source": [
    "[url, *_] = jmespath.search(\"*.info_url\", b)\n",
    "work = url.split(\"/\")[-2]\n",
    "\n",
    "r = open_client.get(f\"/books/{work}.json\", timeout=10)\n",
    "r"
   ]
  },
  {
   "cell_type": "code",
   "execution_count": 250,
   "id": "193d2644-fa66-4a6e-8cbc-5d04767a0352",
   "metadata": {
    "tags": []
   },
   "outputs": [
    {
     "data": {
      "text/plain": [
       "{'publishers': ['Houghton Mifflin Company'],\n",
       " 'number_of_pages': 1137,\n",
       " 'table_of_contents': [{'level': 0,\n",
       "   'label': '',\n",
       "   'title': 'The fellowship of the ring --',\n",
       "   'pagenum': ''},\n",
       "  {'level': 0, 'label': '', 'title': 'The two towers --', 'pagenum': ''},\n",
       "  {'level': 0,\n",
       "   'label': '',\n",
       "   'title': 'The return of the king.',\n",
       "   'pagenum': ''}],\n",
       " 'description': \"One Ring to rule them all, One Ring to find them, One Ring to bring them all and in the darkness bind them\\r\\n\\r\\nIn ancient times the Rings of Power were crafted by the Elven-smiths, and Sauron, The Dark Lord, forged the One Ring, filling it with his own power so that he could rule all others. But the One Ring was taken from him, and though he sought it throughout Middle-earth, it remained lost to him. After many ages, it fell by chance into the hands of the hobbit Bilbo Baggins.\\r\\n\\r\\nFrom his fastness in the Dark Tower of Mordor, Sauron's power spread far and wide. He gathered all the Great Rings to him, but always he searched for the One Ring that would complete his dominion.\\r\\n\\r\\nOn Bilbo's eleventy-first birthday, he disapeared, bequeathing to his young cousin, Frodo, the Ruling Ring and a perilous quest: to journey across Middle-earth, deep into the shadow of the Dark Lord, and destroy the Ring by casting it into the Cracks of Doom.\\r\\n\\r\\nTHE LORD OF THE RINGS tells of the great quest undertaken by Frodo and the Fellowship of the Ring: Gandalf the Wizard; the hobbits Merry, Pippin and Sam; Gimli the Dwarf; Legolas the Elf; Boromir of Gondor; and a tall, mysterious stranger called Strider.\\r\\n--back cover\",\n",
       " 'contributors': [{'role': 'Cover Design', 'name': 'Stephen Cooley'},\n",
       "  {'role': 'Cover Art and Illustrations', 'name': 'Alan Lee'}],\n",
       " 'covers': [8314546],\n",
       " 'physical_format': 'Paperback',\n",
       " 'lc_classifications': ['PR6039.O32 L6 1999', 'PR6039.O32L6 1999'],\n",
       " 'latest_revision': 17,\n",
       " 'key': '/books/OL7468970M',\n",
       " 'authors': [{'key': '/authors/OL26320A'}],\n",
       " 'ocaid': 'lordofringsonevo00jrrt',\n",
       " 'publish_places': ['New York, USA'],\n",
       " 'languages': [{'key': '/languages/eng'}],\n",
       " 'pagination': 'xviii, 1137p.',\n",
       " 'classifications': {},\n",
       " 'source_records': ['amazon:0395974682:bf:1910547638:244497',\n",
       "  'bwb:9780395974681'],\n",
       " 'title': 'The Lord of the Rings',\n",
       " 'lccn': ['99026007'],\n",
       " 'notes': 'Movie Tie-In Edition',\n",
       " 'identifiers': {'alibris_id': ['9780395974681'],\n",
       "  'google': ['BiCqPwAACAAJ'],\n",
       "  'canadian_national_library_archive': ['20600075'],\n",
       "  'paperback_swap': ['0395974682'],\n",
       "  'amazon': ['0395974682'],\n",
       "  'librarything': ['1386651'],\n",
       "  'goodreads': ['273437']},\n",
       " 'isbn_13': ['9780395974681'],\n",
       " 'created': {'type': '/type/datetime', 'value': '2008-04-29T13:35:46.876380'},\n",
       " 'edition_name': 'One-Volume Edition',\n",
       " 'dewey_decimal_class': ['823/.912 21'],\n",
       " 'isbn_10': ['0395974682'],\n",
       " 'publish_date': '1999',\n",
       " 'last_modified': {'type': '/type/datetime',\n",
       "  'value': '2020-10-13T15:22:06.720520'},\n",
       " 'copyright_date': '1954, 1965, 1966, 1982, 1993, 1994',\n",
       " 'oclc_numbers': ['41049708', '1036689097'],\n",
       " 'works': [{'key': '/works/OL27448W'}],\n",
       " 'type': {'key': '/type/edition'},\n",
       " 'revision': 17}"
      ]
     },
     "execution_count": 250,
     "metadata": {},
     "output_type": "execute_result"
    }
   ],
   "source": [
    "r.json()"
   ]
  },
  {
   "cell_type": "code",
   "execution_count": 251,
   "id": "3deea33d-2727-4215-96be-9d72d17770f8",
   "metadata": {
    "tags": []
   },
   "outputs": [
    {
     "data": {
      "text/plain": [
       "<Response [200 OK]>"
      ]
     },
     "execution_count": 251,
     "metadata": {},
     "output_type": "execute_result"
    }
   ],
   "source": [
    "b = r.json()\n",
    "\n",
    "g = open_client.get(url=f'{b.get(\"works\")[0].get(\"key\")}.json', timeout=10)\n",
    "g"
   ]
  },
  {
   "cell_type": "code",
   "execution_count": 252,
   "id": "ffdf4e08-b029-4708-b9eb-eee6b54fb851",
   "metadata": {
    "tags": []
   },
   "outputs": [
    {
     "data": {
      "text/plain": [
       "{'description': {'type': '/type/text',\n",
       "  'value': 'Originally published from 1954 through 1956, J.R.R. Tolkien\\'s richly complex series ushered in a new age of epic adventure storytelling. A philologist and illustrator who took inspiration from his work, Tolkien invented the modern heroic quest novel from the ground up, creating not just a world, but a domain, not just a lexicon, but a language, that would spawn countless imitators and lead to the inception of the epic fantasy genre. Today, THE LORD OF THE RINGS is considered \"the most influential fantasy novel ever written.\" (THE ENCYCLOPEDIA OF FANTASY)\\r\\n\\r\\nDuring his travels across Middle-earth, the hobbit Bilbo Baggins had found the Ring. But the simple band of gold was far from ordinary; it was in fact the One Ring - the greatest of the ancient Rings of Power. Sauron, the Dark Lord, had infused it with his own evil magic, and when it was lost, he was forced to flee into hiding.\\r\\n\\r\\nBut now Sauron\\'s exile has ended and his power is spreading anew, fueled by the knowledge that his treasure has been found. He has gathered all the Great Rings to him, and will stop at nothing to reclaim the One that will complete his dominion. The only way to stop him is to cast the Ruling Ring deep into the Fire-Mountain at the heart of the land of Mordor--Sauron\\'s dark realm.\\r\\n\\r\\nFate has placed the burden in the hands of Frodo Baggins, Bilbo\\'s heir...and he is resolved to bear it to its end. Or his own. \\r\\n\\r\\n\\r\\n----------\\r\\n\\r\\n\\r\\n**Contains**\\r\\n\\r\\n - [The Fellowship of the Ring][1]\\r\\n - [The Two Towers][2]\\r\\n - [The Return of the King][3]\\r\\n - [The Lord of the Rings [2/2]](https://openlibrary.org/works/OL27306128W)\\r\\n - [The Lord of the Rings [1/6]](https://openlibrary.org/works/OL24170898W)\\r\\n - [The Lord of the Rings [1/9]](https://openlibrary.org/works/OL27305953W)\\r\\n - [The Lord of the Rings [2/9]](https://openlibrary.org/works/OL27305892W)\\r\\n - [The Lord of the Rings [3/9]](https://openlibrary.org/works/OL27306048W)\\r\\n\\r\\n\\r\\n\\r\\n  [1]: https://openlibrary.org/works/OL14933414W/The_Fellowship_of_the_Ring\\r\\n  [2]: https://openlibrary.org/works/OL27479W/The_Two_Towers\\r\\n  [3]: https://openlibrary.org/works/OL27516W/The_Return_of_the_King'},\n",
       " 'links': [{'url': 'http://www.tolkienestate.com/en/writing/tales-of-middle-earth/the-lord-of-the-rings.html',\n",
       "   'title': 'Tolkien Estate | The Lord of the Rings',\n",
       "   'type': {'key': '/type/link'}},\n",
       "  {'title': 'The Lord of the Rings - Wikipedia',\n",
       "   'url': 'https://en.wikipedia.org/wiki/The_Lord_of_the_Rings',\n",
       "   'type': {'key': '/type/link'}},\n",
       "  {'title': 'fantasybookreview.co.uk/JRR-Tolkien/The-Lord-Of-The-Rings',\n",
       "   'url': 'http://www.fantasybookreview.co.uk/JRR-Tolkien/The-Lord-Of-The-Rings.html',\n",
       "   'type': {'key': '/type/link'}},\n",
       "  {'title': 'The Lord of the Rings | Overview & Summary | Britannica.com',\n",
       "   'url': 'https://www.britannica.com/topic/The-Lord-of-the-Rings',\n",
       "   'type': {'key': '/type/link'}},\n",
       "  {'url': 'http://tolkiengateway.net/wiki/The_Lord_of_the_Rings',\n",
       "   'title': 'The Lord of the Rings - Tolkien Gateway',\n",
       "   'type': {'key': '/type/link'}}],\n",
       " 'title': 'The Lord of the Rings',\n",
       " 'covers': [9255566,\n",
       "  9255563,\n",
       "  -1,\n",
       "  10119567,\n",
       "  10184372,\n",
       "  10290749,\n",
       "  8650047,\n",
       "  10399001,\n",
       "  10464294,\n",
       "  10510076,\n",
       "  10521315,\n",
       "  10632956,\n",
       "  10865728,\n",
       "  12026122,\n",
       "  12288645,\n",
       "  10548271,\n",
       "  12595695],\n",
       " 'subject_places': ['Mordor',\n",
       "  'Hornburg',\n",
       "  'Isengard',\n",
       "  'Cracks of Doom',\n",
       "  'Fangorn Forest',\n",
       "  'Middle Earth',\n",
       "  'Tierra Media'],\n",
       " 'first_publish_date': 'September 3, 2001',\n",
       " 'subject_people': ['Frodo Baggins',\n",
       "  'Samwise Gamgee',\n",
       "  'Meriadoc Brandybuck',\n",
       "  'Peregrin Took',\n",
       "  'Gandalf the Grey',\n",
       "  'Aragorn',\n",
       "  'Legolas Greenleaf',\n",
       "  'Gimli',\n",
       "  'Boromir',\n",
       "  'Denethor',\n",
       "  'Faramir',\n",
       "  'Galadriel',\n",
       "  'Celeborn',\n",
       "  'Elrond',\n",
       "  'Arwen Undómiel',\n",
       "  'Bilbo Baggins',\n",
       "  'Théoden',\n",
       "  'Éomer',\n",
       "  'Éowyn',\n",
       "  'Treebeard',\n",
       "  'Tom Bombadil',\n",
       "  'King Thranduil',\n",
       "  'Silvan Elves',\n",
       "  'Sauron',\n",
       "  'Elves of Eregion',\n",
       "  'the Nazgûl',\n",
       "  'The Witch-king of Angmar',\n",
       "  'Saruman the White',\n",
       "  'Gríma Wormtongue',\n",
       "  'Gollum',\n",
       "  'Shelob',\n",
       "  \"Durin's Bane\",\n",
       "  'Mouth of Sauron'],\n",
       " 'key': '/works/OL27448W',\n",
       " 'authors': [{'author': {'key': '/authors/OL26320A'},\n",
       "   'type': {'key': '/type/author_role'}}],\n",
       " 'excerpts': [{'excerpt': \"'Battle and war!' said Gandalf. 'Ride on!'\",\n",
       "   'pages': '494',\n",
       "   'author': {'key': '/people/mekBot'}},\n",
       "  {'comment': 'first sentence',\n",
       "   'excerpt': 'This book is largely concerned with Hobbits, and from its pages a reader may discover much of their character and a little of their history.',\n",
       "   'author': {'key': '/people/seabelis'}}],\n",
       " 'subjects': ['The Lord of the Rings',\n",
       "  'Fiction',\n",
       "  'Ficción',\n",
       "  'English Fantasy fiction',\n",
       "  'Ficción fantástica inglesa',\n",
       "  'Fantasy fiction',\n",
       "  'Fiction in English',\n",
       "  'Open Library Staff Picks',\n",
       "  'Middle Earth (Imaginary place)',\n",
       "  'Fiction, fantasy, epic',\n",
       "  'Middle earth (imaginary place), fiction',\n",
       "  'Baggins, frodo (fictitious character), fiction',\n",
       "  'Gandalf (fictitious character), fiction',\n",
       "  'British and irish fiction (fictional works by one author)',\n",
       "  'English literature',\n",
       "  'Frodo Baggins (Fictitious character)',\n",
       "  'Baggins, bilbo (fictitious character), fiction',\n",
       "  'Fiction, fantasy, general',\n",
       "  'English language',\n",
       "  'Fiction, media tie-in',\n",
       "  'Gift books',\n",
       "  'Quests (Expeditions)',\n",
       "  'Wizards',\n",
       "  'Terre du Milieu (Lieu imaginaire)',\n",
       "  'Romans, nouvelles',\n",
       "  'Quête'],\n",
       " 'type': {'key': '/type/work'},\n",
       " 'subject_times': ['The end of the third age'],\n",
       " 'latest_revision': 109,\n",
       " 'revision': 109,\n",
       " 'created': {'type': '/type/datetime', 'value': '2009-10-13T02:46:28.838662'},\n",
       " 'last_modified': {'type': '/type/datetime',\n",
       "  'value': '2023-09-27T07:28:22.715340'}}"
      ]
     },
     "execution_count": 252,
     "metadata": {},
     "output_type": "execute_result"
    }
   ],
   "source": [
    "g.json()"
   ]
  },
  {
   "cell_type": "code",
   "execution_count": 158,
   "id": "5e45f299-bb04-4d1f-bd0c-d7b7c3aa3eae",
   "metadata": {
    "tags": []
   },
   "outputs": [],
   "source": [
    "# https://openlibrary.org/works/OL18020194W/bookshelves.json\n",
    "# https://openlibrary.org/works/OL18020194W/ratings.json"
   ]
  },
  {
   "cell_type": "code",
   "execution_count": 253,
   "id": "82f56bb7-ce8b-45c0-a7e8-007a74447030",
   "metadata": {
    "tags": []
   },
   "outputs": [
    {
     "data": {
      "text/plain": [
       "{'counts': {'want_to_read': 1308,\n",
       "  'currently_reading': 102,\n",
       "  'already_read': 119}}"
      ]
     },
     "execution_count": 253,
     "metadata": {},
     "output_type": "execute_result"
    }
   ],
   "source": [
    "open_client.get(url=f'{jmespath.search(\"works[0].key\", b)}/bookshelves.json', timeout=10).json()"
   ]
  },
  {
   "cell_type": "code",
   "execution_count": 254,
   "id": "84134e61-43fa-4108-b3ac-295c6bd86c3b",
   "metadata": {
    "tags": []
   },
   "outputs": [
    {
     "data": {
      "text/plain": [
       "{'summary': {'average': 4.53030303030303,\n",
       "  'count': 66,\n",
       "  'sortable': 4.209366243712695},\n",
       " 'counts': {'1': 2, '2': 2, '3': 6, '4': 5, '5': 51}}"
      ]
     },
     "execution_count": 254,
     "metadata": {},
     "output_type": "execute_result"
    }
   ],
   "source": [
    "open_client.get(url=f'{jmespath.search(\"works[0].key\", b)}/ratings.json', timeout=10).json()"
   ]
  },
  {
   "cell_type": "code",
   "execution_count": 255,
   "id": "cfa18948-17a6-4294-acdd-3ec22ffc8238",
   "metadata": {
    "tags": []
   },
   "outputs": [
    {
     "data": {
      "text/plain": [
       "'/authors/OL26320A'"
      ]
     },
     "execution_count": 255,
     "metadata": {},
     "output_type": "execute_result"
    }
   ],
   "source": [
    "jmespath.search(\"authors[0].author.key\", g.json())"
   ]
  },
  {
   "cell_type": "code",
   "execution_count": 256,
   "id": "2d287d85-0602-4347-b479-eb409a743de9",
   "metadata": {
    "tags": []
   },
   "outputs": [
    {
     "data": {
      "text/plain": [
       "{'fuller_name': 'John Ronald Reuel Tolkien',\n",
       " 'links': [{'title': 'The Tolkien Society',\n",
       "   'url': 'http://www.tolkiensociety.org/index.html',\n",
       "   'type': {'key': '/type/link'}},\n",
       "  {'title': 'The Official Website of the JRR Tolkien Estate',\n",
       "   'url': 'http://www.tolkienestate.com/',\n",
       "   'type': {'key': '/type/link'}},\n",
       "  {'url': 'http://www.theonering.com/',\n",
       "   'title': 'TheOneRing.com',\n",
       "   'type': {'key': '/type/link'}},\n",
       "  {'title': 'Planet Tolkien',\n",
       "   'url': 'http://www.planet-tolkien.com/',\n",
       "   'type': {'key': '/type/link'}},\n",
       "  {'url': 'http://www.tolkienlibrary.com/',\n",
       "   'title': 'The Tolkien Library: Collecting Tolkien books',\n",
       "   'type': {'key': '/type/link'}}],\n",
       " 'key': '/authors/OL26320A',\n",
       " 'name': 'J.R.R. Tolkien',\n",
       " 'birth_date': '3 January 1892',\n",
       " 'death_date': '2 September 1973',\n",
       " 'photos': [6155606, 6433524, 6433525, 6433526, 5731377, -1],\n",
       " 'personal_name': 'J. R. R. Tolkien',\n",
       " 'alternate_names': ['John Ronald Reuel Tolkien',\n",
       "  'J. R. R. Tolkein',\n",
       "  'J.R.R. Tolkein',\n",
       "  'Dzhon R. R. Tolkin',\n",
       "  'Yue Han Luo Na De Rui Er Tuo Er Jin',\n",
       "  'J. R. R. Tolkien',\n",
       "  'J R R Tolkien',\n",
       "  'John R. R. Tolkien',\n",
       "  'J.r.r. Tolkien',\n",
       "  'J. R. R. TOLKIEN',\n",
       "  'TOLKIEN',\n",
       "  'Tolkien',\n",
       "  'J.R.R. TOLKIEN',\n",
       "  'J.R.R. Tolkien.',\n",
       "  'tolkien john ronald reuel',\n",
       "  'John (Pseudonym) Tolkien',\n",
       "  'JRR Tolkien',\n",
       "  'Tolkien,JRR',\n",
       "  'J.R. Tolkien',\n",
       "  'Tolkien JRR',\n",
       "  'TOLKIEN J.R.R.',\n",
       "  'Tolkien J.R.R.',\n",
       "  'J. R. R Tolkien',\n",
       "  'J. R. R. Tolkien',\n",
       "  'John R R Tolkien',\n",
       "  'J-R-R Tolkien',\n",
       "  'J R R TOLKIEN',\n",
       "  'J. R.R Tolkien',\n",
       "  'Tolkien, J.R.R.',\n",
       "  'The Hobbit By J. R. R. Tolkien',\n",
       "  'The Two Towers By J. R. R. Tolkien',\n",
       "  'J. R. R. 1892-1973 Tolkien',\n",
       "  'Tolkien, J. R. R.',\n",
       "  'The Fellowship of the Ring By J. R. R. Tolkien',\n",
       "  'J.R.R Tolkien',\n",
       "  'John Ronald Reuel Tolkien, Christopher Tolkien, Tin Jolas',\n",
       "  'J. R. R TOLKIEN',\n",
       "  'J. R. R. (John Ronald Reuel) (1892-1973) Tolkien',\n",
       "  'JOHN RONALD REUEL TOLKIEN'],\n",
       " 'wikipedia': 'http://en.wikipedia.org/wiki/J._R._R._Tolkien',\n",
       " 'type': {'key': '/type/author'},\n",
       " 'source_records': ['ia:herrabliss0000tolk',\n",
       "  'amazon:0007557272',\n",
       "  'amazon:0007637675',\n",
       "  'amazon:8845927555',\n",
       "  'bwb:9780008360108',\n",
       "  'amazon:3867170355',\n",
       "  'amazon:8830102717',\n",
       "  'amazon:2266017519',\n",
       "  'amazon:0007270615',\n",
       "  'ia:futatsunoto0000unse',\n",
       "  'amazon:0342851705',\n",
       "  'ia:leseigneurdesann0000tolk_k6z7',\n",
       "  'amazon:3423590610',\n",
       "  'amazon:1865035955',\n",
       "  'amazon:3608939849',\n",
       "  'amazon:0007317255',\n",
       "  'amazon:902254771X',\n",
       "  'amazon:0344895459',\n",
       "  'ia:twotowers0002tolk_r5g9',\n",
       "  'ia:returnofkingbein0003tolk_m6s4',\n",
       "  'amazon:226700092X',\n",
       "  'ia:lordofrings0000tolk_j2h8',\n",
       "  'ia:lacomunidaddelan0000tolk',\n",
       "  'amazon:0618260293',\n",
       "  'amazon:1705047610',\n",
       "  'amazon:2267017415',\n",
       "  'amazon:0007635559',\n",
       "  'amazon:360893829X',\n",
       "  'bwb:9781782012696',\n",
       "  'marc:marc_uic/UIC_2022.mrc:9810667:974',\n",
       "  'amazon:1483034577',\n",
       "  'amazon:8845293890',\n",
       "  'bwb:9786070791390',\n",
       "  'promise:bwb_daily_pallets_2022-07-28',\n",
       "  'promise:bwb_daily_pallets_2023-02-22:W8-BNK-802',\n",
       "  'promise:bwb_daily_pallets_2020-04-30',\n",
       "  'amazon:9022531953',\n",
       "  'promise:bwb_daily_pallets_2022-06-06',\n",
       "  'amazon:9600403678',\n",
       "  'bwb:9781693418167',\n",
       "  'amazon:8481362581',\n",
       "  'amazon:8467909234',\n",
       "  'amazon:2356414916',\n",
       "  'amazon:8377856816',\n",
       "  'amazon:2267030519',\n",
       "  'amazon:8377856824',\n",
       "  'promise:bwb_daily_pallets_2022-05-16',\n",
       "  'promise:bwb_daily_pallets_2022-03-17',\n",
       "  'amazon:5170075308',\n",
       "  'promise:bwb_daily_pallets_2022-12-12',\n",
       "  'ia:lesaventuresdeto0000tolk_t0n6',\n",
       "  'promise:bwb_daily_pallets_2022-08-30:KR-117-775',\n",
       "  'amazon:0007927045',\n",
       "  'amazon:8412076540',\n",
       "  'promise:bwb_daily_pallets_2022-09-07:W7-CXN-847',\n",
       "  'amazon:0261103687',\n",
       "  'amazon:912409546X',\n",
       "  'bwb:9780344895463',\n",
       "  'promise:bwb_daily_pallets_2022-08-02',\n",
       "  'promise:bwb_daily_pallets_2022-04-01:O8-ADR-484',\n",
       "  'amazon:8381164842',\n",
       "  'promise:bwb_daily_pallets_2023-04-19:P8-BNX-316',\n",
       "  'promise:bwb_daily_pallets_2023-04-11:W8-BRW-606',\n",
       "  'promise:bwb_daily_pallets_2023-04-07:KS-199-194',\n",
       "  'promise:bwb_daily_pallets_2023-03-31:KS-198-493',\n",
       "  'promise:bwb_daily_pallets_2023-03-29:KS-198-041',\n",
       "  'promise:bwb_daily_pallets_2023-05-15:KN-103-569',\n",
       "  'marc:harvard_bibliographic_metadata/ab.bib.11.20150123.full.mrc:381341198:1041',\n",
       "  'promise:bwb_daily_pallets_2023-06-01:KS-537-871',\n",
       "  'promise:bwb_daily_pallets_2023-07-05:W8-BAY-330',\n",
       "  'bwb:9780261103962',\n",
       "  'promise:bwb_daily_pallets_2023-07-24:KS-589-214',\n",
       "  'promise:bwb_daily_pallets_2023-08-21:W8-BVD-810',\n",
       "  'promise:bwb_daily_pallets_2023-09-21:W8-BVW-542',\n",
       "  'promise:bwb_daily_pallets_2023-10-10:W8-ADE-653'],\n",
       " 'remote_ids': {'viaf': '95218067',\n",
       "  'storygraph': 'ab1242c9-8f9b-475c-845f-ea406db30ebc',\n",
       "  'amazon': 'B000ARC6KA',\n",
       "  'wikidata': 'Q892',\n",
       "  'isni': '0000000121441970',\n",
       "  'goodreads': '656983',\n",
       "  'project_gutenberg': '42379'},\n",
       " 'bio': 'John Ronald Reuel Tolkien (1892-1973) was a major scholar of the English language, specialising in Old and Middle English. Twice Professor of Anglo-Saxon (Old English) at the University of Oxford, he also wrote a number of stories, including most famously The Hobbit (1937) and The Lord of the Rings (1954-1955), which are set in a pre-historic era in an invented version of the world which he called by the Middle English name of Middle-earth. This was peopled by Men (and women), Elves, Dwarves, Trolls, Orcs (or Goblins) and of course Hobbits. He has regularly been condemned by the Eng. Lit. establishment, with honourable exceptions, but loved by literally millions of readers worldwide.\\r\\n\\r\\nIn the 1960s he was taken up by many members of the nascent \"counter-culture\" largely because of his concern with environmental issues. In 1997 he came top of three British polls, organised respectively by Channel 4 / Waterstone\\'s, the Folio Society, and SFX, the UK\\'s leading science fiction media magazine, amongst discerning readers asked to vote for the greatest book of the 20th century. \\r\\n\\r\\n([Source][1])\\r\\n\\r\\n\\r\\n  [1]: http://www.tolkiensociety.org/tolkien/biography.html',\n",
       " 'latest_revision': 51,\n",
       " 'revision': 51,\n",
       " 'created': {'type': '/type/datetime', 'value': '2008-04-01T03:28:50.625462'},\n",
       " 'last_modified': {'type': '/type/datetime',\n",
       "  'value': '2023-10-12T19:42:54.947784'}}"
      ]
     },
     "execution_count": 256,
     "metadata": {},
     "output_type": "execute_result"
    }
   ],
   "source": [
    "open_client.get(url=f'{jmespath.search(\"authors[0].author.key\", g.json())}.json', timeout=10).json()"
   ]
  },
  {
   "cell_type": "code",
   "execution_count": null,
   "id": "b2a3587f-cf35-41a7-9000-406012a593bc",
   "metadata": {},
   "outputs": [],
   "source": [
    "https://openlibrary.org/books/OL3597106M.json"
   ]
  },
  {
   "cell_type": "code",
   "execution_count": 220,
   "id": "5dcb0ca1-f358-4c9a-ae90-3ae35c5c9848",
   "metadata": {
    "tags": []
   },
   "outputs": [
    {
     "data": {
      "text/html": [
       "<div>\n",
       "<style scoped>\n",
       "    .dataframe tbody tr th:only-of-type {\n",
       "        vertical-align: middle;\n",
       "    }\n",
       "\n",
       "    .dataframe tbody tr th {\n",
       "        vertical-align: top;\n",
       "    }\n",
       "\n",
       "    .dataframe thead th {\n",
       "        text-align: right;\n",
       "    }\n",
       "</style>\n",
       "<table border=\"1\" class=\"dataframe\">\n",
       "  <thead>\n",
       "    <tr style=\"text-align: right;\">\n",
       "      <th></th>\n",
       "      <th>ISBN</th>\n",
       "      <th>Book-Title</th>\n",
       "      <th>Book-Author</th>\n",
       "      <th>Year-Of-Publication</th>\n",
       "      <th>Publisher</th>\n",
       "      <th>Image-URL-S</th>\n",
       "      <th>Image-URL-M</th>\n",
       "      <th>Image-URL-L</th>\n",
       "    </tr>\n",
       "  </thead>\n",
       "  <tbody>\n",
       "    <tr>\n",
       "      <th>212233</th>\n",
       "      <td>0947901051</td>\n",
       "      <td>Collect Post Office Cards</td>\n",
       "      <td>A. Roberts</td>\n",
       "      <td>0</td>\n",
       "      <td>Benham (A. Buckingham) Ltd</td>\n",
       "      <td>http://images.amazon.com/images/P/0947901051.0...</td>\n",
       "      <td>http://images.amazon.com/images/P/0947901051.0...</td>\n",
       "      <td>http://images.amazon.com/images/P/0947901051.0...</td>\n",
       "    </tr>\n",
       "    <tr>\n",
       "      <th>51621</th>\n",
       "      <td>0006479561</td>\n",
       "      <td>Sacred Clowns</td>\n",
       "      <td>Tony Hillerman</td>\n",
       "      <td>0</td>\n",
       "      <td>Fairmount Books Ltd Remainders</td>\n",
       "      <td>http://images.amazon.com/images/P/0006479561.0...</td>\n",
       "      <td>http://images.amazon.com/images/P/0006479561.0...</td>\n",
       "      <td>http://images.amazon.com/images/P/0006479561.0...</td>\n",
       "    </tr>\n",
       "    <tr>\n",
       "      <th>193438</th>\n",
       "      <td>0140382690</td>\n",
       "      <td>The Enemy You Killed</td>\n",
       "      <td>Peter McFarlane</td>\n",
       "      <td>0</td>\n",
       "      <td>Penguin Books Australia Ltd</td>\n",
       "      <td>http://images.amazon.com/images/P/0140382690.0...</td>\n",
       "      <td>http://images.amazon.com/images/P/0140382690.0...</td>\n",
       "      <td>http://images.amazon.com/images/P/0140382690.0...</td>\n",
       "    </tr>\n",
       "    <tr>\n",
       "      <th>25016</th>\n",
       "      <td>0879972734</td>\n",
       "      <td>Walkers On the Sky</td>\n",
       "      <td>David J Lake</td>\n",
       "      <td>0</td>\n",
       "      <td>Penguin Putnam~mass</td>\n",
       "      <td>http://images.amazon.com/images/P/0879972734.0...</td>\n",
       "      <td>http://images.amazon.com/images/P/0879972734.0...</td>\n",
       "      <td>http://images.amazon.com/images/P/0879972734.0...</td>\n",
       "    </tr>\n",
       "    <tr>\n",
       "      <th>17668</th>\n",
       "      <td>0590023888</td>\n",
       "      <td>Misty of Chincoteague</td>\n",
       "      <td>Marguerite Henry</td>\n",
       "      <td>0</td>\n",
       "      <td>Scholastic Inc</td>\n",
       "      <td>http://images.amazon.com/images/P/0590023888.0...</td>\n",
       "      <td>http://images.amazon.com/images/P/0590023888.0...</td>\n",
       "      <td>http://images.amazon.com/images/P/0590023888.0...</td>\n",
       "    </tr>\n",
       "    <tr>\n",
       "      <th>...</th>\n",
       "      <td>...</td>\n",
       "      <td>...</td>\n",
       "      <td>...</td>\n",
       "      <td>...</td>\n",
       "      <td>...</td>\n",
       "      <td>...</td>\n",
       "      <td>...</td>\n",
       "      <td>...</td>\n",
       "    </tr>\n",
       "    <tr>\n",
       "      <th>80264</th>\n",
       "      <td>0140301690</td>\n",
       "      <td>Alice's Adventures in Wonderland and Through t...</td>\n",
       "      <td>Lewis Carroll</td>\n",
       "      <td>2050</td>\n",
       "      <td>Puffin Books</td>\n",
       "      <td>http://images.amazon.com/images/P/0140301690.0...</td>\n",
       "      <td>http://images.amazon.com/images/P/0140301690.0...</td>\n",
       "      <td>http://images.amazon.com/images/P/0140301690.0...</td>\n",
       "    </tr>\n",
       "    <tr>\n",
       "      <th>97826</th>\n",
       "      <td>0140201092</td>\n",
       "      <td>Outline of European Architecture (Pelican S.)</td>\n",
       "      <td>Nikolaus Pevsner</td>\n",
       "      <td>2050</td>\n",
       "      <td>Penguin USA</td>\n",
       "      <td>http://images.amazon.com/images/P/0140201092.0...</td>\n",
       "      <td>http://images.amazon.com/images/P/0140201092.0...</td>\n",
       "      <td>http://images.amazon.com/images/P/0140201092.0...</td>\n",
       "    </tr>\n",
       "    <tr>\n",
       "      <th>209538</th>\n",
       "      <td>078946697X</td>\n",
       "      <td>DK Readers: Creating the X-Men, How It All Beg...</td>\n",
       "      <td>2000</td>\n",
       "      <td>DK Publishing Inc</td>\n",
       "      <td>http://images.amazon.com/images/P/078946697X.0...</td>\n",
       "      <td>http://images.amazon.com/images/P/078946697X.0...</td>\n",
       "      <td>http://images.amazon.com/images/P/078946697X.0...</td>\n",
       "      <td>NaN</td>\n",
       "    </tr>\n",
       "    <tr>\n",
       "      <th>221678</th>\n",
       "      <td>0789466953</td>\n",
       "      <td>DK Readers: Creating the X-Men, How Comic Book...</td>\n",
       "      <td>2000</td>\n",
       "      <td>DK Publishing Inc</td>\n",
       "      <td>http://images.amazon.com/images/P/0789466953.0...</td>\n",
       "      <td>http://images.amazon.com/images/P/0789466953.0...</td>\n",
       "      <td>http://images.amazon.com/images/P/0789466953.0...</td>\n",
       "      <td>NaN</td>\n",
       "    </tr>\n",
       "    <tr>\n",
       "      <th>220731</th>\n",
       "      <td>2070426769</td>\n",
       "      <td>Peuple du ciel, suivi de 'Les Bergers\\\";Jean-M...</td>\n",
       "      <td>2003</td>\n",
       "      <td>Gallimard</td>\n",
       "      <td>http://images.amazon.com/images/P/2070426769.0...</td>\n",
       "      <td>http://images.amazon.com/images/P/2070426769.0...</td>\n",
       "      <td>http://images.amazon.com/images/P/2070426769.0...</td>\n",
       "      <td>NaN</td>\n",
       "    </tr>\n",
       "  </tbody>\n",
       "</table>\n",
       "<p>271360 rows × 8 columns</p>\n",
       "</div>"
      ],
      "text/plain": [
       "              ISBN                                         Book-Title  \\\n",
       "212233  0947901051                          Collect Post Office Cards   \n",
       "51621   0006479561                                      Sacred Clowns   \n",
       "193438  0140382690                               The Enemy You Killed   \n",
       "25016   0879972734                                 Walkers On the Sky   \n",
       "17668   0590023888                              Misty of Chincoteague   \n",
       "...            ...                                                ...   \n",
       "80264   0140301690  Alice's Adventures in Wonderland and Through t...   \n",
       "97826   0140201092      Outline of European Architecture (Pelican S.)   \n",
       "209538  078946697X  DK Readers: Creating the X-Men, How It All Beg...   \n",
       "221678  0789466953  DK Readers: Creating the X-Men, How Comic Book...   \n",
       "220731  2070426769  Peuple du ciel, suivi de 'Les Bergers\\\";Jean-M...   \n",
       "\n",
       "             Book-Author Year-Of-Publication  \\\n",
       "212233        A. Roberts                   0   \n",
       "51621     Tony Hillerman                   0   \n",
       "193438   Peter McFarlane                   0   \n",
       "25016       David J Lake                   0   \n",
       "17668   Marguerite Henry                   0   \n",
       "...                  ...                 ...   \n",
       "80264      Lewis Carroll                2050   \n",
       "97826   Nikolaus Pevsner                2050   \n",
       "209538              2000   DK Publishing Inc   \n",
       "221678              2000   DK Publishing Inc   \n",
       "220731              2003           Gallimard   \n",
       "\n",
       "                                                Publisher  \\\n",
       "212233                         Benham (A. Buckingham) Ltd   \n",
       "51621                      Fairmount Books Ltd Remainders   \n",
       "193438                        Penguin Books Australia Ltd   \n",
       "25016                                 Penguin Putnam~mass   \n",
       "17668                                      Scholastic Inc   \n",
       "...                                                   ...   \n",
       "80264                                        Puffin Books   \n",
       "97826                                         Penguin USA   \n",
       "209538  http://images.amazon.com/images/P/078946697X.0...   \n",
       "221678  http://images.amazon.com/images/P/0789466953.0...   \n",
       "220731  http://images.amazon.com/images/P/2070426769.0...   \n",
       "\n",
       "                                              Image-URL-S  \\\n",
       "212233  http://images.amazon.com/images/P/0947901051.0...   \n",
       "51621   http://images.amazon.com/images/P/0006479561.0...   \n",
       "193438  http://images.amazon.com/images/P/0140382690.0...   \n",
       "25016   http://images.amazon.com/images/P/0879972734.0...   \n",
       "17668   http://images.amazon.com/images/P/0590023888.0...   \n",
       "...                                                   ...   \n",
       "80264   http://images.amazon.com/images/P/0140301690.0...   \n",
       "97826   http://images.amazon.com/images/P/0140201092.0...   \n",
       "209538  http://images.amazon.com/images/P/078946697X.0...   \n",
       "221678  http://images.amazon.com/images/P/0789466953.0...   \n",
       "220731  http://images.amazon.com/images/P/2070426769.0...   \n",
       "\n",
       "                                              Image-URL-M  \\\n",
       "212233  http://images.amazon.com/images/P/0947901051.0...   \n",
       "51621   http://images.amazon.com/images/P/0006479561.0...   \n",
       "193438  http://images.amazon.com/images/P/0140382690.0...   \n",
       "25016   http://images.amazon.com/images/P/0879972734.0...   \n",
       "17668   http://images.amazon.com/images/P/0590023888.0...   \n",
       "...                                                   ...   \n",
       "80264   http://images.amazon.com/images/P/0140301690.0...   \n",
       "97826   http://images.amazon.com/images/P/0140201092.0...   \n",
       "209538  http://images.amazon.com/images/P/078946697X.0...   \n",
       "221678  http://images.amazon.com/images/P/0789466953.0...   \n",
       "220731  http://images.amazon.com/images/P/2070426769.0...   \n",
       "\n",
       "                                              Image-URL-L  \n",
       "212233  http://images.amazon.com/images/P/0947901051.0...  \n",
       "51621   http://images.amazon.com/images/P/0006479561.0...  \n",
       "193438  http://images.amazon.com/images/P/0140382690.0...  \n",
       "25016   http://images.amazon.com/images/P/0879972734.0...  \n",
       "17668   http://images.amazon.com/images/P/0590023888.0...  \n",
       "...                                                   ...  \n",
       "80264   http://images.amazon.com/images/P/0140301690.0...  \n",
       "97826   http://images.amazon.com/images/P/0140201092.0...  \n",
       "209538                                                NaN  \n",
       "221678                                                NaN  \n",
       "220731                                                NaN  \n",
       "\n",
       "[271360 rows x 8 columns]"
      ]
     },
     "execution_count": 220,
     "metadata": {},
     "output_type": "execute_result"
    }
   ],
   "source": [
    "data[\"books\"].sort_values(\"Year-Of-Publication\")"
   ]
  },
  {
   "cell_type": "code",
   "execution_count": null,
   "id": "49bf09b3-3641-4d91-81b7-31dd63b25d08",
   "metadata": {},
   "outputs": [],
   "source": []
  }
 ],
 "metadata": {
  "kernelspec": {
   "display_name": "devio",
   "language": "python",
   "name": "devio"
  },
  "language_info": {
   "codemirror_mode": {
    "name": "ipython",
    "version": 3
   },
   "file_extension": ".py",
   "mimetype": "text/x-python",
   "name": "python",
   "nbconvert_exporter": "python",
   "pygments_lexer": "ipython3",
   "version": "3.10.10"
  }
 },
 "nbformat": 4,
 "nbformat_minor": 5
}
