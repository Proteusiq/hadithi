{
 "cells": [
  {
   "cell_type": "code",
   "execution_count": 1,
   "id": "be801c30-453b-4d41-9d47-c462fe2e1b86",
   "metadata": {
    "tags": []
   },
   "outputs": [],
   "source": [
    "import numpy as np\n",
    "import pandas as pd"
   ]
  },
  {
   "cell_type": "code",
   "execution_count": 2,
   "id": "81aadf6b-43a3-4e3b-9912-b4e3e75783b1",
   "metadata": {
    "tags": []
   },
   "outputs": [],
   "source": [
    "pd.options.plotting.backend = \"plotly\""
   ]
  },
  {
   "cell_type": "code",
   "execution_count": 3,
   "id": "b3c871de-30b6-40e0-bad7-5c696b3fe382",
   "metadata": {
    "tags": []
   },
   "outputs": [
    {
     "name": "stdout",
     "output_type": "stream",
     "text": [
      "/home/pwd/Codes/hadithi/dev.io\n"
     ]
    }
   ],
   "source": [
    "%cd .."
   ]
  },
  {
   "cell_type": "markdown",
   "id": "44f75488-ed47-4655-8ed8-26ec01a4daaf",
   "metadata": {
    "tags": []
   },
   "source": [
    "# About Dataset\n",
    "## Marketing A/B testing dataset\n",
    "\n",
    "Marketing companies want to run successful campaigns, but the market is complex and several options can work. So normally they tun A/B tests, that is a randomized experimentation process wherein two or more versions of a variable (web page, page element, banner, etc.) are shown to different segments of people at the same time to determine which version leaves the maximum impact and drive business metrics.\n",
    "\n",
    "The companies are interested in answering two questions:\n",
    "\n",
    "- Would the campaign be successful?\n",
    "- If the campaign was successful, how much of that success could be attributed to the ads?\n",
    "\n",
    "With the second question in mind, we normally do an A/B test. The majority of the people will be exposed to ads (the experimental group). And a small portion of people (the control group) would instead see a Public Service Announcement (PSA) (or nothing) in the exact size and place the ad would normally be.\n",
    "\n",
    "The idea of the dataset is to analyze the groups, find if the ads were successful, how much the company can make from the ads, and if the difference between the groups is statistically significant.\n",
    "\n",
    "Data dictionary:\n",
    "\n",
    "- Index: Row index\n",
    "- user id: User ID (unique)\n",
    "- test group: If \"ad\" the person saw the advertisement, if \"psa\" they only saw the public service announcement\n",
    "- converted: If a person bought the product then True, else is False\n",
    "- total ads: Amount of ads seen by person\n",
    "- most ads day: Day that the person saw the biggest amount of ads\n",
    "- most ads hour: Hour of day that the person saw the biggest amount of ads"
   ]
  },
  {
   "cell_type": "code",
   "execution_count": 4,
   "id": "84ea3f0e-9fd2-4a68-ba81-b5bfd099aa37",
   "metadata": {
    "tags": []
   },
   "outputs": [
    {
     "data": {
      "text/html": [
       "<div>\n",
       "<style scoped>\n",
       "    .dataframe tbody tr th:only-of-type {\n",
       "        vertical-align: middle;\n",
       "    }\n",
       "\n",
       "    .dataframe tbody tr th {\n",
       "        vertical-align: top;\n",
       "    }\n",
       "\n",
       "    .dataframe thead th {\n",
       "        text-align: right;\n",
       "    }\n",
       "</style>\n",
       "<table border=\"1\" class=\"dataframe\">\n",
       "  <thead>\n",
       "    <tr style=\"text-align: right;\">\n",
       "      <th></th>\n",
       "      <th>user id</th>\n",
       "      <th>test group</th>\n",
       "      <th>converted</th>\n",
       "      <th>total ads</th>\n",
       "      <th>most ads day</th>\n",
       "      <th>most ads hour</th>\n",
       "    </tr>\n",
       "  </thead>\n",
       "  <tbody>\n",
       "    <tr>\n",
       "      <th>521247</th>\n",
       "      <td>1560520</td>\n",
       "      <td>ad</td>\n",
       "      <td>False</td>\n",
       "      <td>24</td>\n",
       "      <td>Thursday</td>\n",
       "      <td>17</td>\n",
       "    </tr>\n",
       "    <tr>\n",
       "      <th>245143</th>\n",
       "      <td>1509498</td>\n",
       "      <td>ad</td>\n",
       "      <td>False</td>\n",
       "      <td>11</td>\n",
       "      <td>Sunday</td>\n",
       "      <td>13</td>\n",
       "    </tr>\n",
       "    <tr>\n",
       "      <th>372216</th>\n",
       "      <td>1464380</td>\n",
       "      <td>ad</td>\n",
       "      <td>False</td>\n",
       "      <td>21</td>\n",
       "      <td>Monday</td>\n",
       "      <td>19</td>\n",
       "    </tr>\n",
       "    <tr>\n",
       "      <th>87445</th>\n",
       "      <td>1419555</td>\n",
       "      <td>ad</td>\n",
       "      <td>False</td>\n",
       "      <td>34</td>\n",
       "      <td>Monday</td>\n",
       "      <td>13</td>\n",
       "    </tr>\n",
       "  </tbody>\n",
       "</table>\n",
       "</div>"
      ],
      "text/plain": [
       "        user id test group  converted  total ads most ads day  most ads hour\n",
       "521247  1560520         ad      False         24     Thursday             17\n",
       "245143  1509498         ad      False         11       Sunday             13\n",
       "372216  1464380         ad      False         21       Monday             19\n",
       "87445   1419555         ad      False         34       Monday             13"
      ]
     },
     "execution_count": 4,
     "metadata": {},
     "output_type": "execute_result"
    }
   ],
   "source": [
    "dataf = pd.read_csv(\"assets/marketing_AB.csv.zip\", index_col=0)\n",
    "dataf.sample(4)"
   ]
  },
  {
   "cell_type": "code",
   "execution_count": 5,
   "id": "697128f0-f3eb-45bc-a6b1-90985c9879c4",
   "metadata": {
    "tags": []
   },
   "outputs": [
    {
     "data": {
      "text/plain": [
       "user id           int64\n",
       "test group       object\n",
       "converted          bool\n",
       "total ads         int64\n",
       "most ads day     object\n",
       "most ads hour     int64\n",
       "dtype: object"
      ]
     },
     "execution_count": 5,
     "metadata": {},
     "output_type": "execute_result"
    }
   ],
   "source": [
    "dataf.dtypes"
   ]
  },
  {
   "cell_type": "code",
   "execution_count": 6,
   "id": "a9adfe99-cdc1-4fee-98da-4711eef60ed8",
   "metadata": {
    "tags": []
   },
   "outputs": [
    {
     "data": {
      "text/html": [
       "<style type=\"text/css\">\n",
       "</style>\n",
       "<table id=\"T_cd0e2\">\n",
       "  <thead>\n",
       "    <tr>\n",
       "      <th class=\"blank level0\" >&nbsp;</th>\n",
       "      <th id=\"T_cd0e2_level0_col0\" class=\"col_heading level0 col0\" >% missing values</th>\n",
       "    </tr>\n",
       "  </thead>\n",
       "  <tbody>\n",
       "    <tr>\n",
       "      <th id=\"T_cd0e2_level0_row0\" class=\"row_heading level0 row0\" >user id</th>\n",
       "      <td id=\"T_cd0e2_row0_col0\" class=\"data row0 col0\" >0.0%</td>\n",
       "    </tr>\n",
       "    <tr>\n",
       "      <th id=\"T_cd0e2_level0_row1\" class=\"row_heading level0 row1\" >test group</th>\n",
       "      <td id=\"T_cd0e2_row1_col0\" class=\"data row1 col0\" >0.0%</td>\n",
       "    </tr>\n",
       "    <tr>\n",
       "      <th id=\"T_cd0e2_level0_row2\" class=\"row_heading level0 row2\" >converted</th>\n",
       "      <td id=\"T_cd0e2_row2_col0\" class=\"data row2 col0\" >0.0%</td>\n",
       "    </tr>\n",
       "    <tr>\n",
       "      <th id=\"T_cd0e2_level0_row3\" class=\"row_heading level0 row3\" >total ads</th>\n",
       "      <td id=\"T_cd0e2_row3_col0\" class=\"data row3 col0\" >0.0%</td>\n",
       "    </tr>\n",
       "    <tr>\n",
       "      <th id=\"T_cd0e2_level0_row4\" class=\"row_heading level0 row4\" >most ads day</th>\n",
       "      <td id=\"T_cd0e2_row4_col0\" class=\"data row4 col0\" >0.0%</td>\n",
       "    </tr>\n",
       "    <tr>\n",
       "      <th id=\"T_cd0e2_level0_row5\" class=\"row_heading level0 row5\" >most ads hour</th>\n",
       "      <td id=\"T_cd0e2_row5_col0\" class=\"data row5 col0\" >0.0%</td>\n",
       "    </tr>\n",
       "  </tbody>\n",
       "</table>\n"
      ],
      "text/plain": [
       "<pandas.io.formats.style.Styler at 0x7fab40120110>"
      ]
     },
     "execution_count": 6,
     "metadata": {},
     "output_type": "execute_result"
    }
   ],
   "source": [
    "(\n",
    "    dataf.isna()\n",
    "    .sum()\n",
    "    .div(dataf.shape[0])\n",
    "    .to_frame()\n",
    "    .rename(columns={0: \"% missing values\"})\n",
    "    .style.format({\"% missing values\": \"{:.1%}\"})\n",
    ")"
   ]
  },
  {
   "cell_type": "code",
   "execution_count": 7,
   "id": "0451f6d2-d06e-409b-9ca7-3a0505ed9715",
   "metadata": {
    "tags": []
   },
   "outputs": [
    {
     "data": {
      "text/html": [
       "<div>\n",
       "<style scoped>\n",
       "    .dataframe tbody tr th:only-of-type {\n",
       "        vertical-align: middle;\n",
       "    }\n",
       "\n",
       "    .dataframe tbody tr th {\n",
       "        vertical-align: top;\n",
       "    }\n",
       "\n",
       "    .dataframe thead th {\n",
       "        text-align: right;\n",
       "    }\n",
       "</style>\n",
       "<table border=\"1\" class=\"dataframe\">\n",
       "  <thead>\n",
       "    <tr style=\"text-align: right;\">\n",
       "      <th></th>\n",
       "      <th>count</th>\n",
       "      <th>unique</th>\n",
       "      <th>top</th>\n",
       "      <th>freq</th>\n",
       "    </tr>\n",
       "  </thead>\n",
       "  <tbody>\n",
       "    <tr>\n",
       "      <th>test group</th>\n",
       "      <td>588101</td>\n",
       "      <td>2</td>\n",
       "      <td>ad</td>\n",
       "      <td>564577</td>\n",
       "    </tr>\n",
       "    <tr>\n",
       "      <th>most ads day</th>\n",
       "      <td>588101</td>\n",
       "      <td>7</td>\n",
       "      <td>Friday</td>\n",
       "      <td>92608</td>\n",
       "    </tr>\n",
       "  </tbody>\n",
       "</table>\n",
       "</div>"
      ],
      "text/plain": [
       "               count unique     top    freq\n",
       "test group    588101      2      ad  564577\n",
       "most ads day  588101      7  Friday   92608"
      ]
     },
     "execution_count": 7,
     "metadata": {},
     "output_type": "execute_result"
    }
   ],
   "source": [
    "dataf.describe(include=\"object\").T"
   ]
  },
  {
   "cell_type": "code",
   "execution_count": 8,
   "id": "6a3d056f-7c3a-49c1-a300-4d1a02909cc3",
   "metadata": {
    "tags": []
   },
   "outputs": [
    {
     "data": {
      "text/html": [
       "<style type=\"text/css\">\n",
       "</style>\n",
       "<table id=\"T_c305c\">\n",
       "  <thead>\n",
       "    <tr>\n",
       "      <th class=\"blank level0\" >&nbsp;</th>\n",
       "      <th id=\"T_c305c_level0_col0\" class=\"col_heading level0 col0\" >count</th>\n",
       "      <th id=\"T_c305c_level0_col1\" class=\"col_heading level0 col1\" >mean</th>\n",
       "      <th id=\"T_c305c_level0_col2\" class=\"col_heading level0 col2\" >std</th>\n",
       "      <th id=\"T_c305c_level0_col3\" class=\"col_heading level0 col3\" >min</th>\n",
       "      <th id=\"T_c305c_level0_col4\" class=\"col_heading level0 col4\" >25%</th>\n",
       "      <th id=\"T_c305c_level0_col5\" class=\"col_heading level0 col5\" >50%</th>\n",
       "      <th id=\"T_c305c_level0_col6\" class=\"col_heading level0 col6\" >75%</th>\n",
       "      <th id=\"T_c305c_level0_col7\" class=\"col_heading level0 col7\" >max</th>\n",
       "    </tr>\n",
       "  </thead>\n",
       "  <tbody>\n",
       "    <tr>\n",
       "      <th id=\"T_c305c_level0_row0\" class=\"row_heading level0 row0\" >user id</th>\n",
       "      <td id=\"T_c305c_row0_col0\" class=\"data row0 col0\" >588101</td>\n",
       "      <td id=\"T_c305c_row0_col1\" class=\"data row0 col1\" >1310692.22</td>\n",
       "      <td id=\"T_c305c_row0_col2\" class=\"data row0 col2\" >202225.98</td>\n",
       "      <td id=\"T_c305c_row0_col3\" class=\"data row0 col3\" >900000</td>\n",
       "      <td id=\"T_c305c_row0_col4\" class=\"data row0 col4\" >1143190</td>\n",
       "      <td id=\"T_c305c_row0_col5\" class=\"data row0 col5\" >1313725</td>\n",
       "      <td id=\"T_c305c_row0_col6\" class=\"data row0 col6\" >1484088</td>\n",
       "      <td id=\"T_c305c_row0_col7\" class=\"data row0 col7\" >1654483</td>\n",
       "    </tr>\n",
       "    <tr>\n",
       "      <th id=\"T_c305c_level0_row1\" class=\"row_heading level0 row1\" >total ads</th>\n",
       "      <td id=\"T_c305c_row1_col0\" class=\"data row1 col0\" >588101</td>\n",
       "      <td id=\"T_c305c_row1_col1\" class=\"data row1 col1\" >24.82</td>\n",
       "      <td id=\"T_c305c_row1_col2\" class=\"data row1 col2\" >43.72</td>\n",
       "      <td id=\"T_c305c_row1_col3\" class=\"data row1 col3\" >1</td>\n",
       "      <td id=\"T_c305c_row1_col4\" class=\"data row1 col4\" >4</td>\n",
       "      <td id=\"T_c305c_row1_col5\" class=\"data row1 col5\" >13</td>\n",
       "      <td id=\"T_c305c_row1_col6\" class=\"data row1 col6\" >27</td>\n",
       "      <td id=\"T_c305c_row1_col7\" class=\"data row1 col7\" >2065</td>\n",
       "    </tr>\n",
       "    <tr>\n",
       "      <th id=\"T_c305c_level0_row2\" class=\"row_heading level0 row2\" >most ads hour</th>\n",
       "      <td id=\"T_c305c_row2_col0\" class=\"data row2 col0\" >588101</td>\n",
       "      <td id=\"T_c305c_row2_col1\" class=\"data row2 col1\" >14.47</td>\n",
       "      <td id=\"T_c305c_row2_col2\" class=\"data row2 col2\" >4.83</td>\n",
       "      <td id=\"T_c305c_row2_col3\" class=\"data row2 col3\" >0</td>\n",
       "      <td id=\"T_c305c_row2_col4\" class=\"data row2 col4\" >11</td>\n",
       "      <td id=\"T_c305c_row2_col5\" class=\"data row2 col5\" >14</td>\n",
       "      <td id=\"T_c305c_row2_col6\" class=\"data row2 col6\" >18</td>\n",
       "      <td id=\"T_c305c_row2_col7\" class=\"data row2 col7\" >23</td>\n",
       "    </tr>\n",
       "  </tbody>\n",
       "</table>\n"
      ],
      "text/plain": [
       "<pandas.io.formats.style.Styler at 0x7faad73c9b90>"
      ]
     },
     "execution_count": 8,
     "metadata": {},
     "output_type": "execute_result"
    }
   ],
   "source": [
    "(\n",
    "    dataf.loc[:, ~dataf.columns.str.contains(\"id\")]\n",
    "    .describe(include=np.number)\n",
    "    .T.convert_dtypes()\n",
    "    .style.format({\"mean\": \"{:.2f}\", \"std\": \"{:.2f}\"})\n",
    ")"
   ]
  },
  {
   "cell_type": "code",
   "execution_count": 9,
   "id": "c69249bb-0ff0-4ff8-89ca-a1e7d78d8b68",
   "metadata": {
    "tags": []
   },
   "outputs": [],
   "source": [
    "dataf.columns = dataf.columns.str.replace(\" \", \"_\")"
   ]
  },
  {
   "cell_type": "code",
   "execution_count": 10,
   "id": "875d9a30-c6ed-4abf-9046-883e4e913841",
   "metadata": {
    "tags": []
   },
   "outputs": [
    {
     "data": {
      "text/html": [
       "<div>\n",
       "<style scoped>\n",
       "    .dataframe tbody tr th:only-of-type {\n",
       "        vertical-align: middle;\n",
       "    }\n",
       "\n",
       "    .dataframe tbody tr th {\n",
       "        vertical-align: top;\n",
       "    }\n",
       "\n",
       "    .dataframe thead th {\n",
       "        text-align: right;\n",
       "    }\n",
       "</style>\n",
       "<table border=\"1\" class=\"dataframe\">\n",
       "  <thead>\n",
       "    <tr style=\"text-align: right;\">\n",
       "      <th></th>\n",
       "      <th>user_id</th>\n",
       "      <th>test_group</th>\n",
       "      <th>converted</th>\n",
       "      <th>total_ads</th>\n",
       "      <th>most_ads_day</th>\n",
       "      <th>most_ads_hour</th>\n",
       "    </tr>\n",
       "  </thead>\n",
       "  <tbody>\n",
       "    <tr>\n",
       "      <th>0</th>\n",
       "      <td>1069124</td>\n",
       "      <td>ad</td>\n",
       "      <td>False</td>\n",
       "      <td>130</td>\n",
       "      <td>Monday</td>\n",
       "      <td>20</td>\n",
       "    </tr>\n",
       "    <tr>\n",
       "      <th>1</th>\n",
       "      <td>1119715</td>\n",
       "      <td>ad</td>\n",
       "      <td>False</td>\n",
       "      <td>93</td>\n",
       "      <td>Tuesday</td>\n",
       "      <td>22</td>\n",
       "    </tr>\n",
       "    <tr>\n",
       "      <th>2</th>\n",
       "      <td>1144181</td>\n",
       "      <td>ad</td>\n",
       "      <td>False</td>\n",
       "      <td>21</td>\n",
       "      <td>Tuesday</td>\n",
       "      <td>18</td>\n",
       "    </tr>\n",
       "    <tr>\n",
       "      <th>3</th>\n",
       "      <td>1435133</td>\n",
       "      <td>ad</td>\n",
       "      <td>False</td>\n",
       "      <td>355</td>\n",
       "      <td>Tuesday</td>\n",
       "      <td>10</td>\n",
       "    </tr>\n",
       "    <tr>\n",
       "      <th>4</th>\n",
       "      <td>1015700</td>\n",
       "      <td>ad</td>\n",
       "      <td>False</td>\n",
       "      <td>276</td>\n",
       "      <td>Friday</td>\n",
       "      <td>14</td>\n",
       "    </tr>\n",
       "  </tbody>\n",
       "</table>\n",
       "</div>"
      ],
      "text/plain": [
       "   user_id test_group  converted  total_ads most_ads_day  most_ads_hour\n",
       "0  1069124         ad      False        130       Monday             20\n",
       "1  1119715         ad      False         93      Tuesday             22\n",
       "2  1144181         ad      False         21      Tuesday             18\n",
       "3  1435133         ad      False        355      Tuesday             10\n",
       "4  1015700         ad      False        276       Friday             14"
      ]
     },
     "execution_count": 10,
     "metadata": {},
     "output_type": "execute_result"
    }
   ],
   "source": [
    "dataf.head()"
   ]
  },
  {
   "cell_type": "code",
   "execution_count": 11,
   "id": "a4db88ab-efa1-49ba-80c5-f8b8c4e6cd68",
   "metadata": {
    "tags": []
   },
   "outputs": [
    {
     "data": {
      "text/html": [
       "<div>\n",
       "<style scoped>\n",
       "    .dataframe tbody tr th:only-of-type {\n",
       "        vertical-align: middle;\n",
       "    }\n",
       "\n",
       "    .dataframe tbody tr th {\n",
       "        vertical-align: top;\n",
       "    }\n",
       "\n",
       "    .dataframe thead th {\n",
       "        text-align: right;\n",
       "    }\n",
       "</style>\n",
       "<table border=\"1\" class=\"dataframe\">\n",
       "  <thead>\n",
       "    <tr style=\"text-align: right;\">\n",
       "      <th></th>\n",
       "      <th>converted</th>\n",
       "      <th>population</th>\n",
       "      <th>probability</th>\n",
       "    </tr>\n",
       "    <tr>\n",
       "      <th>test_group</th>\n",
       "      <th></th>\n",
       "      <th></th>\n",
       "      <th></th>\n",
       "    </tr>\n",
       "  </thead>\n",
       "  <tbody>\n",
       "    <tr>\n",
       "      <th>ad</th>\n",
       "      <td>14423</td>\n",
       "      <td>564577</td>\n",
       "      <td>0.025547</td>\n",
       "    </tr>\n",
       "    <tr>\n",
       "      <th>psa</th>\n",
       "      <td>420</td>\n",
       "      <td>23524</td>\n",
       "      <td>0.017854</td>\n",
       "    </tr>\n",
       "  </tbody>\n",
       "</table>\n",
       "</div>"
      ],
      "text/plain": [
       "            converted  population  probability\n",
       "test_group                                    \n",
       "ad              14423      564577     0.025547\n",
       "psa               420       23524     0.017854"
      ]
     },
     "execution_count": 11,
     "metadata": {},
     "output_type": "execute_result"
    }
   ],
   "source": [
    "# naive probability\n",
    "\n",
    "(\n",
    "    dataf.groupby(by=\"test_group\")\n",
    "    .agg({\"converted\": (\"sum\", \"count\")})\n",
    "    .T.reset_index(drop=True)\n",
    "    .T.rename(columns={0: \"converted\", 1: \"population\"})\n",
    "    .assign(probability=lambda d: d[\"converted\"] / d[\"population\"])\n",
    ")"
   ]
  },
  {
   "cell_type": "code",
   "execution_count": 12,
   "id": "67be98e0-0608-47b8-83c8-b28be486c971",
   "metadata": {
    "tags": []
   },
   "outputs": [
    {
     "data": {
      "text/html": [
       "<div>\n",
       "<style scoped>\n",
       "    .dataframe tbody tr th:only-of-type {\n",
       "        vertical-align: middle;\n",
       "    }\n",
       "\n",
       "    .dataframe tbody tr th {\n",
       "        vertical-align: top;\n",
       "    }\n",
       "\n",
       "    .dataframe thead th {\n",
       "        text-align: right;\n",
       "    }\n",
       "</style>\n",
       "<table border=\"1\" class=\"dataframe\">\n",
       "  <thead>\n",
       "    <tr style=\"text-align: right;\">\n",
       "      <th></th>\n",
       "      <th></th>\n",
       "      <th>converted</th>\n",
       "      <th>population</th>\n",
       "      <th>probability</th>\n",
       "    </tr>\n",
       "    <tr>\n",
       "      <th>test_group</th>\n",
       "      <th>most_ads_day</th>\n",
       "      <th></th>\n",
       "      <th></th>\n",
       "      <th></th>\n",
       "    </tr>\n",
       "  </thead>\n",
       "  <tbody>\n",
       "    <tr>\n",
       "      <th rowspan=\"7\" valign=\"top\">ad</th>\n",
       "      <th>Friday</th>\n",
       "      <td>1995</td>\n",
       "      <td>88805</td>\n",
       "      <td>0.022465</td>\n",
       "    </tr>\n",
       "    <tr>\n",
       "      <th>Monday</th>\n",
       "      <td>2778</td>\n",
       "      <td>83571</td>\n",
       "      <td>0.033241</td>\n",
       "    </tr>\n",
       "    <tr>\n",
       "      <th>Saturday</th>\n",
       "      <td>1679</td>\n",
       "      <td>78802</td>\n",
       "      <td>0.021307</td>\n",
       "    </tr>\n",
       "    <tr>\n",
       "      <th>Sunday</th>\n",
       "      <td>2027</td>\n",
       "      <td>82332</td>\n",
       "      <td>0.024620</td>\n",
       "    </tr>\n",
       "    <tr>\n",
       "      <th>Thursday</th>\n",
       "      <td>1711</td>\n",
       "      <td>79077</td>\n",
       "      <td>0.021637</td>\n",
       "    </tr>\n",
       "    <tr>\n",
       "      <th>Tuesday</th>\n",
       "      <td>2270</td>\n",
       "      <td>74572</td>\n",
       "      <td>0.030440</td>\n",
       "    </tr>\n",
       "    <tr>\n",
       "      <th>Wednesday</th>\n",
       "      <td>1963</td>\n",
       "      <td>77418</td>\n",
       "      <td>0.025356</td>\n",
       "    </tr>\n",
       "    <tr>\n",
       "      <th rowspan=\"7\" valign=\"top\">psa</th>\n",
       "      <th>Friday</th>\n",
       "      <td>62</td>\n",
       "      <td>3803</td>\n",
       "      <td>0.016303</td>\n",
       "    </tr>\n",
       "    <tr>\n",
       "      <th>Monday</th>\n",
       "      <td>79</td>\n",
       "      <td>3502</td>\n",
       "      <td>0.022559</td>\n",
       "    </tr>\n",
       "    <tr>\n",
       "      <th>Saturday</th>\n",
       "      <td>40</td>\n",
       "      <td>2858</td>\n",
       "      <td>0.013996</td>\n",
       "    </tr>\n",
       "    <tr>\n",
       "      <th>Sunday</th>\n",
       "      <td>63</td>\n",
       "      <td>3059</td>\n",
       "      <td>0.020595</td>\n",
       "    </tr>\n",
       "    <tr>\n",
       "      <th>Thursday</th>\n",
       "      <td>79</td>\n",
       "      <td>3905</td>\n",
       "      <td>0.020230</td>\n",
       "    </tr>\n",
       "    <tr>\n",
       "      <th>Tuesday</th>\n",
       "      <td>42</td>\n",
       "      <td>2907</td>\n",
       "      <td>0.014448</td>\n",
       "    </tr>\n",
       "    <tr>\n",
       "      <th>Wednesday</th>\n",
       "      <td>55</td>\n",
       "      <td>3490</td>\n",
       "      <td>0.015759</td>\n",
       "    </tr>\n",
       "  </tbody>\n",
       "</table>\n",
       "</div>"
      ],
      "text/plain": [
       "                         converted  population  probability\n",
       "test_group most_ads_day                                    \n",
       "ad         Friday             1995       88805     0.022465\n",
       "           Monday             2778       83571     0.033241\n",
       "           Saturday           1679       78802     0.021307\n",
       "           Sunday             2027       82332     0.024620\n",
       "           Thursday           1711       79077     0.021637\n",
       "           Tuesday            2270       74572     0.030440\n",
       "           Wednesday          1963       77418     0.025356\n",
       "psa        Friday               62        3803     0.016303\n",
       "           Monday               79        3502     0.022559\n",
       "           Saturday             40        2858     0.013996\n",
       "           Sunday               63        3059     0.020595\n",
       "           Thursday             79        3905     0.020230\n",
       "           Tuesday              42        2907     0.014448\n",
       "           Wednesday            55        3490     0.015759"
      ]
     },
     "execution_count": 12,
     "metadata": {},
     "output_type": "execute_result"
    }
   ],
   "source": [
    "(\n",
    "    dataf.groupby(by=[\"test_group\", \"most_ads_day\"])\n",
    "    .agg({\"converted\": (\"sum\", \"count\")})\n",
    "    .T.reset_index(drop=True)\n",
    "    .T.rename(columns={0: \"converted\", 1: \"population\"})\n",
    "    .assign(probability=lambda d: d[\"converted\"] / d[\"population\"])\n",
    ")"
   ]
  },
  {
   "cell_type": "code",
   "execution_count": 13,
   "id": "263c02c4-98ec-41f1-9510-ce0ddce404a6",
   "metadata": {
    "tags": []
   },
   "outputs": [
    {
     "data": {
      "text/html": [
       "<div>\n",
       "<style scoped>\n",
       "    .dataframe tbody tr th:only-of-type {\n",
       "        vertical-align: middle;\n",
       "    }\n",
       "\n",
       "    .dataframe tbody tr th {\n",
       "        vertical-align: top;\n",
       "    }\n",
       "\n",
       "    .dataframe thead th {\n",
       "        text-align: right;\n",
       "    }\n",
       "</style>\n",
       "<table border=\"1\" class=\"dataframe\">\n",
       "  <thead>\n",
       "    <tr style=\"text-align: right;\">\n",
       "      <th></th>\n",
       "      <th></th>\n",
       "      <th>converted</th>\n",
       "      <th>population</th>\n",
       "      <th>probability</th>\n",
       "    </tr>\n",
       "    <tr>\n",
       "      <th>most_ads_day</th>\n",
       "      <th>test_group</th>\n",
       "      <th></th>\n",
       "      <th></th>\n",
       "      <th></th>\n",
       "    </tr>\n",
       "  </thead>\n",
       "  <tbody>\n",
       "    <tr>\n",
       "      <th rowspan=\"2\" valign=\"top\">Friday</th>\n",
       "      <th>ad</th>\n",
       "      <td>1995</td>\n",
       "      <td>88805</td>\n",
       "      <td>0.022465</td>\n",
       "    </tr>\n",
       "    <tr>\n",
       "      <th>psa</th>\n",
       "      <td>62</td>\n",
       "      <td>3803</td>\n",
       "      <td>0.016303</td>\n",
       "    </tr>\n",
       "    <tr>\n",
       "      <th rowspan=\"2\" valign=\"top\">Monday</th>\n",
       "      <th>ad</th>\n",
       "      <td>2778</td>\n",
       "      <td>83571</td>\n",
       "      <td>0.033241</td>\n",
       "    </tr>\n",
       "    <tr>\n",
       "      <th>psa</th>\n",
       "      <td>79</td>\n",
       "      <td>3502</td>\n",
       "      <td>0.022559</td>\n",
       "    </tr>\n",
       "    <tr>\n",
       "      <th rowspan=\"2\" valign=\"top\">Saturday</th>\n",
       "      <th>ad</th>\n",
       "      <td>1679</td>\n",
       "      <td>78802</td>\n",
       "      <td>0.021307</td>\n",
       "    </tr>\n",
       "    <tr>\n",
       "      <th>psa</th>\n",
       "      <td>40</td>\n",
       "      <td>2858</td>\n",
       "      <td>0.013996</td>\n",
       "    </tr>\n",
       "    <tr>\n",
       "      <th rowspan=\"2\" valign=\"top\">Sunday</th>\n",
       "      <th>ad</th>\n",
       "      <td>2027</td>\n",
       "      <td>82332</td>\n",
       "      <td>0.024620</td>\n",
       "    </tr>\n",
       "    <tr>\n",
       "      <th>psa</th>\n",
       "      <td>63</td>\n",
       "      <td>3059</td>\n",
       "      <td>0.020595</td>\n",
       "    </tr>\n",
       "    <tr>\n",
       "      <th rowspan=\"2\" valign=\"top\">Thursday</th>\n",
       "      <th>ad</th>\n",
       "      <td>1711</td>\n",
       "      <td>79077</td>\n",
       "      <td>0.021637</td>\n",
       "    </tr>\n",
       "    <tr>\n",
       "      <th>psa</th>\n",
       "      <td>79</td>\n",
       "      <td>3905</td>\n",
       "      <td>0.020230</td>\n",
       "    </tr>\n",
       "    <tr>\n",
       "      <th rowspan=\"2\" valign=\"top\">Tuesday</th>\n",
       "      <th>ad</th>\n",
       "      <td>2270</td>\n",
       "      <td>74572</td>\n",
       "      <td>0.030440</td>\n",
       "    </tr>\n",
       "    <tr>\n",
       "      <th>psa</th>\n",
       "      <td>42</td>\n",
       "      <td>2907</td>\n",
       "      <td>0.014448</td>\n",
       "    </tr>\n",
       "    <tr>\n",
       "      <th rowspan=\"2\" valign=\"top\">Wednesday</th>\n",
       "      <th>ad</th>\n",
       "      <td>1963</td>\n",
       "      <td>77418</td>\n",
       "      <td>0.025356</td>\n",
       "    </tr>\n",
       "    <tr>\n",
       "      <th>psa</th>\n",
       "      <td>55</td>\n",
       "      <td>3490</td>\n",
       "      <td>0.015759</td>\n",
       "    </tr>\n",
       "  </tbody>\n",
       "</table>\n",
       "</div>"
      ],
      "text/plain": [
       "                         converted  population  probability\n",
       "most_ads_day test_group                                    \n",
       "Friday       ad               1995       88805     0.022465\n",
       "             psa                62        3803     0.016303\n",
       "Monday       ad               2778       83571     0.033241\n",
       "             psa                79        3502     0.022559\n",
       "Saturday     ad               1679       78802     0.021307\n",
       "             psa                40        2858     0.013996\n",
       "Sunday       ad               2027       82332     0.024620\n",
       "             psa                63        3059     0.020595\n",
       "Thursday     ad               1711       79077     0.021637\n",
       "             psa                79        3905     0.020230\n",
       "Tuesday      ad               2270       74572     0.030440\n",
       "             psa                42        2907     0.014448\n",
       "Wednesday    ad               1963       77418     0.025356\n",
       "             psa                55        3490     0.015759"
      ]
     },
     "execution_count": 13,
     "metadata": {},
     "output_type": "execute_result"
    }
   ],
   "source": [
    "(\n",
    "    dataf.groupby(by=[\"most_ads_day\", \"test_group\"])\n",
    "    .agg({\"converted\": (\"sum\", \"count\")})\n",
    "    .T.reset_index(drop=True)\n",
    "    .T.rename(columns={0: \"converted\", 1: \"population\"})\n",
    "    .assign(probability=lambda d: d[\"converted\"] / d[\"population\"])\n",
    ")"
   ]
  },
  {
   "cell_type": "code",
   "execution_count": 14,
   "id": "5704ecf0-53ad-48e5-bdd8-9f74e87b6bbe",
   "metadata": {
    "tags": []
   },
   "outputs": [
    {
     "data": {
      "text/html": [
       "<div>\n",
       "<style scoped>\n",
       "    .dataframe tbody tr th:only-of-type {\n",
       "        vertical-align: middle;\n",
       "    }\n",
       "\n",
       "    .dataframe tbody tr th {\n",
       "        vertical-align: top;\n",
       "    }\n",
       "\n",
       "    .dataframe thead th {\n",
       "        text-align: right;\n",
       "    }\n",
       "</style>\n",
       "<table border=\"1\" class=\"dataframe\">\n",
       "  <thead>\n",
       "    <tr style=\"text-align: right;\">\n",
       "      <th></th>\n",
       "      <th>converted</th>\n",
       "      <th>population</th>\n",
       "    </tr>\n",
       "    <tr>\n",
       "      <th>test_group</th>\n",
       "      <th></th>\n",
       "      <th></th>\n",
       "    </tr>\n",
       "  </thead>\n",
       "  <tbody>\n",
       "    <tr>\n",
       "      <th>ad</th>\n",
       "      <td>14423</td>\n",
       "      <td>564577</td>\n",
       "    </tr>\n",
       "    <tr>\n",
       "      <th>psa</th>\n",
       "      <td>420</td>\n",
       "      <td>23524</td>\n",
       "    </tr>\n",
       "  </tbody>\n",
       "</table>\n",
       "</div>"
      ],
      "text/plain": [
       "            converted  population\n",
       "test_group                       \n",
       "ad              14423      564577\n",
       "psa               420       23524"
      ]
     },
     "execution_count": 14,
     "metadata": {},
     "output_type": "execute_result"
    }
   ],
   "source": [
    "# naive probability with PyMc\n",
    "\n",
    "(\n",
    "    dataf.groupby(by=\"test_group\")\n",
    "    .agg({\"converted\": (\"sum\", \"count\")})\n",
    "    .T.reset_index(drop=True)\n",
    "    .T.rename(columns={0: \"converted\", 1: \"population\"})\n",
    ")"
   ]
  },
  {
   "cell_type": "code",
   "execution_count": 15,
   "id": "7f788372-469c-4957-93f8-2c31c2456c6e",
   "metadata": {
    "tags": []
   },
   "outputs": [],
   "source": [
    "import pymc as pm\n",
    "import arviz as az"
   ]
  },
  {
   "cell_type": "code",
   "execution_count": 16,
   "id": "6669dbb6-dc71-4889-984e-b0d3edb00b5c",
   "metadata": {
    "tags": []
   },
   "outputs": [],
   "source": [
    "summarized_df = (\n",
    "    dataf.groupby(by=\"test_group\")\n",
    "    .agg({\"converted\": (\"sum\", \"count\")})\n",
    "    .T.reset_index(drop=True)\n",
    "    .T.rename(columns={0: \"converted\", 1: \"population\"})\n",
    ")\n",
    "\n",
    "converted = summarized_df[\"converted\"].to_numpy()\n",
    "population = summarized_df[\"population\"].to_numpy()\n",
    "coords = {\"test_group\": summarized_df.index}"
   ]
  },
  {
   "cell_type": "code",
   "execution_count": 17,
   "id": "7bcc46f3-dc2f-41e8-af4d-265f6b395acd",
   "metadata": {
    "tags": []
   },
   "outputs": [],
   "source": [
    "with pm.Model(coords=coords) as model:\n",
    "    p_convert = pm.Beta(\n",
    "        \"p_convert\", 2, 2, dims=\"test_group\"\n",
    "    )  # alpha (α) and beta (β) of 2\n",
    "    pm.Binomial(\"y\", p=p_convert, n=population, observed=converted)"
   ]
  },
  {
   "cell_type": "code",
   "execution_count": 18,
   "id": "6d9f193f-16dc-4dd7-8963-4b21cb13a774",
   "metadata": {
    "tags": []
   },
   "outputs": [
    {
     "data": {
      "text/latex": [
       "$$\n",
       "            \\begin{array}{rcl}\n",
       "            \\text{p_convert} &\\sim & \\operatorname{Beta}(2,~2)\\\\\\text{y} &\\sim & \\operatorname{Binomial}(\\text{<constant>},~\\text{p_convert})\n",
       "            \\end{array}\n",
       "            $$"
      ],
      "text/plain": [
       "<pymc.model.Model at 0x7faac8bc56d0>"
      ]
     },
     "execution_count": 18,
     "metadata": {},
     "output_type": "execute_result"
    }
   ],
   "source": [
    "model"
   ]
  },
  {
   "cell_type": "code",
   "execution_count": 19,
   "id": "8326e87d-c899-4fcd-8cc3-98658741ddad",
   "metadata": {
    "tags": []
   },
   "outputs": [
    {
     "data": {
      "image/svg+xml": [
       "<?xml version=\"1.0\" encoding=\"UTF-8\" standalone=\"no\"?>\n",
       "<!DOCTYPE svg PUBLIC \"-//W3C//DTD SVG 1.1//EN\"\n",
       " \"http://www.w3.org/Graphics/SVG/1.1/DTD/svg11.dtd\">\n",
       "<!-- Generated by graphviz version 2.43.0 (0)\n",
       " -->\n",
       "<!-- Title: %3 Pages: 1 -->\n",
       "<svg width=\"162pt\" height=\"260pt\"\n",
       " viewBox=\"0.00 0.00 162.00 259.91\" xmlns=\"http://www.w3.org/2000/svg\" xmlns:xlink=\"http://www.w3.org/1999/xlink\">\n",
       "<g id=\"graph0\" class=\"graph\" transform=\"scale(1 1) rotate(0) translate(4 255.91)\">\n",
       "<title>%3</title>\n",
       "<polygon fill=\"white\" stroke=\"transparent\" points=\"-4,4 -4,-255.91 158,-255.91 158,4 -4,4\"/>\n",
       "<g id=\"clust1\" class=\"cluster\">\n",
       "<title>clustertest_group (2)</title>\n",
       "<path fill=\"none\" stroke=\"black\" d=\"M20,-129.95C20,-129.95 134,-129.95 134,-129.95 140,-129.95 146,-135.95 146,-141.95 146,-141.95 146,-231.91 146,-231.91 146,-237.91 140,-243.91 134,-243.91 134,-243.91 20,-243.91 20,-243.91 14,-243.91 8,-237.91 8,-231.91 8,-231.91 8,-141.95 8,-141.95 8,-135.95 14,-129.95 20,-129.95\"/>\n",
       "<text text-anchor=\"middle\" x=\"87.5\" y=\"-137.75\" font-family=\"Times,serif\" font-size=\"14.00\">test_group (2)</text>\n",
       "</g>\n",
       "<g id=\"clust2\" class=\"cluster\">\n",
       "<title>cluster2</title>\n",
       "<path fill=\"none\" stroke=\"black\" d=\"M24,-8C24,-8 130,-8 130,-8 136,-8 142,-14 142,-20 142,-20 142,-109.95 142,-109.95 142,-115.95 136,-121.95 130,-121.95 130,-121.95 24,-121.95 24,-121.95 18,-121.95 12,-115.95 12,-109.95 12,-109.95 12,-20 12,-20 12,-14 18,-8 24,-8\"/>\n",
       "<text text-anchor=\"middle\" x=\"129\" y=\"-15.8\" font-family=\"Times,serif\" font-size=\"14.00\">2</text>\n",
       "</g>\n",
       "<!-- p_convert -->\n",
       "<g id=\"node1\" class=\"node\">\n",
       "<title>p_convert</title>\n",
       "<ellipse fill=\"none\" stroke=\"black\" cx=\"77\" cy=\"-198.43\" rx=\"60.62\" ry=\"37.45\"/>\n",
       "<text text-anchor=\"middle\" x=\"77\" y=\"-209.73\" font-family=\"Times,serif\" font-size=\"14.00\">p_convert</text>\n",
       "<text text-anchor=\"middle\" x=\"77\" y=\"-194.73\" font-family=\"Times,serif\" font-size=\"14.00\">~</text>\n",
       "<text text-anchor=\"middle\" x=\"77\" y=\"-179.73\" font-family=\"Times,serif\" font-size=\"14.00\">Beta</text>\n",
       "</g>\n",
       "<!-- y -->\n",
       "<g id=\"node2\" class=\"node\">\n",
       "<title>y</title>\n",
       "<ellipse fill=\"lightgrey\" stroke=\"black\" cx=\"77\" cy=\"-76.48\" rx=\"56.64\" ry=\"37.45\"/>\n",
       "<text text-anchor=\"middle\" x=\"77\" y=\"-87.78\" font-family=\"Times,serif\" font-size=\"14.00\">y</text>\n",
       "<text text-anchor=\"middle\" x=\"77\" y=\"-72.78\" font-family=\"Times,serif\" font-size=\"14.00\">~</text>\n",
       "<text text-anchor=\"middle\" x=\"77\" y=\"-57.78\" font-family=\"Times,serif\" font-size=\"14.00\">Binomial</text>\n",
       "</g>\n",
       "<!-- p_convert&#45;&gt;y -->\n",
       "<g id=\"edge1\" class=\"edge\">\n",
       "<title>p_convert&#45;&gt;y</title>\n",
       "<path fill=\"none\" stroke=\"black\" d=\"M77,-160.79C77,-149.38 77,-136.65 77,-124.63\"/>\n",
       "<polygon fill=\"black\" stroke=\"black\" points=\"80.5,-124.31 77,-114.31 73.5,-124.31 80.5,-124.31\"/>\n",
       "</g>\n",
       "</g>\n",
       "</svg>\n"
      ],
      "text/plain": [
       "<graphviz.graphs.Digraph at 0x7faac8e8e1d0>"
      ]
     },
     "execution_count": 19,
     "metadata": {},
     "output_type": "execute_result"
    }
   ],
   "source": [
    "pm.model_to_graphviz(model)"
   ]
  },
  {
   "cell_type": "code",
   "execution_count": 20,
   "id": "8d7ad15c-ee56-4e2a-8f06-09e4c22d10bd",
   "metadata": {
    "tags": []
   },
   "outputs": [
    {
     "name": "stderr",
     "output_type": "stream",
     "text": [
      "Auto-assigning NUTS sampler...\n",
      "Initializing NUTS using jitter+adapt_diag...\n",
      "Multiprocess sampling (4 chains in 4 jobs)\n",
      "NUTS: [p_convert]\n"
     ]
    },
    {
     "data": {
      "text/html": [
       "\n",
       "<style>\n",
       "    /* Turns off some styling */\n",
       "    progress {\n",
       "        /* gets rid of default border in Firefox and Opera. */\n",
       "        border: none;\n",
       "        /* Needs to be in here for Safari polyfill so background images work as expected. */\n",
       "        background-size: auto;\n",
       "    }\n",
       "    progress:not([value]), progress:not([value])::-webkit-progress-bar {\n",
       "        background: repeating-linear-gradient(45deg, #7e7e7e, #7e7e7e 10px, #5c5c5c 10px, #5c5c5c 20px);\n",
       "    }\n",
       "    .progress-bar-interrupted, .progress-bar-interrupted::-webkit-progress-bar {\n",
       "        background: #F44336;\n",
       "    }\n",
       "</style>\n"
      ],
      "text/plain": [
       "<IPython.core.display.HTML object>"
      ]
     },
     "metadata": {},
     "output_type": "display_data"
    },
    {
     "data": {
      "text/html": [
       "\n",
       "    <div>\n",
       "      <progress value='8000' class='' max='8000' style='width:300px; height:20px; vertical-align: middle;'></progress>\n",
       "      100.00% [8000/8000 00:01&lt;00:00 Sampling 4 chains, 0 divergences]\n",
       "    </div>\n",
       "    "
      ],
      "text/plain": [
       "<IPython.core.display.HTML object>"
      ]
     },
     "metadata": {},
     "output_type": "display_data"
    },
    {
     "name": "stderr",
     "output_type": "stream",
     "text": [
      "Sampling 4 chains for 1_000 tune and 1_000 draw iterations (4_000 + 4_000 draws total) took 1 seconds.\n"
     ]
    }
   ],
   "source": [
    "with model:\n",
    "    idata = pm.sample(chains=4, random_seed=42)"
   ]
  },
  {
   "cell_type": "code",
   "execution_count": 21,
   "id": "8d20e262-ecb0-471b-89e3-90ae7b1e45ad",
   "metadata": {
    "tags": []
   },
   "outputs": [],
   "source": [
    "import matplotlib as mpl\n",
    "\n",
    "mpl.style.use(\"ggplot\")"
   ]
  },
  {
   "cell_type": "code",
   "execution_count": 22,
   "id": "a5a458d0-3279-4e14-80c9-9460ac75c4ba",
   "metadata": {
    "tags": []
   },
   "outputs": [
    {
     "data": {
      "image/png": "[encoded data removed]",
      "text/plain": [
       "<Figure size 2000x800 with 4 Axes>"
      ]
     },
     "metadata": {},
     "output_type": "display_data"
    }
   ],
   "source": [
    "az.plot_trace(\n",
    "    idata,\n",
    "    kind=\"rank_bars\",\n",
    "    compact=False,\n",
    "    backend_kwargs={\"tight_layout\": True},\n",
    "    figsize=(20, 8),\n",
    ");"
   ]
  },
  {
   "cell_type": "code",
   "execution_count": 23,
   "id": "6367dde2-c927-4780-9ed0-feb2993767e9",
   "metadata": {
    "tags": []
   },
   "outputs": [
    {
     "data": {
      "image/png": "[encoded data removed]",
      "text/plain": [
       "<Figure size 1500x200 with 1 Axes>"
      ]
     },
     "metadata": {},
     "output_type": "display_data"
    }
   ],
   "source": [
    "import matplotlib.pyplot as plt\n",
    "\n",
    "fig, ax = plt.subplots(figsize=(15, 2))\n",
    "\n",
    "az.plot_forest(\n",
    "    idata,\n",
    "    var_names=[\"p_convert\"],\n",
    "    combined=True,\n",
    "    backend_kwargs={\"tight_layout\": True},\n",
    "    # figsize=(15, 2),\n",
    "    ax=ax,\n",
    ")\n",
    "\n",
    "ax.set(xlabel=\"Conversation probability\", ylabel=\"Test Group\");"
   ]
  },
  {
   "cell_type": "code",
   "execution_count": 51,
   "id": "9661d747-ba27-4786-8ced-97d93e28f830",
   "metadata": {
    "tags": []
   },
   "outputs": [
    {
     "data": {
      "text/html": [
       "<div>\n",
       "<style scoped>\n",
       "    .dataframe tbody tr th:only-of-type {\n",
       "        vertical-align: middle;\n",
       "    }\n",
       "\n",
       "    .dataframe tbody tr th {\n",
       "        vertical-align: top;\n",
       "    }\n",
       "\n",
       "    .dataframe thead th {\n",
       "        text-align: right;\n",
       "    }\n",
       "</style>\n",
       "<table border=\"1\" class=\"dataframe\">\n",
       "  <thead>\n",
       "    <tr style=\"text-align: right;\">\n",
       "      <th></th>\n",
       "      <th>user_id</th>\n",
       "      <th>test_group</th>\n",
       "      <th>converted</th>\n",
       "      <th>total_ads</th>\n",
       "      <th>most_ads_day</th>\n",
       "      <th>most_ads_hour</th>\n",
       "      <th>most_ads_day_cat</th>\n",
       "    </tr>\n",
       "  </thead>\n",
       "  <tbody>\n",
       "    <tr>\n",
       "      <th>514213</th>\n",
       "      <td>1220280</td>\n",
       "      <td>ad</td>\n",
       "      <td>0</td>\n",
       "      <td>2</td>\n",
       "      <td>Wednesday</td>\n",
       "      <td>15</td>\n",
       "      <td>6</td>\n",
       "    </tr>\n",
       "    <tr>\n",
       "      <th>259662</th>\n",
       "      <td>1544998</td>\n",
       "      <td>ad</td>\n",
       "      <td>0</td>\n",
       "      <td>3</td>\n",
       "      <td>Monday</td>\n",
       "      <td>20</td>\n",
       "      <td>1</td>\n",
       "    </tr>\n",
       "    <tr>\n",
       "      <th>277080</th>\n",
       "      <td>1505993</td>\n",
       "      <td>ad</td>\n",
       "      <td>0</td>\n",
       "      <td>15</td>\n",
       "      <td>Wednesday</td>\n",
       "      <td>16</td>\n",
       "      <td>6</td>\n",
       "    </tr>\n",
       "  </tbody>\n",
       "</table>\n",
       "</div>"
      ],
      "text/plain": [
       "        user_id test_group  converted  total_ads most_ads_day  most_ads_hour  \\\n",
       "514213  1220280         ad          0          2    Wednesday             15   \n",
       "259662  1544998         ad          0          3       Monday             20   \n",
       "277080  1505993         ad          0         15    Wednesday             16   \n",
       "\n",
       "        most_ads_day_cat  \n",
       "514213                 6  \n",
       "259662                 1  \n",
       "277080                 6  "
      ]
     },
     "execution_count": 51,
     "metadata": {},
     "output_type": "execute_result"
    }
   ],
   "source": [
    "summarized_hour_df = dataf.assign(\n",
    "    converted=lambda d: d[\"converted\"].astype(int),\n",
    "    most_ads_day_cat=lambda d: d[\"most_ads_day\"].astype(\"category\").cat.codes,\n",
    ").query(\"test_group=='ad'\")\n",
    "summarized_hour_df.sample(3)"
   ]
  },
  {
   "cell_type": "code",
   "execution_count": 52,
   "id": "4cdea5aa-d731-4d01-99a2-b4ac47d3d642",
   "metadata": {
    "tags": []
   },
   "outputs": [],
   "source": [
    "converted = summarized_hour_df[\"converted\"].to_numpy()\n",
    "\n",
    "with pm.Model(coords=coords) as model:\n",
    "    eta = pm.Deterministic(\"eta\", β[0] + β[1] * summarized_hour_df[\"most_ads_day_cat\"])\n",
    "\n",
    "    p_convert = pm.Deterministic(\"p_convert\", pm.math.sigmoid(eta))\n",
    "\n",
    "    pm.Bernoulli(\"y\", p=p_convert, observed=converted)"
   ]
  },
  {
   "cell_type": "code",
   "execution_count": 53,
   "id": "266c6150-8ed8-49a8-b12e-82c98125b4d2",
   "metadata": {
    "tags": []
   },
   "outputs": [
    {
     "data": {
      "image/svg+xml": [
       "<?xml version=\"1.0\" encoding=\"UTF-8\" standalone=\"no\"?>\n",
       "<!DOCTYPE svg PUBLIC \"-//W3C//DTD SVG 1.1//EN\"\n",
       " \"http://www.w3.org/Graphics/SVG/1.1/DTD/svg11.dtd\">\n",
       "<!-- Generated by graphviz version 2.43.0 (0)\n",
       " -->\n",
       "<!-- Title: %3 Pages: 1 -->\n",
       "<svg width=\"184pt\" height=\"116pt\"\n",
       " viewBox=\"0.00 0.00 184.00 116.00\" xmlns=\"http://www.w3.org/2000/svg\" xmlns:xlink=\"http://www.w3.org/1999/xlink\">\n",
       "<g id=\"graph0\" class=\"graph\" transform=\"scale(1 1) rotate(0) translate(4 112)\">\n",
       "<title>%3</title>\n",
       "<polygon fill=\"white\" stroke=\"transparent\" points=\"-4,4 -4,-112 180,-112 180,4 -4,4\"/>\n",
       "<g id=\"clust1\" class=\"cluster\">\n",
       "<title>clusterob_idx (7)</title>\n",
       "<path fill=\"none\" stroke=\"black\" d=\"M20,-8C20,-8 156,-8 156,-8 162,-8 168,-14 168,-20 168,-20 168,-88 168,-88 168,-94 162,-100 156,-100 156,-100 20,-100 20,-100 14,-100 8,-94 8,-88 8,-88 8,-20 8,-20 8,-14 14,-8 20,-8\"/>\n",
       "<text text-anchor=\"middle\" x=\"125\" y=\"-15.8\" font-family=\"Times,serif\" font-size=\"14.00\">ob_idx (7)</text>\n",
       "</g>\n",
       "<g id=\"clust2\" class=\"cluster\">\n",
       "<title>cluster564577</title>\n",
       "<path fill=\"none\" stroke=\"black\" d=\"M20,-8C20,-8 128,-8 128,-8 134,-8 140,-14 140,-20 140,-20 140,-287.95 140,-287.95 140,-293.95 134,-299.95 128,-299.95 128,-299.95 20,-299.95 20,-299.95 14,-299.95 8,-293.95 8,-287.95 8,-287.95 8,-20 8,-20 8,-14 14,-8 20,-8\"/>\n",
       "<text text-anchor=\"middle\" x=\"104.5\" y=\"-15.8\" font-family=\"Times,serif\" font-size=\"14.00\">564577</text>\n",
       "</g>\n",
       "<!-- β -->\n",
       "<g id=\"node1\" class=\"node\">\n",
       "<title>β</title>\n",
       "<ellipse fill=\"none\" stroke=\"black\" cx=\"74\" cy=\"-376.43\" rx=\"49.49\" ry=\"37.45\"/>\n",
       "<text text-anchor=\"middle\" x=\"74\" y=\"-387.73\" font-family=\"Times,serif\" font-size=\"14.00\">β</text>\n",
       "<text text-anchor=\"middle\" x=\"74\" y=\"-372.73\" font-family=\"Times,serif\" font-size=\"14.00\">~</text>\n",
       "<text text-anchor=\"middle\" x=\"74\" y=\"-357.73\" font-family=\"Times,serif\" font-size=\"14.00\">Normal</text>\n",
       "</g>\n",
       "<!-- eta -->\n",
       "<g id=\"node3\" class=\"node\">\n",
       "<title>eta</title>\n",
       "<polygon fill=\"none\" stroke=\"black\" points=\"131,-291.95 17,-291.95 17,-238.95 131,-238.95 131,-291.95\"/>\n",
       "<text text-anchor=\"middle\" x=\"74\" y=\"-276.75\" font-family=\"Times,serif\" font-size=\"14.00\">eta</text>\n",
       "<text text-anchor=\"middle\" x=\"74\" y=\"-261.75\" font-family=\"Times,serif\" font-size=\"14.00\">~</text>\n",
       "<text text-anchor=\"middle\" x=\"74\" y=\"-246.75\" font-family=\"Times,serif\" font-size=\"14.00\">Deterministic</text>\n",
       "</g>\n",
       "<!-- β&#45;&gt;eta -->\n",
       "<g id=\"edge1\" class=\"edge\">\n",
       "<title>β&#45;&gt;eta</title>\n",
       "<path fill=\"none\" stroke=\"black\" d=\"M74,-338.84C74,-327.1 74,-314.11 74,-302.42\"/>\n",
       "<polygon fill=\"black\" stroke=\"black\" points=\"77.5,-302.11 74,-292.11 70.5,-302.11 77.5,-302.11\"/>\n",
       "</g>\n",
       "<!-- y -->\n",
       "<g id=\"node2\" class=\"node\">\n",
       "<title>y</title>\n",
       "<ellipse fill=\"lightgrey\" stroke=\"black\" cx=\"74\" cy=\"-76.48\" rx=\"57.97\" ry=\"37.45\"/>\n",
       "<text text-anchor=\"middle\" x=\"74\" y=\"-87.78\" font-family=\"Times,serif\" font-size=\"14.00\">y</text>\n",
       "<text text-anchor=\"middle\" x=\"74\" y=\"-72.78\" font-family=\"Times,serif\" font-size=\"14.00\">~</text>\n",
       "<text text-anchor=\"middle\" x=\"74\" y=\"-57.78\" font-family=\"Times,serif\" font-size=\"14.00\">Bernoulli</text>\n",
       "</g>\n",
       "<!-- p_convert -->\n",
       "<g id=\"node4\" class=\"node\">\n",
       "<title>p_convert</title>\n",
       "<polygon fill=\"none\" stroke=\"black\" points=\"131,-202.95 17,-202.95 17,-149.95 131,-149.95 131,-202.95\"/>\n",
       "<text text-anchor=\"middle\" x=\"74\" y=\"-187.75\" font-family=\"Times,serif\" font-size=\"14.00\">p_convert</text>\n",
       "<text text-anchor=\"middle\" x=\"74\" y=\"-172.75\" font-family=\"Times,serif\" font-size=\"14.00\">~</text>\n",
       "<text text-anchor=\"middle\" x=\"74\" y=\"-157.75\" font-family=\"Times,serif\" font-size=\"14.00\">Deterministic</text>\n",
       "</g>\n",
       "<!-- eta&#45;&gt;p_convert -->\n",
       "<g id=\"edge2\" class=\"edge\">\n",
       "<title>eta&#45;&gt;p_convert</title>\n",
       "<path fill=\"none\" stroke=\"black\" d=\"M74,-238.82C74,-230.84 74,-221.89 74,-213.34\"/>\n",
       "<polygon fill=\"black\" stroke=\"black\" points=\"77.5,-213.2 74,-203.2 70.5,-213.2 77.5,-213.2\"/>\n",
       "</g>\n",
       "<!-- p_convert&#45;&gt;y -->\n",
       "<g id=\"edge3\" class=\"edge\">\n",
       "<title>p_convert&#45;&gt;y</title>\n",
       "<path fill=\"none\" stroke=\"black\" d=\"M74,-149.71C74,-141.89 74,-133.03 74,-124.27\"/>\n",
       "<polygon fill=\"black\" stroke=\"black\" points=\"77.5,-124.1 74,-114.1 70.5,-124.1 77.5,-124.1\"/>\n",
       "</g>\n",
       "</g>\n",
       "</svg>\n"
      ],
      "text/plain": [
       "<graphviz.graphs.Digraph at 0x7faab7efc250>"
      ]
     },
     "execution_count": 53,
     "metadata": {},
     "output_type": "execute_result"
    }
   ],
   "source": [
    "pm.model_to_graphviz(model)"
   ]
  },
  {
   "cell_type": "code",
   "execution_count": null,
   "id": "8825ce54-2e25-41ed-b599-b82b3b0391ae",
   "metadata": {
    "tags": []
   },
   "outputs": [
    {
     "name": "stderr",
     "output_type": "stream",
     "text": [
      "Auto-assigning NUTS sampler...\n",
      "Initializing NUTS using jitter+adapt_diag...\n",
      "Sequential sampling (1 chains in 1 job)\n",
      "NUTS: [β]\n"
     ]
    },
    {
     "data": {
      "text/html": [
       "\n",
       "<style>\n",
       "    /* Turns off some styling */\n",
       "    progress {\n",
       "        /* gets rid of default border in Firefox and Opera. */\n",
       "        border: none;\n",
       "        /* Needs to be in here for Safari polyfill so background images work as expected. */\n",
       "        background-size: auto;\n",
       "    }\n",
       "    progress:not([value]), progress:not([value])::-webkit-progress-bar {\n",
       "        background: repeating-linear-gradient(45deg, #7e7e7e, #7e7e7e 10px, #5c5c5c 10px, #5c5c5c 20px);\n",
       "    }\n",
       "    .progress-bar-interrupted, .progress-bar-interrupted::-webkit-progress-bar {\n",
       "        background: #F44336;\n",
       "    }\n",
       "</style>\n"
      ],
      "text/plain": [
       "<IPython.core.display.HTML object>"
      ]
     },
     "metadata": {},
     "output_type": "display_data"
    },
    {
     "data": {
      "text/html": [
       "\n",
       "    <div>\n",
       "      <progress value='105' class='' max='2000' style='width:300px; height:20px; vertical-align: middle;'></progress>\n",
       "      5.25% [105/2000 00:31&lt;09:35 Sampling chain 0, 0 divergences]\n",
       "    </div>\n",
       "    "
      ],
      "text/plain": [
       "<IPython.core.display.HTML object>"
      ]
     },
     "metadata": {},
     "output_type": "display_data"
    }
   ],
   "source": [
    "with model:\n",
    "    idata = pm.sample(chains=1, random_seed=42)"
   ]
  },
  {
   "cell_type": "code",
   "execution_count": null,
   "id": "9a46ab89-c164-46ac-8484-a36fdd007458",
   "metadata": {
    "tags": []
   },
   "outputs": [],
   "source": [
    "az.plot_trace(\n",
    "    idata,\n",
    "    var_names=[\"β\"],\n",
    "    kind=\"rank_bars\",\n",
    "    compact=True,\n",
    "    backend_kwargs={\"tight_layout\": True},\n",
    ");"
   ]
  },
  {
   "cell_type": "code",
   "execution_count": 170,
   "id": "72c4d72d-2a66-475b-8ad0-8cfdcf91be1a",
   "metadata": {
    "tags": []
   },
   "outputs": [
    {
     "data": {
      "image/png": "[encoded data removed]",
      "text/plain": [
       "<Figure size 1500x1500 with 1 Axes>"
      ]
     },
     "metadata": {},
     "output_type": "display_data"
    }
   ],
   "source": [
    "fig, ax = plt.subplots(figsize=(15, 15))\n",
    "\n",
    "az.plot_forest(\n",
    "    idata,\n",
    "    var_names=[\"β\"],\n",
    "    combined=True,\n",
    "    backend_kwargs={\"tight_layout\": True},\n",
    "    # figsize=(15, 2),\n",
    "    ax=ax,\n",
    ")\n",
    "\n",
    "ax.set(xlabel=\"Conversation probability\", ylabel=\"Test Group\");"
   ]
  },
  {
   "cell_type": "code",
   "execution_count": null,
   "id": "1ffa8ea1-ec3b-4c4a-9372-019e1009a7b8",
   "metadata": {},
   "outputs": [],
   "source": []
  }
 ],
 "metadata": {
  "kernelspec": {
   "display_name": "bolig",
   "language": "python",
   "name": "bolig"
  },
  "language_info": {
   "codemirror_mode": {
    "name": "ipython",
    "version": 3
   },
   "file_extension": ".py",
   "mimetype": "text/x-python",
   "name": "python",
   "nbconvert_exporter": "python",
   "pygments_lexer": "ipython3",
   "version": "3.12.7"
  }
 },
 "nbformat": 4,
 "nbformat_minor": 5
}
