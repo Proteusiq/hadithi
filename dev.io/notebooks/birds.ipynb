{
 "cells": [
  {
   "cell_type": "code",
   "execution_count": 1,
   "id": "eede8dfb-825e-427c-a8a2-f1d8cba0e742",
   "metadata": {},
   "outputs": [
    {
     "name": "stdout",
     "output_type": "stream",
     "text": [
      "/home/pwd/Codes/hadithi/dev.io\n"
     ]
    }
   ],
   "source": [
    "%cd ..\n",
    "\n",
    "# Data URI Million Rows Flights\n",
    "\n",
    "DATA_URI = \"assets/flights_1m.parquet\""
   ]
  },
  {
   "cell_type": "code",
   "execution_count": 2,
   "id": "eae5c86c-2102-4eec-b169-50b2d89d0873",
   "metadata": {},
   "outputs": [],
   "source": [
    "# Pandas\n",
    "\n",
    "import pandas as pd"
   ]
  },
  {
   "cell_type": "code",
   "execution_count": 3,
   "id": "3173e6de-ac20-4026-a2cc-e2ca57168fcb",
   "metadata": {},
   "outputs": [
    {
     "name": "stdout",
     "output_type": "stream",
     "text": [
      "CPU times: user 101 ms, sys: 33.9 ms, total: 135 ms\n",
      "Wall time: 120 ms\n"
     ]
    }
   ],
   "source": [
    "%%time\n",
    "\n",
    "# Pandas does not natively support lazy loading. So we have to eagerly load data\n",
    "flights_pd = pd.read_parquet(\n",
    "   DATA_URI \n",
    ")"
   ]
  },
  {
   "cell_type": "code",
   "execution_count": 4,
   "id": "9f9018d4-83a2-490f-87b8-ea1d55fe2939",
   "metadata": {},
   "outputs": [],
   "source": [
    "# Polars\n",
    "\n",
    "import polars as pl"
   ]
  },
  {
   "cell_type": "code",
   "execution_count": 5,
   "id": "9bddf812-9d6c-474d-b2a6-39a68a0224ca",
   "metadata": {},
   "outputs": [
    {
     "name": "stdout",
     "output_type": "stream",
     "text": [
      "CPU times: user 425 µs, sys: 416 µs, total: 841 µs\n",
      "Wall time: 824 µs\n"
     ]
    }
   ],
   "source": [
    "%%time\n",
    "\n",
    "# Polars supports both eager read, pl.read_parquet, but the lazy load is what sets it apart\n",
    "flights_pl = pl.scan_parquet(\n",
    "   DATA_URI \n",
    ")"
   ]
  },
  {
   "cell_type": "code",
   "execution_count": 6,
   "id": "32a4f7b6-e473-46a8-8ab8-e8ed9edb3f8a",
   "metadata": {},
   "outputs": [],
   "source": [
    "# ibis\n",
    "\n",
    "import ibis"
   ]
  },
  {
   "cell_type": "code",
   "execution_count": 8,
   "id": "82b869b1-f18b-4dd5-b808-347e70f8de47",
   "metadata": {},
   "outputs": [
    {
     "name": "stdout",
     "output_type": "stream",
     "text": [
      "CPU times: user 651 ms, sys: 5.64 ms, total: 656 ms\n",
      "Wall time: 635 ms\n"
     ]
    }
   ],
   "source": [
    "%%time\n",
    "\n",
    "# Ibis can be used as Pandas and Polars\n",
    "flights_ib = ibis.read_parquet(\n",
    "    DATA_URI\n",
    ")"
   ]
  },
  {
   "cell_type": "code",
   "execution_count": 14,
   "id": "154e55d6-ae7d-4571-a66f-a866695de3f3",
   "metadata": {},
   "outputs": [
    {
     "name": "stdout",
     "output_type": "stream",
     "text": [
      "CPU times: user 128 ms, sys: 0 ns, total: 128 ms\n",
      "Wall time: 100 ms\n"
     ]
    },
    {
     "data": {
      "text/html": [
       "<pre style=\"white-space:pre;overflow-x:auto;line-height:normal;font-family:Menlo,'DejaVu Sans Mono',consolas,'Courier New',monospace\">DatabaseTable: flights_ib\n",
       "  index       int64\n",
       "  date        timestamp\n",
       "  delay       int64\n",
       "  distance    int64\n",
       "  origin      string\n",
       "  destination string\n",
       "</pre>\n"
      ],
      "text/plain": [
       "DatabaseTable: flights_ib\n",
       "  index       int64\n",
       "  date        timestamp\n",
       "  delay       int64\n",
       "  distance    int64\n",
       "  origin      string\n",
       "  destination string"
      ]
     },
     "execution_count": 14,
     "metadata": {},
     "output_type": "execute_result"
    }
   ],
   "source": [
    "%%time\n",
    "\n",
    "# But it power comes from using backends e.g. DuckDB, Postgres, Snowflake etc\n",
    "# ibis changes the game by leaving data where it is. For this example, we would use in-memory duckdb database\n",
    "connection = (ibis\n",
    "              .duckdb # kind (could be snowflake, postgres etc\n",
    "              .connect()  # in-memory database \n",
    ")\n",
    "connection.register(DATA_URI, table_name=\"flights_ib\") #we can register more sources\n",
    "         "
   ]
  },
  {
   "cell_type": "code",
   "execution_count": 15,
   "id": "8b0afc3e-e2f3-46f1-8db7-dda148d6bfdf",
   "metadata": {},
   "outputs": [
    {
     "name": "stdout",
     "output_type": "stream",
     "text": [
      "CPU times: user 86.2 ms, sys: 4.57 ms, total: 90.7 ms\n",
      "Wall time: 68.3 ms\n"
     ]
    }
   ],
   "source": [
    "%%time\n",
    "\n",
    "fligths_ib = connection.table(\"flights_ib\")"
   ]
  },
  {
   "cell_type": "code",
   "execution_count": 17,
   "id": "01d383ea-4137-4305-8682-ddfdc467a318",
   "metadata": {},
   "outputs": [
    {
     "name": "stdout",
     "output_type": "stream",
     "text": [
      "SELECT\n",
      "  t0.index,\n",
      "  t0.date,\n",
      "  t0.delay,\n",
      "  t0.distance,\n",
      "  t0.origin,\n",
      "  t0.destination\n",
      "FROM flights_ib AS t0\n"
     ]
    }
   ],
   "source": [
    "ibis.show_sql(fligths_ib)"
   ]
  },
  {
   "cell_type": "code",
   "execution_count": null,
   "id": "0741d515-ff8f-4e2f-9329-9b2e4352ea90",
   "metadata": {},
   "outputs": [],
   "source": []
  }
 ],
 "metadata": {
  "kernelspec": {
   "display_name": "Mining",
   "language": "python",
   "name": "mining"
  },
  "language_info": {
   "codemirror_mode": {
    "name": "ipython",
    "version": 3
   },
   "file_extension": ".py",
   "mimetype": "text/x-python",
   "name": "python",
   "nbconvert_exporter": "python",
   "pygments_lexer": "ipython3",
   "version": "3.10.6"
  }
 },
 "nbformat": 4,
 "nbformat_minor": 5
}
