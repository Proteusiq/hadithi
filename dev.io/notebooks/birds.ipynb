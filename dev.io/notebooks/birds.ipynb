{
 "cells": [
  {
   "cell_type": "code",
   "execution_count": 55,
   "id": "eede8dfb-825e-427c-a8a2-f1d8cba0e742",
   "metadata": {},
   "outputs": [
    {
     "name": "stdout",
     "output_type": "stream",
     "text": [
      "/home/pwd/Codes\n"
     ]
    }
   ],
   "source": [
    "%cd ..\n",
    "\n",
    "# Data URI Million Rows Flights\n",
    "import numpy as np\n",
    "from functools import partial\n",
    "\n",
    "\n",
    "DATA_URI = \"assets/flights_1m.parquet\""
   ]
  },
  {
   "cell_type": "code",
   "execution_count": 2,
   "id": "eae5c86c-2102-4eec-b169-50b2d89d0873",
   "metadata": {
    "jupyter": {
     "source_hidden": true
    }
   },
   "outputs": [],
   "source": [
    "# Pandas\n",
    "\n",
    "import pandas as pd"
   ]
  },
  {
   "cell_type": "code",
   "execution_count": 3,
   "id": "3173e6de-ac20-4026-a2cc-e2ca57168fcb",
   "metadata": {},
   "outputs": [
    {
     "name": "stdout",
     "output_type": "stream",
     "text": [
      "CPU times: user 101 ms, sys: 33.9 ms, total: 135 ms\n",
      "Wall time: 120 ms\n"
     ]
    }
   ],
   "source": [
    "%%time\n",
    "\n",
    "# Pandas does not natively support lazy loading. So we have to eagerly load data\n",
    "flights_pd = pd.read_parquet(DATA_URI)"
   ]
  },
  {
   "cell_type": "code",
   "execution_count": 4,
   "id": "9f9018d4-83a2-490f-87b8-ea1d55fe2939",
   "metadata": {},
   "outputs": [],
   "source": [
    "# Polars\n",
    "\n",
    "import polars as pl"
   ]
  },
  {
   "cell_type": "code",
   "execution_count": 5,
   "id": "9bddf812-9d6c-474d-b2a6-39a68a0224ca",
   "metadata": {},
   "outputs": [
    {
     "name": "stdout",
     "output_type": "stream",
     "text": [
      "CPU times: user 425 µs, sys: 416 µs, total: 841 µs\n",
      "Wall time: 824 µs\n"
     ]
    }
   ],
   "source": [
    "%%time\n",
    "\n",
    "# Polars supports both eager read, pl.read_parquet, but the lazy load is what sets it apart\n",
    "flights_pl = pl.scan_parquet(DATA_URI)"
   ]
  },
  {
   "cell_type": "code",
   "execution_count": 6,
   "id": "32a4f7b6-e473-46a8-8ab8-e8ed9edb3f8a",
   "metadata": {},
   "outputs": [],
   "source": [
    "# ibis\n",
    "\n",
    "import ibis"
   ]
  },
  {
   "cell_type": "code",
   "execution_count": 8,
   "id": "82b869b1-f18b-4dd5-b808-347e70f8de47",
   "metadata": {},
   "outputs": [
    {
     "name": "stdout",
     "output_type": "stream",
     "text": [
      "CPU times: user 651 ms, sys: 5.64 ms, total: 656 ms\n",
      "Wall time: 635 ms\n"
     ]
    }
   ],
   "source": [
    "%%time\n",
    "\n",
    "# Ibis can be used as Pandas and Polars\n",
    "flights_ib = ibis.read_parquet(DATA_URI)"
   ]
  },
  {
   "cell_type": "code",
   "execution_count": 14,
   "id": "154e55d6-ae7d-4571-a66f-a866695de3f3",
   "metadata": {},
   "outputs": [
    {
     "name": "stdout",
     "output_type": "stream",
     "text": [
      "CPU times: user 128 ms, sys: 0 ns, total: 128 ms\n",
      "Wall time: 100 ms\n"
     ]
    },
    {
     "data": {
      "text/html": [
       "<pre style=\"white-space:pre;overflow-x:auto;line-height:normal;font-family:Menlo,'DejaVu Sans Mono',consolas,'Courier New',monospace\">DatabaseTable: flights_ib\n",
       "  index       int64\n",
       "  date        timestamp\n",
       "  delay       int64\n",
       "  distance    int64\n",
       "  origin      string\n",
       "  destination string\n",
       "</pre>\n"
      ],
      "text/plain": [
       "DatabaseTable: flights_ib\n",
       "  index       int64\n",
       "  date        timestamp\n",
       "  delay       int64\n",
       "  distance    int64\n",
       "  origin      string\n",
       "  destination string"
      ]
     },
     "execution_count": 14,
     "metadata": {},
     "output_type": "execute_result"
    }
   ],
   "source": [
    "%%time\n",
    "\n",
    "# But it power comes from using backends e.g. DuckDB, Postgres, Snowflake etc\n",
    "# ibis changes the game by leaving data where it is. For this example, we would use in-memory duckdb database\n",
    "connection = (\n",
    "    ibis.duckdb.connect()  # kind (could be snowflake, postgres etc  # in-memory database\n",
    ")\n",
    "connection.register(DATA_URI, table_name=\"flights_ib\")  # we can register more sources"
   ]
  },
  {
   "cell_type": "code",
   "execution_count": 15,
   "id": "8b0afc3e-e2f3-46f1-8db7-dda148d6bfdf",
   "metadata": {},
   "outputs": [
    {
     "name": "stdout",
     "output_type": "stream",
     "text": [
      "CPU times: user 86.2 ms, sys: 4.57 ms, total: 90.7 ms\n",
      "Wall time: 68.3 ms\n"
     ]
    }
   ],
   "source": [
    "%%time\n",
    "\n",
    "fligths_ib = connection.table(\"flights_ib\")"
   ]
  },
  {
   "cell_type": "code",
   "execution_count": 18,
   "id": "01d383ea-4137-4305-8682-ddfdc467a318",
   "metadata": {},
   "outputs": [
    {
     "name": "stdout",
     "output_type": "stream",
     "text": [
      "SELECT\n",
      "  t0.index,\n",
      "  t0.date,\n",
      "  t0.delay,\n",
      "  t0.distance,\n",
      "  t0.origin,\n",
      "  t0.destination\n",
      "FROM flights_ib AS t0\n"
     ]
    }
   ],
   "source": [
    "ibis.show_sql(fligths_ib, dialect=\"postgres\")"
   ]
  },
  {
   "cell_type": "code",
   "execution_count": 29,
   "id": "0741d515-ff8f-4e2f-9329-9b2e4352ea90",
   "metadata": {},
   "outputs": [
    {
     "name": "stdout",
     "output_type": "stream",
     "text": [
      "CPU times: user 16 µs, sys: 4 µs, total: 20 µs\n",
      "Wall time: 39.8 µs\n"
     ]
    },
    {
     "data": {
      "text/html": [
       "<pre style=\"white-space:pre;overflow-x:auto;line-height:normal;font-family:Menlo,'DejaVu Sans Mono',consolas,'Courier New',monospace\">DatabaseTable: flights_ib\n",
       "  index       int64\n",
       "  date        timestamp\n",
       "  delay       int64\n",
       "  distance    int64\n",
       "  origin      string\n",
       "  destination string\n",
       "</pre>\n"
      ],
      "text/plain": [
       "DatabaseTable: flights_ib\n",
       "  index       int64\n",
       "  date        timestamp\n",
       "  delay       int64\n",
       "  distance    int64\n",
       "  origin      string\n",
       "  destination string"
      ]
     },
     "execution_count": 29,
     "metadata": {},
     "output_type": "execute_result"
    }
   ],
   "source": [
    "%%time\n",
    "fligths_ib"
   ]
  },
  {
   "cell_type": "code",
   "execution_count": 25,
   "id": "2a436f06-85f0-44b2-b14a-8cbef433d697",
   "metadata": {},
   "outputs": [
    {
     "name": "stdout",
     "output_type": "stream",
     "text": [
      "CPU times: user 177 µs, sys: 44 µs, total: 221 µs\n",
      "Wall time: 289 µs\n"
     ]
    },
    {
     "data": {
      "text/html": [
       "<div>\n",
       "<style scoped>\n",
       "    .dataframe tbody tr th:only-of-type {\n",
       "        vertical-align: middle;\n",
       "    }\n",
       "\n",
       "    .dataframe tbody tr th {\n",
       "        vertical-align: top;\n",
       "    }\n",
       "\n",
       "    .dataframe thead th {\n",
       "        text-align: right;\n",
       "    }\n",
       "</style>\n",
       "<table border=\"1\" class=\"dataframe\">\n",
       "  <thead>\n",
       "    <tr style=\"text-align: right;\">\n",
       "      <th></th>\n",
       "      <th>index</th>\n",
       "      <th>date</th>\n",
       "      <th>delay</th>\n",
       "      <th>distance</th>\n",
       "      <th>origin</th>\n",
       "      <th>destination</th>\n",
       "    </tr>\n",
       "  </thead>\n",
       "  <tbody>\n",
       "    <tr>\n",
       "      <th>0</th>\n",
       "      <td>0</td>\n",
       "      <td>2001-02-14 15:12:00</td>\n",
       "      <td>8</td>\n",
       "      <td>342</td>\n",
       "      <td>SJC</td>\n",
       "      <td>SNA</td>\n",
       "    </tr>\n",
       "    <tr>\n",
       "      <th>1</th>\n",
       "      <td>1</td>\n",
       "      <td>2001-01-22 09:50:00</td>\n",
       "      <td>-10</td>\n",
       "      <td>601</td>\n",
       "      <td>PHX</td>\n",
       "      <td>RNO</td>\n",
       "    </tr>\n",
       "    <tr>\n",
       "      <th>2</th>\n",
       "      <td>2</td>\n",
       "      <td>2001-01-17 10:59:00</td>\n",
       "      <td>4</td>\n",
       "      <td>181</td>\n",
       "      <td>DAL</td>\n",
       "      <td>OKC</td>\n",
       "    </tr>\n",
       "    <tr>\n",
       "      <th>3</th>\n",
       "      <td>3</td>\n",
       "      <td>2001-01-14 16:20:00</td>\n",
       "      <td>4</td>\n",
       "      <td>630</td>\n",
       "      <td>PDX</td>\n",
       "      <td>SLC</td>\n",
       "    </tr>\n",
       "    <tr>\n",
       "      <th>4</th>\n",
       "      <td>4</td>\n",
       "      <td>2001-03-14 10:50:00</td>\n",
       "      <td>-3</td>\n",
       "      <td>223</td>\n",
       "      <td>BUR</td>\n",
       "      <td>LAS</td>\n",
       "    </tr>\n",
       "  </tbody>\n",
       "</table>\n",
       "</div>"
      ],
      "text/plain": [
       "   index                date  delay  distance origin destination\n",
       "0      0 2001-02-14 15:12:00      8       342    SJC         SNA\n",
       "1      1 2001-01-22 09:50:00    -10       601    PHX         RNO\n",
       "2      2 2001-01-17 10:59:00      4       181    DAL         OKC\n",
       "3      3 2001-01-14 16:20:00      4       630    PDX         SLC\n",
       "4      4 2001-03-14 10:50:00     -3       223    BUR         LAS"
      ]
     },
     "execution_count": 25,
     "metadata": {},
     "output_type": "execute_result"
    }
   ],
   "source": [
    "%%time\n",
    "\n",
    "flights_pd.head()"
   ]
  },
  {
   "cell_type": "code",
   "execution_count": 26,
   "id": "80697491-3177-48d1-9ce3-cdd848b0852e",
   "metadata": {},
   "outputs": [
    {
     "name": "stdout",
     "output_type": "stream",
     "text": [
      "CPU times: user 16 µs, sys: 4 µs, total: 20 µs\n",
      "Wall time: 25.3 µs\n"
     ]
    },
    {
     "data": {
      "text/html": [
       "<h4>NAIVE QUERY PLAN</h4><p>run <b>LazyFrame.show_graph()</b> to see the optimized version</p><?xml version=\"1.0\" encoding=\"UTF-8\" standalone=\"no\"?>\n",
       "<!DOCTYPE svg PUBLIC \"-//W3C//DTD SVG 1.1//EN\"\n",
       " \"http://www.w3.org/Graphics/SVG/1.1/DTD/svg11.dtd\">\n",
       "<!-- Generated by graphviz version 2.43.0 (0)\n",
       " -->\n",
       "<!-- Title: polars_query Pages: 1 -->\n",
       "<svg width=\"336pt\" height=\"133pt\"\n",
       " viewBox=\"0.00 0.00 336.00 133.00\" xmlns=\"http://www.w3.org/2000/svg\" xmlns:xlink=\"http://www.w3.org/1999/xlink\">\n",
       "<g id=\"graph0\" class=\"graph\" transform=\"scale(1 1) rotate(0) translate(4 129)\">\n",
       "<title>polars_query</title>\n",
       "<polygon fill=\"white\" stroke=\"transparent\" points=\"-4,4 -4,-129 332,-129 332,4 -4,4\"/>\n",
       "<!-- SLICE offset: 0; len: 5 [(0, 0)] -->\n",
       "<g id=\"node1\" class=\"node\">\n",
       "<title>SLICE offset: 0; len: 5 [(0, 0)]</title>\n",
       "<polygon fill=\"none\" stroke=\"black\" points=\"250.5,-125 77.5,-125 77.5,-89 250.5,-89 250.5,-125\"/>\n",
       "<text text-anchor=\"middle\" x=\"164\" y=\"-103.3\" font-family=\"Times,serif\" font-size=\"14.00\">SLICE offset: 0; len: 5</text>\n",
       "</g>\n",
       "<!-- PARQUET SCAN assets/flights_1m.parquet;\n",
       "π */6;\n",
       "σ &#45; [(0, 1)] -->\n",
       "<g id=\"node2\" class=\"node\">\n",
       "<title>PARQUET SCAN assets/flights_1m.parquet;\n",
       "π */6;\n",
       "σ &#45; [(0, 1)]</title>\n",
       "<polygon fill=\"none\" stroke=\"black\" points=\"328,-53 0,-53 0,0 328,0 328,-53\"/>\n",
       "<text text-anchor=\"middle\" x=\"164\" y=\"-37.8\" font-family=\"Times,serif\" font-size=\"14.00\">PARQUET SCAN assets/flights_1m.parquet;</text>\n",
       "<text text-anchor=\"middle\" x=\"164\" y=\"-22.8\" font-family=\"Times,serif\" font-size=\"14.00\">π */6;</text>\n",
       "<text text-anchor=\"middle\" x=\"164\" y=\"-7.8\" font-family=\"Times,serif\" font-size=\"14.00\">σ &#45;</text>\n",
       "</g>\n",
       "<!-- SLICE offset: 0; len: 5 [(0, 0)]&#45;&#45;PARQUET SCAN assets/flights_1m.parquet;\n",
       "π */6;\n",
       "σ &#45; [(0, 1)] -->\n",
       "<g id=\"edge1\" class=\"edge\">\n",
       "<title>SLICE offset: 0; len: 5 [(0, 0)]&#45;&#45;PARQUET SCAN assets/flights_1m.parquet;\n",
       "π */6;\n",
       "σ &#45; [(0, 1)]</title>\n",
       "<path fill=\"none\" stroke=\"black\" d=\"M164,-88.97C164,-78.51 164,-64.9 164,-53.16\"/>\n",
       "</g>\n",
       "</g>\n",
       "</svg>\n"
      ],
      "text/plain": [
       "<LazyFrame [6 cols, {\"index\": Int64 … \"destination\": Utf8}] at 0x7FE89C6A4910>"
      ]
     },
     "execution_count": 26,
     "metadata": {},
     "output_type": "execute_result"
    }
   ],
   "source": [
    "%%time\n",
    "\n",
    "flights_pl.head()"
   ]
  },
  {
   "cell_type": "code",
   "execution_count": 30,
   "id": "2ede0109-fd56-46fd-896d-a0e431ef3531",
   "metadata": {},
   "outputs": [
    {
     "name": "stdout",
     "output_type": "stream",
     "text": [
      "CPU times: user 5.99 ms, sys: 1.51 ms, total: 7.49 ms\n",
      "Wall time: 1.59 ms\n"
     ]
    },
    {
     "data": {
      "text/html": [
       "<div><style>\n",
       ".dataframe > thead > tr > th,\n",
       ".dataframe > tbody > tr > td {\n",
       "  text-align: right;\n",
       "}\n",
       "</style>\n",
       "<small>shape: (5, 6)</small><table border=\"1\" class=\"dataframe\"><thead><tr><th>index</th><th>date</th><th>delay</th><th>distance</th><th>origin</th><th>destination</th></tr><tr><td>i64</td><td>datetime[ns]</td><td>i64</td><td>i64</td><td>str</td><td>str</td></tr></thead><tbody><tr><td>0</td><td>2001-02-14 15:12:00</td><td>8</td><td>342</td><td>&quot;SJC&quot;</td><td>&quot;SNA&quot;</td></tr><tr><td>1</td><td>2001-01-22 09:50:00</td><td>-10</td><td>601</td><td>&quot;PHX&quot;</td><td>&quot;RNO&quot;</td></tr><tr><td>2</td><td>2001-01-17 10:59:00</td><td>4</td><td>181</td><td>&quot;DAL&quot;</td><td>&quot;OKC&quot;</td></tr><tr><td>3</td><td>2001-01-14 16:20:00</td><td>4</td><td>630</td><td>&quot;PDX&quot;</td><td>&quot;SLC&quot;</td></tr><tr><td>4</td><td>2001-03-14 10:50:00</td><td>-3</td><td>223</td><td>&quot;BUR&quot;</td><td>&quot;LAS&quot;</td></tr></tbody></table></div>"
      ],
      "text/plain": [
       "shape: (5, 6)\n",
       "┌───────┬─────────────────────┬───────┬──────────┬────────┬─────────────┐\n",
       "│ index ┆ date                ┆ delay ┆ distance ┆ origin ┆ destination │\n",
       "│ ---   ┆ ---                 ┆ ---   ┆ ---      ┆ ---    ┆ ---         │\n",
       "│ i64   ┆ datetime[ns]        ┆ i64   ┆ i64      ┆ str    ┆ str         │\n",
       "╞═══════╪═════════════════════╪═══════╪══════════╪════════╪═════════════╡\n",
       "│ 0     ┆ 2001-02-14 15:12:00 ┆ 8     ┆ 342      ┆ SJC    ┆ SNA         │\n",
       "│ 1     ┆ 2001-01-22 09:50:00 ┆ -10   ┆ 601      ┆ PHX    ┆ RNO         │\n",
       "│ 2     ┆ 2001-01-17 10:59:00 ┆ 4     ┆ 181      ┆ DAL    ┆ OKC         │\n",
       "│ 3     ┆ 2001-01-14 16:20:00 ┆ 4     ┆ 630      ┆ PDX    ┆ SLC         │\n",
       "│ 4     ┆ 2001-03-14 10:50:00 ┆ -3    ┆ 223      ┆ BUR    ┆ LAS         │\n",
       "└───────┴─────────────────────┴───────┴──────────┴────────┴─────────────┘"
      ]
     },
     "execution_count": 30,
     "metadata": {},
     "output_type": "execute_result"
    }
   ],
   "source": [
    "%%time\n",
    "flights_pl.head().collect()"
   ]
  },
  {
   "cell_type": "code",
   "execution_count": 33,
   "id": "382e7802-66a3-4d51-be47-1dbea789cb51",
   "metadata": {},
   "outputs": [
    {
     "name": "stdout",
     "output_type": "stream",
     "text": [
      "SELECT\n",
      "  t0.index,\n",
      "  t0.date,\n",
      "  t0.delay,\n",
      "  t0.distance,\n",
      "  t0.origin,\n",
      "  t0.destination\n",
      "FROM _ibis_read_parquet_gukrwxqo7vd2rkakxjuqzje37y AS t0\n",
      "LIMIT 5\n"
     ]
    }
   ],
   "source": [
    "ibis.show_sql(flights_ib.head())"
   ]
  },
  {
   "cell_type": "code",
   "execution_count": 36,
   "id": "0b259ece-b1e2-40c6-bc64-85cbea99b1f2",
   "metadata": {},
   "outputs": [
    {
     "data": {
      "text/html": [
       "<div>\n",
       "<style scoped>\n",
       "    .dataframe tbody tr th:only-of-type {\n",
       "        vertical-align: middle;\n",
       "    }\n",
       "\n",
       "    .dataframe tbody tr th {\n",
       "        vertical-align: top;\n",
       "    }\n",
       "\n",
       "    .dataframe thead th {\n",
       "        text-align: right;\n",
       "    }\n",
       "</style>\n",
       "<table border=\"1\" class=\"dataframe\">\n",
       "  <thead>\n",
       "    <tr style=\"text-align: right;\">\n",
       "      <th></th>\n",
       "      <th>index</th>\n",
       "      <th>date</th>\n",
       "      <th>delay</th>\n",
       "      <th>distance</th>\n",
       "      <th>origin</th>\n",
       "      <th>destination</th>\n",
       "    </tr>\n",
       "  </thead>\n",
       "  <tbody>\n",
       "    <tr>\n",
       "      <th>0</th>\n",
       "      <td>0</td>\n",
       "      <td>2001-02-14 15:12:00</td>\n",
       "      <td>8</td>\n",
       "      <td>342</td>\n",
       "      <td>SJC</td>\n",
       "      <td>SNA</td>\n",
       "    </tr>\n",
       "    <tr>\n",
       "      <th>1</th>\n",
       "      <td>1</td>\n",
       "      <td>2001-01-22 09:50:00</td>\n",
       "      <td>-10</td>\n",
       "      <td>601</td>\n",
       "      <td>PHX</td>\n",
       "      <td>RNO</td>\n",
       "    </tr>\n",
       "    <tr>\n",
       "      <th>2</th>\n",
       "      <td>2</td>\n",
       "      <td>2001-01-17 10:59:00</td>\n",
       "      <td>4</td>\n",
       "      <td>181</td>\n",
       "      <td>DAL</td>\n",
       "      <td>OKC</td>\n",
       "    </tr>\n",
       "    <tr>\n",
       "      <th>3</th>\n",
       "      <td>3</td>\n",
       "      <td>2001-01-14 16:20:00</td>\n",
       "      <td>4</td>\n",
       "      <td>630</td>\n",
       "      <td>PDX</td>\n",
       "      <td>SLC</td>\n",
       "    </tr>\n",
       "    <tr>\n",
       "      <th>4</th>\n",
       "      <td>4</td>\n",
       "      <td>2001-03-14 10:50:00</td>\n",
       "      <td>-3</td>\n",
       "      <td>223</td>\n",
       "      <td>BUR</td>\n",
       "      <td>LAS</td>\n",
       "    </tr>\n",
       "  </tbody>\n",
       "</table>\n",
       "</div>"
      ],
      "text/plain": [
       "   index                date  delay  distance origin destination\n",
       "0      0 2001-02-14 15:12:00      8       342    SJC         SNA\n",
       "1      1 2001-01-22 09:50:00    -10       601    PHX         RNO\n",
       "2      2 2001-01-17 10:59:00      4       181    DAL         OKC\n",
       "3      3 2001-01-14 16:20:00      4       630    PDX         SLC\n",
       "4      4 2001-03-14 10:50:00     -3       223    BUR         LAS"
      ]
     },
     "execution_count": 36,
     "metadata": {},
     "output_type": "execute_result"
    }
   ],
   "source": [
    "flights_ib.head().execute()"
   ]
  },
  {
   "cell_type": "code",
   "execution_count": null,
   "id": "9365b36f-b050-4b75-b248-4f64bc8228e7",
   "metadata": {},
   "outputs": [],
   "source": []
  }
 ],
 "metadata": {
  "kernelspec": {
   "display_name": "Python 3 (ipykernel)",
   "language": "python",
   "name": "python3"
  },
  "language_info": {
   "codemirror_mode": {
    "name": "ipython",
    "version": 3
   },
   "file_extension": ".py",
   "mimetype": "text/x-python",
   "name": "python",
   "nbconvert_exporter": "python",
   "pygments_lexer": "ipython3",
   "version": "3.12.2"
  }
 },
 "nbformat": 4,
 "nbformat_minor": 5
}
