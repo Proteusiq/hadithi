{
 "cells": [
  {
   "cell_type": "code",
   "execution_count": 1,
   "id": "9893f796-641b-4e69-97e7-773809915562",
   "metadata": {},
   "outputs": [
    {
     "name": "stdout",
     "output_type": "stream",
     "text": [
      "Author: Prayson W. Daniel\n",
      "\n",
      "Last updated: 2024-11-19T20:41:23.461748+01:00\n",
      "\n",
      "Python implementation: CPython\n",
      "Python version       : 3.11.10\n",
      "IPython version      : 8.29.0\n",
      "\n",
      "ollama: 0.3.3\n",
      "\n",
      "Compiler    : Clang 15.0.0 (clang-1500.3.9.4)\n",
      "OS          : Darwin\n",
      "Release     : 23.5.0\n",
      "Machine     : arm64\n",
      "Processor   : arm\n",
      "CPU cores   : 16\n",
      "Architecture: 64bit\n",
      "\n"
     ]
    }
   ],
   "source": [
    "%%capture --no-stdout\n",
    "%reload_ext watermark\n",
    "%watermark -uniz --author \"Prayson W. Daniel\" -vm -p ollama"
   ]
  },
  {
   "cell_type": "markdown",
   "id": "1ce7204b-cf56-48de-bce5-09951a42211e",
   "metadata": {},
   "source": [
    "# Book Recommendation from Image"
   ]
  },
  {
   "cell_type": "markdown",
   "id": "83ee033d-c4fb-4335-b31e-7a694826dce7",
   "metadata": {},
   "source": [
    "![books](../data/images/books.png)"
   ]
  },
  {
   "cell_type": "code",
   "execution_count": 2,
   "id": "645c351c-e2e9-4ffc-b860-460428d77676",
   "metadata": {},
   "outputs": [],
   "source": [
    "from IPython.display import display_markdown\n",
    "import ollama"
   ]
  },
  {
   "cell_type": "code",
   "execution_count": 3,
   "id": "16c31b6c-647e-4ecd-b827-4326bc707c5e",
   "metadata": {},
   "outputs": [
    {
     "data": {
      "text/markdown": [
       "The image displays a collection of 12 books arranged on a wooden surface. The books are placed in three rows, with four books in the top row, four in the middle row, and four in the bottom row.\n",
       "\n",
       "Here is a list of the books shown:\n",
       "\n",
       "* Top Row:\n",
       "\t+ **The Hobbit** by J.R.R. Tolkien\n",
       "\t+ **The Fellowship of the Ring** by J.R.R. Tolkien\n",
       "\t+ **The Two Towers** by J.R.R. Tolkien\n",
       "\t+ **The Return of the King** by J.R.R. Tolkien (book 3 in The Lord of the Rings series)\n",
       "* Middle Row:\n",
       "\t+ **Kongeord** by Frederik Stjernfelt\n",
       "\t+ **Sherlock Holmes: The Complete Stories** by Sir Arthur Conan Doyle\n",
       "\t+ **Jonathan Livingston Seagull** by Richard Bach\n",
       "\t+ **The Alchemist** by Paulo Coelho\n",
       "* Bottom Row:\n",
       "\t+ **Animal Farm** by George Orwell\n",
       "\t+ **1984** by George Orwell\n",
       "\t+ **The Catcher in the Rye** by J.D. Salinger\n",
       "\t+ **The Hitchhiker's Guide to the Galaxy** by Douglas Adams\n",
       "\n",
       "It appears that this is a collection of classic and popular literature, featuring works from various genres such as fantasy, science fiction, mystery, and philosophy."
      ]
     },
     "metadata": {},
     "output_type": "display_data"
    }
   ],
   "source": [
    "# stochastic without seed\n",
    "prompt = 'What is in this image?'\n",
    "\n",
    "response = ollama.chat(\n",
    "    model='llama3.2-vision',\n",
    "    messages=[{\n",
    "        'role': 'user',\n",
    "        'content': prompt,\n",
    "        'images': ['../data/images/books.png']\n",
    "    }]\n",
    ")\n",
    "\n",
    "display_markdown(response[\"message\"][\"content\"], raw=True)"
   ]
  },
  {
   "cell_type": "code",
   "execution_count": 4,
   "id": "94356ccf-0905-4978-8758-071fe2da54d0",
   "metadata": {},
   "outputs": [
    {
     "data": {
      "text/markdown": [
       "This image shows a collection of books arranged on a wooden surface. The books are placed in two rows, with some lying flat and others standing upright. The books include:\n",
       "\n",
       "* \"The Hobbit\" by J.R.R. Tolkien\n",
       "* \"The Lord of the Rings\" trilogy by J.R.R. Tolkien\n",
       "* \"Kongeord\" (a Danish novel)\n",
       "* \"Seagull\" (a play by Anton Chekhov)\n",
       "* \"The Alchemist\" by Paulo Coelho\n",
       "* \"Animal Farm\" by George Orwell\n",
       "* \"1984\" by George Orwell\n",
       "* \"The Catcher in the Rye\" by J.D. Salinger\n",
       "* \"Sherlock Holmes: The Complete Stories\" by Sir Arthur Conan Doyle\n",
       "* \"The Hitchhiker's Guide to the Galaxy\" series by Douglas Adams\n",
       "* \"Jonathan Livingston Seagull\" (a novella by Richard Bach)\n",
       "\n",
       "Overall, this image appears to be a collection of classic literature and popular fiction, with a mix of fantasy, science fiction, and literary works."
      ]
     },
     "metadata": {},
     "output_type": "display_data"
    }
   ],
   "source": [
    "# taming stochastic nature seed\n",
    "\n",
    "client = ollama.Client(host=\"http://localhost:11434\")\n",
    "\n",
    "output = client.chat(\n",
    "      \n",
    "     model='llama3.2-vision',\n",
    "     messages=[{\n",
    "        'role': 'user',\n",
    "        'content': prompt,\n",
    "        'images': ['../data/images/books.png']\n",
    "     }],\n",
    "      options={  \n",
    "                \"seed\": 42,\n",
    "                \"temperature\": 0.0, \n",
    "                \"num_ctx\": 2048 # must be set for reproducibility\n",
    "            }\n",
    "    )\n",
    "    \n",
    "display_markdown(output[\"message\"][\"content\"], raw=True)"
   ]
  },
  {
   "cell_type": "code",
   "execution_count": 7,
   "id": "e8b61cb0-e6e2-48e3-8bed-f35651272e7b",
   "metadata": {},
   "outputs": [
    {
     "data": {
      "text/markdown": [
       "What a delightful collection of books!\n",
       "\n",
       "Here is the list of books in the image:\n",
       "\n",
       "1. The Hobbit by J.R.R. Tolkien\n",
       "2. The Fellowship of the Ring by J.R.R. Tolkien\n",
       "3. The Two Towers by J.R.R. Tolkien\n",
       "4. The Return of the King by J.R.R. Tolkien (not visible, but part of the set)\n",
       "5. Kongeord by Frederik Stjernfelt\n",
       "6. Jonathan Livingston Seagull by Richard Bach\n",
       "7. The Alchemist by Paulo Coelho\n",
       "8. Animal Farm by George Orwell\n",
       "9. 1984 by George Orwell\n",
       "10. Sherlock Holmes: The Complete Novels and Stories by Sir Arthur Conan Doyle\n",
       "11. Catcher in the Rye by J.D. Salinger\n",
       "12. Hitchhiker's Guide to the Galaxy by Douglas Adams\n",
       "\n",
       "Now, based on this list, here are 10 book recommendations that might interest you:\n",
       "\n",
       "1. **The Name of the Rose** by Umberto Eco - A historical mystery novel with philosophical undertones, similar to George Orwell's works.\n",
       "2. **The Little Prince** by Antoine de Saint-Exupéry - A classic tale of self-discovery and adventure, reminiscent of Richard Bach's Jonathan Livingston Seagull.\n",
       "3. **The Count of Monte Cristo** by Alexandre Dumas - A classic adventure novel with themes of redemption and justice, similar to J.R.R. Tolkien's works.\n",
       "4. **The Handmaid's Tale** by Margaret Atwood - A dystopian novel exploring themes of oppression and resistance, similar to George Orwell's 1984.\n",
       "5. **The Shadow of the Wind** by Carlos Ruiz Zafón - A gothic mystery novel with a focus on literature and storytelling, similar to Douglas Adams' Hitchhiker's Guide to the Galaxy.\n",
       "6. **The Night Circus** by Erin Morgenstern - A magical realist novel with a focus on imagination and wonder, similar to J.R.R. Tolkien's works.\n",
       "7. **The Giver** by Lois Lowry - A dystopian novel exploring themes of conformity and individuality, similar to George Orwell's 1984.\n",
       "8. **The Golden Compass** by Philip Pullman - A fantasy adventure novel with a focus on alternate worlds and philosophical themes, similar to J.R.R. Tolkien's works.\n",
       "9. **The House of the Spirits** by Isabel Allende - A magical realist novel exploring themes of family, love, and social change, similar"
      ]
     },
     "metadata": {},
     "output_type": "display_data"
    }
   ],
   "source": [
    "query = \"\"\"\n",
    " You are a brilliant Librarian. \n",
    " First list the books in image  and then\n",
    " recommend 10 other books based on the list from image, user might enjoy \n",
    "\n",
    "\"\"\"\n",
    "\n",
    "recommendation = client.chat(\n",
    "      \n",
    "     model='llama3.2-vision',\n",
    "     messages=[{\n",
    "        'role': 'user',\n",
    "        'content': query,\n",
    "        'images': ['../data/images/books.png']\n",
    "     }],\n",
    "      options={  \n",
    "                \"seed\": 7,\n",
    "                \"temperature\": 0.0, \n",
    "                \"num_ctx\": 2048 # must be set for reproducibility\n",
    "            }\n",
    "    )\n",
    " \n",
    "\n",
    "\n",
    "\n",
    "display_markdown(recommendation[\"message\"][\"content\"], raw=True)"
   ]
  },
  {
   "cell_type": "code",
   "execution_count": null,
   "id": "f08923b7-d427-4ce7-9a49-212d0ff8b1d9",
   "metadata": {},
   "outputs": [],
   "source": []
  }
 ],
 "metadata": {
  "kernelspec": {
   "display_name": "knowledge",
   "language": "python",
   "name": "knowledge"
  },
  "language_info": {
   "codemirror_mode": {
    "name": "ipython",
    "version": 3
   },
   "file_extension": ".py",
   "mimetype": "text/x-python",
   "name": "python",
   "nbconvert_exporter": "python",
   "pygments_lexer": "ipython3",
   "version": "3.11.10"
  }
 },
 "nbformat": 4,
 "nbformat_minor": 5
}
