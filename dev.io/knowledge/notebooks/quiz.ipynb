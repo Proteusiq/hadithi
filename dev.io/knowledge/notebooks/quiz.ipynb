{
 "cells": [
  {
   "cell_type": "code",
   "execution_count": 1,
   "id": "e92c2eca-62f8-4719-aa99-c3e436d2ac3b",
   "metadata": {},
   "outputs": [],
   "source": [
    "import numpy as np\n",
    "import pandas as pd"
   ]
  },
  {
   "cell_type": "code",
   "execution_count": 2,
   "id": "d8bd1b53-7be4-4b2d-b678-9b44f90828fe",
   "metadata": {},
   "outputs": [],
   "source": [
    "from cumsum import cumsumx"
   ]
  },
  {
   "cell_type": "code",
   "execution_count": 3,
   "id": "56f4f0af-ce82-4a8c-b157-aca485aff3ee",
   "metadata": {},
   "outputs": [],
   "source": [
    "data = {\n",
    " \"date\": [\n",
    " \"2024-04-20\", \"2024-04-21\", \"2024-04-22\",\n",
    " \"2024-04-23\", \"2024-04-24\", \"2024-04-25\",\n",
    " \"2024-04-26\", \"2024-04-27\"\n",
    " ],\n",
    " \"file_size\": [1, 2, 2, 2, 1, 3, 1, 2],\n",
    " \"result\": [1, 3, 5, 2, 3, 3, 4, 2]\n",
    "}\n",
    "\n",
    "dataf = pd.DataFrame(data)"
   ]
  },
  {
   "cell_type": "code",
   "execution_count": 4,
   "id": "6e68a889-1030-4b1e-aba2-6638ec1995d1",
   "metadata": {},
   "outputs": [],
   "source": [
    "THRESHOLD: int = 5\n"
   ]
  },
  {
   "cell_type": "code",
   "execution_count": 5,
   "id": "3d45d05a-9d68-43c5-b58e-fcdbbefe48ad",
   "metadata": {},
   "outputs": [],
   "source": [
    "def cumsum(data:np.array, max_reset:int=5) -> pd.Series:\n",
    "    total: int = 0\n",
    "    holder = np.array([], dtype=int)\n",
    "    \n",
    "    for value in data:\n",
    "        total += value\n",
    "        if total > max_reset:\n",
    "            total = value\n",
    "        holder = np.append(holder, total)\n",
    "    return holder\n",
    "        \n",
    "    "
   ]
  },
  {
   "cell_type": "code",
   "execution_count": 6,
   "id": "f0c3279a-f294-4afa-a1f4-c5d850db5c3f",
   "metadata": {},
   "outputs": [
    {
     "name": "stdout",
     "output_type": "stream",
     "text": [
      "68.5 μs ± 321 ns per loop (mean ± std. dev. of 7 runs, 10,000 loops each)\n"
     ]
    }
   ],
   "source": [
    "%%timeit\n",
    "(\n",
    "    dataf.assign(response = lambda d: d[\"file_size\"].agg(cumsum),\n",
    "                )\n",
    ")"
   ]
  },
  {
   "cell_type": "code",
   "execution_count": 7,
   "id": "53467edb-7ca2-4126-ad97-ae8098071b8c",
   "metadata": {},
   "outputs": [
    {
     "name": "stdout",
     "output_type": "stream",
     "text": [
      "64.2 μs ± 481 ns per loop (mean ± std. dev. of 7 runs, 10,000 loops each)\n"
     ]
    }
   ],
   "source": [
    "%%timeit\n",
    "(\n",
    "    dataf.assign(response = lambda d: cumsum(d[\"file_size\"].values, max_reset=5),\n",
    "                )\n",
    ")"
   ]
  },
  {
   "cell_type": "code",
   "execution_count": 8,
   "id": "85ca4d78-8062-4b43-8221-91b2dcb0a8f0",
   "metadata": {},
   "outputs": [
    {
     "name": "stdout",
     "output_type": "stream",
     "text": [
      "57.9 μs ± 1.89 μs per loop (mean ± std. dev. of 7 runs, 10,000 loops each)\n"
     ]
    }
   ],
   "source": [
    "%%timeit\n",
    "(\n",
    "    dataf.assign(response = lambda d: cumsumx(d[\"file_size\"].values, max_reset=THRESHOLD)),\n",
    ")"
   ]
  },
  {
   "cell_type": "code",
   "execution_count": 9,
   "id": "39608a10-d2ba-4b7a-bc4d-36e0d4143a63",
   "metadata": {},
   "outputs": [],
   "source": [
    "%reload_ext memory_profiler"
   ]
  },
  {
   "cell_type": "code",
   "execution_count": 10,
   "id": "93bdf686-117a-4d42-8279-e2dd4b701cdc",
   "metadata": {},
   "outputs": [
    {
     "name": "stdout",
     "output_type": "stream",
     "text": [
      "peak memory: 136.94 MiB, increment: 0.41 MiB\n"
     ]
    }
   ],
   "source": [
    "%%memit\n",
    "\n",
    "(\n",
    "    dataf.assign(response = lambda d: d[\"file_size\"].agg(cumsum),\n",
    "                )\n",
    ")"
   ]
  },
  {
   "cell_type": "code",
   "execution_count": 11,
   "id": "678d0386-0caa-4cca-956c-33e9eff80caa",
   "metadata": {},
   "outputs": [
    {
     "name": "stdout",
     "output_type": "stream",
     "text": [
      "peak memory: 137.02 MiB, increment: 0.05 MiB\n"
     ]
    }
   ],
   "source": [
    "%%memit\n",
    "(\n",
    "    dataf.assign(response = lambda d: cumsum(d[\"file_size\"].values, max_reset=THRESHOLD),\n",
    "                )\n",
    ")"
   ]
  },
  {
   "cell_type": "code",
   "execution_count": 12,
   "id": "093e29f8-38d7-420d-a754-1b8c7f605dc0",
   "metadata": {},
   "outputs": [
    {
     "name": "stdout",
     "output_type": "stream",
     "text": [
      "peak memory: 137.09 MiB, increment: 0.03 MiB\n"
     ]
    }
   ],
   "source": [
    "%%memit\n",
    "(\n",
    "    dataf.assign(response = lambda d: cumsumx(d[\"file_size\"].values, max_reset=THRESHOLD)),\n",
    ")"
   ]
  },
  {
   "cell_type": "code",
   "execution_count": null,
   "id": "8811cae2-3edc-4d52-860f-e736291da390",
   "metadata": {},
   "outputs": [],
   "source": []
  }
 ],
 "metadata": {
  "kernelspec": {
   "display_name": "knowledge",
   "language": "python",
   "name": "knowledge"
  },
  "language_info": {
   "codemirror_mode": {
    "name": "ipython",
    "version": 3
   },
   "file_extension": ".py",
   "mimetype": "text/x-python",
   "name": "python",
   "nbconvert_exporter": "python",
   "pygments_lexer": "ipython3",
   "version": "3.11.10"
  }
 },
 "nbformat": 4,
 "nbformat_minor": 5
}
