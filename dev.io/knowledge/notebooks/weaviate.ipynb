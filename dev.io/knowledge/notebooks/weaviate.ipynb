{
 "cells": [
  {
   "cell_type": "code",
   "execution_count": 1,
   "id": "979dada5-a1ed-445e-8434-62eb7bf62fad",
   "metadata": {},
   "outputs": [
    {
     "name": "stdout",
     "output_type": "stream",
     "text": [
      "Author: Prayson W. Daniel\n",
      "\n",
      "Last updated: 2024-11-13T10:44:39.380683+01:00\n",
      "\n",
      "Python implementation: CPython\n",
      "Python version       : 3.11.10\n",
      "IPython version      : 8.29.0\n",
      "\n",
      "duckdb  : 1.1.3\n",
      "polars  : 1.13.0\n",
      "weaviate: 4.9.3\n",
      "\n",
      "Compiler    : Clang 15.0.0 (clang-1500.3.9.4)\n",
      "OS          : Darwin\n",
      "Release     : 23.5.0\n",
      "Machine     : arm64\n",
      "Processor   : arm\n",
      "CPU cores   : 16\n",
      "Architecture: 64bit\n",
      "\n"
     ]
    }
   ],
   "source": [
    "%%capture --no-stdout\n",
    "%reload_ext watermark\n",
    "%watermark -uniz --author \"Prayson W. Daniel\" -vm -p duckdb,polars,weaviate"
   ]
  },
  {
   "cell_type": "code",
   "execution_count": 4,
   "id": "1491fe87-f2e6-43a7-a2a6-48b4e74f7d8a",
   "metadata": {},
   "outputs": [],
   "source": [
    "import weaviate\n",
    "from weaviate.classes.config import Configure\n"
   ]
  },
  {
   "cell_type": "code",
   "execution_count": 5,
   "id": "fb5324f4-24fd-4396-a308-130a160f8907",
   "metadata": {},
   "outputs": [],
   "source": [
    "client = weaviate.connect_to_local()"
   ]
  },
  {
   "cell_type": "code",
   "execution_count": 15,
   "id": "a47707a3-fcf4-474a-abf2-885d424e8a74",
   "metadata": {},
   "outputs": [
    {
     "data": {
      "text/plain": [
       "<weaviate.collections.collection.sync.Collection at 0x11556c190>"
      ]
     },
     "execution_count": 15,
     "metadata": {},
     "output_type": "execute_result"
    }
   ],
   "source": [
    "client.collections.create(\n",
    "    \"Datax\",\n",
    "    vectorizer_config=[\n",
    "        Configure.NamedVectors.text2vec_ollama(\n",
    "            name=\"ds_search\",\n",
    "            source_properties=[\"description\"],\n",
    "            api_endpoint=\"http://host.docker.internal:11434\",\n",
    "            model=\"nomic-embed-text\", \n",
    "        )\n",
    "    ],\n",
    ")"
   ]
  },
  {
   "cell_type": "code",
   "execution_count": 16,
   "id": "4bc142a9-75ce-4abb-8373-ac74bcabf6f5",
   "metadata": {},
   "outputs": [],
   "source": [
    "collection = client.collections.get(\"Datax\")"
   ]
  },
  {
   "cell_type": "code",
   "execution_count": 17,
   "id": "74ee3efa-5562-45c1-b7c8-3944bd4f98b6",
   "metadata": {},
   "outputs": [],
   "source": [
    "objects = [\n",
    "    {\"title\": \"Shahnoza\", \"description\": \"ML DevOps\"},\n",
    "    {\"title\": \"Mette\", \"description\": \"Graph Tamer\"},\n",
    "    {\"title\": \"Ulrik\", \"description\": \"Optimization\"},\n",
    "    {\"title\": \"Manuel\", \"description\": \"Italian ML\"},\n",
    "    {\"title\": \"Nicolai\", \"description\": \"Solution Design\"},\n",
    "]"
   ]
  },
  {
   "cell_type": "code",
   "execution_count": 18,
   "id": "b450b817-8cc2-4218-b6b5-872ffdd0974e",
   "metadata": {},
   "outputs": [],
   "source": [
    "with collection.batch.dynamic() as batch:\n",
    "    for obj in objects:\n",
    "        weaviate_obj = {\n",
    "            \"title\": obj[\"title\"],\n",
    "            \"description\": obj[\"description\"],\n",
    "        }\n",
    "\n",
    "        batch.add_object(\n",
    "            properties=weaviate_obj,\n",
    "        )"
   ]
  },
  {
   "cell_type": "code",
   "execution_count": 21,
   "id": "a5ccdb2a-c67e-4cc1-9a9a-cf35ae34e490",
   "metadata": {},
   "outputs": [],
   "source": [
    "# collection.query.near_text\n",
    "\n",
    "response = collection.query.hybrid(\n",
    "    query=\"\",  \n",
    "    limit=2\n",
    ")"
   ]
  },
  {
   "cell_type": "code",
   "execution_count": 22,
   "id": "aeb130e4-19d7-48f3-a29f-067ebdc22cbc",
   "metadata": {},
   "outputs": [
    {
     "name": "stdout",
     "output_type": "stream",
     "text": [
      "Manuel\n",
      "Nicolai\n"
     ]
    }
   ],
   "source": [
    "for obj in response.objects:\n",
    "    print(obj.properties[\"title\"])"
   ]
  },
  {
   "cell_type": "code",
   "execution_count": null,
   "id": "9869ab61-4c7f-4274-9c07-e3d5479c4ca4",
   "metadata": {},
   "outputs": [],
   "source": []
  }
 ],
 "metadata": {
  "kernelspec": {
   "display_name": "knowledge",
   "language": "python",
   "name": "knowledge"
  },
  "language_info": {
   "codemirror_mode": {
    "name": "ipython",
    "version": 3
   },
   "file_extension": ".py",
   "mimetype": "text/x-python",
   "name": "python",
   "nbconvert_exporter": "python",
   "pygments_lexer": "ipython3",
   "version": "3.11.10"
  }
 },
 "nbformat": 4,
 "nbformat_minor": 5
}
