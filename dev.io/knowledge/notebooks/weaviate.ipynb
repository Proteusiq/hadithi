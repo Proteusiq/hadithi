{
 "cells": [
  {
   "cell_type": "code",
   "execution_count": 1,
   "id": "979dada5-a1ed-445e-8434-62eb7bf62fad",
   "metadata": {},
   "outputs": [
    {
     "name": "stdout",
     "output_type": "stream",
     "text": [
      "Author: Prayson W. Daniel\n",
      "\n",
      "Last updated: 2024-11-19T16:38:19.928892+01:00\n",
      "\n",
      "Python implementation: CPython\n",
      "Python version       : 3.11.10\n",
      "IPython version      : 8.29.0\n",
      "\n",
      "duckdb  : 1.1.3\n",
      "polars  : 1.13.0\n",
      "weaviate: 4.9.3\n",
      "ollama  : 0.3.3\n",
      "\n",
      "Compiler    : Clang 15.0.0 (clang-1500.3.9.4)\n",
      "OS          : Darwin\n",
      "Release     : 23.5.0\n",
      "Machine     : arm64\n",
      "Processor   : arm\n",
      "CPU cores   : 16\n",
      "Architecture: 64bit\n",
      "\n"
     ]
    }
   ],
   "source": [
    "%%capture --no-stdout\n",
    "%reload_ext watermark\n",
    "%watermark -uniz --author \"Prayson W. Daniel\" -vm -p duckdb,polars,weaviate,ollama"
   ]
  },
  {
   "cell_type": "code",
   "execution_count": 2,
   "id": "1491fe87-f2e6-43a7-a2a6-48b4e74f7d8a",
   "metadata": {},
   "outputs": [],
   "source": [
    "import weaviate\n",
    "from weaviate.classes.config import Configure"
   ]
  },
  {
   "cell_type": "code",
   "execution_count": 3,
   "id": "fb5324f4-24fd-4396-a308-130a160f8907",
   "metadata": {},
   "outputs": [],
   "source": [
    "client = weaviate.connect_to_local()\n",
    "client.collections.delete_all()"
   ]
  },
  {
   "cell_type": "code",
   "execution_count": 4,
   "id": "a47707a3-fcf4-474a-abf2-885d424e8a74",
   "metadata": {},
   "outputs": [
    {
     "data": {
      "text/plain": [
       "<weaviate.collections.collection.sync.Collection at 0x115670f10>"
      ]
     },
     "execution_count": 4,
     "metadata": {},
     "output_type": "execute_result"
    }
   ],
   "source": [
    "COLLECTION_NAME: str = \"DataX\"\n",
    "client.collections.create(\n",
    "    COLLECTION_NAME,\n",
    "    vectorizer_config=[\n",
    "        Configure.NamedVectors.text2vec_ollama(\n",
    "            name=\"ds_search\",\n",
    "            source_properties=[\"description\"],\n",
    "            api_endpoint=\"http://host.docker.internal:11434\",\n",
    "            model=\"nomic-embed-text\",\n",
    "        )\n",
    "    ],\n",
    "    generative_config=Configure.Generative.ollama(\n",
    "        api_endpoint=\"http://host.docker.internal:11434\",\n",
    "        model=\"llama3.2\",\n",
    "    ),\n",
    ")"
   ]
  },
  {
   "cell_type": "code",
   "execution_count": 5,
   "id": "74ee3efa-5562-45c1-b7c8-3944bd4f98b6",
   "metadata": {},
   "outputs": [],
   "source": [
    "objects = [\n",
    "    {\n",
    "        \"title\": \"Shahnoza\",\n",
    "        \"description\": \"Senior Data Scientist & Tech Lead | Machine Learning & MLOps\",\n",
    "    },\n",
    "    {\n",
    "        \"title\": \"Mette\",\n",
    "        \"description\": \"Data Scientist | AI & Machine Learning Engineer | Physicist\",\n",
    "    },\n",
    "    {\n",
    "        \"title\": \"Ulrik\",\n",
    "        \"description\": \"Senior Data Scientist @NTT Data / Machine Learning & MLOps / Biophysicist turned Data Scientist\",\n",
    "    },\n",
    "    {\n",
    "        \"title\": \"Manuel\",\n",
    "        \"description\": \"Data Scientist & AI Engineer @ NTT Data | MSc Computer Science\",\n",
    "    },\n",
    "    {\n",
    "        \"title\": \"Nicolai\",\n",
    "        \"description\": \"Lead AI Solution Architect @ NTT DATA | Teaching AI & ML @ CBS\",\n",
    "    },\n",
    "]"
   ]
  },
  {
   "cell_type": "code",
   "execution_count": 6,
   "id": "b450b817-8cc2-4218-b6b5-872ffdd0974e",
   "metadata": {},
   "outputs": [],
   "source": [
    "collection = client.collections.get(COLLECTION_NAME)\n",
    "\n",
    "with collection.batch.dynamic() as batch:\n",
    "    for obj in objects:\n",
    "        weaviate_obj = {\n",
    "            \"title\": obj[\"title\"],\n",
    "            \"description\": obj[\"description\"],\n",
    "        }\n",
    "\n",
    "        batch.add_object(\n",
    "            properties=weaviate_obj,\n",
    "        )"
   ]
  },
  {
   "cell_type": "code",
   "execution_count": 7,
   "id": "b62eb45e-c487-4310-9696-ae25930b27c3",
   "metadata": {},
   "outputs": [],
   "source": [
    "query = \"Who are MLOps?\"\n",
    "response = collection.query.hybrid(query=query, limit=3, alpha=1)"
   ]
  },
  {
   "cell_type": "code",
   "execution_count": 8,
   "id": "aeb130e4-19d7-48f3-a29f-067ebdc22cbc",
   "metadata": {},
   "outputs": [
    {
     "name": "stdout",
     "output_type": "stream",
     "text": [
      "Shahnoza - Senior Data Scientist & Tech Lead | Machine Learning & MLOps\n",
      "Ulrik - Senior Data Scientist @NTT Data / Machine Learning & MLOps / Biophysicist turned Data Scientist\n",
      "Mette - Data Scientist | AI & Machine Learning Engineer | Physicist\n"
     ]
    }
   ],
   "source": [
    "for obj in response.objects:\n",
    "    print(f'{obj.properties[\"title\"]} - {obj.properties[\"description\"]}')"
   ]
  },
  {
   "cell_type": "code",
   "execution_count": 15,
   "id": "83100c22-3079-4999-b0fc-1469245ddd03",
   "metadata": {},
   "outputs": [],
   "source": [
    "response = collection.generate.hybrid(\n",
    "    query=query,\n",
    "    limit=3,\n",
    "    single_prompt=\"\"\"\n",
    "        You are a story teller: Tell a two paragraphs story about {title}:\n",
    "    \"\"\",\n",
    ")"
   ]
  },
  {
   "cell_type": "code",
   "execution_count": 16,
   "id": "ccc8e53e-228a-4639-8c16-b582998b34b7",
   "metadata": {},
   "outputs": [
    {
     "name": "stdout",
     "output_type": "stream",
     "text": [
      "========================================================================================================================\n",
      "\n",
      "Shahnoza\n",
      "In the heart of ancient Samarkand, there lived a young girl named Shahnoza. She was known for her extraordinary beauty and kindness, but what truly set her apart were the mysteries that shrouded her past. It was said that Shahnoza possessed magical powers, inherited from her ancestors who had been revered as healers and wise women in their time. As she grew older, Shahnoza's powers only intensified, allowing her to communicate with animals and sense the deepest desires of those around her. Despite the whispers of prophecy surrounding her, Shahnoza remained humble and dedicated to using her gifts to help others.\n",
      "\n",
      "One fateful day, a devastating drought struck the land, threatening the livelihoods of the people of Samarkand. Crops began to wither, rivers dried up, and the once-thriving city teetered on the brink of collapse. Shahnoza, sensing the desperation that hung in the air, knew she had to act. With her eyes closed, she focused all her energy on finding a solution to the drought. And then, it came to her – a vision of an ancient spring hidden deep within the nearby mountains. She set out on a perilous journey, guided by the creatures that dwelled in the land, and finally discovered the source of life-giving water. With Shahnoza's guidance, the people of Samarkand were able to bring forth the spring once more, and their city flourished anew. From that day forward, Shahnoza was hailed as a hero, not just for her stunning beauty, but for the selfless power of her spirit.\n",
      "========================================================================================================================\n",
      "\n",
      "Ulrik\n",
      "In the frosty mountains of Scandinavia, there lived a young warrior named Ulrik. He was a skilled fighter and hunter, known throughout the village for his bravery and strength. But little did anyone know that Ulrik's true gift lay not in battle, but in his extraordinary ability to communicate with animals. As a child, he had spent countless hours exploring the forest, learning the languages of the creatures that lived there. He could talk to wolves, bears, and even the wisest of owls, and they would often seek his counsel.\n",
      "\n",
      "One fateful winter's night, a fierce storm swept through the mountains, threatening to destroy the village's only food source: a sacred herd of reindeer. The villagers were powerless against the tempest, but Ulrik knew that he had the key to saving their home. He called upon his animal friends, gathering them around him as he spoke in a soft voice. Together, they hatched a plan to guide the reindeer to safety, using their combined strength and cunning to lead them through the treacherous terrain. And so, with Ulrik at the helm, the animals worked together to save the village, earning him a place among the greatest heroes of all time.\n",
      "========================================================================================================================\n",
      "\n",
      "Mette\n",
      "In the quaint village of Ravenswood, where the misty morning fog rolled in like a gentle lover's caress, there lived a young girl named Mette. Her bright blue eyes sparkled with an inner light that seemed almost otherworldly, as if the stars themselves had descended upon her small, delicate frame. She was a dreamer, Mette, with a heart full of wonder and a mind full of questions. She spent her days exploring the rolling hills and forests that surrounded Ravenswood, collecting wildflowers and leaves to adorn her hair and listening for the whispers of the ancient trees.\n",
      "\n",
      "As she grew older, Mette began to realize that she possessed a gift – the ability to communicate with the creatures of the forest. A gentle breeze would rustle the leaves, and she'd hear the soft chirping of birds; a rabbit's paw would brush against her hand, and she'd sense its quiet contentment. The villagers began to notice the change in Mette, too, as if they were witnessing a transformation from within. They'd see her walking through the forest, surrounded by a halo of soft light, and they'd know that Mette was at peace – one with nature, with herself, and with the world around her. And so, Mette lived on, a gentle soul with a deep connection to the natural world, leaving behind a trail of magic and wonder wherever she roamed.\n"
     ]
    }
   ],
   "source": [
    "for obj in response.objects:\n",
    "    print(f\"{'=':=>120}\\n\")\n",
    "    print(f\"{obj.properties['title']}\")\n",
    "    print(f\"{obj.generated}\")"
   ]
  },
  {
   "cell_type": "code",
   "execution_count": null,
   "id": "10b3fe5a-b126-4074-9a8e-18629f38c0cc",
   "metadata": {},
   "outputs": [],
   "source": []
  }
 ],
 "metadata": {
  "kernelspec": {
   "display_name": "knowledge",
   "language": "python",
   "name": "knowledge"
  },
  "language_info": {
   "codemirror_mode": {
    "name": "ipython",
    "version": 3
   },
   "file_extension": ".py",
   "mimetype": "text/x-python",
   "name": "python",
   "nbconvert_exporter": "python",
   "pygments_lexer": "ipython3",
   "version": "3.11.10"
  }
 },
 "nbformat": 4,
 "nbformat_minor": 5
}
