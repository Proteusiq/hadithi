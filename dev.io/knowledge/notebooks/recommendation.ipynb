{
 "cells": [
  {
   "cell_type": "code",
   "execution_count": 1,
   "id": "19b3a8c3-d255-41c1-b431-e08c337741b5",
   "metadata": {},
   "outputs": [
    {
     "name": "stdout",
     "output_type": "stream",
     "text": [
      "Author: Prayson W. Daniel\n",
      "\n",
      "Last updated: 2024-11-12T19:16:47.271266+01:00\n",
      "\n",
      "Python implementation: CPython\n",
      "Python version       : 3.11.10\n",
      "IPython version      : 8.29.0\n",
      "\n",
      "duckdb      : 1.1.3\n",
      "polars      : 1.13.0\n",
      "scikit-learn: 1.5.2\n",
      "altair      : 5.4.1\n",
      "\n",
      "Compiler    : Clang 15.0.0 (clang-1500.3.9.4)\n",
      "OS          : Darwin\n",
      "Release     : 23.5.0\n",
      "Machine     : arm64\n",
      "Processor   : arm\n",
      "CPU cores   : 16\n",
      "Architecture: 64bit\n",
      "\n"
     ]
    }
   ],
   "source": [
    "%%capture --no-stdout\n",
    "%reload_ext watermark\n",
    "%watermark -uniz --author \"Prayson W. Daniel\" -vm -p duckdb,polars,scikit-learn,altair"
   ]
  },
  {
   "cell_type": "code",
   "execution_count": 2,
   "id": "69ff3aa8-40f8-45b5-ae8d-ce9f61866aa2",
   "metadata": {},
   "outputs": [
    {
     "name": "stdout",
     "output_type": "stream",
     "text": [
      "/Users/pwd/Codes/hadithi/dev.io/knowledge\n"
     ]
    }
   ],
   "source": [
    "%cd .."
   ]
  },
  {
   "cell_type": "code",
   "execution_count": 3,
   "id": "bdef0d8d-d7de-4647-abda-68ec86bfeb2d",
   "metadata": {},
   "outputs": [],
   "source": [
    "import duckdb\n",
    "import polars as pl\n",
    "from sklearn.neighbors import NearestNeighbors"
   ]
  },
  {
   "cell_type": "code",
   "execution_count": 4,
   "id": "c7a1f935-0558-4076-a8f2-20f36f7ef0c6",
   "metadata": {},
   "outputs": [
    {
     "data": {
      "text/html": [
       "<div><style>\n",
       ".dataframe > thead > tr,\n",
       ".dataframe > tbody > tr {\n",
       "  text-align: right;\n",
       "  white-space: pre-wrap;\n",
       "}\n",
       "</style>\n",
       "<small>shape: (3, 3)</small><table border=\"1\" class=\"dataframe\"><thead><tr><th>ID</th><th>Name</th><th>Rating</th></tr><tr><td>i64</td><td>str</td><td>str</td></tr></thead><tbody><tr><td>1</td><td>&quot;Agile Web Development with Rai…</td><td>&quot;it was amazing&quot;</td></tr><tr><td>1</td><td>&quot;The Restaurant at the End of t…</td><td>&quot;it was amazing&quot;</td></tr><tr><td>1</td><td>&quot;Siddhartha&quot;</td><td>&quot;it was amazing&quot;</td></tr></tbody></table></div>"
      ],
      "text/plain": [
       "shape: (3, 3)\n",
       "┌─────┬─────────────────────────────────┬────────────────┐\n",
       "│ ID  ┆ Name                            ┆ Rating         │\n",
       "│ --- ┆ ---                             ┆ ---            │\n",
       "│ i64 ┆ str                             ┆ str            │\n",
       "╞═════╪═════════════════════════════════╪════════════════╡\n",
       "│ 1   ┆ Agile Web Development with Rai… ┆ it was amazing │\n",
       "│ 1   ┆ The Restaurant at the End of t… ┆ it was amazing │\n",
       "│ 1   ┆ Siddhartha                      ┆ it was amazing │\n",
       "└─────┴─────────────────────────────────┴────────────────┘"
      ]
     },
     "execution_count": 4,
     "metadata": {},
     "output_type": "execute_result"
    }
   ],
   "source": [
    "ratings = (\n",
    "    duckdb.sql(\n",
    "        \"\"\"\n",
    "        SELECT \n",
    "        *\n",
    "        FROM read_csv('data/ratings/*.csv', union_by_name=True) \n",
    "        WHERE Rating NOT LIKE '%This user%' \n",
    "        \"\"\"\n",
    "        \n",
    "    )\n",
    ").pl()\n",
    "\n",
    "ratings.head(3)"
   ]
  },
  {
   "cell_type": "code",
   "execution_count": 49,
   "id": "253ed5b3-e2ed-4724-8b19-051987cbb7e8",
   "metadata": {},
   "outputs": [
    {
     "data": {
      "text/html": [
       "\n",
       "<style>\n",
       "  #altair-viz-71757443d332473bab6f6d573e885119.vega-embed {\n",
       "    width: 100%;\n",
       "    display: flex;\n",
       "  }\n",
       "\n",
       "  #altair-viz-71757443d332473bab6f6d573e885119.vega-embed details,\n",
       "  #altair-viz-71757443d332473bab6f6d573e885119.vega-embed details summary {\n",
       "    position: relative;\n",
       "  }\n",
       "</style>\n",
       "<div id=\"altair-viz-71757443d332473bab6f6d573e885119\"></div>\n",
       "<script type=\"text/javascript\">\n",
       "  var VEGA_DEBUG = (typeof VEGA_DEBUG == \"undefined\") ? {} : VEGA_DEBUG;\n",
       "  (function(spec, embedOpt){\n",
       "    let outputDiv = document.currentScript.previousElementSibling;\n",
       "    if (outputDiv.id !== \"altair-viz-71757443d332473bab6f6d573e885119\") {\n",
       "      outputDiv = document.getElementById(\"altair-viz-71757443d332473bab6f6d573e885119\");\n",
       "    }\n",
       "    const paths = {\n",
       "      \"vega\": \"https://cdn.jsdelivr.net/npm/vega@5?noext\",\n",
       "      \"vega-lib\": \"https://cdn.jsdelivr.net/npm/vega-lib?noext\",\n",
       "      \"vega-lite\": \"https://cdn.jsdelivr.net/npm/vega-lite@5.20.1?noext\",\n",
       "      \"vega-embed\": \"https://cdn.jsdelivr.net/npm/vega-embed@6?noext\",\n",
       "    };\n",
       "\n",
       "    function maybeLoadScript(lib, version) {\n",
       "      var key = `${lib.replace(\"-\", \"\")}_version`;\n",
       "      return (VEGA_DEBUG[key] == version) ?\n",
       "        Promise.resolve(paths[lib]) :\n",
       "        new Promise(function(resolve, reject) {\n",
       "          var s = document.createElement('script');\n",
       "          document.getElementsByTagName(\"head\")[0].appendChild(s);\n",
       "          s.async = true;\n",
       "          s.onload = () => {\n",
       "            VEGA_DEBUG[key] = version;\n",
       "            return resolve(paths[lib]);\n",
       "          };\n",
       "          s.onerror = () => reject(`Error loading script: ${paths[lib]}`);\n",
       "          s.src = paths[lib];\n",
       "        });\n",
       "    }\n",
       "\n",
       "    function showError(err) {\n",
       "      outputDiv.innerHTML = `<div class=\"error\" style=\"color:red;\">${err}</div>`;\n",
       "      throw err;\n",
       "    }\n",
       "\n",
       "    function displayChart(vegaEmbed) {\n",
       "      vegaEmbed(outputDiv, spec, embedOpt)\n",
       "        .catch(err => showError(`Javascript Error: ${err.message}<br>This usually means there's a typo in your chart specification. See the javascript console for the full traceback.`));\n",
       "    }\n",
       "\n",
       "    if(typeof define === \"function\" && define.amd) {\n",
       "      requirejs.config({paths});\n",
       "      require([\"vega-embed\"], displayChart, err => showError(`Error loading script: ${err.message}`));\n",
       "    } else {\n",
       "      maybeLoadScript(\"vega\", \"5\")\n",
       "        .then(() => maybeLoadScript(\"vega-lite\", \"5.20.1\"))\n",
       "        .then(() => maybeLoadScript(\"vega-embed\", \"6\"))\n",
       "        .catch(showError)\n",
       "        .then(() => displayChart(vegaEmbed));\n",
       "    }\n",
       "  })({\"config\": {\"view\": {\"continuousWidth\": 300, \"continuousHeight\": 300}}, \"data\": {\"name\": \"data-6b8ae949cbe49326d5239d914b332e20\"}, \"mark\": {\"type\": \"bar\", \"tooltip\": true}, \"encoding\": {\"x\": {\"field\": \"Count\", \"type\": \"quantitative\"}, \"y\": {\"field\": \"Rating\", \"type\": \"nominal\"}}, \"height\": 200, \"params\": [{\"name\": \"param_27\", \"select\": {\"type\": \"interval\", \"encodings\": [\"x\", \"y\"]}, \"bind\": \"scales\"}], \"title\": \"Distribution\", \"width\": 400, \"$schema\": \"https://vega.github.io/schema/vega-lite/v5.20.1.json\", \"datasets\": {\"data-6b8ae949cbe49326d5239d914b332e20\": [{\"Rating\": \"really liked it\", \"Count\": 132808}, {\"Rating\": \"liked it\", \"Count\": 96047}, {\"Rating\": \"it was amazing\", \"Count\": 92354}, {\"Rating\": \"it was ok\", \"Count\": 28811}, {\"Rating\": \"did not like it\", \"Count\": 7811}]}}, {\"mode\": \"vega-lite\"});\n",
       "</script>"
      ],
      "text/plain": [
       "alt.Chart(...)"
      ]
     },
     "execution_count": 49,
     "metadata": {},
     "output_type": "execute_result"
    }
   ],
   "source": [
    "(\n",
    "    ratings\n",
    "        .group_by(\"Rating\")\n",
    "        .agg(pl.count(\"Rating\").alias(\"Count\"))\n",
    "        .sort(\"Count\", descending=True)\n",
    "        .plot.bar(\n",
    "        x=\"Count\",\n",
    "        y=\"Rating\",\n",
    "        )\n",
    "        .properties(\n",
    "            width=400,\n",
    "            height=200,\n",
    "            title=\"Distribution\"\n",
    "        )\n",
    "\n",
    ")"
   ]
  },
  {
   "cell_type": "code",
   "execution_count": null,
   "id": "01495b30-936c-468a-9048-be8c47f308e8",
   "metadata": {},
   "outputs": [],
   "source": [
    "category = {\n",
    "    \"did not like it\": 1 ,\n",
    "    \"it was ok\": 2,\n",
    "    \"liked it\": 3,\n",
    "    \"really liked it\": 4,\n",
    "    \"it was amazing\": 5,\n",
    "}\n",
    "\n",
    "category_normalized = {key: (value - 1)/(5-1) for key, value in category.items()} # MinMax (Not Required for cosine similarity)"
   ]
  },
  {
   "cell_type": "code",
   "execution_count": null,
   "id": "76778717-a77f-479d-be7b-70218fe7f325",
   "metadata": {},
   "outputs": [],
   "source": [
    "category_normalized"
   ]
  },
  {
   "cell_type": "code",
   "execution_count": null,
   "id": "e3207914-3826-411c-a941-59b35fe06e7e",
   "metadata": {},
   "outputs": [],
   "source": [
    "ratings.with_columns(\n",
    "    pl.col(\"Rating\").replace_strict(category_normalized)\n",
    ")\n"
   ]
  },
  {
   "cell_type": "code",
   "execution_count": null,
   "id": "c16fd956-9423-4ea2-bfea-d969828164bf",
   "metadata": {},
   "outputs": [],
   "source": [
    "THRESHOLD: int = 50\n",
    "\n",
    "USERS = set(\n",
    "    ratings\n",
    "    .group_by(\"ID\").len()\n",
    "    # .sort(by=\"len\", descending=True)\n",
    "    .filter(pl.col(\"len\").ge(THRESHOLD))\n",
    "    [\"ID\"].to_list()\n",
    ")"
   ]
  },
  {
   "cell_type": "code",
   "execution_count": null,
   "id": "0013f0e3-5c0f-49af-a1be-a5254d234016",
   "metadata": {},
   "outputs": [],
   "source": [
    "data = (\n",
    "    ratings\n",
    "    .filter(pl.col(\"ID\").is_in(USERS))\n",
    "    .with_columns(\n",
    "    pl.col(\"Rating\").replace_strict(category_normalized)\n",
    "    )\n",
    "    .pivot(\n",
    "        values=\"Rating\",\n",
    "        index=\"Name\",\n",
    "        on=\"ID\",\n",
    "        aggregate_function=\"first\"\n",
    "    )\n",
    "    .fill_null(0.0)\n",
    "    .to_pandas()\n",
    "    .set_index(\"Name\")\n",
    "    \n",
    ")\n",
    "\n",
    "data"
   ]
  },
  {
   "cell_type": "code",
   "execution_count": null,
   "id": "609809ae-13a9-45fb-be31-5ea870199ff0",
   "metadata": {},
   "outputs": [],
   "source": [
    "params = {\n",
    "    \"n_neighbors\": 7,\n",
    "    \"radius\": 1,\n",
    "    \"metric\": \"cosine\",\n",
    "    \"n_jobs\":-1,\n",
    "}\n",
    "\n",
    "knn = NearestNeighbors(**params)\n",
    "knn"
   ]
  },
  {
   "cell_type": "code",
   "execution_count": null,
   "id": "b44b54e3-8629-4cea-8852-725fe83e5b33",
   "metadata": {},
   "outputs": [],
   "source": [
    "knn.fit(data.values)"
   ]
  },
  {
   "cell_type": "code",
   "execution_count": null,
   "id": "8eb47c4d-59e4-4db1-9286-099ece4fcd8b",
   "metadata": {},
   "outputs": [],
   "source": [
    "[distance] , [idx] = knn.kneighbors(X=[data.loc[\"Brave New World\"].values],  n_neighbors=10)"
   ]
  },
  {
   "cell_type": "code",
   "execution_count": null,
   "id": "5135758a-1a57-42b7-a92d-c0db8703ef43",
   "metadata": {},
   "outputs": [],
   "source": [
    "with pl.Config(fmt_str_lengths=1000, tbl_width_chars=1000):\n",
    "   \n",
    "    print(pl.DataFrame({\"book\": data.iloc[idx].index.values,\n",
    "                  \"distance\": distance}))"
   ]
  },
  {
   "cell_type": "code",
   "execution_count": null,
   "id": "15ac3645-ee38-4147-a3d0-a1f96a8fb07e",
   "metadata": {},
   "outputs": [],
   "source": [
    "[distance] , [idx] = knn.kneighbors(X=[data.loc[\"The Little Prince\"].values],  n_neighbors=10)\n",
    "with pl.Config(fmt_str_lengths=1000, tbl_width_chars=1000):\n",
    "   \n",
    "    print(pl.DataFrame({\"book\": data.iloc[idx].index.values,\n",
    "                  \"distance\": distance}))"
   ]
  },
  {
   "cell_type": "code",
   "execution_count": null,
   "id": "1e72e85e-01f1-42e7-ac75-c5343ac53389",
   "metadata": {},
   "outputs": [],
   "source": [
    "with pl.Config(fmt_str_lengths=1000, tbl_width_chars=1000):\n",
    "    print(ratings\n",
    "         .select(\"Name\")\n",
    "         .unique(keep=\"first\")\n",
    "         .filter(pl.col(\"Name\").str.contains(\"The Alchemist\"))\n",
    "        )"
   ]
  },
  {
   "cell_type": "code",
   "execution_count": null,
   "id": "5847d409-7138-42f7-80e8-cf6425d2d126",
   "metadata": {},
   "outputs": [],
   "source": []
  }
 ],
 "metadata": {
  "kernelspec": {
   "display_name": "knowledge",
   "language": "python",
   "name": "knowledge"
  },
  "language_info": {
   "codemirror_mode": {
    "name": "ipython",
    "version": 3
   },
   "file_extension": ".py",
   "mimetype": "text/x-python",
   "name": "python",
   "nbconvert_exporter": "python",
   "pygments_lexer": "ipython3",
   "version": "3.11.10"
  }
 },
 "nbformat": 4,
 "nbformat_minor": 5
}
